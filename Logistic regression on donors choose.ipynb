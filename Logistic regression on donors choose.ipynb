{
 "cells": [
  {
   "cell_type": "markdown",
   "metadata": {
    "colab_type": "text",
    "id": "-Ab-X-IrCyl0"
   },
   "source": [
    "# DonorsChoose"
   ]
  },
  {
   "cell_type": "markdown",
   "metadata": {
    "colab_type": "text",
    "id": "etNpzy7rCyl2"
   },
   "source": [
    "<p>\n",
    "DonorsChoose.org receives hundreds of thousands of project proposals each year for classroom projects in need of funding. Right now, a large number of volunteers is needed to manually screen each submission before it's approved to be posted on the DonorsChoose.org website.\n",
    "</p>\n",
    "<p>\n",
    "    Next year, DonorsChoose.org expects to receive close to 500,000 project proposals. As a result, there are three main problems they need to solve:\n",
    "<ul>\n",
    "<li>\n",
    "    How to scale current manual processes and resources to screen 500,000 projects so that they can be posted as quickly and as efficiently as possible</li>\n",
    "    <li>How to increase the consistency of project vetting across different volunteers to improve the experience for teachers</li>\n",
    "    <li>How to focus volunteer time on the applications that need the most assistance</li>\n",
    "    </ul>\n",
    "</p>    \n",
    "<p>\n",
    "The goal of the competition is to predict whether or not a DonorsChoose.org project proposal submitted by a teacher will be approved, using the text of project descriptions as well as additional metadata about the project, teacher, and school. DonorsChoose.org can then use this information to identify projects most likely to need further review before approval.\n",
    "</p>"
   ]
  },
  {
   "cell_type": "markdown",
   "metadata": {
    "colab_type": "text",
    "id": "kO2Kg7TgCyl4"
   },
   "source": [
    "## About the DonorsChoose Data Set\n",
    "\n",
    "The `train.csv` data set provided by DonorsChoose contains the following features:\n",
    "\n",
    "Feature | Description \n",
    "----------|---------------\n",
    "**`project_id`** | A unique identifier for the proposed project. **Example:** `p036502`   \n",
    "**`project_title`**    | Title of the project. **Examples:**<br><ul><li><code>Art Will Make You Happy!</code></li><li><code>First Grade Fun</code></li></ul> \n",
    "**`project_grade_category`** | Grade level of students for which the project is targeted. One of the following enumerated values: <br/><ul><li><code>Grades PreK-2</code></li><li><code>Grades 3-5</code></li><li><code>Grades 6-8</code></li><li><code>Grades 9-12</code></li></ul>  \n",
    " **`project_subject_categories`** | One or more (comma-separated) subject categories for the project from the following enumerated list of values:  <br/><ul><li><code>Applied Learning</code></li><li><code>Care &amp; Hunger</code></li><li><code>Health &amp; Sports</code></li><li><code>History &amp; Civics</code></li><li><code>Literacy &amp; Language</code></li><li><code>Math &amp; Science</code></li><li><code>Music &amp; The Arts</code></li><li><code>Special Needs</code></li><li><code>Warmth</code></li></ul><br/> **Examples:** <br/><ul><li><code>Music &amp; The Arts</code></li><li><code>Literacy &amp; Language, Math &amp; Science</code></li>  \n",
    "  **`school_state`** | State where school is located ([Two-letter U.S. postal code](https://en.wikipedia.org/wiki/List_of_U.S._state_abbreviations#Postal_codes)). **Example:** `WY`\n",
    "**`project_subject_subcategories`** | One or more (comma-separated) subject subcategories for the project. **Examples:** <br/><ul><li><code>Literacy</code></li><li><code>Literature &amp; Writing, Social Sciences</code></li></ul> \n",
    "**`project_resource_summary`** | An explanation of the resources needed for the project. **Example:** <br/><ul><li><code>My students need hands on literacy materials to manage sensory needs!</code</li></ul> \n",
    "**`project_essay_1`**    | First application essay<sup>*</sup>  \n",
    "**`project_essay_2`**    | Second application essay<sup>*</sup> \n",
    "**`project_essay_3`**    | Third application essay<sup>*</sup> \n",
    "**`project_essay_4`**    | Fourth application essay<sup>*</sup> \n",
    "**`project_submitted_datetime`** | Datetime when project application was submitted. **Example:** `2016-04-28 12:43:56.245`   \n",
    "**`teacher_id`** | A unique identifier for the teacher of the proposed project. **Example:** `bdf8baa8fedef6bfeec7ae4ff1c15c56`  \n",
    "**`teacher_prefix`** | Teacher's title. One of the following enumerated values: <br/><ul><li><code>nan</code></li><li><code>Dr.</code></li><li><code>Mr.</code></li><li><code>Mrs.</code></li><li><code>Ms.</code></li><li><code>Teacher.</code></li></ul>  \n",
    "**`teacher_number_of_previously_posted_projects`** | Number of project applications previously submitted by the same teacher. **Example:** `2` \n",
    "\n",
    "<sup>*</sup> See the section <b>Notes on the Essay Data</b> for more details about these features.\n",
    "\n",
    "Additionally, the `resources.csv` data set provides more data about the resources required for each project. Each line in this file represents a resource required by a project:\n",
    "\n",
    "Feature | Description \n",
    "----------|---------------\n",
    "**`id`** | A `project_id` value from the `train.csv` file.  **Example:** `p036502`   \n",
    "**`description`** | Desciption of the resource. **Example:** `Tenor Saxophone Reeds, Box of 25`   \n",
    "**`quantity`** | Quantity of the resource required. **Example:** `3`   \n",
    "**`price`** | Price of the resource required. **Example:** `9.95`   \n",
    "\n",
    "**Note:** Many projects require multiple resources. The `id` value corresponds to a `project_id` in train.csv, so you use it as a key to retrieve all resources needed for a project:\n",
    "\n",
    "The data set contains the following label (the value you will attempt to predict):\n",
    "\n",
    "Label | Description\n",
    "----------|---------------\n",
    "`project_is_approved` | A binary flag indicating whether DonorsChoose approved the project. A value of `0` indicates the project was not approved, and a value of `1` indicates the project was approved."
   ]
  },
  {
   "cell_type": "markdown",
   "metadata": {
    "colab_type": "text",
    "id": "dBGA_YStCyl6"
   },
   "source": [
    "### Notes on the Essay Data\n",
    "\n",
    "<ul>\n",
    "Prior to May 17, 2016, the prompts for the essays were as follows:\n",
    "<li>__project_essay_1:__ \"Introduce us to your classroom\"</li>\n",
    "<li>__project_essay_2:__ \"Tell us more about your students\"</li>\n",
    "<li>__project_essay_3:__ \"Describe how your students will use the materials you're requesting\"</li>\n",
    "<li>__project_essay_3:__ \"Close by sharing why your project will make a difference\"</li>\n",
    "</ul>\n",
    "\n",
    "\n",
    "<ul>\n",
    "Starting on May 17, 2016, the number of essays was reduced from 4 to 2, and the prompts for the first 2 essays were changed to the following:<br>\n",
    "<li>__project_essay_1:__ \"Describe your students: What makes your students special? Specific details about their background, your neighborhood, and your school are all helpful.\"</li>\n",
    "<li>__project_essay_2:__ \"About your project: How will these materials make a difference in your students' learning and improve their school lives?\"</li>\n",
    "<br>For all projects with project_submitted_datetime of 2016-05-17 and later, the values of project_essay_3 and project_essay_4 will be NaN.\n",
    "</ul>\n"
   ]
  },
  {
   "cell_type": "code",
   "execution_count": 1,
   "metadata": {
    "colab": {},
    "colab_type": "code",
    "id": "XTrCJ5p9Cyl7",
    "outputId": "06c35f2f-d281-4345-9668-f8f44b28d6ac"
   },
   "outputs": [],
   "source": [
    "%matplotlib inline\n",
    "import warnings\n",
    "warnings.filterwarnings(\"ignore\")\n",
    "\n",
    "import sqlite3\n",
    "import pandas as pd\n",
    "import numpy as np\n",
    "import nltk\n",
    "import string\n",
    "import matplotlib.pyplot as plt\n",
    "import seaborn as sns\n",
    "from sklearn.feature_extraction.text import TfidfTransformer\n",
    "from sklearn.feature_extraction.text import TfidfVectorizer\n",
    "\n",
    "from sklearn.feature_extraction.text import CountVectorizer\n",
    "from sklearn.metrics import confusion_matrix\n",
    "from sklearn import metrics\n",
    "from sklearn.metrics import roc_curve, auc\n",
    "from nltk.stem.porter import PorterStemmer\n",
    "\n",
    "import re\n",
    "import string\n",
    "from nltk.corpus import stopwords\n",
    "from nltk.stem import PorterStemmer\n",
    "from nltk.stem.wordnet import WordNetLemmatizer\n",
    "\n",
    "from tqdm import tqdm\n",
    "import os\n",
    "\n",
    "\n",
    "from collections import Counter"
   ]
  },
  {
   "cell_type": "markdown",
   "metadata": {
    "colab_type": "text",
    "id": "MjknLZQqCymQ"
   },
   "source": [
    "## Reading Data"
   ]
  },
  {
   "cell_type": "code",
   "execution_count": 2,
   "metadata": {
    "colab": {},
    "colab_type": "code",
    "id": "abtcqBS8CymT"
   },
   "outputs": [],
   "source": [
    "project_data = pd.read_csv('train_data.csv',nrows=70000)\n",
    "resource_data = pd.read_csv('resources.csv')"
   ]
  },
  {
   "cell_type": "code",
   "execution_count": 3,
   "metadata": {},
   "outputs": [
    {
     "data": {
      "text/plain": [
       "Unnamed: 0                                          0\n",
       "id                                                  0\n",
       "teacher_id                                          0\n",
       "teacher_prefix                                      3\n",
       "school_state                                        0\n",
       "project_submitted_datetime                          0\n",
       "project_grade_category                              0\n",
       "project_subject_categories                          0\n",
       "project_subject_subcategories                       0\n",
       "project_title                                       0\n",
       "project_essay_1                                     0\n",
       "project_essay_2                                     0\n",
       "project_essay_3                                 67612\n",
       "project_essay_4                                 67612\n",
       "project_resource_summary                            0\n",
       "teacher_number_of_previously_posted_projects        0\n",
       "project_is_approved                                 0\n",
       "dtype: int64"
      ]
     },
     "execution_count": 3,
     "metadata": {},
     "output_type": "execute_result"
    }
   ],
   "source": [
    "project_data.isnull().sum()"
   ]
  },
  {
   "cell_type": "code",
   "execution_count": 4,
   "metadata": {},
   "outputs": [],
   "source": [
    "project_data.dropna(subset = ['teacher_prefix'], inplace=True)"
   ]
  },
  {
   "cell_type": "code",
   "execution_count": 5,
   "metadata": {},
   "outputs": [
    {
     "data": {
      "text/plain": [
       "Unnamed: 0                                          0\n",
       "id                                                  0\n",
       "teacher_id                                          0\n",
       "teacher_prefix                                      0\n",
       "school_state                                        0\n",
       "project_submitted_datetime                          0\n",
       "project_grade_category                              0\n",
       "project_subject_categories                          0\n",
       "project_subject_subcategories                       0\n",
       "project_title                                       0\n",
       "project_essay_1                                     0\n",
       "project_essay_2                                     0\n",
       "project_essay_3                                 67610\n",
       "project_essay_4                                 67610\n",
       "project_resource_summary                            0\n",
       "teacher_number_of_previously_posted_projects        0\n",
       "project_is_approved                                 0\n",
       "dtype: int64"
      ]
     },
     "execution_count": 5,
     "metadata": {},
     "output_type": "execute_result"
    }
   ],
   "source": [
    "project_data.isnull().sum()"
   ]
  },
  {
   "cell_type": "code",
   "execution_count": 6,
   "metadata": {},
   "outputs": [],
   "source": [
    "y = project_data['project_is_approved'].values\n",
    "project_data.drop(['project_is_approved'], axis=1, inplace=True)"
   ]
  },
  {
   "cell_type": "code",
   "execution_count": 7,
   "metadata": {
    "colab": {},
    "colab_type": "code",
    "id": "Prf2ghjDCymX",
    "outputId": "226c1b3c-35c9-48bd-afc9-7a819c871e8d",
    "scrolled": true
   },
   "outputs": [
    {
     "name": "stdout",
     "output_type": "stream",
     "text": [
      "Number of data points in entire data (69997, 16)\n",
      "--------------------------------------------------\n",
      "The attributes of data : ['Unnamed: 0' 'id' 'teacher_id' 'teacher_prefix' 'school_state'\n",
      " 'project_submitted_datetime' 'project_grade_category'\n",
      " 'project_subject_categories' 'project_subject_subcategories'\n",
      " 'project_title' 'project_essay_1' 'project_essay_2' 'project_essay_3'\n",
      " 'project_essay_4' 'project_resource_summary'\n",
      " 'teacher_number_of_previously_posted_projects']\n"
     ]
    }
   ],
   "source": [
    "print(\"Number of data points in entire data\", project_data.shape)\n",
    "print('-'*50)\n",
    "print(\"The attributes of data :\", project_data.columns.values)"
   ]
  },
  {
   "cell_type": "code",
   "execution_count": 8,
   "metadata": {
    "colab": {},
    "colab_type": "code",
    "id": "ntdWuRoUCymj",
    "outputId": "7f1911f2-61b8-4069-bfb0-9fdfeb2419e3"
   },
   "outputs": [
    {
     "name": "stdout",
     "output_type": "stream",
     "text": [
      "Number of data points in entire data (1541272, 4)\n",
      "['id' 'description' 'quantity' 'price']\n"
     ]
    },
    {
     "data": {
      "text/html": [
       "<div>\n",
       "<style scoped>\n",
       "    .dataframe tbody tr th:only-of-type {\n",
       "        vertical-align: middle;\n",
       "    }\n",
       "\n",
       "    .dataframe tbody tr th {\n",
       "        vertical-align: top;\n",
       "    }\n",
       "\n",
       "    .dataframe thead th {\n",
       "        text-align: right;\n",
       "    }\n",
       "</style>\n",
       "<table border=\"1\" class=\"dataframe\">\n",
       "  <thead>\n",
       "    <tr style=\"text-align: right;\">\n",
       "      <th></th>\n",
       "      <th>id</th>\n",
       "      <th>description</th>\n",
       "      <th>quantity</th>\n",
       "      <th>price</th>\n",
       "    </tr>\n",
       "  </thead>\n",
       "  <tbody>\n",
       "    <tr>\n",
       "      <th>0</th>\n",
       "      <td>p233245</td>\n",
       "      <td>LC652 - Lakeshore Double-Space Mobile Drying Rack</td>\n",
       "      <td>1</td>\n",
       "      <td>149.00</td>\n",
       "    </tr>\n",
       "    <tr>\n",
       "      <th>1</th>\n",
       "      <td>p069063</td>\n",
       "      <td>Bouncy Bands for Desks (Blue support pipes)</td>\n",
       "      <td>3</td>\n",
       "      <td>14.95</td>\n",
       "    </tr>\n",
       "  </tbody>\n",
       "</table>\n",
       "</div>"
      ],
      "text/plain": [
       "        id                                        description  quantity  \\\n",
       "0  p233245  LC652 - Lakeshore Double-Space Mobile Drying Rack         1   \n",
       "1  p069063        Bouncy Bands for Desks (Blue support pipes)         3   \n",
       "\n",
       "    price  \n",
       "0  149.00  \n",
       "1   14.95  "
      ]
     },
     "execution_count": 8,
     "metadata": {},
     "output_type": "execute_result"
    }
   ],
   "source": [
    "print(\"Number of data points in entire data\", resource_data.shape)\n",
    "print(resource_data.columns.values)\n",
    "resource_data.head(2)"
   ]
  },
  {
   "cell_type": "markdown",
   "metadata": {
    "colab_type": "text",
    "id": "6WZaYhwJCymp"
   },
   "source": [
    "## Preprocessing of `project_subject_categories`"
   ]
  },
  {
   "cell_type": "code",
   "execution_count": 9,
   "metadata": {
    "colab": {},
    "colab_type": "code",
    "id": "Mdkhq7PRCymr"
   },
   "outputs": [],
   "source": [
    "catogories = list(project_data['project_subject_categories'].values)\n",
    "# remove special characters from list of strings python: https://stackoverflow.com/a/47301924/4084039\n",
    "\n",
    "# https://www.geeksforgeeks.org/removing-stop-words-nltk-python/\n",
    "# https://stackoverflow.com/questions/23669024/how-to-strip-a-specific-word-from-a-string\n",
    "# https://stackoverflow.com/questions/8270092/remove-all-whitespace-in-a-string-in-python\n",
    "cat_list = []\n",
    "for i in catogories:\n",
    "    temp = \"\"\n",
    "    # consider we have text like this \"Math & Science, Warmth, Care & Hunger\"\n",
    "    for j in i.split(','): # it will split it in three parts [\"Math & Science\", \"Warmth\", \"Care & Hunger\"]\n",
    "        if 'The' in j.split(): # this will split each of the catogory based on space \"Math & Science\"=> \"Math\",\"&\", \"Science\"\n",
    "            j=j.replace('The','') # if we have the words \"The\" we are going to replace it with ''(i.e removing 'The')\n",
    "        j = j.replace(' ','') # we are placeing all the ' '(space) with ''(empty) ex:\"Math & Science\"=>\"Math&Science\"\n",
    "        temp+=j.strip()+\" \" #\" abc \".strip() will return \"abc\", remove the trailing spaces\n",
    "        temp = temp.replace('&','_') # we are replacing the & value into \n",
    "    cat_list.append(temp.strip())\n",
    "    \n",
    "project_data['clean_categories'] = cat_list\n",
    "project_data.drop(['project_subject_categories'], axis=1, inplace=True)\n",
    "\n",
    "from collections import Counter\n",
    "my_counter = Counter()\n",
    "for word in project_data['clean_categories'].values:\n",
    "    my_counter.update(word.split())\n",
    "\n",
    "cat_dict = dict(my_counter)\n",
    "sorted_cat_dict = dict(sorted(cat_dict.items(), key=lambda kv: kv[1]))"
   ]
  },
  {
   "cell_type": "markdown",
   "metadata": {
    "colab_type": "text",
    "id": "386yx3T2Cymv"
   },
   "source": [
    "##  Preprocessing of `project_subject_subcategories`"
   ]
  },
  {
   "cell_type": "code",
   "execution_count": 10,
   "metadata": {
    "colab": {},
    "colab_type": "code",
    "id": "4QSP0r8XCymw"
   },
   "outputs": [],
   "source": [
    "sub_catogories = list(project_data['project_subject_subcategories'].values)\n",
    "# remove special characters from list of strings python: https://stackoverflow.com/a/47301924/4084039\n",
    "\n",
    "# https://www.geeksforgeeks.org/removing-stop-words-nltk-python/\n",
    "# https://stackoverflow.com/questions/23669024/how-to-strip-a-specific-word-from-a-string\n",
    "# https://stackoverflow.com/questions/8270092/remove-all-whitespace-in-a-string-in-python\n",
    "\n",
    "sub_cat_list = []\n",
    "for i in sub_catogories:\n",
    "    temp = \"\"\n",
    "    # consider we have text like this \"Math & Science, Warmth, Care & Hunger\"\n",
    "    for j in i.split(','): # it will split it in three parts [\"Math & Science\", \"Warmth\", \"Care & Hunger\"]\n",
    "        if 'The' in j.split(): # this will split each of the catogory based on space \"Math & Science\"=> \"Math\",\"&\", \"Science\"\n",
    "            j=j.replace('The','') # if we have the words \"The\" we are going to replace it with ''(i.e removing 'The')\n",
    "        j = j.replace(' ','') # we are placeing all the ' '(space) with ''(empty) ex:\"Math & Science\"=>\"Math&Science\"\n",
    "        temp +=j.strip()+\" \"#\" abc \".strip() will return \"abc\", remove the trailing spaces\n",
    "        temp = temp.replace('&','_')\n",
    "    sub_cat_list.append(temp.strip())\n",
    "\n",
    "project_data['clean_subcategories'] = sub_cat_list\n",
    "project_data.drop(['project_subject_subcategories'], axis=1, inplace=True)\n",
    "\n",
    "# count of all the words in corpus python: https://stackoverflow.com/a/22898595/4084039\n",
    "my_counter = Counter()\n",
    "for word in project_data['clean_subcategories'].values:\n",
    "    my_counter.update(word.split())\n",
    "    \n",
    "sub_cat_dict = dict(my_counter)\n",
    "sorted_sub_cat_dict = dict(sorted(sub_cat_dict.items(), key=lambda kv: kv[1]))"
   ]
  },
  {
   "cell_type": "markdown",
   "metadata": {
    "colab_type": "text",
    "id": "NANzhWlLCynN"
   },
   "source": [
    "##  Text preprocessing"
   ]
  },
  {
   "cell_type": "code",
   "execution_count": 11,
   "metadata": {
    "colab": {},
    "colab_type": "code",
    "id": "yqsmu-BTCynQ"
   },
   "outputs": [],
   "source": [
    "# merge two column text dataframe: \n",
    "project_data[\"essay\"] = project_data[\"project_essay_1\"].map(str) +\\\n",
    "                        project_data[\"project_essay_2\"].map(str) + \\\n",
    "                        project_data[\"project_essay_3\"].map(str) + \\\n",
    "                        project_data[\"project_essay_4\"].map(str)"
   ]
  },
  {
   "cell_type": "code",
   "execution_count": 12,
   "metadata": {
    "colab": {},
    "colab_type": "code",
    "id": "2ou8qSzkCyna"
   },
   "outputs": [],
   "source": [
    "# Dropping the other 4 columns related in project essay\n",
    "project_data.drop(['project_essay_1', 'project_essay_2', 'project_essay_3', 'project_essay_4'], axis=1, inplace=True)"
   ]
  },
  {
   "cell_type": "code",
   "execution_count": 13,
   "metadata": {},
   "outputs": [
    {
     "data": {
      "text/html": [
       "<div>\n",
       "<style scoped>\n",
       "    .dataframe tbody tr th:only-of-type {\n",
       "        vertical-align: middle;\n",
       "    }\n",
       "\n",
       "    .dataframe tbody tr th {\n",
       "        vertical-align: top;\n",
       "    }\n",
       "\n",
       "    .dataframe thead th {\n",
       "        text-align: right;\n",
       "    }\n",
       "</style>\n",
       "<table border=\"1\" class=\"dataframe\">\n",
       "  <thead>\n",
       "    <tr style=\"text-align: right;\">\n",
       "      <th></th>\n",
       "      <th>Unnamed: 0</th>\n",
       "      <th>id</th>\n",
       "      <th>teacher_id</th>\n",
       "      <th>teacher_prefix</th>\n",
       "      <th>school_state</th>\n",
       "      <th>project_submitted_datetime</th>\n",
       "      <th>project_grade_category</th>\n",
       "      <th>project_title</th>\n",
       "      <th>project_resource_summary</th>\n",
       "      <th>teacher_number_of_previously_posted_projects</th>\n",
       "      <th>clean_categories</th>\n",
       "      <th>clean_subcategories</th>\n",
       "      <th>essay</th>\n",
       "    </tr>\n",
       "  </thead>\n",
       "  <tbody>\n",
       "    <tr>\n",
       "      <th>0</th>\n",
       "      <td>160221</td>\n",
       "      <td>p253737</td>\n",
       "      <td>c90749f5d961ff158d4b4d1e7dc665fc</td>\n",
       "      <td>Mrs.</td>\n",
       "      <td>IN</td>\n",
       "      <td>2016-12-05 13:43:57</td>\n",
       "      <td>Grades PreK-2</td>\n",
       "      <td>Educational Support for English Learners at Home</td>\n",
       "      <td>My students need opportunities to practice beg...</td>\n",
       "      <td>0</td>\n",
       "      <td>Literacy_Language</td>\n",
       "      <td>ESL Literacy</td>\n",
       "      <td>My students are English learners that are work...</td>\n",
       "    </tr>\n",
       "    <tr>\n",
       "      <th>1</th>\n",
       "      <td>140945</td>\n",
       "      <td>p258326</td>\n",
       "      <td>897464ce9ddc600bced1151f324dd63a</td>\n",
       "      <td>Mr.</td>\n",
       "      <td>FL</td>\n",
       "      <td>2016-10-25 09:22:10</td>\n",
       "      <td>Grades 6-8</td>\n",
       "      <td>Wanted: Projector for Hungry Learners</td>\n",
       "      <td>My students need a projector to help with view...</td>\n",
       "      <td>7</td>\n",
       "      <td>History_Civics Health_Sports</td>\n",
       "      <td>Civics_Government TeamSports</td>\n",
       "      <td>Our students arrive to our school eager to lea...</td>\n",
       "    </tr>\n",
       "  </tbody>\n",
       "</table>\n",
       "</div>"
      ],
      "text/plain": [
       "   Unnamed: 0       id                        teacher_id teacher_prefix  \\\n",
       "0      160221  p253737  c90749f5d961ff158d4b4d1e7dc665fc           Mrs.   \n",
       "1      140945  p258326  897464ce9ddc600bced1151f324dd63a            Mr.   \n",
       "\n",
       "  school_state project_submitted_datetime project_grade_category  \\\n",
       "0           IN        2016-12-05 13:43:57          Grades PreK-2   \n",
       "1           FL        2016-10-25 09:22:10             Grades 6-8   \n",
       "\n",
       "                                      project_title  \\\n",
       "0  Educational Support for English Learners at Home   \n",
       "1             Wanted: Projector for Hungry Learners   \n",
       "\n",
       "                            project_resource_summary  \\\n",
       "0  My students need opportunities to practice beg...   \n",
       "1  My students need a projector to help with view...   \n",
       "\n",
       "   teacher_number_of_previously_posted_projects              clean_categories  \\\n",
       "0                                             0             Literacy_Language   \n",
       "1                                             7  History_Civics Health_Sports   \n",
       "\n",
       "            clean_subcategories  \\\n",
       "0                  ESL Literacy   \n",
       "1  Civics_Government TeamSports   \n",
       "\n",
       "                                               essay  \n",
       "0  My students are English learners that are work...  \n",
       "1  Our students arrive to our school eager to lea...  "
      ]
     },
     "execution_count": 13,
     "metadata": {},
     "output_type": "execute_result"
    }
   ],
   "source": [
    "project_data.head(2)"
   ]
  },
  {
   "cell_type": "code",
   "execution_count": 14,
   "metadata": {
    "colab": {},
    "colab_type": "code",
    "id": "TCl7L1DhCyne",
    "outputId": "c1e9c200-8868-4b26-adbd-7836d815abef"
   },
   "outputs": [
    {
     "name": "stdout",
     "output_type": "stream",
     "text": [
      "My students are English learners that are working on English as their second or third languages. We are a melting pot of refugees, immigrants, and native-born Americans bringing the gift of language to our school. \\r\\n\\r\\n We have over 24 languages represented in our English Learner program with students at every level of mastery.  We also have over 40 countries represented with the families within our school.  Each student brings a wealth of knowledge and experiences to us that open our eyes to new cultures, beliefs, and respect.\\\"The limits of your language are the limits of your world.\\\"-Ludwig Wittgenstein  Our English learner's have a strong support system at home that begs for more resources.  Many times our parents are learning to read and speak English along side of their children.  Sometimes this creates barriers for parents to be able to help their child learn phonetics, letter recognition, and other reading skills.\\r\\n\\r\\nBy providing these dvd's and players, students are able to continue their mastery of the English language even if no one at home is able to assist.  All families with students within the Level 1 proficiency status, will be a offered to be a part of this program.  These educational videos will be specially chosen by the English Learner Teacher and will be sent home regularly to watch.  The videos are to help the child develop early reading skills.\\r\\n\\r\\nParents that do not have access to a dvd player will have the opportunity to check out a dvd player to use for the year.  The plan is to use these videos and educational dvd's for the years to come for other EL students.\\r\\nnannan\n",
      "==================================================\n",
      "The 51 fifth grade students that will cycle through my classroom this year all love learning, at least most of the time. At our school, 97.3% of the students receive free or reduced price lunch. Of the 560 students, 97.3% are minority students. \\r\\nThe school has a vibrant community that loves to get together and celebrate. Around Halloween there is a whole school parade to show off the beautiful costumes that students wear. On Cinco de Mayo we put on a big festival with crafts made by the students, dances, and games. At the end of the year the school hosts a carnival to celebrate the hard work put in during the school year, with a dunk tank being the most popular activity.My students will use these five brightly colored Hokki stools in place of regular, stationary, 4-legged chairs. As I will only have a total of ten in the classroom and not enough for each student to have an individual one, they will be used in a variety of ways. During independent reading time they will be used as special chairs students will each use on occasion. I will utilize them in place of chairs at my small group tables during math and reading times. The rest of the day they will be used by the students who need the highest amount of movement in their life in order to stay focused on school.\\r\\n\\r\\nWhenever asked what the classroom is missing, my students always say more Hokki Stools. They can't get their fill of the 5 stools we already have. When the students are sitting in group with me on the Hokki Stools, they are always moving, but at the same time doing their work. Anytime the students get to pick where they can sit, the Hokki Stools are the first to be taken. There are always students who head over to the kidney table to get one of the stools who are disappointed as there are not enough of them. \\r\\n\\r\\nWe ask a lot of students to sit for 7 hours a day. The Hokki stools will be a compromise that allow my students to do desk work and move at the same time. These stools will help students to meet their 60 minutes a day of movement by allowing them to activate their core muscles for balance while they sit. For many of my students, these chairs will take away the barrier that exists in schools for a child who can't sit still.nannan\n",
      "==================================================\n",
      "How do you remember your days of school? Was it in a sterile environment with plain walls, rows of desks, and a teacher in front of the room? A typical day in our room is nothing like that. I work hard to create a warm inviting themed room for my students look forward to coming to each day.\\r\\n\\r\\nMy class is made up of 28 wonderfully unique boys and girls of mixed races in Arkansas.\\r\\nThey attend a Title I school, which means there is a high enough percentage of free and reduced-price lunch to qualify. Our school is an \\\"open classroom\\\" concept, which is very unique as there are no walls separating the classrooms. These 9 and 10 year-old students are very eager learners; they are like sponges, absorbing all the information and experiences and keep on wanting more.With these resources such as the comfy red throw pillows and the whimsical nautical hanging decor and the blue fish nets, I will be able to help create the mood in our classroom setting to be one of a themed nautical environment. Creating a classroom environment is very important in the success in each and every child's education. The nautical photo props will be used with each child as they step foot into our classroom for the first time on Meet the Teacher evening. I'll take pictures of each child with them, have them developed, and then hung in our classroom ready for their first day of 4th grade.  This kind gesture will set the tone before even the first day of school! The nautical thank you cards will be used throughout the year by the students as they create thank you cards to their team groups.\\r\\n\\r\\nYour generous donations will help me to help make our classroom a fun, inviting, learning environment from day one.\\r\\n\\r\\nIt costs lost of money out of my own pocket on resources to get our classroom ready. Please consider helping with this project to make our new school year a very successful one. Thank you!nannan\n",
      "==================================================\n",
      "My wonderful students are 3, 4, and 5 years old.  We are located in a small town outside of Charlotte, NC.  All of my 22 students are children of school district employees.\\r\\nMy students are bright, energetic, and they love to learn!  They love hands-on activities that get them moving.  Like most preschoolers, they enjoy music and creating different things. \\r\\nAll of my students come from wonderful families that are very supportive of our classroom.  Our parents enjoy watching their children's growth as much as we do!These materials will help me teach my students all about the life cycle of a butterfly.  We will watch as the Painted Lady caterpillars grow bigger and build their chrysalis.  After a few weeks they will emerge from the chrysalis as beautiful butterflies!  We already have a net for the chrysalises, but we still need the caterpillars and feeding station.\\r\\nThis will be an unforgettable experience for my students.  My student absolutely love hands-on materials.  They learn so much from getting to touch and manipulate different things.  The supporting materials I have selected will help my students understand the life cycle through exploration.nannan\n",
      "==================================================\n"
     ]
    },
    {
     "name": "stdout",
     "output_type": "stream",
     "text": [
      "My students are an amazing group of eclectic children, coming from all walks of life. Many are from socioeconomically challenged homes, many from migrant families. The city is small so that most students who are permanent residents have known each other forever. It is a 'large family' of sorts. They all support each other and strive everyday to be successful. And they are! \\r\\nAs second language learners, many struggle day to day to learn in the classroom but excel in physical activity!Most students think of exercise during the day as their recess time. By teaching them how to purposefully exercise, how to keep track of their exercise, as well as hypothesize results, students will create a lifelong love of exercise and health. My students told me how much they enjoy Physical Education outdoors. They have asked for field cones and activities such as fitness dice and foam rings to organize meaningful activities. These journals will be used to chart patterns and see growth. My students showed interest in my personal fitness tracker I wear. My students asked me to get them a set to track their fitness and give them data to chart for their math journals. \\r\\n\\r\\nPurposeful exercise not only creates a healthier body, but also instills a healthier mindset about exercise and lifelong health.nannan\n",
      "==================================================\n"
     ]
    }
   ],
   "source": [
    "# printing some random reviews\n",
    "print(project_data['essay'].values[0])\n",
    "print(\"=\"*50)\n",
    "print(project_data['essay'].values[150])\n",
    "print(\"=\"*50)\n",
    "print(project_data['essay'].values[1000])\n",
    "print(\"=\"*50)\n",
    "print(project_data['essay'].values[20000])\n",
    "print(\"=\"*50)\n",
    "print(project_data['essay'].values[29500])\n",
    "print(\"=\"*50)"
   ]
  },
  {
   "cell_type": "code",
   "execution_count": 15,
   "metadata": {
    "colab": {},
    "colab_type": "code",
    "id": "Yqj4vGVoCynh"
   },
   "outputs": [],
   "source": [
    "# https://stackoverflow.com/a/47091490/4084039\n",
    "import re\n",
    "\n",
    "def decontracted(phrase):\n",
    "    # specific\n",
    "    phrase = re.sub(r\"won't\", \"will not\", phrase)\n",
    "    phrase = re.sub(r\"can\\'t\", \"can not\", phrase)\n",
    "\n",
    "    # general\n",
    "    phrase = re.sub(r\"n\\'t\", \" not\", phrase)\n",
    "    phrase = re.sub(r\"\\'re\", \" are\", phrase)\n",
    "    phrase = re.sub(r\"\\'s\", \" is\", phrase)\n",
    "    phrase = re.sub(r\"\\'d\", \" would\", phrase)\n",
    "    phrase = re.sub(r\"\\'ll\", \" will\", phrase)\n",
    "    phrase = re.sub(r\"\\'t\", \" not\", phrase)\n",
    "    phrase = re.sub(r\"\\'ve\", \" have\", phrase)\n",
    "    phrase = re.sub(r\"\\'m\", \" am\", phrase)\n",
    "    phrase = re.sub(r\"%\", \" percent\", phrase)\n",
    "    phrase = re.sub(\"nannan\",' ', phrase)# Found this pattern in some essays which adds no meaning\n",
    "    return phrase"
   ]
  },
  {
   "cell_type": "code",
   "execution_count": 16,
   "metadata": {
    "colab": {},
    "colab_type": "code",
    "id": "aDUbe9piCynj",
    "outputId": "cd082bbf-9ba2-4373-ea65-73c45627bb7d"
   },
   "outputs": [
    {
     "name": "stdout",
     "output_type": "stream",
     "text": [
      "My wonderful students are 3, 4, and 5 years old.  We are located in a small town outside of Charlotte, NC.  All of my 22 students are children of school district employees.\\r\\nMy students are bright, energetic, and they love to learn!  They love hands-on activities that get them moving.  Like most preschoolers, they enjoy music and creating different things. \\r\\nAll of my students come from wonderful families that are very supportive of our classroom.  Our parents enjoy watching their children is growth as much as we do!These materials will help me teach my students all about the life cycle of a butterfly.  We will watch as the Painted Lady caterpillars grow bigger and build their chrysalis.  After a few weeks they will emerge from the chrysalis as beautiful butterflies!  We already have a net for the chrysalises, but we still need the caterpillars and feeding station.\\r\\nThis will be an unforgettable experience for my students.  My student absolutely love hands-on materials.  They learn so much from getting to touch and manipulate different things.  The supporting materials I have selected will help my students understand the life cycle through exploration. \n",
      "==================================================\n"
     ]
    }
   ],
   "source": [
    "sent = decontracted(project_data['essay'].values[20000])\n",
    "print(sent)\n",
    "print(\"=\"*50)"
   ]
  },
  {
   "cell_type": "code",
   "execution_count": 17,
   "metadata": {
    "colab": {},
    "colab_type": "code",
    "id": "vXSbHYJ4Cynp",
    "outputId": "1becc1e1-bb25-48aa-f44f-32c99df9e13a"
   },
   "outputs": [
    {
     "name": "stdout",
     "output_type": "stream",
     "text": [
      "My wonderful students are 3, 4, and 5 years old.  We are located in a small town outside of Charlotte, NC.  All of my 22 students are children of school district employees.  My students are bright, energetic, and they love to learn!  They love hands-on activities that get them moving.  Like most preschoolers, they enjoy music and creating different things.   All of my students come from wonderful families that are very supportive of our classroom.  Our parents enjoy watching their children is growth as much as we do!These materials will help me teach my students all about the life cycle of a butterfly.  We will watch as the Painted Lady caterpillars grow bigger and build their chrysalis.  After a few weeks they will emerge from the chrysalis as beautiful butterflies!  We already have a net for the chrysalises, but we still need the caterpillars and feeding station.  This will be an unforgettable experience for my students.  My student absolutely love hands-on materials.  They learn so much from getting to touch and manipulate different things.  The supporting materials I have selected will help my students understand the life cycle through exploration. \n"
     ]
    }
   ],
   "source": [
    "# \\r \\n \\t remove from string python: http://texthandler.com/info/remove-line-breaks-python/\n",
    "sent = sent.replace('\\\\r', ' ')\n",
    "sent = sent.replace('\\\\\"', ' ')\n",
    "sent = sent.replace('\\\\n', ' ')\n",
    "print(sent)"
   ]
  },
  {
   "cell_type": "code",
   "execution_count": 18,
   "metadata": {
    "colab": {},
    "colab_type": "code",
    "id": "67Agrz_YCynt",
    "outputId": "ec6bf4e3-c419-4740-9989-fa53128abe20"
   },
   "outputs": [
    {
     "name": "stdout",
     "output_type": "stream",
     "text": [
      "My wonderful students are 3 4 and 5 years old We are located in a small town outside of Charlotte NC All of my 22 students are children of school district employees My students are bright energetic and they love to learn They love hands on activities that get them moving Like most preschoolers they enjoy music and creating different things All of my students come from wonderful families that are very supportive of our classroom Our parents enjoy watching their children is growth as much as we do These materials will help me teach my students all about the life cycle of a butterfly We will watch as the Painted Lady caterpillars grow bigger and build their chrysalis After a few weeks they will emerge from the chrysalis as beautiful butterflies We already have a net for the chrysalises but we still need the caterpillars and feeding station This will be an unforgettable experience for my students My student absolutely love hands on materials They learn so much from getting to touch and manipulate different things The supporting materials I have selected will help my students understand the life cycle through exploration \n"
     ]
    }
   ],
   "source": [
    "#remove spacial character: https://stackoverflow.com/a/5843547/4084039\n",
    "sent = re.sub('[^A-Za-z0-9]+', ' ', sent)\n",
    "print(sent)"
   ]
  },
  {
   "cell_type": "code",
   "execution_count": 19,
   "metadata": {},
   "outputs": [
    {
     "data": {
      "text/plain": [
       "(69997, 13)"
      ]
     },
     "execution_count": 19,
     "metadata": {},
     "output_type": "execute_result"
    }
   ],
   "source": [
    "project_data.shape"
   ]
  },
  {
   "cell_type": "code",
   "execution_count": 20,
   "metadata": {
    "colab": {},
    "colab_type": "code",
    "id": "hhyPw-8wCyny"
   },
   "outputs": [],
   "source": [
    "# https://gist.github.com/sebleier/554280\n",
    "# we are removing the words from the stop words list: 'no', 'nor', 'not'\n",
    "stopwords= ['i', 'me', 'my', 'myself', 'we', 'our', 'ours', 'ourselves', 'you', \"you're\", \"you've\",\\\n",
    "            \"you'll\", \"you'd\", 'your', 'yours', 'yourself', 'yourselves', 'he', 'him', 'his', 'himself', \\\n",
    "            'she', \"she's\", 'her', 'hers', 'herself', 'it', \"it's\", 'its', 'itself', 'they', 'them', 'their',\\\n",
    "            'theirs', 'themselves', 'what', 'which', 'who', 'whom', 'this', 'that', \"that'll\", 'these', 'those', \\\n",
    "            'am', 'is', 'are', 'was', 'were', 'be', 'been', 'being', 'have', 'has', 'had', 'having', 'do', 'does', \\\n",
    "            'did', 'doing', 'a', 'an', 'the', 'and', 'but', 'if', 'or', 'because', 'as', 'until', 'while', 'of', \\\n",
    "            'at', 'by', 'for', 'with', 'about', 'against', 'between', 'into', 'through', 'during', 'before', 'after',\\\n",
    "            'above', 'below', 'to', 'from', 'up', 'down', 'in', 'out', 'on', 'off', 'over', 'under', 'again', 'further',\\\n",
    "            'then', 'once', 'here', 'there', 'when', 'where', 'why', 'how', 'all', 'any', 'both', 'each', 'few', 'more',\\\n",
    "            'most', 'other', 'some', 'such', 'only', 'own', 'same', 'so', 'than', 'too', 'very', \\\n",
    "            's', 't', 'can', 'will', 'just', 'don', \"don't\", 'should', \"should've\", 'now', 'd', 'll', 'm', 'o', 're', \\\n",
    "            've', 'y', 'ain', 'aren', \"aren't\", 'couldn', \"couldn't\", 'didn', \"didn't\", 'doesn', \"doesn't\", 'hadn',\\\n",
    "            \"hadn't\", 'hasn', \"hasn't\", 'haven', \"haven't\", 'isn', \"isn't\", 'ma', 'mightn', \"mightn't\", 'mustn',\\\n",
    "            \"mustn't\", 'needn', \"needn't\", 'shan', \"shan't\", 'shouldn', \"shouldn't\", 'wasn', \"wasn't\", 'weren', \"weren't\", \\\n",
    "            'won', \"won't\", 'wouldn', \"wouldn't\"]"
   ]
  },
  {
   "cell_type": "code",
   "execution_count": 21,
   "metadata": {
    "colab": {},
    "colab_type": "code",
    "id": "d6RCdphRCyn0",
    "outputId": "a59d693e-fa5b-4821-e173-e308905b96d5"
   },
   "outputs": [
    {
     "name": "stderr",
     "output_type": "stream",
     "text": [
      "100%|██████████████████████████████████████████████████████████████████████████| 69997/69997 [00:57<00:00, 1216.99it/s]\n"
     ]
    }
   ],
   "source": [
    "# Combining all the above snippets \n",
    "from tqdm import tqdm\n",
    "preprocessed_essays = []\n",
    "# tqdm is for printing the status bar\n",
    "for sentence in tqdm(project_data['essay'].values):\n",
    "    sent = decontracted(sentence)\n",
    "    sent = sent.replace('\\\\r', ' ')\n",
    "    sent = sent.replace('\\\\\"', ' ')\n",
    "    sent = sent.replace('\\\\n', ' ')\n",
    "    sent = re.sub('[^A-Za-z0-9]+', ' ', sent)\n",
    "    # https://gist.github.com/sebleier/554280\n",
    "    sent = ' '.join(e for e in sent.split() if e.lower() not in stopwords)\n",
    "    preprocessed_essays.append(sent.lower().strip())"
   ]
  },
  {
   "cell_type": "code",
   "execution_count": 22,
   "metadata": {
    "colab": {},
    "colab_type": "code",
    "id": "rPo9cLvNCyn3",
    "outputId": "f4069bd0-65e3-46af-e799-f7e9132301bb"
   },
   "outputs": [
    {
     "data": {
      "text/plain": [
       "'wonderful students 3 4 5 years old located small town outside charlotte nc 22 students children school district employees students bright energetic love learn love hands activities get moving like preschoolers enjoy music creating different things students come wonderful families supportive classroom parents enjoy watching children growth much materials help teach students life cycle butterfly watch painted lady caterpillars grow bigger build chrysalis weeks emerge chrysalis beautiful butterflies already net chrysalises still need caterpillars feeding station unforgettable experience students student absolutely love hands materials learn much getting touch manipulate different things supporting materials selected help students understand life cycle exploration'"
      ]
     },
     "execution_count": 22,
     "metadata": {},
     "output_type": "execute_result"
    }
   ],
   "source": [
    "# after preprocesing\n",
    "preprocessed_essays[20000]"
   ]
  },
  {
   "cell_type": "markdown",
   "metadata": {
    "colab_type": "text",
    "id": "QeUw6WMKCyn7"
   },
   "source": [
    "<h2><font color='black'>  Preprocessing of `project_title`</font></h2>"
   ]
  },
  {
   "cell_type": "code",
   "execution_count": 23,
   "metadata": {
    "colab": {},
    "colab_type": "code",
    "id": "Ql9ttfW3Cyn7"
   },
   "outputs": [
    {
     "name": "stderr",
     "output_type": "stream",
     "text": [
      "100%|█████████████████████████████████████████████████████████████████████████| 69997/69997 [00:02<00:00, 26703.09it/s]\n"
     ]
    }
   ],
   "source": [
    "# similarly preprocessing the titles also\n",
    "preprocessed_title = []\n",
    "# tqdm is for printing the status bar\n",
    "for sentance in tqdm(project_data['project_title'].values):\n",
    "    sent = decontracted(sentance)\n",
    "    sent = sent.replace('\\\\r', ' ')\n",
    "    sent = sent.replace('\\\\\"', ' ')\n",
    "    sent = sent.replace('\\\\n', ' ')\n",
    "    sent = re.sub('[^A-Za-z0-9]+', ' ', sent)\n",
    "    # https://gist.github.com/sebleier/554280\n",
    "    sent = ' '.join(e for e in sent.split() if e not in stopwords)\n",
    "    preprocessed_title.append(sent.lower().strip())"
   ]
  },
  {
   "cell_type": "code",
   "execution_count": 24,
   "metadata": {},
   "outputs": [],
   "source": [
    "project_data['project_title'] = preprocessed_title"
   ]
  },
  {
   "cell_type": "code",
   "execution_count": 25,
   "metadata": {},
   "outputs": [],
   "source": [
    "#Removing '.' from teacher prefix(as a process of text preprocessing)\n",
    "project_data['teacher_prefix']=project_data['teacher_prefix'].str.replace('\\.','',regex=True).astype(str)"
   ]
  },
  {
   "cell_type": "code",
   "execution_count": 26,
   "metadata": {},
   "outputs": [
    {
     "data": {
      "text/plain": [
       "False"
      ]
     },
     "execution_count": 26,
     "metadata": {},
     "output_type": "execute_result"
    }
   ],
   "source": [
    "project_data['teacher_prefix'].isna().any()"
   ]
  },
  {
   "cell_type": "code",
   "execution_count": 27,
   "metadata": {},
   "outputs": [
    {
     "data": {
      "text/plain": [
       "Mrs        36529\n",
       "Ms         25150\n",
       "Mr          6828\n",
       "Teacher     1485\n",
       "Dr             5\n",
       "Name: teacher_prefix, dtype: int64"
      ]
     },
     "execution_count": 27,
     "metadata": {},
     "output_type": "execute_result"
    }
   ],
   "source": [
    "project_data['teacher_prefix'].value_counts()"
   ]
  },
  {
   "cell_type": "code",
   "execution_count": 28,
   "metadata": {},
   "outputs": [
    {
     "data": {
      "text/html": [
       "<div>\n",
       "<style scoped>\n",
       "    .dataframe tbody tr th:only-of-type {\n",
       "        vertical-align: middle;\n",
       "    }\n",
       "\n",
       "    .dataframe tbody tr th {\n",
       "        vertical-align: top;\n",
       "    }\n",
       "\n",
       "    .dataframe thead th {\n",
       "        text-align: right;\n",
       "    }\n",
       "</style>\n",
       "<table border=\"1\" class=\"dataframe\">\n",
       "  <thead>\n",
       "    <tr style=\"text-align: right;\">\n",
       "      <th></th>\n",
       "      <th>id</th>\n",
       "      <th>price</th>\n",
       "      <th>quantity</th>\n",
       "    </tr>\n",
       "  </thead>\n",
       "  <tbody>\n",
       "    <tr>\n",
       "      <th>0</th>\n",
       "      <td>p000001</td>\n",
       "      <td>459.56</td>\n",
       "      <td>7</td>\n",
       "    </tr>\n",
       "    <tr>\n",
       "      <th>1</th>\n",
       "      <td>p000002</td>\n",
       "      <td>515.89</td>\n",
       "      <td>21</td>\n",
       "    </tr>\n",
       "  </tbody>\n",
       "</table>\n",
       "</div>"
      ],
      "text/plain": [
       "        id   price  quantity\n",
       "0  p000001  459.56         7\n",
       "1  p000002  515.89        21"
      ]
     },
     "execution_count": 28,
     "metadata": {},
     "output_type": "execute_result"
    }
   ],
   "source": [
    "# https://stackoverflow.com/questions/22407798/how-to-reset-a-dataframes-indexes-for-all-groups-in-one-step\n",
    "price_data = resource_data.groupby('id').agg({'price':'sum', 'quantity':'sum'}).reset_index()\n",
    "price_data.head(2)"
   ]
  },
  {
   "cell_type": "code",
   "execution_count": 29,
   "metadata": {},
   "outputs": [],
   "source": [
    "# join two dataframes in python: \n",
    "project_data = pd.merge(project_data, price_data, on='id', how='left')"
   ]
  },
  {
   "cell_type": "code",
   "execution_count": 30,
   "metadata": {},
   "outputs": [
    {
     "data": {
      "text/plain": [
       "False"
      ]
     },
     "execution_count": 30,
     "metadata": {},
     "output_type": "execute_result"
    }
   ],
   "source": [
    "project_data['price'].isnull().any()"
   ]
  },
  {
   "cell_type": "code",
   "execution_count": 31,
   "metadata": {},
   "outputs": [],
   "source": [
    "#Removing '-' from teacher prefix(as a process of text preprocessing)\n",
    "project_data['project_grade_category'] = project_data['project_grade_category'].str.replace('\\s+', '_')\n",
    "project_data['project_grade_category'] = project_data['project_grade_category'].str.replace('-', '_')"
   ]
  },
  {
   "cell_type": "code",
   "execution_count": 32,
   "metadata": {},
   "outputs": [],
   "source": [
    "import nltk\n",
    "from nltk.sentiment.vader import SentimentIntensityAnalyzer\n",
    "m = []\n",
    "def senti(i):\n",
    "    l = []\n",
    "    sid = SentimentIntensityAnalyzer()\n",
    "    ss = sid.polarity_scores(i)\n",
    "    for k in ss:\n",
    "        l.append(ss[k])\n",
    "    return l"
   ]
  },
  {
   "cell_type": "code",
   "execution_count": 33,
   "metadata": {},
   "outputs": [],
   "source": [
    "project_data['text'] = pd.DataFrame(preprocessed_essays)"
   ]
  },
  {
   "cell_type": "code",
   "execution_count": 34,
   "metadata": {},
   "outputs": [
    {
     "data": {
      "application/vnd.jupyter.widget-view+json": {
       "model_id": "5b959f938acf46efb7ae459515d7aa26",
       "version_major": 2,
       "version_minor": 0
      },
      "text/plain": [
       "HBox(children=(IntProgress(value=0, description='Pandas Apply', max=69997, style=ProgressStyle(description_wid…"
      ]
     },
     "metadata": {},
     "output_type": "display_data"
    },
    {
     "name": "stdout",
     "output_type": "stream",
     "text": [
      "\n"
     ]
    }
   ],
   "source": [
    "# Googled for this\n",
    "import swifter\n",
    "df2 = project_data['text'].swifter.apply(lambda x : senti(x))"
   ]
  },
  {
   "cell_type": "code",
   "execution_count": 35,
   "metadata": {},
   "outputs": [],
   "source": [
    "senti_score_essay = pd.DataFrame(df2.values.tolist(), columns=['neg','neu','pos','compound'])"
   ]
  },
  {
   "cell_type": "code",
   "execution_count": 36,
   "metadata": {},
   "outputs": [],
   "source": [
    "#https://stackoverflow.com/questions/23891575/how-to-merge-two-dataframes-side-by-side\n",
    "project_data = pd.concat([project_data, senti_score_essay], axis=1)"
   ]
  },
  {
   "cell_type": "code",
   "execution_count": 38,
   "metadata": {},
   "outputs": [],
   "source": [
    "#https://stackoverflow.com/questions/34962104/pandas-how-can-i-use-the-apply-function-for-a-single-column\n",
    "a=project_data['project_title'].apply(lambda x : len(x))"
   ]
  },
  {
   "cell_type": "code",
   "execution_count": 39,
   "metadata": {},
   "outputs": [],
   "source": [
    "project_data['now_title'] = pd.DataFrame(a)"
   ]
  },
  {
   "cell_type": "code",
   "execution_count": 40,
   "metadata": {},
   "outputs": [],
   "source": [
    "#https://stackoverflow.com/questions/34962104/pandas-how-can-i-use-the-apply-function-for-a-single-column\n",
    "b=project_data['text'].apply(lambda x : len(x))"
   ]
  },
  {
   "cell_type": "code",
   "execution_count": 41,
   "metadata": {},
   "outputs": [],
   "source": [
    "project_data['now_text'] = pd.DataFrame(b)"
   ]
  },
  {
   "cell_type": "markdown",
   "metadata": {
    "colab_type": "text",
    "id": "NQg4ZfFtCyn9"
   },
   "source": [
    "##  Preparing data for models"
   ]
  },
  {
   "cell_type": "code",
   "execution_count": 42,
   "metadata": {
    "colab": {},
    "colab_type": "code",
    "id": "V4GS54ZTCyn-",
    "outputId": "febd575b-ed33-454e-d2d5-e8f6f635d117"
   },
   "outputs": [
    {
     "data": {
      "text/plain": [
       "Index(['Unnamed: 0', 'id', 'teacher_id', 'teacher_prefix', 'school_state',\n",
       "       'project_submitted_datetime', 'project_grade_category', 'project_title',\n",
       "       'project_resource_summary',\n",
       "       'teacher_number_of_previously_posted_projects', 'clean_categories',\n",
       "       'clean_subcategories', 'essay', 'price', 'quantity', 'text', 'neg',\n",
       "       'neu', 'pos', 'compound', 'now_title', 'now_text'],\n",
       "      dtype='object')"
      ]
     },
     "execution_count": 42,
     "metadata": {},
     "output_type": "execute_result"
    }
   ],
   "source": [
    "project_data.columns"
   ]
  },
  {
   "cell_type": "markdown",
   "metadata": {
    "colab_type": "text",
    "id": "6FDsc1epCyoD"
   },
   "source": [
    "we are going to consider\n",
    "\n",
    "       - school_state : categorical data\n",
    "       - clean_categories : categorical data\n",
    "       - clean_subcategories : categorical data\n",
    "       - project_grade_category : categorical data\n",
    "       - teacher_prefix : categorical data\n",
    "       \n",
    "       - project_title : text data\n",
    "       - text : text data\n",
    "       - project_resource_summary: text data (optional)\n",
    "       \n",
    "       - quantity : numerical (optional)\n",
    "       - teacher_number_of_previously_posted_projects : numerical\n",
    "       - price : numerical"
   ]
  },
  {
   "cell_type": "code",
   "execution_count": 43,
   "metadata": {},
   "outputs": [],
   "source": [
    "final_features = ['school_state', 'clean_categories', 'clean_subcategories', 'text', 'project_grade_category', 'teacher_prefix', 'project_title', 'teacher_number_of_previously_posted_projects', 'price','quantity','now_title','now_text','neg','neu','pos','compound']"
   ]
  },
  {
   "cell_type": "code",
   "execution_count": 44,
   "metadata": {},
   "outputs": [],
   "source": [
    "project_data1 = project_data[final_features].copy()"
   ]
  },
  {
   "cell_type": "code",
   "execution_count": 45,
   "metadata": {},
   "outputs": [
    {
     "data": {
      "text/plain": [
       "Index(['school_state', 'clean_categories', 'clean_subcategories', 'text',\n",
       "       'project_grade_category', 'teacher_prefix', 'project_title',\n",
       "       'teacher_number_of_previously_posted_projects', 'price', 'quantity',\n",
       "       'now_title', 'now_text', 'neg', 'neu', 'pos', 'compound'],\n",
       "      dtype='object')"
      ]
     },
     "execution_count": 45,
     "metadata": {},
     "output_type": "execute_result"
    }
   ],
   "source": [
    "project_data1.columns"
   ]
  },
  {
   "cell_type": "code",
   "execution_count": 46,
   "metadata": {},
   "outputs": [],
   "source": [
    "X = project_data1.copy()"
   ]
  },
  {
   "cell_type": "code",
   "execution_count": 47,
   "metadata": {},
   "outputs": [],
   "source": [
    "# train test split\n",
    "from sklearn.model_selection import train_test_split\n",
    "X_train, X_test, y_train, y_test = train_test_split(X, y, test_size=0.33, stratify=y, random_state=42)\n",
    "X_train,X_cv,y_train,y_cv=train_test_split(X_train,y_train,test_size=0.33,stratify=y_train, random_state=42)"
   ]
  },
  {
   "cell_type": "code",
   "execution_count": 48,
   "metadata": {},
   "outputs": [
    {
     "name": "stdout",
     "output_type": "stream",
     "text": [
      "Shape of X_train (31420, 16)\n",
      "Shape of y_train (31420,)\n",
      "\n",
      "\n",
      "Shape of X_cv (15477, 16)\n",
      "Shape of y_cv (15477,)\n",
      "\n",
      "\n",
      "Shape of X_test (23100, 16)\n",
      "Shape of y_test (23100,)\n"
     ]
    }
   ],
   "source": [
    "print(\"Shape of X_train\",X_train.shape)\n",
    "print(\"Shape of y_train\",y_train.shape)\n",
    "print('\\n')\n",
    "print(\"Shape of X_cv\",X_cv.shape)\n",
    "print(\"Shape of y_cv\",y_cv.shape)\n",
    "print('\\n')\n",
    "print(\"Shape of X_test\",X_test.shape)\n",
    "print(\"Shape of y_test\",y_test.shape)"
   ]
  },
  {
   "cell_type": "markdown",
   "metadata": {
    "colab_type": "text",
    "id": "0d0QeeQ-CyoD"
   },
   "source": [
    "###  Vectorizing Categorical data"
   ]
  },
  {
   "cell_type": "markdown",
   "metadata": {},
   "source": [
    "<h3> Encoding categorical features: school_state</h3>"
   ]
  },
  {
   "cell_type": "code",
   "execution_count": 49,
   "metadata": {
    "colab": {},
    "colab_type": "code",
    "id": "_5mt7VMXCyoF",
    "outputId": "0dbca3d7-df66-46b6-d9b3-a4035f29f8ab"
   },
   "outputs": [
    {
     "name": "stdout",
     "output_type": "stream",
     "text": [
      "After vectorizations\n",
      "(31420, 51) (31420,)\n",
      "(15477, 51) (15477,)\n",
      "(23100, 51) (23100,)\n",
      "['ak', 'al', 'ar', 'az', 'ca', 'co', 'ct', 'dc', 'de', 'fl', 'ga', 'hi', 'ia', 'id', 'il', 'in', 'ks', 'ky', 'la', 'ma', 'md', 'me', 'mi', 'mn', 'mo', 'ms', 'mt', 'nc', 'nd', 'ne', 'nh', 'nj', 'nm', 'nv', 'ny', 'oh', 'ok', 'or', 'pa', 'ri', 'sc', 'sd', 'tn', 'tx', 'ut', 'va', 'vt', 'wa', 'wi', 'wv', 'wy']\n",
      "====================================================================================================\n"
     ]
    }
   ],
   "source": [
    "# we use count vectorizer to convert the values into one \n",
    "vectorizer = CountVectorizer()\n",
    "vectorizer.fit(X_train['school_state'].values) # fit has to happen only on train data\n",
    "\n",
    "# we use the fitted CountVectorizer to convert the text to vector\n",
    "X_train_state_ohe = vectorizer.transform(X_train['school_state'].values)\n",
    "X_cv_state_ohe = vectorizer.transform(X_cv['school_state'].values)\n",
    "X_test_state_ohe = vectorizer.transform(X_test['school_state'].values)\n",
    "\n",
    "print(\"After vectorizations\")\n",
    "print(X_train_state_ohe.shape, y_train.shape)\n",
    "print(X_cv_state_ohe.shape, y_cv.shape)\n",
    "print(X_test_state_ohe.shape, y_test.shape)\n",
    "print(vectorizer.get_feature_names())\n",
    "print(\"=\"*100)"
   ]
  },
  {
   "cell_type": "markdown",
   "metadata": {},
   "source": [
    "<h3> Encoding categorical features: teacher_prefix</h3>"
   ]
  },
  {
   "cell_type": "code",
   "execution_count": 50,
   "metadata": {},
   "outputs": [
    {
     "name": "stdout",
     "output_type": "stream",
     "text": [
      "After vectorizations\n",
      "(31420, 5) (31420,)\n",
      "(15477, 5) (15477,)\n",
      "(23100, 5) (23100,)\n",
      "['dr', 'mr', 'mrs', 'ms', 'teacher']\n",
      "====================================================================================================\n"
     ]
    }
   ],
   "source": [
    "vectorizer = CountVectorizer()\n",
    "vectorizer.fit(X_train['teacher_prefix'].values) # fit has to happen only on train data\n",
    "\n",
    "# we use the fitted CountVectorizer to convert the text to vector\n",
    "X_train_teacher_ohe = vectorizer.transform(X_train['teacher_prefix'].values)\n",
    "X_cv_teacher_ohe = vectorizer.transform(X_cv['teacher_prefix'].values)\n",
    "X_test_teacher_ohe = vectorizer.transform(X_test['teacher_prefix'].values.astype(str))\n",
    "\n",
    "print(\"After vectorizations\")\n",
    "print(X_train_teacher_ohe.shape, y_train.shape)\n",
    "print(X_cv_teacher_ohe.shape, y_cv.shape)\n",
    "print(X_test_teacher_ohe.shape, y_test.shape)\n",
    "print(vectorizer.get_feature_names())\n",
    "print(\"=\"*100)"
   ]
  },
  {
   "cell_type": "markdown",
   "metadata": {},
   "source": [
    "<h3> Encoding categorical features: project_grade_category</h3>"
   ]
  },
  {
   "cell_type": "code",
   "execution_count": 51,
   "metadata": {},
   "outputs": [
    {
     "name": "stdout",
     "output_type": "stream",
     "text": [
      "After vectorizations\n",
      "(31420, 4) (31420,)\n",
      "(15477, 4) (15477,)\n",
      "(23100, 4) (23100,)\n",
      "['grades_3_5', 'grades_6_8', 'grades_9_12', 'grades_prek_2']\n",
      "====================================================================================================\n"
     ]
    }
   ],
   "source": [
    "vectorizer = CountVectorizer()\n",
    "vectorizer.fit(X_train['project_grade_category'].values) # fit has to happen only on train data\n",
    "\n",
    "# we use the fitted CountVectorizer to convert the text to vector\n",
    "X_train_grade_ohe = vectorizer.transform(X_train['project_grade_category'].values)\n",
    "X_cv_grade_ohe = vectorizer.transform(X_cv['project_grade_category'].values)\n",
    "X_test_grade_ohe = vectorizer.transform(X_test['project_grade_category'].values)\n",
    "\n",
    "print(\"After vectorizations\")\n",
    "print(X_train_grade_ohe.shape, y_train.shape)\n",
    "print(X_cv_grade_ohe.shape, y_cv.shape)\n",
    "print(X_test_grade_ohe.shape, y_test.shape)\n",
    "print(vectorizer.get_feature_names())\n",
    "print(\"=\"*100)"
   ]
  },
  {
   "cell_type": "markdown",
   "metadata": {},
   "source": [
    "<h3> Encoding categorical features: clean_subcategories</h3>"
   ]
  },
  {
   "cell_type": "code",
   "execution_count": 52,
   "metadata": {},
   "outputs": [
    {
     "name": "stdout",
     "output_type": "stream",
     "text": [
      "After vectorizations\n",
      "(31420, 30) (31420,)\n",
      "(15477, 30) (15477,)\n",
      "(23100, 30) (23100,)\n",
      "['appliedsciences', 'care_hunger', 'charactereducation', 'civics_government', 'college_careerprep', 'communityservice', 'earlydevelopment', 'economics', 'environmentalscience', 'esl', 'extracurricular', 'financialliteracy', 'foreignlanguages', 'gym_fitness', 'health_lifescience', 'health_wellness', 'history_geography', 'literacy', 'literature_writing', 'mathematics', 'music', 'nutritioneducation', 'other', 'parentinvolvement', 'performingarts', 'socialsciences', 'specialneeds', 'teamsports', 'visualarts', 'warmth']\n",
      "====================================================================================================\n"
     ]
    }
   ],
   "source": [
    "vectorizer = CountVectorizer()\n",
    "vectorizer.fit(X_train['clean_subcategories'].values) # fit has to happen only on train data\n",
    "\n",
    "# we use the fitted CountVectorizer to convert the text to vector\n",
    "X_train_subcat_ohe = vectorizer.transform(X_train['clean_subcategories'].values)\n",
    "X_cv_subcat_ohe = vectorizer.transform(X_cv['clean_subcategories'].values)\n",
    "X_test_subcat_ohe = vectorizer.transform(X_test['clean_subcategories'].values)\n",
    "\n",
    "print(\"After vectorizations\")\n",
    "print(X_train_subcat_ohe.shape, y_train.shape)\n",
    "print(X_cv_subcat_ohe.shape, y_cv.shape)\n",
    "print(X_test_subcat_ohe.shape, y_test.shape)\n",
    "print(vectorizer.get_feature_names())\n",
    "print(\"=\"*100)"
   ]
  },
  {
   "cell_type": "markdown",
   "metadata": {},
   "source": [
    "<h3> Encoding categorical features: clean_categories</h3>"
   ]
  },
  {
   "cell_type": "code",
   "execution_count": 53,
   "metadata": {},
   "outputs": [
    {
     "name": "stdout",
     "output_type": "stream",
     "text": [
      "After vectorizations\n",
      "(31420, 9) (31420,)\n",
      "(15477, 9) (15477,)\n",
      "(23100, 9) (23100,)\n",
      "['appliedlearning', 'care_hunger', 'health_sports', 'history_civics', 'literacy_language', 'math_science', 'music_arts', 'specialneeds', 'warmth']\n",
      "====================================================================================================\n"
     ]
    }
   ],
   "source": [
    "vectorizer = CountVectorizer()\n",
    "vectorizer.fit(X_train['clean_categories'].values) # fit has to happen only on train data\n",
    "\n",
    "# we use the fitted CountVectorizer to convert the text to vector\n",
    "X_train_cat_ohe = vectorizer.transform(X_train['clean_categories'].values)\n",
    "X_cv_cat_ohe = vectorizer.transform(X_cv['clean_categories'].values)\n",
    "X_test_cat_ohe = vectorizer.transform(X_test['clean_categories'].values)\n",
    "\n",
    "print(\"After vectorizations\")\n",
    "print(X_train_cat_ohe.shape, y_train.shape)\n",
    "print(X_cv_cat_ohe.shape, y_cv.shape)\n",
    "print(X_test_cat_ohe.shape, y_test.shape)\n",
    "print(vectorizer.get_feature_names())\n",
    "print(\"=\"*100)"
   ]
  },
  {
   "cell_type": "markdown",
   "metadata": {
    "colab": {},
    "colab_type": "code",
    "id": "npr7SzACCyoH",
    "outputId": "68c81ac7-c96e-4a19-849e-6b8213608464"
   },
   "source": [
    "<h3>Encoding numerical features: Price</h3>"
   ]
  },
  {
   "cell_type": "code",
   "execution_count": 54,
   "metadata": {
    "colab": {},
    "colab_type": "code",
    "id": "0ecQOf-JCyoL"
   },
   "outputs": [
    {
     "name": "stdout",
     "output_type": "stream",
     "text": [
      "After vectorizations\n",
      "(31420, 1) (31420,)\n",
      "(15477, 1) (15477,)\n",
      "(23100, 1) (23100,)\n",
      "====================================================================================================\n"
     ]
    }
   ],
   "source": [
    "from sklearn.preprocessing import Normalizer\n",
    "normalizer = Normalizer()\n",
    "normalizer.fit(X_train['price'].values.reshape(1,-1))\n",
    "\n",
    "X_train_price_norm = normalizer.transform(X_train['price'].values.reshape(1,-1))\n",
    "X_cv_price_norm = normalizer.transform(X_cv['price'].values.reshape(1,-1))\n",
    "X_test_price_norm = normalizer.transform(X_test['price'].values.reshape(1,-1))\n",
    "\n",
    "X_train_price_norm = X_train_price_norm.reshape(-1,1)\n",
    "X_cv_price_norm = X_cv_price_norm.reshape(-1,1)\n",
    "X_test_price_norm = X_test_price_norm.reshape(-1,1)\n",
    "\n",
    "print(\"After vectorizations\")\n",
    "print(X_train_price_norm.shape, y_train.shape)\n",
    "print(X_cv_price_norm.shape, y_cv.shape)\n",
    "print(X_test_price_norm.shape, y_test.shape)\n",
    "print(\"=\"*100)"
   ]
  },
  {
   "cell_type": "markdown",
   "metadata": {},
   "source": [
    "<h3>Encoding numerical features: Quantity</h3>"
   ]
  },
  {
   "cell_type": "code",
   "execution_count": 55,
   "metadata": {},
   "outputs": [
    {
     "name": "stdout",
     "output_type": "stream",
     "text": [
      "After vectorizations\n",
      "(31420, 1) (31420,)\n",
      "(15477, 1) (15477,)\n",
      "(23100, 1) (23100,)\n",
      "====================================================================================================\n"
     ]
    }
   ],
   "source": [
    "from sklearn.preprocessing import Normalizer\n",
    "normalizer = Normalizer()\n",
    "normalizer.fit(X_train['quantity'].values.reshape(1,-1))\n",
    "\n",
    "X_train_quan_norm = normalizer.transform(X_train['quantity'].values.reshape(1,-1))\n",
    "X_cv_quan_norm = normalizer.transform(X_cv['quantity'].values.reshape(1,-1))\n",
    "X_test_quan_norm = normalizer.transform(X_test['quantity'].values.reshape(1,-1))\n",
    "\n",
    "X_train_quan_norm = X_train_quan_norm.reshape(-1,1)\n",
    "X_cv_quan_norm = X_cv_quan_norm.reshape(-1,1)\n",
    "X_test_quan_norm = X_test_quan_norm.reshape(-1,1)\n",
    "\n",
    "print(\"After vectorizations\")\n",
    "print(X_train_quan_norm.shape, y_train.shape)\n",
    "print(X_cv_quan_norm.shape, y_cv.shape)\n",
    "print(X_test_quan_norm.shape, y_test.shape)\n",
    "print(\"=\"*100)"
   ]
  },
  {
   "cell_type": "code",
   "execution_count": 56,
   "metadata": {},
   "outputs": [
    {
     "name": "stdout",
     "output_type": "stream",
     "text": [
      "After vectorizations\n",
      "(31420, 1) (31420,)\n",
      "(15477, 1) (15477,)\n",
      "(23100, 1) (23100,)\n",
      "====================================================================================================\n"
     ]
    }
   ],
   "source": [
    "from sklearn.preprocessing import Normalizer\n",
    "normalizer = Normalizer()\n",
    "normalizer.fit(X_train['now_title'].values.reshape(1,-1))\n",
    "\n",
    "X_train_now_title_norm = normalizer.transform(X_train['now_title'].values.reshape(1,-1))\n",
    "X_cv_now_title_norm = normalizer.transform(X_cv['now_title'].values.reshape(1,-1))\n",
    "X_test_now_title_norm = normalizer.transform(X_test['now_title'].values.reshape(1,-1))\n",
    "\n",
    "X_train_now_title_norm = X_train_now_title_norm.reshape(-1,1)\n",
    "X_cv_now_title_norm = X_cv_now_title_norm.reshape(-1,1)\n",
    "X_test_now_title_norm = X_test_now_title_norm.reshape(-1,1)\n",
    "\n",
    "print(\"After vectorizations\")\n",
    "print(X_train_now_title_norm.shape, y_train.shape)\n",
    "print(X_cv_now_title_norm.shape, y_cv.shape)\n",
    "print(X_test_now_title_norm.shape, y_test.shape)\n",
    "print(\"=\"*100)"
   ]
  },
  {
   "cell_type": "code",
   "execution_count": 57,
   "metadata": {},
   "outputs": [
    {
     "name": "stdout",
     "output_type": "stream",
     "text": [
      "After vectorizations\n",
      "(31420, 1) (31420,)\n",
      "(15477, 1) (15477,)\n",
      "(23100, 1) (23100,)\n",
      "====================================================================================================\n"
     ]
    }
   ],
   "source": [
    "from sklearn.preprocessing import Normalizer\n",
    "normalizer = Normalizer()\n",
    "normalizer.fit(X_train['now_text'].values.reshape(1,-1))\n",
    "\n",
    "X_train_now_text_norm = normalizer.transform(X_train['now_text'].values.reshape(1,-1))\n",
    "X_cv_now_text_norm = normalizer.transform(X_cv['now_text'].values.reshape(1,-1))\n",
    "X_test_now_text_norm = normalizer.transform(X_test['now_text'].values.reshape(1,-1))\n",
    "\n",
    "X_train_now_text_norm = X_train_now_text_norm.reshape(-1,1)\n",
    "X_cv_now_text_norm = X_cv_now_text_norm.reshape(-1,1)\n",
    "X_test_now_text_norm = X_test_now_text_norm.reshape(-1,1)\n",
    "\n",
    "print(\"After vectorizations\")\n",
    "print(X_train_now_text_norm.shape, y_train.shape)\n",
    "print(X_cv_now_text_norm.shape, y_cv.shape)\n",
    "print(X_test_now_text_norm.shape, y_test.shape)\n",
    "print(\"=\"*100)"
   ]
  },
  {
   "cell_type": "code",
   "execution_count": 58,
   "metadata": {},
   "outputs": [
    {
     "name": "stdout",
     "output_type": "stream",
     "text": [
      "After vectorizations\n",
      "(31420, 1) (31420,)\n",
      "(23100, 1) (15477,)\n",
      "(15477, 1) (23100,)\n",
      "====================================================================================================\n"
     ]
    }
   ],
   "source": [
    "from sklearn.preprocessing import Normalizer\n",
    "normalizer = Normalizer()\n",
    "normalizer.fit(X_train['neg'].values.reshape(1,-1))\n",
    "\n",
    "X_train_neg_norm = normalizer.transform(X_train['neg'].values.reshape(1,-1))\n",
    "X_cv_neg_norm = normalizer.transform(X_cv['neg'].values.reshape(1,-1))\n",
    "X_test_neg_norm = normalizer.transform(X_test['neg'].values.reshape(1,-1))\n",
    "\n",
    "X_train_neg_norm = X_train_neg_norm.reshape(-1,1)\n",
    "X_cv_neg_norm = X_cv_neg_norm.reshape(-1,1)\n",
    "X_test_neg_norm = X_test_neg_norm.reshape(-1,1)\n",
    "\n",
    "print(\"After vectorizations\")\n",
    "print(X_train_neg_norm.shape, y_train.shape)\n",
    "print(X_test_neg_norm.shape, y_cv.shape)\n",
    "print(X_cv_neg_norm.shape, y_test.shape)\n",
    "print(\"=\"*100)"
   ]
  },
  {
   "cell_type": "code",
   "execution_count": 59,
   "metadata": {},
   "outputs": [
    {
     "name": "stdout",
     "output_type": "stream",
     "text": [
      "After vectorizations\n",
      "(31420, 1) (31420,)\n",
      "(23100, 1) (15477,)\n",
      "(15477, 1) (23100,)\n",
      "====================================================================================================\n"
     ]
    }
   ],
   "source": [
    "from sklearn.preprocessing import Normalizer\n",
    "normalizer = Normalizer()\n",
    "normalizer.fit(X_train['pos'].values.reshape(1,-1))\n",
    "\n",
    "X_train_pos_norm = normalizer.transform(X_train['pos'].values.reshape(1,-1))\n",
    "X_cv_pos_norm = normalizer.transform(X_cv['pos'].values.reshape(1,-1))\n",
    "X_test_pos_norm = normalizer.transform(X_test['pos'].values.reshape(1,-1))\n",
    "\n",
    "X_train_pos_norm = X_train_pos_norm.reshape(-1,1)\n",
    "X_cv_pos_norm = X_cv_pos_norm.reshape(-1,1)\n",
    "X_test_pos_norm = X_test_pos_norm.reshape(-1,1)\n",
    "\n",
    "print(\"After vectorizations\")\n",
    "print(X_train_pos_norm.shape, y_train.shape)\n",
    "print(X_test_pos_norm.shape, y_cv.shape)\n",
    "print(X_cv_pos_norm.shape, y_test.shape)\n",
    "print(\"=\"*100)"
   ]
  },
  {
   "cell_type": "code",
   "execution_count": 60,
   "metadata": {},
   "outputs": [
    {
     "name": "stdout",
     "output_type": "stream",
     "text": [
      "After vectorizations\n",
      "(31420, 1) (31420,)\n",
      "(15477, 1) (15477,)\n",
      "(23100, 1) (23100,)\n",
      "====================================================================================================\n"
     ]
    }
   ],
   "source": [
    "from sklearn.preprocessing import Normalizer\n",
    "normalizer = Normalizer()\n",
    "normalizer.fit(X_train['neg'].values.reshape(1,-1))\n",
    "\n",
    "X_train_neu_norm = normalizer.transform(X_train['neu'].values.reshape(1,-1))\n",
    "X_cv_neu_norm = normalizer.transform(X_cv['neu'].values.reshape(1,-1))\n",
    "X_test_neu_norm = normalizer.transform(X_test['neu'].values.reshape(1,-1))\n",
    "\n",
    "X_train_neu_norm = X_train_neu_norm.reshape(-1,1)\n",
    "X_cv_neu_norm = X_cv_neu_norm.reshape(-1,1)\n",
    "X_test_neu_norm = X_test_neu_norm.reshape(-1,1)\n",
    "\n",
    "print(\"After vectorizations\")\n",
    "print(X_train_neu_norm.shape, y_train.shape)\n",
    "print(X_cv_neu_norm.shape, y_cv.shape)\n",
    "print(X_test_neu_norm.shape, y_test.shape)\n",
    "print(\"=\"*100)"
   ]
  },
  {
   "cell_type": "code",
   "execution_count": 61,
   "metadata": {},
   "outputs": [
    {
     "name": "stdout",
     "output_type": "stream",
     "text": [
      "After vectorizations\n",
      "(31420, 1) (31420,)\n",
      "(23100, 1) (15477,)\n",
      "(15477, 1) (23100,)\n",
      "====================================================================================================\n"
     ]
    }
   ],
   "source": [
    "from sklearn.preprocessing import Normalizer\n",
    "normalizer = Normalizer()\n",
    "normalizer.fit(X_train['compound'].values.reshape(1,-1))\n",
    "\n",
    "X_train_com_norm = normalizer.transform(X_train['compound'].values.reshape(1,-1))\n",
    "X_cv_com_norm = normalizer.transform(X_cv['compound'].values.reshape(1,-1))\n",
    "X_test_com_norm = normalizer.transform(X_test['compound'].values.reshape(1,-1))\n",
    "\n",
    "X_train_com_norm = X_train_com_norm.reshape(-1,1)\n",
    "X_cv_com_norm = X_cv_com_norm.reshape(-1,1)\n",
    "X_test_com_norm = X_test_com_norm.reshape(-1,1)\n",
    "\n",
    "print(\"After vectorizations\")\n",
    "print(X_train_com_norm.shape, y_train.shape)\n",
    "print(X_test_com_norm.shape, y_cv.shape)\n",
    "print(X_cv_com_norm.shape, y_test.shape)\n",
    "print(\"=\"*100)"
   ]
  },
  {
   "cell_type": "markdown",
   "metadata": {},
   "source": [
    "<h3>Encoding numerical features: teacher_number_of_projects</h3>"
   ]
  },
  {
   "cell_type": "code",
   "execution_count": 62,
   "metadata": {},
   "outputs": [
    {
     "name": "stdout",
     "output_type": "stream",
     "text": [
      "After vectorizations\n",
      "(31420, 1) (31420,)\n",
      "(15477, 1) (15477,)\n",
      "(23100, 1) (23100,)\n",
      "====================================================================================================\n"
     ]
    }
   ],
   "source": [
    "from sklearn.preprocessing import Normalizer\n",
    "normalizer = Normalizer()\n",
    "normalizer.fit(X_train['teacher_number_of_previously_posted_projects'].values.reshape(1,-1))\n",
    "\n",
    "X_train_teacher_number_of_previously_posted_projects_norm = normalizer.transform(X_train['teacher_number_of_previously_posted_projects'].values.reshape(1,-1))\n",
    "X_cv_teacher_number_of_previously_posted_projects_norm = normalizer.transform(X_cv['teacher_number_of_previously_posted_projects'].values.reshape(1,-1))\n",
    "X_test_teacher_number_of_previously_posted_projects_norm = normalizer.transform(X_test['teacher_number_of_previously_posted_projects'].values.reshape(1,-1))\n",
    "\n",
    "X_train_teacher_number_of_previously_posted_projects_norm = X_train_teacher_number_of_previously_posted_projects_norm.reshape(-1,1)\n",
    "X_cv_teacher_number_of_previously_posted_projects_norm = X_cv_teacher_number_of_previously_posted_projects_norm.reshape(-1,1)\n",
    "X_test_teacher_number_of_previously_posted_projects_norm = X_test_teacher_number_of_previously_posted_projects_norm.reshape(-1,1)\n",
    "\n",
    "print(\"After vectorizations\")\n",
    "print(X_train_teacher_number_of_previously_posted_projects_norm.shape, y_train.shape)\n",
    "print(X_cv_teacher_number_of_previously_posted_projects_norm.shape, y_cv.shape)\n",
    "print(X_test_teacher_number_of_previously_posted_projects_norm.shape, y_test.shape)\n",
    "print(\"=\"*100)"
   ]
  },
  {
   "cell_type": "markdown",
   "metadata": {
    "colab_type": "text",
    "id": "5YnkzKnmCyoN"
   },
   "source": [
    "### Vectorizing Text data"
   ]
  },
  {
   "cell_type": "markdown",
   "metadata": {
    "colab_type": "text",
    "id": "W544CoFtCyoN"
   },
   "source": [
    "###  Bag of words"
   ]
  },
  {
   "cell_type": "code",
   "execution_count": 63,
   "metadata": {},
   "outputs": [
    {
     "name": "stdout",
     "output_type": "stream",
     "text": [
      "After vectorizations\n",
      "(31420, 5000) (31420,)\n",
      "(15477, 5000) (15477,)\n",
      "(23100, 5000) (23100,)\n"
     ]
    },
    {
     "name": "stdout",
     "output_type": "stream",
     "text": [
      "['000 students', '10 percent', '10 years', '100 percent', '100 percent free', '100 percent students', '100 students', '12th grade', '1st grade', '1st graders', '20 minutes', '20 percent', '20 students', '2016 2017', '2016 2017 school', '2017 school', '2017 school year', '21st century', '21st century classroom', '21st century learners', '21st century learning', '21st century skills', '22 students', '24 students', '25 percent', '25 students', '2nd grade', '2nd grade students', '2nd graders', '30 minutes', '30 percent', '30 students', '300 students', '3d printer', '3d printing', '3rd 4th', '3rd grade', '3rd grade students', '3rd graders', '40 percent', '40 percent students', '400 students', '4th 5th', '4th 5th grade', '4th grade', '4th grade students', '4th graders', '50 percent', '50 percent students', '500 students', '5th 6th', '5th grade', '5th grade students', '5th graders', '60 minutes', '60 minutes day', '60 percent', '60 percent students', '600 students', '65 percent', '6th 7th', '6th 7th 8th', '6th grade', '6th grade students', '6th graders', '70 percent', '70 percent students', '700 students', '75 percent', '75 percent students', '7th 8th', '7th 8th grade', '7th 8th graders', '7th grade', '7th graders', '80 percent', '80 percent students', '85 percent', '85 percent students', '8th grade', '8th grade students', '8th graders', '90 percent', '90 percent students', '95 percent', '95 percent students', '97 percent', '98 percent', '98 percent students', '99 percent', '99 percent students', 'abilities students', 'ability focus', 'ability learn', 'ability levels', 'ability move', 'ability read', 'ability use', 'able access', 'able bring', 'able build', 'able choose', 'able complete', 'able concentrate', 'able continue', 'able control', 'able control home', 'able create', 'able engage', 'able enjoy', 'able experience', 'able explore', 'able express', 'able find', 'able focus', 'able get', 'able give', 'able go', 'able hear', 'able help', 'able keep', 'able learn', 'able listen', 'able make', 'able meet', 'able move', 'able move around', 'able offer', 'able participate', 'able play', 'able practice', 'able print', 'able provide', 'able provide students', 'able read', 'able research', 'able see', 'able share', 'able show', 'able sit', 'able stay', 'able take', 'able teach', 'able use', 'able use technology', 'able utilize', 'able work', 'able write', 'absolutely love', 'academic abilities', 'academic achievement', 'academic areas', 'academic excellence', 'academic goals', 'academic growth', 'academic learning', 'academic levels', 'academic needs', 'academic performance', 'academic skills', 'academic social', 'academic success', 'academically socially', 'accelerated reader', 'access books', 'access computer', 'access computers', 'access curriculum', 'access home', 'access information', 'access internet', 'access learning', 'access many', 'access materials', 'access new', 'access online', 'access resources', 'access school', 'access students', 'access technology', 'access technology home', 'access variety', 'accessible students', 'achieve academic', 'achieve goal', 'achieve goals', 'achieve success', 'achievement gap', 'achievement students', 'across curriculum', 'active engaged', 'active learners', 'active learning', 'active students', 'actively engaged', 'activities allow', 'activities classroom', 'activities help', 'activities keep', 'activities school', 'activities students', 'activity students', 'add adhd', 'addition classroom', 'addition students', 'addition subtraction', 'additional support', 'additionally students', 'african american', 'age appropriate', 'age students', 'ahead early', 'ahead early life', 'allow children', 'allow create', 'allow learn', 'allow move', 'allow movement', 'allow student', 'allow students', 'allow students access', 'allow students create', 'allow students explore', 'allow students get', 'allow students learn', 'allow students move', 'allow students opportunity', 'allow students practice', 'allow students take', 'allow students use', 'allow students work', 'allow us', 'allow use', 'allow work', 'allowing students', 'allows students', 'allows us', 'almost students', 'along way', 'also able', 'also able use', 'also allow', 'also allow students', 'also allows', 'also asking', 'also benefit', 'also come', 'also create', 'also get', 'also give', 'also great', 'also help', 'also help students', 'also helps', 'also learn', 'also learning', 'also like', 'also love', 'also make', 'also many', 'also need', 'also not', 'also provide', 'also requested', 'also requesting', 'also students', 'also teach', 'also use', 'also used', 'also want', 'also work', 'alternative seating', 'alternative seating options', 'although school', 'although students', 'always asking', 'always come', 'always eager', 'always eager learn', 'always excited', 'always looking', 'always looking new', 'always looking ways', 'always ready', 'always willing', 'amazing group', 'amazing group students', 'amazing kids', 'amazing see', 'amazing students', 'amazing things', 'american hispanic', 'american students', 'among students', 'amount time', 'anchor charts', 'another student', 'another students', 'another way', 'answer questions', 'apple tv', 'appreciate help', 'approach learning', 'apps available', 'apps help', 'area classroom', 'area high', 'area many', 'area many students', 'area not', 'area school', 'area students', 'areas students', 'around classroom', 'around room', 'around school', 'around students', 'around us', 'around world', 'arrive school', 'art class', 'art materials', 'art math', 'art music', 'art projects', 'art room', 'art students', 'art supplies', 'art teacher', 'arts math', 'arts students', 'ask questions', 'ask students', 'asked could', 'asked students', 'asking help', 'asking questions', 'assist students', 'attend college', 'attend school', 'attend title', 'attend title school', 'attending school', 'attention deficit', 'attention focus', 'attention many', 'attention many raised', 'attention span', 'audio books', 'autism spectrum', 'autism spectrum disorder', 'available classroom', 'available students', 'avid readers', 'award winning', 'away home', 'back forth', 'back school', 'background knowledge', 'backgrounds come', 'backgrounds cultures', 'backgrounds different', 'backgrounds experiences', 'backgrounds many', 'backgrounds many students', 'backgrounds one', 'backgrounds school', 'backgrounds students', 'backpack food', 'backpack food weekend', 'bag chairs', 'balance ball', 'balance ball chairs', 'balance balls', 'ball chair', 'ball chairs', 'band program', 'based learning', 'based socioeconomic', 'based socioeconomic status', 'basic materials', 'basic math', 'basic necessities', 'basic needs', 'basic school', 'basic school supplies', 'basic skills', 'basic supplies', 'basis students', 'bean bag', 'bean bag chairs', 'bean bags', 'become active', 'become best', 'become better', 'become better readers', 'become engaged', 'become familiar', 'become fluent', 'become independent', 'become life', 'become life long', 'become lifelong', 'become lifelong learners', 'become part', 'become productive', 'become proficient', 'become successful', 'beginning readers', 'beginning school', 'beginning school year', 'beginning year', 'behavior issues', 'believe anything', 'believe students', 'beneficial students', 'benefit greatly', 'benefit students', 'benefits students', 'benjamin franklin', 'best ability', 'best education', 'best education possible', 'best effort', 'best every', 'best every day', 'best hands', 'best help', 'best learning', 'best learning environment', 'best make', 'best part', 'best possible', 'best provide', 'best school', 'best students', 'best want', 'best want school', 'best way', 'best work', 'better able', 'better focus', 'better future', 'better life', 'better place', 'better prepare', 'better prepared', 'better readers', 'better students', 'better teacher', 'better understand', 'better understanding', 'better way', 'beyond classroom', 'big books', 'big difference', 'big part', 'biggest challenge', 'bilingual students', 'black white', 'blended learning', 'board games', 'bodies minds', 'book bins', 'book boxes', 'book club', 'book clubs', 'book read', 'book students', 'books able', 'books allow', 'books allow students', 'books also', 'books available', 'books books', 'books cd', 'books choose', 'books class', 'books classroom', 'books classroom library', 'books give', 'books hands', 'books help', 'books help students', 'books home', 'books interest', 'books level', 'books library', 'books love', 'books many', 'books not', 'books provide', 'books read', 'books reading', 'books school', 'books students', 'books take', 'books used', 'books want', 'books would', 'bouncy bands', 'boys girls', 'brain breaks', 'brand new', 'breakfast free', 'breakfast lunch', 'breakfast lunch many', 'breakfast lunch school', 'breakfast lunch students', 'breakout edu', 'bridge gap', 'bring classroom', 'bring new', 'bring students', 'broken homes', 'budget cuts', 'build classroom', 'build confidence', 'build reading', 'build skills', 'build strong', 'build upon', 'building blocks', 'building students', 'cannot afford', 'cannot wait', 'career ready', 'cd player', 'center activities', 'center classroom', 'center students', 'center time', 'center would', 'centers students', 'century classroom', 'century learners', 'century learning', 'century skills', 'certainly control', 'certainly control experience', 'chairs allow', 'chairs allow students', 'chairs classroom', 'chairs help', 'chairs not', 'chairs provide', 'chairs students', 'chairs would', 'challenge students', 'challenges classroom', 'challenges classroom despite', 'challenges daily', 'challenges face', 'challenges face looking', 'challenges home', 'challenges outside', 'challenges school', 'challenges students', 'challenges students face', 'challenging students', 'chance get', 'chance learn', 'chance use', 'change lives', 'change students', 'change students lives', 'change world', 'changing world', 'chapter books', 'charge learning', 'chart paper', 'charter school', 'check books', 'child education', 'children able', 'children autism', 'children class', 'children classroom', 'children come', 'children deserve', 'children learn', 'children learning', 'children love', 'children many', 'children need', 'children not', 'children school', 'children special', 'children students', 'children use', 'children want', 'children work', 'choice seating', 'choice students', 'choices students', 'choose books', 'choose project', 'choose seating', 'choose sit', 'chrome books', 'chromebooks allow', 'chromebooks allow students', 'chromebooks classroom', 'chromebooks help', 'chromebooks students', 'chromebooks used', 'chromebooks would', 'circle time', 'city school', 'city students', 'class able', 'class also', 'class class', 'class come', 'class comprised', 'class consists', 'class discussions', 'class diverse', 'class every', 'class families', 'class full', 'class help', 'class learn', 'class learning', 'class library', 'class love', 'class made', 'class many', 'class need', 'class not', 'class one', 'class period', 'class ready', 'class school', 'class set', 'class sets', 'class sizes', 'class students', 'class time', 'class use', 'class want', 'class work', 'class would', 'class year', 'classes students', 'classroom able', 'classroom activities', 'classroom allow', 'classroom allow students', 'classroom allows', 'classroom also', 'classroom always', 'classroom become', 'classroom books', 'classroom building', 'classroom children', 'classroom chromebooks', 'classroom classroom', 'classroom come', 'classroom community', 'classroom computers', 'classroom consists', 'classroom create', 'classroom currently', 'classroom daily', 'classroom day', 'classroom despite', 'classroom despite many', 'classroom diverse', 'classroom door', 'classroom eager', 'classroom environment', 'classroom environment students', 'classroom every', 'classroom every day', 'classroom everyday', 'classroom excited', 'classroom experience', 'classroom family', 'classroom feel', 'classroom filled', 'classroom first', 'classroom flexible', 'classroom flexible seating', 'classroom focus', 'classroom focus potential', 'classroom full', 'classroom fun', 'classroom give', 'classroom give students', 'classroom goal', 'classroom great', 'classroom help', 'classroom help students', 'classroom home', 'classroom however', 'classroom instruction', 'classroom ipads', 'classroom kids', 'classroom know', 'classroom learn', 'classroom learning', 'classroom library', 'classroom library students', 'classroom like', 'classroom love', 'classroom made', 'classroom make', 'classroom management', 'classroom many', 'classroom many students', 'classroom materials', 'classroom need', 'classroom needs', 'classroom new', 'classroom no', 'classroom not', 'classroom often', 'classroom one', 'classroom order', 'classroom place', 'classroom place students', 'classroom project', 'classroom provide', 'classroom providing', 'classroom reading', 'classroom ready', 'classroom rug', 'classroom safe', 'classroom school', 'classroom see', 'classroom set', 'classroom setting', 'classroom space', 'classroom special', 'classroom student', 'classroom students', 'classroom students able', 'classroom students love', 'classroom students need', 'classroom students use', 'classroom supplies', 'classroom teach', 'classroom teacher', 'classroom teachers', 'classroom technology', 'classroom time', 'classroom use', 'classroom using', 'classroom want', 'classroom well', 'classroom work', 'classroom would', 'classroom would like', 'classroom year', 'classrooms not', 'classrooms students', 'close achievement', 'close achievement gap', 'close gap', 'close knit', 'club students', 'collaboration communication', 'collaborative learning', 'college bound', 'college career', 'college career ready', 'college prep', 'college students', 'color printer', 'colored paper', 'colored pencils', 'come alive', 'come back', 'come class', 'come classroom', 'come day', 'come different', 'come different backgrounds', 'come diverse', 'come diverse backgrounds', 'come economically', 'come every', 'come every day', 'come families', 'come high', 'come high poverty', 'come homes', 'come learn', 'come life', 'come low', 'come low income', 'come low socioeconomic', 'come lower', 'come many', 'come many different', 'come poverty', 'come ready', 'come room', 'come school', 'come school day', 'come school eager', 'come school every', 'come school everyday', 'come school excited', 'come school hungry', 'come school learn', 'come school ready', 'come school without', 'come single', 'come single parent', 'come students', 'come together', 'come true', 'come us', 'come variety', 'come variety backgrounds', 'come variety different', 'come various', 'come various backgrounds', 'come walks', 'come walks life', 'come wide', 'come wide range', 'come wide variety', 'comfortable classroom', 'comfortable environment', 'comfortable learning', 'comfortable learning environment', 'comfortable place', 'comfortable seating', 'coming school', 'coming school every', 'common core', 'common core standards', 'common goal', 'common love', 'communication skills', 'community classroom', 'community learners', 'community many', 'community members', 'community school', 'community students', 'compare contrast', 'complete assignments', 'complete projects', 'complete work', 'comprehension skills', 'computer based', 'computer lab', 'computer programming', 'computer programs', 'computer science', 'computer skills', 'computer students', 'computers classroom', 'computers home', 'computers students', 'concepts students', 'concepts taught', 'conducive learning', 'conduct research', 'consider donating', 'consider helping', 'considering project', 'constantly moving', 'construction paper', 'contained classroom', 'content areas', 'continue grow', 'continue learn', 'continue learning', 'continue path', 'continue path academic', 'continue work', 'control experience', 'control experience school', 'control home', 'control home lives', 'control learning', 'cooperative learning', 'copy paper', 'core curriculum', 'core muscles', 'core standards', 'core strength', 'core subjects', 'could also', 'could get', 'could help', 'could not', 'could use', 'create art', 'create classroom', 'create environment', 'create fun', 'create learning', 'create learning environment', 'create new', 'create positive', 'create presentations', 'create projects', 'create safe', 'creative clever', 'creative learning', 'creative meaningful', 'creative meaningful learning', 'creative positive', 'creative positive way', 'creative students', 'creative thinking', 'creative way', 'creative ways', 'creative writing', 'critical thinkers', 'critical thinking', 'critical thinking problem', 'critical thinking skills', 'cross curricular', 'cultural backgrounds', 'culturally diverse', 'curious creative', 'curious eager', 'curious world', 'curious world around', 'current events', 'current technology', 'currently classroom', 'currently not', 'currently students', 'currently teach', 'currently using', 'curriculum students', 'daily access', 'daily basis', 'daily basis students', 'daily challenges', 'daily classroom', 'daily learning', 'daily lives', 'daily reading', 'daily routine', 'daily students', 'dash dot', 'day also', 'day class', 'day classroom', 'day come', 'day creative', 'day creative positive', 'day day', 'day eager', 'day eager learn', 'day every', 'day excited', 'day full', 'day full life', 'day get', 'day help', 'day kindergarten', 'day learn', 'day learning', 'day long', 'day love', 'day make', 'day many', 'day many students', 'day need', 'day new', 'day not', 'day one', 'day ready', 'day ready learn', 'day school', 'day smile', 'day students', 'day students come', 'day teach', 'day want', 'day work', 'day would', 'days students', 'deeper understanding', 'describe students', 'deserve best', 'deserve best education', 'deserve opportunity', 'design process', 'desire learn', 'desk chair', 'desk day', 'desks chairs', 'desktop computers', 'desperate need', 'desperately need', 'despite challenges', 'despite challenges face', 'despite challenges students', 'despite hardships', 'despite many', 'despite many challenges', 'despite many hardships', 'despite obstacles', 'develop love', 'develop love reading', 'develop skills', 'developmental delays', 'developmentally appropriate', 'difference classroom', 'difference lives', 'difference students', 'difference students learning', 'difference world', 'different activities', 'different areas', 'different backgrounds', 'different countries', 'different cultures', 'different economic', 'different economic backgrounds', 'different genres', 'different languages', 'different languages spoken', 'different learning', 'different learning styles', 'different levels', 'different materials', 'different needs', 'different places', 'different reading', 'different seating', 'different seating options', 'different students', 'different things', 'different types', 'different way', 'different ways', 'differentiate instruction', 'differentiated instruction', 'difficult students', 'difficult time', 'digital world', 'direct instruction', 'disabilities autism', 'disabilities including', 'disabilities students', 'disadvantaged students', 'discover new', 'distracting others', 'district many', 'district not', 'district school', 'district students', 'district students faced', 'diverse background', 'diverse backgrounds', 'diverse classroom', 'diverse community', 'diverse group', 'diverse group learners', 'diverse group students', 'diverse learners', 'diverse learning', 'diverse needs', 'diverse population', 'diverse population students', 'diverse school', 'diverse student', 'diverse students', 'document camera', 'donating project', 'donating project not', 'donation help', 'donation project', 'donation project improve', 'donation would', 'donations help', 'donations project', 'donations project help', 'donations project improve', 'donor choose', 'donors choose', 'donorschoose org', 'door classroom', 'door classroom focus', 'dr seuss', 'dramatic play', 'dreamers thinkers', 'dry erase', 'dry erase boards', 'dry erase markers', 'dual language', 'due budget', 'due lack', 'due limited', 'eager excited', 'eager learn', 'eager learn best', 'eager learn love', 'eager learn new', 'eager learn students', 'eager learners', 'eager ready', 'eager ready learn', 'eager students', 'eagerness learn', 'earliest learners', 'earliest learners continue', 'early age', 'early childhood', 'early life', 'early life may', 'easier students', 'easily accessible', 'easy access', 'economic background', 'economic backgrounds', 'economic status', 'economically disadvantaged', 'education class', 'education classes', 'education classroom', 'education classrooms', 'education many', 'education not', 'education possible', 'education program', 'education school', 'education services', 'education students', 'education teacher', 'educational apps', 'educational experience', 'educational experiences', 'educational games', 'educational needs', 'eighth grade', 'elementary school', 'elementary school students', 'elementary schools', 'elementary students', 'eligible free', 'eligible free reduced', 'ell students', 'emotional disabilities', 'emotional needs', 'emotional skills', 'empower students', 'empowering students', 'enable students', 'encourage students', 'end day', 'end school', 'end school year', 'end year', 'endless possibilities', 'ends meet', 'energetic eager', 'energetic enthusiastic', 'energetic group', 'energetic students', 'energy love', 'energy students', 'engage learning', 'engage students', 'engage students learning', 'engaged excited', 'engaged learning', 'engaged reading', 'engaged students', 'engaging activities', 'engaging fun', 'engaging learning', 'engaging lessons', 'engaging students', 'engaging way', 'engineering art', 'engineering design', 'engineering math', 'engineering mathematics', 'english home', 'english language', 'english language arts', 'english language learner', 'english language learners', 'english learners', 'english not', 'english second', 'english second language', 'english spanish', 'english speakers', 'english speaking', 'english students', 'enhance learning', 'enhance learning experience', 'enhance reading', 'enhance student', 'enhance students', 'enjoy coming', 'enjoy coming school', 'enjoy hands', 'enjoy learning', 'enjoy reading', 'enjoy school', 'enjoy using', 'enjoy working', 'enough students', 'enrich learning', 'ensure students', 'enter classroom', 'enter school', 'enthusiasm learning', 'enthusiastic learners', 'enthusiastic learning', 'entire class', 'entire school', 'environment classroom', 'environment learn', 'environment school', 'environment students', 'environmental science', 'equipment help', 'equipment students', 'erase boards', 'erase markers', 'esl students', 'especially students', 'essential students', 'etc students', 'ethnic backgrounds', 'ethnically diverse', 'even better', 'even earliest', 'even earliest learners', 'even not', 'even students', 'even though', 'even though students', 'ever changing', 'ever met', 'every aspect', 'every child', 'every classroom', 'every day', 'every day classroom', 'every day eager', 'every day excited', 'every day full', 'every day ready', 'every day school', 'every day students', 'every minute', 'every morning', 'every one', 'every one students', 'every opportunity', 'every single', 'every single day', 'every student', 'every subject', 'every time', 'every way', 'every week', 'every year', 'everyday classroom', 'everyday life', 'everyday lives', 'everyday ready', 'everyday students', 'everything need', 'everything students', 'example students', 'excess energy', 'excited come', 'excited come school', 'excited eager', 'excited get', 'excited learn', 'excited learn new', 'excited learning', 'excited new', 'excited read', 'excited reading', 'excited ready', 'excited ready learn', 'excited school', 'excited see', 'excited store', 'excited store day', 'excited students', 'excited use', 'excitement learning', 'exciting students', 'exciting way', 'exciting ways', 'exercise balls', 'expand knowledge', 'expectations students', 'experience learning', 'experience many', 'experience new', 'experience school', 'experience school day', 'experience students', 'experience success', 'experience technology', 'experience world', 'experiences classroom', 'experiences help', 'experiences many', 'experiences many us', 'experiences not', 'experiences school', 'experiences students', 'explore create', 'explore different', 'explore learn', 'explore new', 'explore world', 'explore world around', 'expose students', 'extend learning', 'extra curricular', 'extra energy', 'extra help', 'extra support', 'extremely diverse', 'extremely hard', 'extremely important', 'face challenges', 'face daily', 'face home', 'face looking', 'face looking keep', 'face many', 'face many challenges', 'face students', 'faced challenges', 'faced many', 'faced many challenges', 'faced several', 'faced several challenges', 'faces light', 'facilitate learning', 'fairy tales', 'fall love', 'falling apart', 'families community', 'families live', 'families many', 'families not', 'families school', 'families struggle', 'families students', 'families work', 'family homes', 'family members', 'family students', 'fast paced', 'feel comfortable', 'feel confident', 'feel important', 'feel like', 'feel safe', 'feel students', 'feel success', 'feel successful', 'fiction books', 'fiction non', 'fiction non fiction', 'fiction nonfiction', 'field students', 'field trips', 'fifth grade', 'fifth grade students', 'fifth graders', 'financial literacy', 'find answers', 'find books', 'find new', 'find students', 'find success', 'find way', 'find ways', 'fine arts', 'fine motor', 'fine motor skills', 'fire tablets', 'first day', 'first day school', 'first experience', 'first experience school', 'first generation', 'first grade', 'first grade class', 'first grade classroom', 'first grade students', 'first graders', 'first graders love', 'first hand', 'first language', 'first school', 'first school experience', 'first second', 'first step', 'first time', 'first year', 'first year school', 'first year teacher', 'first year teaching', 'five six', 'five six year', 'five year', 'five year olds', 'five years', 'flexible seating', 'flexible seating classroom', 'flexible seating options', 'flexible seating students', 'flow brain', 'fluency comprehension', 'fluent readers', 'focus attention', 'focus better', 'focus learn', 'focus learning', 'focus potential', 'focus potential growth', 'focus school', 'focus students', 'focus task', 'focus work', 'focused engaged', 'focused learning', 'focused task', 'follow along', 'food weekend', 'forget teach', 'fortunate enough', 'forward coming', 'foster care', 'foster love', 'foster love learning', 'foster love reading', 'found students', 'foundational skills', 'four five', 'four year', 'four years', 'fourth fifth', 'fourth grade', 'fourth grade students', 'fourth graders', 'free breakfast', 'free breakfast lunch', 'free lunch', 'free lunch based', 'free lunch breakfast', 'free lunch many', 'free lunch program', 'free lunch school', 'free lunch students', 'free lunches', 'free reduced', 'free reduced breakfast', 'free reduced lunch', 'free reduced lunches', 'free reduced meals', 'free reduced price', 'free reduced priced', 'free time', 'fruits vegetables', 'full day', 'full energy', 'full life', 'full life ready', 'full potential', 'full students', 'full time', 'fullest potential', 'fun activities', 'fun creative', 'fun engaging', 'fun engaging way', 'fun exciting', 'fun interactive', 'fun learning', 'fun loving', 'fun students', 'fun way', 'fund project', 'funded students', 'funding project', 'future careers', 'future leaders', 'future students', 'future success', 'future want', 'future want give', 'gain confidence', 'gain knowledge', 'games activities', 'games help', 'games students', 'gap students', 'general education', 'general education classroom', 'general education students', 'generous donation', 'generous donation project', 'generous donations', 'get better', 'get chance', 'get comfortable', 'get energy', 'get enough', 'get excited', 'get experience', 'get free', 'get hands', 'get home', 'get kids', 'get know', 'get lost', 'get move', 'get moving', 'get new', 'get opportunity', 'get ready', 'get school', 'get see', 'get started', 'get students', 'get supplies', 'get use', 'get wiggles', 'get work', 'getting ahead', 'getting ahead early', 'getting students', 'gifted students', 'gifted talented', 'give best', 'give chance', 'give children', 'give every', 'give great', 'give kids', 'give opportunities', 'give opportunity', 'give student', 'give students', 'give students access', 'give students best', 'give students chance', 'give students opportunities', 'give students opportunity', 'give tools', 'give us', 'given chance', 'given opportunities', 'given opportunity', 'given students', 'gives students', 'giving students', 'glue sticks', 'go along', 'go beyond', 'go college', 'go home', 'go long', 'go long way', 'go outside', 'go school', 'goal create', 'goal give', 'goal help', 'goal help students', 'goal make', 'goal prepare', 'goal project', 'goal provide', 'goal provide students', 'goal students', 'goal teacher', 'goals students', 'good book', 'google classroom', 'google docs', 'grade class', 'grade classes', 'grade classroom', 'grade english', 'grade level', 'grade level reading', 'grade level students', 'grade levels', 'grade math', 'grade reading', 'grade school', 'grade science', 'grade special', 'grade students', 'grade students come', 'grade students love', 'grade teacher', 'grade title', 'grade year', 'graders come', 'graders eager', 'graders eager learn', 'graders love', 'graders need', 'graders school', 'graders students', 'grades 12', 'grades kindergarten', 'grades students', 'graduate high', 'graduate high school', 'graphic novels', 'graphing calculators', 'great addition', 'great books', 'great deal', 'great group', 'great kids', 'great learning', 'great place', 'great start', 'great students', 'great things', 'great tool', 'great way', 'great way students', 'greatly appreciate', 'greatly appreciated', 'greatly benefit', 'gross motor', 'gross motor skills', 'group activities', 'group children', 'group first', 'group instruction', 'group kids', 'group learners', 'group learning', 'group lessons', 'group projects', 'group reading', 'group setting', 'group small', 'group small group', 'group students', 'group time', 'group work', 'group young', 'groups students', 'grow academically', 'grow learn', 'grow readers', 'grow students', 'growth may', 'growth may not', 'growth mindset', 'growth students', 'guide students', 'guided reading', 'guided reading groups', 'half class', 'half students', 'hand students', 'hands activities', 'hands approach', 'hands experience', 'hands experiences', 'hands learners', 'hands learning', 'hands learning experiences', 'hands materials', 'hands projects', 'hands science', 'hands students', 'hands way', 'hard chair', 'hard day', 'hard every', 'hard every day', 'hard everyday', 'hard get', 'hard learn', 'hard make', 'hard plastic', 'hard provide', 'hard students', 'hard time', 'hard time sitting', 'hard work', 'hard workers', 'hard working', 'hard working students', 'hardships students', 'hardships students eager', 'head start', 'headphones allow', 'headphones help', 'headphones students', 'health wellness', 'healthy eating', 'healthy food', 'healthy lifestyle', 'healthy snack', 'healthy snacks', 'help achieve', 'help become', 'help better', 'help bring', 'help build', 'help child', 'help children', 'help class', 'help classroom', 'help close', 'help continue', 'help create', 'help develop', 'help encourage', 'help engage', 'help enhance', 'help ensure', 'help feel', 'help focus', 'help foster', 'help get', 'help give', 'help give students', 'help grow', 'help help', 'help improve', 'help improve increase', 'help improve students', 'help increase', 'help increase academic', 'help keep', 'help keep students', 'help kids', 'help learn', 'help learning', 'help make', 'help make learning', 'help meet', 'help motivate', 'help one', 'help others', 'help prepare', 'help promote', 'help provide', 'help provide students', 'help reach', 'help reading', 'help school', 'help see', 'help stay', 'help student', 'help students', 'help students able', 'help students achieve', 'help students become', 'help students build', 'help students develop', 'help students feel', 'help students focus', 'help students gain', 'help students get', 'help students learn', 'help students reach', 'help students stay', 'help students succeed', 'help students successful', 'help students understand', 'help succeed', 'help successful', 'help support', 'help teach', 'help understand', 'help us', 'help us get', 'help us learn', 'help work', 'helping students', 'helping us', 'helps students', 'helps us', 'high achieving', 'high crime', 'high energy', 'high expectations', 'high interest', 'high interest books', 'high level', 'high need', 'high needs', 'high percentage', 'high percentage students', 'high population', 'high poverty', 'high poverty area', 'high poverty low', 'high poverty neighborhood', 'high poverty rate', 'high poverty school', 'high quality', 'high school', 'high school college', 'high school students', 'high schools', 'higher education', 'higher level', 'higher order', 'highest potential', 'highest poverty', 'highly engaging', 'highly motivated', 'hispanic students', 'hokki stools', 'home away', 'home classroom', 'home come', 'home help', 'home life', 'home lives', 'home lives however', 'home many', 'home not', 'home read', 'home school', 'home situations', 'home students', 'home want', 'home would', 'homes english', 'homes many', 'homes not', 'homes parents', 'homes students', 'hope help', 'hope provide', 'hope students', 'hopeful inspire', 'hopeful inspire even', 'hopes dreams', 'hours day', 'households receive', 'households receive free', 'however certainly', 'however certainly control', 'however many', 'however need', 'however not', 'however students', 'huge difference', 'huge impact', 'hula hoops', 'hundred percent', 'ideas students', 'immediate feedback', 'impact learning', 'impact students', 'important part', 'important skills', 'important students', 'improve classroom', 'improve increase', 'improve increase student', 'improve learning', 'improve reading', 'improve reading skills', 'improve skills', 'improve student', 'improve students', 'inclusion classroom', 'income area', 'income community', 'income families', 'income high', 'income high poverty', 'income homes', 'income households', 'income neighborhood', 'income school', 'income school district', 'income students', 'incorporate technology', 'incorporating technology', 'increase academic', 'increase academic achievement', 'increase learning', 'increase reading', 'increase student', 'increase student engagement', 'increase students', 'independent learners', 'independent learning', 'independent reading', 'independent reading time', 'independent work', 'individual learning', 'individual needs', 'individual student', 'individual students', 'individualized education', 'individualized instruction', 'individualized learning', 'indoor recess', 'information students', 'informational text', 'inner city', 'inner city school', 'innovative ways', 'inquiry based', 'inside classroom', 'inside outside', 'inside outside classroom', 'inspire even', 'inspire even earliest', 'inspire students', 'inspired project', 'instill love', 'instruction students', 'instructional time', 'integral part', 'integrate technology', 'intellectual disabilities', 'interactive learning', 'interactive notebooks', 'interactive way', 'interest books', 'interest reading', 'interest students', 'interested learning', 'interested reading', 'international baccalaureate', 'internet access', 'internet home', 'introduce students', 'involve learn', 'involved learning', 'ipad classroom', 'ipad mini', 'ipad minis', 'ipad pro', 'ipad students', 'ipad would', 'ipads allow', 'ipads classroom', 'ipads help', 'ipads students', 'ipads used', 'ipads would', 'items help', 'items requested', 'items students', 'items would', 'job help', 'job make', 'jump ropes', 'junior high', 'keep classroom', 'keep engaged', 'keep focused', 'keep learning', 'keep moving', 'keep students', 'keep students engaged', 'keep things', 'keep things simple', 'keep track', 'keep us', 'keeping students', 'key success', 'kid friendly', 'kid inspired', 'kid inspired project', 'kids able', 'kids come', 'kids deserve', 'kids excited', 'kids get', 'kids learn', 'kids love', 'kids need', 'kids not', 'kids school', 'kids students', 'kids want', 'kids work', 'kids would', 'kindergarten 5th', 'kindergarten 5th grade', 'kindergarten class', 'kindergarten classroom', 'kindergarten fifth', 'kindergarten fifth grade', 'kindergarten first', 'kindergarten first grade', 'kindergarten students', 'kindergarten students come', 'kindergarten teacher', 'kindle fire', 'kindle fires', 'kinesthetic learners', 'knit community', 'know believe', 'know learn', 'know learn places', 'know not', 'know students', 'knowledge skills', 'knowledge students', 'lack funding', 'lack resources', 'lack technology', 'language arts', 'language arts math', 'language barriers', 'language development', 'language english', 'language learner', 'language learners', 'language learners many', 'language learners students', 'language learning', 'language many', 'language not', 'language program', 'language skills', 'language students', 'languages spoken', 'lap desks', 'large group', 'large number', 'large number students', 'large percentage', 'large population', 'large urban', 'last school', 'last school year', 'last year', 'last year students', 'last years', 'latest technology', 'learn also', 'learn always', 'learn basic', 'learn become', 'learn best', 'learn best hands', 'learn best want', 'learn better', 'learn class', 'learn classroom', 'learn come', 'learn create', 'learn day', 'learn despite', 'learn different', 'learn different ways', 'learn differently', 'learn eager', 'learn english', 'learn enjoy', 'learn every', 'learn every day', 'learn everyday', 'learn everything', 'learn excited', 'learn excited store', 'learn explore', 'learn fun', 'learn grow', 'learn hands', 'learn important', 'learn love', 'learn make', 'learn many', 'learn many students', 'learn math', 'learn much', 'learn need', 'learn new', 'learn new concepts', 'learn new things', 'learn not', 'learn one', 'learn places', 'learn places go', 'learn play', 'learn practice', 'learn read', 'learn read write', 'learn reading', 'learn school', 'learn science', 'learn share', 'learn skills', 'learn something', 'learn something new', 'learn students', 'learn students come', 'learn students need', 'learn succeed', 'learn successful', 'learn successful one', 'learn take', 'learn teach', 'learn technology', 'learn time', 'learn together', 'learn try', 'learn use', 'learn using', 'learn variety', 'learn want', 'learn way', 'learn work', 'learn work hard', 'learn work together', 'learn world', 'learn world around', 'learn would', 'learners classroom', 'learners come', 'learners continue', 'learners continue path', 'learners love', 'learners many', 'learners need', 'learners not', 'learners school', 'learners students', 'learners want', 'learning abilities', 'learning able', 'learning activities', 'learning also', 'learning always', 'learning become', 'learning center', 'learning centers', 'learning children', 'learning class', 'learning classroom', 'learning come', 'learning community', 'learning day', 'learning different', 'learning disabilities', 'learning disability', 'learning engaging', 'learning english', 'learning english second', 'learning environment', 'learning environment students', 'learning every', 'learning excited', 'learning experience', 'learning experience students', 'learning experiences', 'learning experiences students', 'learning fun', 'learning games', 'learning goal', 'learning goals', 'learning growing', 'learning hands', 'learning help', 'learning important', 'learning learning', 'learning levels', 'learning life', 'learning love', 'learning make', 'learning many', 'learning many students', 'learning materials', 'learning math', 'learning meaningful', 'learning much', 'learning need', 'learning needs', 'learning new', 'learning new things', 'learning not', 'learning one', 'learning opportunities', 'learning opportunities students', 'learning opportunity', 'learning play', 'learning process', 'learning project', 'learning providing', 'learning read', 'learning read write', 'learning reading', 'learning school', 'learning science', 'learning skills', 'learning space', 'learning stations', 'learning student', 'learning students', 'learning students able', 'learning students need', 'learning style', 'learning styles', 'learning take', 'learning teach', 'learning technology', 'learning time', 'learning together', 'learning tool', 'learning tools', 'learning use', 'learning using', 'learning want', 'learning well', 'learning work', 'learning working', 'learning world', 'learning would', 'least 60', 'least 60 minutes', 'least one', 'leave classroom', 'less time', 'lesson plans', 'lessons activities', 'lessons students', 'let alone', 'let students', 'letter sounds', 'letters numbers', 'letters sounds', 'level books', 'level learning', 'level many', 'level need', 'level playing', 'level playing field', 'level reading', 'level school', 'level students', 'level thinking', 'leveled books', 'leveled library', 'leveled readers', 'levels learning', 'levels students', 'library books', 'library students', 'life classroom', 'life cycle', 'life cycles', 'life experiences', 'life experiences many', 'life long', 'life long learners', 'life long readers', 'life many', 'life may', 'life may not', 'life ready', 'life ready learn', 'life school', 'life science', 'life skill', 'life skills', 'life students', 'lifelong learners', 'lifelong readers', 'like able', 'like classroom', 'like create', 'like family', 'like get', 'like give', 'like help', 'like make', 'like many', 'like move', 'like move love', 'like provide', 'like provide students', 'like read', 'like sit', 'like sponges', 'like students', 'like use', 'limited access', 'limited amount', 'limited english', 'limited resources', 'limited technology', 'listen books', 'listen stories', 'listening center', 'listening reading', 'listening skills', 'listening stories', 'literacy centers', 'literacy math', 'literacy skills', 'literature circles', 'little bit', 'little extra', 'little learners', 'little minds', 'little no', 'little ones', 'little people', 'live high', 'live high poverty', 'live low', 'live low income', 'live poverty', 'live rural', 'live small', 'lives better', 'lives however', 'lives however certainly', 'lives many', 'lives students', 'living poverty', 'located high', 'located high poverty', 'located low', 'located low income', 'located rural', 'located small', 'located urban', 'long learners', 'long periods', 'long periods time', 'long readers', 'long term', 'long time', 'long way', 'look forward', 'look forward coming', 'look like', 'looking forward', 'looking keep', 'looking keep things', 'looking new', 'looking ways', 'looks like', 'los angeles', 'lot energy', 'lot students', 'lot time', 'lots positive', 'lots positive attention', 'love able', 'love active', 'love art', 'love books', 'love come', 'love come school', 'love coming', 'love coming school', 'love create', 'love explore', 'love get', 'love give', 'love hands', 'love hands activities', 'love help', 'love learn', 'love learn new', 'love learning', 'love learning students', 'love lots', 'love lots positive', 'love math', 'love move', 'love music', 'love new', 'love opportunity', 'love play', 'love provide', 'love read', 'love read love', 'love reading', 'love reading students', 'love school', 'love science', 'love see', 'love seeing', 'love share', 'love students', 'love support', 'love teaching', 'love technology', 'love use', 'love using', 'love using technology', 'love work', 'love working', 'low economic', 'low income', 'low income area', 'low income community', 'low income families', 'low income high', 'low income homes', 'low income households', 'low income neighborhood', 'low income school', 'low income students', 'low socio', 'low socio economic', 'low socioeconomic', 'low socioeconomic background', 'low socioeconomic backgrounds', 'low socioeconomic status', 'lower income', 'lower level', 'lucky enough', 'lunch also', 'lunch based', 'lunch based socioeconomic', 'lunch breakfast', 'lunch come', 'lunch despite', 'lunch many', 'lunch many students', 'lunch not', 'lunch program', 'lunch school', 'lunch students', 'lunch students come', 'lunches students', 'made students', 'magnet school', 'magnetic letters', 'maintain focus', 'majority students', 'majority students come', 'majority students receive', 'make best', 'make better', 'make big', 'make choices', 'make classroom', 'make connections', 'make difference', 'make difference lives', 'make difference students', 'make easier', 'make ends', 'make ends meet', 'make every', 'make feel', 'make good', 'make great', 'make happen', 'make huge', 'make huge difference', 'make learning', 'make learning fun', 'make math', 'make mistakes', 'make positive', 'make possible', 'make reading', 'make school', 'make sense', 'make students', 'make successful', 'make sure', 'make sure students', 'make world', 'make world better', 'maker space', 'makes difficult', 'makes learning', 'makes students', 'making learning', 'making sure', 'manipulatives help', 'many activities', 'many apps', 'many books', 'many challenges', 'many challenges face', 'many children', 'many come', 'many different', 'many different backgrounds', 'many different learning', 'many different types', 'many different ways', 'many english', 'many english language', 'many families', 'many first', 'many hardships', 'many hardships students', 'many kids', 'many learning', 'many live', 'many new', 'many not', 'many not access', 'many obstacles', 'many opportunities', 'many parents', 'many people', 'many raised', 'many raised single', 'many resources', 'many school', 'many skills', 'many struggle', 'many student', 'many students', 'many students also', 'many students come', 'many students english', 'many students face', 'many students families', 'many students first', 'many students lack', 'many students live', 'many students need', 'many students never', 'many students not', 'many students receive', 'many students school', 'many students struggle', 'many things', 'many times', 'many us', 'many us see', 'many ways', 'many years', 'many years come', 'materials able', 'materials allow', 'materials allow students', 'materials also', 'materials classroom', 'materials give', 'materials help', 'materials help students', 'materials home', 'materials make', 'materials need', 'materials needed', 'materials not', 'materials project', 'materials provide', 'materials requested', 'materials requesting', 'materials students', 'materials supplies', 'materials support', 'materials use', 'materials used', 'materials would', 'math activities', 'math centers', 'math class', 'math classroom', 'math concepts', 'math curriculum', 'math facts', 'math games', 'math language', 'math language arts', 'math lessons', 'math literacy', 'math manipulatives', 'math materials', 'math practice', 'math problems', 'math program', 'math reading', 'math reading writing', 'math science', 'math science social', 'math skills', 'math social', 'math stations', 'math students', 'math writing', 'mathematical concepts', 'maximize learning', 'may face', 'may need', 'may never', 'may not', 'may not able', 'may not provide', 'may prevent', 'may prevent getting', 'may seem', 'meaningful learning', 'meaningful learning experiences', 'meaningful way', 'means students', 'media center', 'media literacy', 'meet goals', 'meet individual', 'meet needs', 'meet needs students', 'meet students', 'meeting needs', 'melting pot', 'members society', 'middle class', 'middle school', 'middle school students', 'middle schoolers', 'might not', 'military families', 'minds bodies', 'minds students', 'minute walk', 'minute walk door', 'minutes day', 'morning meeting', 'morning students', 'motivate students', 'motivated learn', 'motivated learners', 'motivation engagement', 'motor skills', 'move around', 'move around classroom', 'move around room', 'move bodies', 'move forward', 'move learn', 'move learning', 'move love', 'move love read', 'move students', 'move throughout', 'move wiggle', 'move work', 'movement breaks', 'movement classroom', 'movement students', 'moving around', 'much better', 'much easier', 'much fun', 'much needed', 'much possible', 'much students', 'much support', 'much time', 'multi sensory', 'multiple opportunities', 'multiple times', 'multiple ways', 'music class', 'music classroom', 'music education', 'music program', 'music room', 'music students', 'native american', 'native language', 'necessary materials', 'necessary skills', 'necessary supplies', 'necessary tools', 'need able', 'need access', 'need additional', 'need basic', 'need become', 'need books', 'need classroom', 'need extra', 'need extra support', 'need get', 'need hands', 'need headphones', 'need help', 'need know', 'need learn', 'need little', 'need lot', 'need lots', 'need make', 'need many', 'need materials', 'need move', 'need movement', 'need much', 'need new', 'need opportunities', 'need opportunity', 'need order', 'need place', 'need practice', 'need provide', 'need resources', 'need school', 'need see', 'need students', 'need succeed', 'need successful', 'need supplies', 'need support', 'need technology', 'need time', 'need tools', 'need use', 'need variety', 'need work', 'needed help', 'needed students', 'needed successful', 'needs children', 'needs classroom', 'needs every', 'needs learners', 'needs learning', 'needs many', 'needs met', 'needs not', 'needs school', 'needs student', 'needs students', 'neighborhood school', 'neighborhood students', 'never give', 'never seen', 'new book', 'new books', 'new challenges', 'new classroom', 'new concepts', 'new country', 'new equipment', 'new exciting', 'new experiences', 'new ideas', 'new information', 'new innovative', 'new knowledge', 'new language', 'new learning', 'new level', 'new materials', 'new math', 'new opportunities', 'new school', 'new school year', 'new skills', 'new students', 'new teacher', 'new technology', 'new things', 'new things students', 'new vocabulary', 'new way', 'new ways', 'new words', 'new world', 'new year', 'new york', 'new york city', 'next generation', 'next level', 'next year', 'no english', 'no longer', 'no matter', 'no one', 'non english', 'non fiction', 'non fiction books', 'non traditional', 'non verbal', 'nonfiction books', 'north carolina', 'not able', 'not able control', 'not access', 'not access books', 'not access computers', 'not access technology', 'not afford', 'not afraid', 'not allow', 'not always', 'not available', 'not best', 'not books', 'not classroom', 'not come', 'not computers', 'not easy', 'not enough', 'not even', 'not every', 'not exposed', 'not feel', 'not first', 'not funds', 'not get', 'not give', 'not given', 'not go', 'not good', 'not help', 'not help improve', 'not home', 'not know', 'not learn', 'not learning', 'not let', 'not like', 'not limited', 'not lot', 'not love', 'not make', 'not many', 'not materials', 'not mean', 'not money', 'not much', 'not necessary', 'not need', 'not one', 'not opportunity', 'not otherwise', 'not possible', 'not provide', 'not provide life', 'not read', 'not reading', 'not receive', 'not resources', 'not school', 'not see', 'not sit', 'not speak', 'not speak english', 'not stop', 'not students', 'not supplies', 'not take', 'not teach', 'not technology', 'not understand', 'not use', 'not used', 'not wait', 'not wait see', 'not want', 'not work', 'not working', 'not worry', 'not yet', 'number one', 'number sense', 'number students', 'offer students', 'often come', 'often difficult', 'often need', 'often not', 'often students', 'often times', 'old children', 'old students', 'older students', 'one another', 'one area', 'one best', 'one biggest', 'one class', 'one classroom', 'one computer', 'one day', 'one favorite', 'one hundred', 'one hundred percent', 'one important', 'one many', 'one one', 'one parent', 'one place', 'one school', 'one step', 'one student', 'one students', 'one thing', 'one thing common', 'one time', 'one two', 'one way', 'online learning', 'online resources', 'open doors', 'open new', 'opportunities explore', 'opportunities learn', 'opportunities move', 'opportunities possible', 'opportunities students', 'opportunities use', 'opportunity choose', 'opportunity create', 'opportunity experience', 'opportunity explore', 'opportunity get', 'opportunity learn', 'opportunity move', 'opportunity participate', 'opportunity practice', 'opportunity read', 'opportunity students', 'opportunity take', 'opportunity teach', 'opportunity use', 'opportunity use technology', 'opportunity work', 'options allow', 'options classroom', 'options help', 'options students', 'order create', 'order get', 'order help', 'order keep', 'order learn', 'order make', 'order provide', 'order students', 'order successful', 'order thinking', 'organizational skills', 'others around', 'others need', 'others not', 'others students', 'outside box', 'outside classroom', 'outside school', 'overcome challenges', 'overcome many', 'overcome obstacles', 'ownership learning', 'paper pencil', 'paper pencils', 'paper students', 'parent homes', 'parent households', 'parent households receive', 'parents not', 'parents students', 'parents teachers', 'parents work', 'parents working', 'part classroom', 'part daily', 'part day', 'part learning', 'part school', 'part students', 'passion learning', 'passion reading', 'past year', 'past years', 'path academic', 'path academic excellence', 'pay attention', 'peers students', 'pencil paper', 'pencil sharpener', 'pencils paper', 'per day', 'per week', 'percent african', 'percent african american', 'percent english', 'percent english language', 'percent free', 'percent free breakfast', 'percent free lunch', 'percent free reduced', 'percent hispanic', 'percent population', 'percent receive', 'percent receive free', 'percent receiving', 'percent school', 'percent student', 'percent student population', 'percent students', 'percent students come', 'percent students english', 'percent students free', 'percent students qualify', 'percent students receive', 'percent students receiving', 'percent students school', 'percentage students', 'perform better', 'performing arts', 'period time', 'periods time', 'personal space', 'personalized learning', 'phonemic awareness', 'phonics skills', 'physical activities', 'physical activity', 'physical education', 'physical education class', 'physical fitness', 'physical movement', 'physically active', 'picture books', 'place classroom', 'place feel', 'place learn', 'place learning', 'place sit', 'place store', 'place students', 'place value', 'place work', 'places go', 'plan use', 'plan using', 'play games', 'play instruments', 'play learn', 'play outside', 'play students', 'play time', 'playing field', 'playing games', 'please consider', 'please consider donating', 'please consider helping', 'please help', 'please help make', 'please help students', 'please help us', 'population english', 'population english language', 'population many', 'population school', 'population students', 'positive attention', 'positive attention many', 'positive attitude', 'positive behavior', 'positive environment', 'positive impact', 'positive learning', 'positive learning environment', 'positive way', 'positive way hopeful', 'possibilities endless', 'possible students', 'potential growth', 'potential growth may', 'potential students', 'poverty area', 'poverty area students', 'poverty high', 'poverty level', 'poverty line', 'poverty low', 'poverty neighborhood', 'poverty rate', 'poverty school', 'poverty school district', 'poverty school students', 'poverty stricken', 'poverty students', 'poverty title', 'practice math', 'practice reading', 'practice skills', 'practice writing', 'pre 5th', 'pre kindergarten', 'pre school', 'pre students', 'prepare future', 'prepare students', 'preparing students', 'prevent getting', 'prevent getting ahead', 'price lunch', 'price lunch students', 'price lunches', 'priced lunch', 'pride work', 'primary language', 'printer classroom', 'printer ink', 'problem solve', 'problem solvers', 'problem solving', 'problem solving skills', 'problems students', 'process students', 'program called', 'program many', 'program school', 'program students', 'programs help', 'programs students', 'project allow', 'project allow students', 'project also', 'project based', 'project based learning', 'project funded', 'project give', 'project give students', 'project help', 'project help students', 'project helping', 'project improve', 'project improve classroom', 'project make', 'project make difference', 'project not', 'project not help', 'project provide', 'project provide students', 'project students', 'project would', 'projects students', 'proud students', 'provide access', 'provide additional', 'provide best', 'provide children', 'provide classroom', 'provide fun', 'provide hands', 'provide learning', 'provide life', 'provide life experiences', 'provide many', 'provide materials', 'provide much', 'provide necessary', 'provide opportunities', 'provide opportunity', 'provide resources', 'provide safe', 'provide students', 'provide students creative', 'provide students opportunities', 'provide students opportunity', 'provide tools', 'provide variety', 'provides students', 'providing students', 'public charter', 'public charter school', 'public library', 'public school', 'public schools', 'put forth', 'put together', 'qualifies free', 'qualify free', 'qualify free breakfast', 'qualify free lunch', 'qualify free reduced', 'qualifying free', 'qualifying free reduced', 'quality education', 'raised single', 'raised single parent', 'range abilities', 'range disabilities', 'range students', 'reach full', 'reach full potential', 'reach goal', 'reach goals', 'reach students', 'read along', 'read aloud', 'read alouds', 'read also', 'read book', 'read books', 'read class', 'read grade', 'read grade level', 'read home', 'read independently', 'read learn', 'read love', 'read love lots', 'read many', 'read not', 'read read', 'read reading', 'read stories', 'read students', 'read things', 'read things know', 'read want', 'read write', 'readers students', 'readers writers', 'readily available', 'reading abilities', 'reading ability', 'reading also', 'reading book', 'reading books', 'reading center', 'reading centers', 'reading class', 'reading classroom', 'reading comprehension', 'reading comprehension skills', 'reading fluency', 'reading fun', 'reading grade', 'reading grade level', 'reading groups', 'reading help', 'reading important', 'reading instruction', 'reading intervention', 'reading language', 'reading learning', 'reading level', 'reading levels', 'reading listening', 'reading many', 'reading material', 'reading materials', 'reading math', 'reading math skills', 'reading not', 'reading one', 'reading program', 'reading reading', 'reading science', 'reading skills', 'reading strategies', 'reading students', 'reading time', 'reading want', 'reading workshop', 'reading writing', 'reading writing math', 'reading writing skills', 'ready eager', 'ready go', 'ready learn', 'ready learn excited', 'ready learn students', 'ready take', 'ready work', 'real life', 'real time', 'real world', 'real world experiences', 'real world problems', 'reality students', 'really enjoy', 'really hard', 'really help', 'really need', 'really want', 'receive backpack', 'receive backpack food', 'receive free', 'receive free breakfast', 'receive free lunch', 'receive free reduced', 'receive special', 'receive special education', 'receives free', 'receives free breakfast', 'receiving free', 'receiving free lunch', 'receiving free reduced', 'recess time', 'reduced breakfast', 'reduced breakfast lunch', 'reduced lunch', 'reduced lunch many', 'reduced lunch program', 'reduced lunch school', 'reduced lunch students', 'reduced lunches', 'reduced meals', 'reduced price', 'reduced price lunch', 'reduced price lunches', 'reduced priced', 'reduced priced lunch', 'regular basis', 'regular classroom', 'regular education', 'reinforce skills', 'release energy', 'reluctant readers', 'remember involve', 'remember involve learn', 'requested help', 'requested materials', 'requested project', 'requesting help', 'require students', 'requires students', 'research based', 'research create', 'research projects', 'research shown', 'research shows', 'research shows students', 'research topics', 'resource room', 'resource students', 'resources allow', 'resources available', 'resources classroom', 'resources help', 'resources home', 'resources limited', 'resources make', 'resources need', 'resources needed', 'resources not', 'resources provide', 'resources school', 'resources students', 'resources would', 'rest lives', 'retain information', 'right students', 'right tools', 'rigorous academics', 'risk students', 'role models', 'room students', 'rural area', 'rural community', 'rural school', 'rural town', 'safe comfortable', 'safe environment', 'safe fun', 'safe learning', 'safe learning environment', 'safe loved', 'safe place', 'scholastic news', 'school 100', 'school 100 percent', 'school 80', 'school 80 percent', 'school 90', 'school 90 percent', 'school able', 'school almost', 'school also', 'school always', 'school amazing', 'school approximately', 'school best', 'school budget', 'school building', 'school children', 'school class', 'school classroom', 'school college', 'school come', 'school community', 'school considered', 'school culture', 'school currently', 'school daily', 'school day', 'school day creative', 'school day students', 'school district', 'school district students', 'school districts', 'school diverse', 'school diverse population', 'school due', 'school eager', 'school eager learn', 'school environment', 'school even', 'school every', 'school every day', 'school everyday', 'school excited', 'school excited learn', 'school experience', 'school family', 'school feel', 'school filled', 'school first', 'school first time', 'school focus', 'school free', 'school full', 'school fun', 'school garden', 'school get', 'school goal', 'school great', 'school help', 'school high', 'school high poverty', 'school high school', 'school home', 'school however', 'school hungry', 'school kids', 'school know', 'school large', 'school learn', 'school learning', 'school library', 'school life', 'school like', 'school limited', 'school little', 'school located', 'school located high', 'school located low', 'school located rural', 'school love', 'school low', 'school low income', 'school made', 'school majority', 'school majority students', 'school many', 'school many students', 'school means', 'school need', 'school neighborhood', 'school new', 'school no', 'school not', 'school offers', 'school often', 'school one', 'school part', 'school place', 'school population', 'school positive', 'school program', 'school programs', 'school provide', 'school provides', 'school ready', 'school ready learn', 'school receive', 'school receive free', 'school receives', 'school rural', 'school safe', 'school safe place', 'school school', 'school science', 'school serves', 'school serves students', 'school services', 'school serving', 'school setting', 'school small', 'school south', 'school special', 'school strive', 'school strives', 'school student', 'school students', 'school students come', 'school students faced', 'school students love', 'school students need', 'school students not', 'school students receive', 'school supplies', 'school system', 'school teach', 'school teacher', 'school teachers', 'school time', 'school title', 'school title one', 'school title school', 'school unique', 'school urban', 'school want', 'school want learn', 'school well', 'school wide', 'school without', 'school wonderful', 'school work', 'school working', 'school would', 'school year', 'school year students', 'school years', 'schools district', 'schools students', 'science class', 'science classes', 'science classroom', 'science concepts', 'science curriculum', 'science engineering', 'science experiments', 'science lab', 'science materials', 'science math', 'science projects', 'science skills', 'science social', 'science social studies', 'science standards', 'science students', 'science technology', 'science technology engineering', 'seat sacks', 'seating allow', 'seating allows', 'seating arrangement', 'seating arrangements', 'seating choices', 'seating classroom', 'seating help', 'seating option', 'seating options', 'seating options allow', 'seating options classroom', 'seating options students', 'seating students', 'second grade', 'second grade classroom', 'second grade students', 'second graders', 'second home', 'second language', 'second language learners', 'second language students', 'second third', 'second year', 'see students', 'see typical', 'see typical minute', 'see world', 'seeing students', 'seen students', 'self confidence', 'self contained', 'self esteem', 'self regulation', 'sense community', 'sense pride', 'sensory input', 'sensory needs', 'serve students', 'serves students', 'serves students grades', 'services students', 'set goals', 'set students', 'setting students', 'seven year', 'several challenges', 'several challenges classroom', 'several different', 'several students', 'several years', 'share families', 'share ideas', 'share learning', 'share students', 'share work', 'show know', 'show students', 'shown students', 'shows students', 'side chicago', 'sight word', 'sight words', 'simple provide', 'simple provide students', 'simply not', 'since many', 'since not', 'since students', 'sing dance', 'single day', 'single family', 'single parent', 'single parent homes', 'single parent households', 'single parents', 'sit floor', 'sit still', 'sitting desk', 'sitting desks', 'sitting floor', 'sitting still', 'six seven', 'six year', 'sixth grade', 'sixth grade students', 'sixth graders', 'skill students', 'skills able', 'skills also', 'skills classroom', 'skills fun', 'skills help', 'skills important', 'skills learn', 'skills learned', 'skills learning', 'skills like', 'skills many', 'skills math', 'skills necessary', 'skills need', 'skills needed', 'skills not', 'skills reading', 'skills social', 'skills students', 'skills students need', 'skills taught', 'skills use', 'skills using', 'skills well', 'skills work', 'small community', 'small group', 'small group instruction', 'small group setting', 'small group time', 'small group work', 'small groups', 'small groups students', 'small rural', 'small rural community', 'small rural school', 'small school', 'small town', 'smart board', 'smile face', 'smile faces', 'smiles faces', 'smiling faces', 'soccer balls', 'social economic', 'social emotional', 'social emotional skills', 'social media', 'social skills', 'social studies', 'social studies science', 'socially emotionally', 'society students', 'socio economic', 'socio economic backgrounds', 'socio economic status', 'socioeconomic area', 'socioeconomic background', 'socioeconomic backgrounds', 'socioeconomic status', 'socioeconomic status things', 'solve problem', 'solve problems', 'solve real', 'solving problems', 'solving skills', 'something new', 'something students', 'sometimes need', 'sometimes not', 'south bronx', 'south carolina', 'space classroom', 'space students', 'spanish english', 'spanish speaking', 'spark interest', 'speak english', 'speak english second', 'speak spanish', 'special education', 'special education classroom', 'special education services', 'special education students', 'special education teacher', 'special needs', 'special needs students', 'special place', 'special students', 'specific learning', 'specific learning disabilities', 'specific needs', 'spectrum disorder', 'speech language', 'spend day', 'spend lot', 'spend lot time', 'spend much', 'spend time', 'stability ball', 'stability balls', 'staff students', 'stand desks', 'standardized tests', 'standards students', 'standing desk', 'standing desks', 'start day', 'start new', 'start school', 'start school year', 'start year', 'state standards', 'state testing', 'station students', 'stations students', 'status students', 'status things', 'status things may', 'stay active', 'stay engaged', 'stay focused', 'stay organized', 'stay school', 'stay task', 'staying focused', 'stem activities', 'stem learning', 'stem projects', 'stem school', 'stem science', 'stem science technology', 'still able', 'still come', 'still come school', 'still learning', 'still need', 'stools allow', 'stools allow students', 'stools classroom', 'stools help', 'stools students', 'stools would', 'store day', 'stories read', 'stories students', 'strive best', 'strive create', 'strive give', 'strive make', 'strive provide', 'strong desire', 'strong foundation', 'struggle reading', 'struggling readers', 'struggling students', 'student able', 'student access', 'student achievement', 'student athletes', 'student attention', 'student body', 'student centered', 'student choice', 'student class', 'student classroom', 'student engagement', 'student learn', 'student learning', 'student led', 'student needs', 'student not', 'student opportunity', 'student population', 'student reading', 'student school', 'student students', 'student success', 'student teacher', 'student unique', 'student use', 'student work', 'student would', 'students 21st', 'students 21st century', 'students 6th', 'students ability', 'students able', 'students able access', 'students able choose', 'students able create', 'students able explore', 'students able learn', 'students able move', 'students able practice', 'students able read', 'students able see', 'students able take', 'students able use', 'students able work', 'students absolutely', 'students academic', 'students access', 'students access technology', 'students achieve', 'students active', 'students actively', 'students actively engaged', 'students additional', 'students adhd', 'students african', 'students african american', 'students age', 'students ages', 'students allow', 'students allowed', 'students already', 'students also', 'students also able', 'students also need', 'students also use', 'students always', 'students amazing', 'students amazing group', 'students another', 'students apply', 'students appreciate', 'students around', 'students arrive', 'students art', 'students ask', 'students asked', 'students asking', 'students attend', 'students attend school', 'students attend title', 'students attention', 'students autism', 'students awesome', 'students basic', 'students become', 'students become better', 'students become successful', 'students becoming', 'students begin', 'students beginning', 'students believe', 'students benefit', 'students best', 'students better', 'students books', 'students bright', 'students bring', 'students build', 'students building', 'students came', 'students cannot', 'students cannot afford', 'students challenged', 'students chance', 'students children', 'students choice', 'students choose', 'students class', 'students classes', 'students classroom', 'students classroom come', 'students collaborate', 'students college', 'students come', 'students come class', 'students come classroom', 'students come different', 'students come diverse', 'students come families', 'students come high', 'students come homes', 'students come low', 'students come many', 'students come school', 'students come single', 'students come variety', 'students come various', 'students come wide', 'students comfortable', 'students coming', 'students community', 'students complete', 'students connect', 'students considered', 'students constantly', 'students continue', 'students could', 'students create', 'students creating', 'students creative', 'students creative clever', 'students creative meaningful', 'students curious', 'students currently', 'students daily', 'students day', 'students dedicated', 'students deserve', 'students deserve best', 'students design', 'students desire', 'students develop', 'students diagnosed', 'students different', 'students difficult', 'students difficulty', 'students disabilities', 'students discover', 'students district', 'students diverse', 'students diverse backgrounds', 'students diverse group', 'students eager', 'students eager learn', 'students eager learners', 'students easily', 'students economically', 'students economically disadvantaged', 'students education', 'students either', 'students eligible', 'students eligible free', 'students encouraged', 'students energetic', 'students engage', 'students engaged', 'students engaged learning', 'students engaging', 'students english', 'students english language', 'students enjoy', 'students enjoy learning', 'students enjoy reading', 'students enrolled', 'students enter', 'students enter classroom', 'students enthusiastic', 'students especially', 'students even', 'students ever', 'students every', 'students every day', 'students excel', 'students excited', 'students excited learn', 'students excited learning', 'students expected', 'students experience', 'students experiences', 'students explore', 'students exposed', 'students express', 'students extremely', 'students face', 'students face challenges', 'students face many', 'students faced', 'students faced many', 'students faced several', 'students fall', 'students families', 'students feel', 'students feel comfortable', 'students feel safe', 'students find', 'students first', 'students flexible', 'students flexible seating', 'students focus', 'students focused', 'students free', 'students free reduced', 'students freedom', 'students full', 'students full energy', 'students fully', 'students fun', 'students future', 'students gain', 'students get', 'students get excited', 'students getting', 'students give', 'students given', 'students given opportunity', 'students go', 'students goal', 'students going', 'students grade', 'students grade level', 'students grades', 'students great', 'students greatly', 'students group', 'students grow', 'students growing', 'students hands', 'students happy', 'students hard', 'students hard time', 'students hard workers', 'students hard working', 'students hardworking', 'students hear', 'students help', 'students high', 'students high poverty', 'students highly', 'students highly motivated', 'students hispanic', 'students hope', 'students however', 'students hungry', 'students identified', 'students important', 'students improve', 'students including', 'students increase', 'students incredible', 'students incredibly', 'students independent', 'students individual', 'students inner', 'students inner city', 'students inquisitive', 'students inspire', 'students inspired', 'students interact', 'students interest', 'students interested', 'students involved', 'students keep', 'students kids', 'students kind', 'students kindergarten', 'students know', 'students lack', 'students last', 'students learn', 'students learn best', 'students learn read', 'students learned', 'students learning', 'students learning disabilities', 'students learning english', 'students leave', 'students level', 'students life', 'students like', 'students limited', 'students listen', 'students little', 'students live', 'students live high', 'students live poverty', 'students lives', 'students lives better', 'students living', 'students living poverty', 'students look', 'students look forward', 'students looking', 'students lot', 'students love', 'students love coming', 'students love learn', 'students love learning', 'students love move', 'students love read', 'students love reading', 'students love school', 'students love technology', 'students love using', 'students low', 'students low income', 'students made', 'students make', 'students making', 'students many', 'students many different', 'students many students', 'students master', 'students materials', 'students math', 'students may', 'students may not', 'students meet', 'students middle', 'students mostly', 'students motivated', 'students move', 'students move around', 'students moving', 'students much', 'students multiple', 'students must', 'students necessary', 'students need', 'students need able', 'students need access', 'students need extra', 'students need hands', 'students need help', 'students need learn', 'students need move', 'students need new', 'students need opportunity', 'students needs', 'students never', 'students new', 'students no', 'students non', 'students not', 'students not able', 'students not access', 'students not always', 'students not get', 'students not opportunity', 'students often', 'students one', 'students opportunities', 'students opportunity', 'students opportunity learn', 'students opportunity use', 'students opportunity work', 'students option', 'students options', 'students overcome', 'students parents', 'students part', 'students participate', 'students passionate', 'students perform', 'students place', 'students play', 'students practice', 'students pre', 'students prefer', 'students prepare', 'students prepared', 'students program', 'students project', 'students proud', 'students provide', 'students provided', 'students providing', 'students put', 'students qualify', 'students qualify free', 'students qualifying', 'students raised', 'students range', 'students ranging', 'students reach', 'students read', 'students read books', 'students reading', 'students ready', 'students ready learn', 'students real', 'students really', 'students receive', 'students receive backpack', 'students receive free', 'students receiving', 'students receiving free', 'students represent', 'students requested', 'students requesting', 'students require', 'students required', 'students research', 'students resources', 'students responsible', 'students room', 'students rotate', 'students rural', 'students safe', 'students say', 'students school', 'students school come', 'students school receive', 'students science', 'students second', 'students see', 'students self', 'students sensory', 'students serve', 'students set', 'students several', 'students share', 'students show', 'students sit', 'students sitting', 'students skills', 'students small', 'students smart', 'students space', 'students speak', 'students special', 'students special education', 'students special needs', 'students spend', 'students staff', 'students start', 'students started', 'students stay', 'students stay focused', 'students still', 'students strive', 'students strong', 'students struggle', 'students struggle reading', 'students struggling', 'students student', 'students students', 'students students come', 'students students need', 'students succeed', 'students success', 'students successful', 'students supplies', 'students sweet', 'students take', 'students take ownership', 'students taking', 'students taught', 'students teach', 'students teacher', 'students teachers', 'students technology', 'students tend', 'students thank', 'students think', 'students third', 'students thrive', 'students throughout', 'students time', 'students title', 'students title school', 'students today', 'students tools', 'students tools need', 'students truly', 'students try', 'students two', 'students unable', 'students understand', 'students understanding', 'students unique', 'students use', 'students use chromebooks', 'students use ipads', 'students use materials', 'students use technology', 'students used', 'students using', 'students utilize', 'students variety', 'students various', 'students varying', 'students visual', 'students walk', 'students walk classroom', 'students want', 'students want learn', 'students way', 'students well', 'students whose', 'students wide', 'students wide range', 'students wiggle', 'students willing', 'students within', 'students without', 'students wonderful', 'students work', 'students work hard', 'students work independently', 'students work together', 'students working', 'students working hard', 'students world', 'students would', 'students would able', 'students would benefit', 'students would like', 'students would love', 'students write', 'students year', 'students years', 'students young', 'studies science', 'studies show', 'studies shown', 'studies students', 'subject areas', 'subject matter', 'succeed classroom', 'succeed school', 'succeed students', 'success classroom', 'success school', 'success students', 'successful classroom', 'successful future', 'successful learners', 'successful learning', 'successful life', 'successful one', 'successful one day', 'successful readers', 'successful school', 'successful students', 'supplies allow', 'supplies classroom', 'supplies help', 'supplies make', 'supplies materials', 'supplies need', 'supplies needed', 'supplies not', 'supplies school', 'supplies students', 'supplies used', 'supplies would', 'support classroom', 'support help', 'support home', 'support learning', 'support need', 'support project', 'support school', 'support students', 'supporting project', 'sure students', 'system students', 'tablets allow', 'tablets classroom', 'tablets students', 'take advantage', 'take care', 'take charge', 'take control', 'take granted', 'take home', 'take learning', 'take notes', 'take ownership', 'take ownership learning', 'take part', 'take pictures', 'take place', 'take pride', 'take responsibility', 'take risks', 'take students', 'take turns', 'takes place', 'taking care', 'taking time', 'talented students', 'task hand', 'task students', 'teach amazing', 'teach children', 'teach diverse', 'teach first', 'teach first grade', 'teach group', 'teach high', 'teach high poverty', 'teach kindergarten', 'teach low', 'teach low income', 'teach math', 'teach reading', 'teach school', 'teach small', 'teach special', 'teach students', 'teach title', 'teach title school', 'teach wonderful', 'teacher high', 'teacher low', 'teacher low income', 'teacher not', 'teacher provide', 'teacher school', 'teacher students', 'teacher title', 'teacher title school', 'teacher want', 'teachers parents', 'teachers school', 'teachers staff', 'teachers students', 'teachers work', 'teaching kindergarten', 'teaching learning', 'teaching students', 'team building', 'team sports', 'team work', 'tech savvy', 'technology access', 'technology allow', 'technology also', 'technology available', 'technology based', 'technology center', 'technology class', 'technology classroom', 'technology daily', 'technology driven', 'technology engineering', 'technology engineering art', 'technology engineering math', 'technology engineering mathematics', 'technology enhance', 'technology every', 'technology hands', 'technology help', 'technology home', 'technology learn', 'technology learning', 'technology many', 'technology need', 'technology not', 'technology resources', 'technology school', 'technology skills', 'technology students', 'technology tools', 'technology use', 'technology used', 'technology want', 'technology would', 'tell forget', 'tell forget teach', 'tell students', 'test scores', 'thank advance', 'thank consideration', 'thank considering', 'thank helping', 'thank much', 'thank support', 'thank taking', 'thing common', 'thing students', 'things know', 'things know learn', 'things like', 'things love', 'things may', 'things may prevent', 'things need', 'things not', 'things simple', 'things simple provide', 'things students', 'things work', 'think critically', 'think outside', 'think outside box', 'think students', 'thinking problem', 'thinking problem solving', 'thinking skills', 'thinking students', 'third fourth', 'third grade', 'third grade students', 'third graders', 'third year', 'thirst knowledge', 'though many', 'though students', 'three years', 'throughout classroom', 'throughout day', 'throughout day students', 'throughout entire', 'throughout lives', 'throughout school', 'throughout school day', 'throughout school year', 'throughout year', 'throughout year students', 'tight knit', 'time able', 'time also', 'time class', 'time classroom', 'time day', 'time get', 'time help', 'time kids', 'time learn', 'time learning', 'time many', 'time need', 'time not', 'time read', 'time reading', 'time school', 'time sitting', 'time sitting still', 'time spent', 'time students', 'time time', 'time together', 'time use', 'time want', 'time work', 'time would', 'times day', 'times not', 'times students', 'times throughout', 'title elementary', 'title elementary school', 'title one', 'title one school', 'title school', 'title school 100', 'title school located', 'title school majority', 'title school many', 'title school means', 'title school students', 'today society', 'today students', 'today world', 'together class', 'together create', 'together help', 'together learn', 'together make', 'together students', 'together team', 'tool help', 'tool students', 'tools allow', 'tools help', 'tools need', 'tools need successful', 'tools students', 'touch screen', 'traditional classroom', 'traditional seating', 'transitional kindergarten', 'truly believe', 'truly enjoy', 'try best', 'try hard', 'try make', 'try new', 'try new things', 'try provide', 'trying find', 'twenty five', 'twice week', 'two classes', 'two languages', 'two students', 'two three', 'two years', 'types learners', 'typical day', 'typical day classroom', 'typical minute', 'typical minute walk', 'typing skills', 'ultimate goal', 'ultimately help', 'ultimately help increase', 'understand importance', 'understanding world', 'unfortunately many', 'unfortunately not', 'unfortunately school', 'unfortunately students', 'unique learning', 'unique needs', 'unique way', 'unit students', 'united states', 'upcoming school', 'upcoming school year', 'urban area', 'urban community', 'urban district', 'urban neighborhood', 'urban school', 'urban school district', 'urban setting', 'us create', 'us get', 'us keep', 'us learn', 'us make', 'us see', 'us see typical', 'us students', 'us take', 'us use', 'use apps', 'use art', 'use books', 'use chromebooks', 'use class', 'use classroom', 'use computer', 'use computers', 'use creativity', 'use daily', 'use different', 'use every', 'use google', 'use hands', 'use headphones', 'use help', 'use imagination', 'use interactive', 'use ipad', 'use ipads', 'use manipulatives', 'use many', 'use materials', 'use math', 'use new', 'use reading', 'use resources', 'use school', 'use small', 'use students', 'use supplies', 'use tablets', 'use technology', 'use technology classroom', 'use throughout', 'use time', 'use tools', 'use variety', 'use various', 'used classroom', 'used create', 'used daily', 'used every', 'used help', 'used many', 'used small', 'used small group', 'used students', 'using chromebooks', 'using computers', 'using different', 'using google', 'using hands', 'using ipad', 'using ipads', 'using materials', 'using new', 'using technology', 'utilize technology', 'value education', 'variety activities', 'variety backgrounds', 'variety books', 'variety different', 'variety different economic', 'variety learning', 'variety materials', 'variety needs', 'variety seating', 'variety seating options', 'variety students', 'variety ways', 'various backgrounds', 'various learning', 'various ways', 'video games', 'virtual field', 'virtual field trips', 'virtual reality', 'visual arts', 'visual learners', 'vocabulary words', 'wait see', 'walk around', 'walk classroom', 'walk classroom every', 'walk door', 'walk door classroom', 'walk school', 'walks life', 'walls classroom', 'want able', 'want able provide', 'want best', 'want children', 'want classroom', 'want come', 'want continue', 'want create', 'want encourage', 'want ensure', 'want feel', 'want get', 'want give', 'want give students', 'want go', 'want help', 'want keep', 'want know', 'want learn', 'want learn successful', 'want make', 'want make sure', 'want provide', 'want provide students', 'want read', 'want school', 'want school want', 'want see', 'want show', 'want sit', 'want students', 'want students able', 'want students feel', 'want students know', 'want succeed', 'want successful', 'want take', 'want teach', 'want use', 'want work', 'wanting learn', 'watch videos', 'water bottles', 'way get', 'way help', 'way hopeful', 'way hopeful inspire', 'way keep', 'way learn', 'way learning', 'way make', 'way not', 'way possible', 'way students', 'way students learn', 'way teach', 'ways help', 'ways keep', 'ways learn', 'ways learning', 'ways make', 'ways students', 'ways use', 'week students', 'well many', 'well rounded', 'well school', 'well students', 'white board', 'white boards', 'whole child', 'whole class', 'whole group', 'whole group instruction', 'whole group small', 'whole new', 'whole school', 'wide range', 'wide range abilities', 'wide variety', 'wiggle move', 'wiggle seats', 'wiggle work', 'willing learn', 'willing work', 'within classroom', 'within school', 'without distracting', 'wobble chair', 'wobble chairs', 'wobble cushions', 'wobble seats', 'wobble stools', 'wonderful group', 'wonderful school', 'wonderful students', 'word work', 'words students', 'work also', 'work best', 'work class', 'work classroom', 'work collaboratively', 'work cooperatively', 'work day', 'work done', 'work ethic', 'work every', 'work group', 'work groups', 'work hard', 'work hard every', 'work hard make', 'work harder', 'work help', 'work independently', 'work learn', 'work learning', 'work many', 'work math', 'work not', 'work one', 'work pace', 'work projects', 'work reading', 'work school', 'work skills', 'work small', 'work small groups', 'work space', 'work stations', 'work students', 'work team', 'work time', 'work title', 'work title school', 'work together', 'work towards', 'work well', 'worked hard', 'working class', 'working hard', 'working independently', 'working small', 'working small groups', 'working students', 'working together', 'working towards', 'works art', 'works best', 'works hard', 'world around', 'world around students', 'world around us', 'world better', 'world better place', 'world difference', 'world experiences', 'world learning', 'world live', 'world many', 'world outside', 'world problems', 'world school', 'world students', 'world technology', 'would able', 'would able use', 'would allow', 'would allow students', 'would allow us', 'would also', 'would also like', 'would beneficial', 'would benefit', 'would enable', 'would get', 'would give', 'would give students', 'would great', 'would greatly', 'would greatly benefit', 'would help', 'would help students', 'would like', 'would like able', 'would like create', 'would like give', 'would like provide', 'would like students', 'would like use', 'would love', 'would love able', 'would love provide', 'would love students', 'would make', 'would mean', 'would never', 'would not', 'would provide', 'would really', 'would use', 'would used', 'would wonderful', 'writer workshop', 'writing center', 'writing math', 'writing process', 'writing projects', 'writing reading', 'writing skills', 'writing students', 'year also', 'year class', 'year classroom', 'year first', 'year help', 'year learning', 'year long', 'year many', 'year many students', 'year need', 'year new', 'year not', 'year old', 'year old children', 'year old students', 'year olds', 'year school', 'year students', 'year teacher', 'year teaching', 'year want', 'year would', 'year would like', 'year year', 'years ago', 'years come', 'years old', 'years students', 'years teaching', 'yet students', 'yoga ball', 'yoga balls', 'yoga mats', 'york city', 'young adults', 'young age', 'young children', 'young learners', 'young men', 'young minds', 'young people', 'young readers', 'young students', 'younger siblings', 'younger students']\n"
     ]
    },
    {
     "name": "stdout",
     "output_type": "stream",
     "text": [
      "====================================================================================================\n"
     ]
    }
   ],
   "source": [
    "vectorizer = CountVectorizer(min_df=10, ngram_range=(2,3), max_features = 5000)\n",
    "vectorizer.fit(X_train['text'].values) \n",
    "\n",
    "# we use the fitted CountVectorizer to convert the text to vector\n",
    "X_train_text_bow = vectorizer.transform(X_train['text'].values)\n",
    "X_cv_text_bow = vectorizer.transform(X_cv['text'].values)\n",
    "X_test_text_bow = vectorizer.transform(X_test['text'].values)\n",
    "\n",
    "print(\"After vectorizations\")\n",
    "print(X_train_text_bow.shape, y_train.shape)\n",
    "print(X_cv_text_bow.shape, y_cv.shape)\n",
    "print(X_test_text_bow.shape, y_test.shape)\n",
    "print(vectorizer.get_feature_names())\n",
    "print(\"=\"*100)"
   ]
  },
  {
   "cell_type": "code",
   "execution_count": 64,
   "metadata": {},
   "outputs": [
    {
     "name": "stdout",
     "output_type": "stream",
     "text": [
      "After vectorizations\n",
      "(31420, 2576) (31420,)\n",
      "(15477, 2576) (15477,)\n",
      "(23100, 2576) (23100,)\n"
     ]
    },
    {
     "name": "stdout",
     "output_type": "stream",
     "text": [
      "['03 16', '05 03', '1st grade', '1st graders', '2016 2017', '21st century', '2nd grade', '2nd graders', '3d pens', '3d printer', '3d printing', '3rd grade', '3rd graders', '4th grade', '4th graders', '5th grade', '5th graders', '60 minutes', '6th grade', '7th grade', '7th graders', '8th grade', 'abc 123', 'about art', 'about it', 'about learning', 'about money', 'about our', 'about reading', 'about science', 'about that', 'about the', 'academic success', 'access technology', 'accessible all', 'achievement gap', 'active bodies', 'active brains', 'active classroom', 'active engagement', 'active healthy', 'active kids', 'active learners', 'active learning', 'active minds', 'active play', 'active recess', 'active seating', 'active students', 'active with', 'adventures reading', 'after flood', 'after school', 'ahead with', 'ai not', 'alive through', 'alive with', 'all aboard', 'all about', 'all around', 'all day', 'all ears', 'all hands', 'all kids', 'all learners', 'all readers', 'all students', 'all the', 'all together', 'all we', 'all year', 'alternate seating', 'alternative seating', 'amazing readers', 'amazing students', 'american revolution', 'an active', 'an adventure', 'an app', 'an apple', 'an ear', 'an easel', 'an ipad', 'an organized', 'anchor charts', 'and learn', 'and the', 'ap biology', 'ap calculus', 'apple day', 'apple ipad', 'apple today', 'apple tv', 'approach building', 'are all', 'are leaders', 'are learning', 'are not', 'are on', 'are ready', 'are the', 'are what', 'area rug', 'around room', 'around us', 'around world', 'art class', 'art classroom', 'art history', 'art integration', 'art learning', 'art math', 'art projects', 'art room', 'art science', 'art smart', 'art supplies', 'art technology', 'artists need', 'arts integration', 'arts students', 'as we', 'aspiring artists', 'assistive technology', 'at home', 'at our', 'at risk', 'at time', 'atpe member', 'audio books', 'author study', 'autism classroom', 'autism need', 'award winning', 'away from', 'awesome osmo', 'awesome readers', 'baby wobble', 'back basics', 'back kindergarten', 'back school', 'back to', 'balance ball', 'balancing act', 'ball chairs', 'bare necessities', 'based learning', 'basic classroom', 'basic needs', 'basic school', 'basic supplies', 'basketball team', 'bass clarinet', 'battle books', 'be active', 'be creative', 'be fit', 'be flexible', 'be fun', 'be gone', 'be healthy', 'be heard', 'be organized', 'bean bag', 'bean bags', 'become better', 'become fluent', 'become leaders', 'become readers', 'becoming better', 'beginning readers', 'being flexible', 'best learning', 'best seat', 'better future', 'better health', 'better learning', 'better readers', 'better than', 'better writers', 'beyond classroom', 'big books', 'big ideas', 'big learning', 'big screen', 'blast off', 'blended learning', 'board game', 'board games', 'bodies active', 'bodies healthy', 'bodies minds', 'bodies strong', 'body brain', 'boogie board', 'boogie boards', 'book bins', 'book boxes', 'book club', 'book clubs', 'book lovers', 'book nook', 'book series', 'book sets', 'book time', 'book worms', 'books 5th', 'books about', 'books all', 'books are', 'books big', 'books books', 'books build', 'books cd', 'books classroom', 'books eager', 'books for', 'books galore', 'books hands', 'books help', 'books inspire', 'books kids', 'books learning', 'books library', 'books life', 'books little', 'books make', 'books more', 'books my', 'books need', 'books needed', 'books new', 'books open', 'books our', 'books please', 'books read', 'books struggling', 'books students', 'books supplies', 'books that', 'books their', 'books to', 'books we', 'bounce into', 'bounce learn', 'bouncing into', 'bouncing our', 'bouncy bands', 'brain breaks', 'brain food', 'brain pop', 'brain power', 'brains bodies', 'brand new', 'breaking out', 'breakout edu', 'bridging gap', 'brighter future', 'bring color', 'bring learning', 'bring our', 'bring technology', 'bring us', 'bring world', 'bringing books', 'bringing color', 'bringing history', 'bringing learning', 'bringing our', 'bringing science', 'bringing technology', 'bringing world', 'bronx students', 'budding artists', 'build classroom', 'build future', 'build it', 'build our', 'building 21st', 'building better', 'building blocks', 'building brain', 'building brains', 'building bridges', 'building classroom', 'building community', 'building foundation', 'building future', 'building lifelong', 'building literacy', 'building love', 'building math', 'building our', 'building readers', 'building reading', 'building steam', 'building strong', 'bump set', 'busy bees', 'busy bodies', 'busy minds', 'but they', 'ca not', 'calling all', 'calming corner', 'camera action', 'camera needed', 'can be', 'can change', 'can code', 'can do', 'can go', 'can hear', 'can help', 'can learn', 'can make', 'can read', 'can see', 'can sit', 'can take', 'can we', 'can you', 'cannot lie', 'carpet ride', 'carpet time', 'center activities', 'center time', 'centered around', 'centered classroom', 'centered learning', 'century classroom', 'century learners', 'century learning', 'century skills', 'century students', 'century technology', 'chair pockets', 'chairs for', 'chairs help', 'change lives', 'change world', 'chapter books', 'charge our', 'charged up', 'charging station', 'chevron fuel', 'children autism', 'choice flexible', 'choice seating', 'choose seat', 'choose your', 'chrome book', 'chrome books', 'chromebook technology', 'chromebook time', 'chromebooks 21st', 'chromebooks all', 'chromebooks class', 'chromebooks classroom', 'chromebooks collaboration', 'chromebooks creativity', 'chromebooks for', 'chromebooks help', 'chromebooks kids', 'chromebooks learning', 'chromebooks math', 'chromebooks needed', 'chromebooks our', 'chromebooks rescue', 'chromebooks research', 'chromebooks special', 'circle time', 'city students', 'civil rights', 'class library', 'class need', 'class needs', 'class part', 'class set', 'class supplies', 'classroom 21st', 'classroom books', 'classroom carpet', 'classroom chromebook', 'classroom chromebooks', 'classroom community', 'classroom easel', 'classroom environment', 'classroom essentials', 'classroom flexible', 'classroom ipad', 'classroom is', 'classroom learning', 'classroom library', 'classroom materials', 'classroom necessities', 'classroom needs', 'classroom no', 'classroom organization', 'classroom part', 'classroom project', 'classroom reading', 'classroom redesign', 'classroom rug', 'classroom seating', 'classroom supplies', 'classroom technology', 'classroom with', 'clean healthy', 'clearly now', 'click away', 'closer look', 'coding our', 'coding with', 'cold outside', 'collaboration creativity', 'collaboration station', 'collaborative classroom', 'collaborative learning', 'college bound', 'college prep', 'college ready', 'college signing', 'color our', 'color printer', 'colorful classroom', 'colorful learning', 'colorful world', 'come alive', 'come life', 'come true', 'comes alive', 'comes life', 'comfortable classroom', 'comfortable learning', 'comfortable place', 'comfortable reading', 'comfortable seating', 'comfy classroom', 'comfy cozy', 'comfy learning', 'comfy reading', 'comfy seating', 'comic books', 'common core', 'community garden', 'community learners', 'computer lab', 'computer programming', 'computer science', 'connect us', 'connecting our', 'connecting with', 'cooking up', 'cool down', 'cool kids', 'cooperative learning', 'core strength', 'cozy carpet', 'cozy classroom', 'cozy comfy', 'cozy reading', 'cozy up', 'crazy about', 'crazy chromebooks', 'create art', 'create it', 'create learn', 'creating 21st', 'creating an', 'creating classroom', 'creating colorful', 'creating comfy', 'creating flexible', 'creating future', 'creating life', 'creating love', 'creating readers', 'creating student', 'creating with', 'creation station', 'creative classroom', 'creative kids', 'creative learners', 'creative learning', 'creative minds', 'creative seating', 'creative writers', 'creative writing', 'creativity critical', 'creativity with', 'critical thinkers', 'critical thinking', 'culturally relevant', 'culture classroom', 'curl up', 'current events', 'cutting edge', 'dancing our', 'dash dot', 'dash robots', 'data collection', 'day helps', 'day keeps', 'day long', 'deeper into', 'dell chromebook', 'deserving students', 'desks chairs', 'desperate need', 'desperately needed', 'developing love', 'differentiated learning', 'differentiated seating', 'digging deeper', 'digital age', 'digital citizens', 'digital classroom', 'digital divide', 'digital learning', 'digital literacy', 'digital storytelling', 'digital world', 'disc golf', 'discover world', 'ditch desks', 'diverse books', 'diverse classroom', 'diverse learners', 'do hokki', 'do it', 'do not', 'do we', 'do you', 'document camera', 'does not', 'dr seuss', 'dramatic play', 'dream work', 'drumming up', 'dry erase', 'drying rack', 'dual language', 'eager learners', 'eager readers', 'eager students', 'ear resistable', 'early childhood', 'early learning', 'early literacy', 'easel we', 'education class', 'education classroom', 'education equipment', 'education students', 'educational games', 'effective learning', 'ela math', 'elementary school', 'elementary students', 'emotional learning', 'empowering students', 'end year', 'endless possibilities', 'engage students', 'engaged learners', 'engaged learning', 'engaged minds', 'engagement learning', 'engaging books', 'engaging classroom', 'engaging interactive', 'engaging learning', 'engaging math', 'engaging minds', 'engaging students', 'engaging young', 'engineering design', 'engineering math', 'engineers need', 'english language', 'english learners', 'enhance learning', 'enhance our', 'enhancing learning', 'enhancing our', 'environmental science', 'equals success', 'equipment for', 'erase boards', 'erase markers', 'esl students', 'espa ol', 'essential learning', 'essential oils', 'even more', 'every child', 'every day', 'every student', 'everyday essentials', 'exceptional students', 'excited about', 'exciting books', 'exciting learning', 'exercise balls', 'expand our', 'expanding minds', 'expanding our', 'explore learn', 'explore world', 'exploring math', 'exploring our', 'exploring science', 'exploring the', 'exploring world', 'express yourself', 'extra extra', 'extra read', 'extra we', 'fabulous fourth', 'fairy tale', 'fake news', 'fall down', 'family fun', 'farm table', 'fiction books', 'fidget focus', 'field trip', 'field trips', 'fifth grade', 'fifth graders', 'fill our', 'financial literacy', 'find out', 'fine motor', 'finger tips', 'fire for', 'fire learning', 'fire reading', 'fire tablets', 'fire up', 'fired up', 'first century', 'first grade', 'first graders', 'first time', 'first year', 'fit all', 'fit fun', 'fitbits for', 'fitness fun', 'flex seating', 'flexible brains', 'flexible classroom', 'flexible fun', 'flexible learners', 'flexible learning', 'flexible minds', 'flexible seating', 'flexible seats', 'flexible thinking', 'flexing our', 'flood 2016', 'fluent readers', 'focus learning', 'focused learners', 'focused learning', 'focused minds', 'for all', 'for books', 'for every', 'for everyone', 'for first', 'for fitness', 'for flexible', 'for future', 'for kids', 'for kindergarten', 'for learning', 'for life', 'for little', 'for love', 'for me', 'for my', 'for new', 'for our', 'for reading', 'for science', 'for special', 'for students', 'for success', 'for the', 'force motion', 'foster love', 'fostering love', 'fourth grade', 'fourth graders', 'fresh start', 'friendly classroom', 'from the', 'fuel our', 'full ahead', 'full steam', 'full stem', 'fun again', 'fun engaging', 'fun everyone', 'fun fitness', 'fun flexible', 'fun for', 'fun games', 'fun in', 'fun learning', 'fun math', 'fun reading', 'fun way', 'fun while', 'fun with', 'future engineers', 'future leaders', 'future part', 'future readers', 'future scientists', 'future technology', 'future with', 'future writers', 'game on', 'gap one', 'garden grow', 'genius hour', 'get active', 'get ball', 'get comfortable', 'get comfy', 'get creative', 'get fired', 'get fit', 'get flexible', 'get kids', 'get moving', 'get organized', 'get our', 'get physical', 'get ready', 'get set', 'get smart', 'get started', 'get techy', 'get them', 'get up', 'get us', 'get wiggles', 'get your', 'getting active', 'getting comfy', 'getting creative', 'getting fit', 'getting organized', 'getting our', 'getting ready', 'getting wiggles', 'give me', 'give our', 'give students', 'give them', 'give us', 'giving students', 'global citizens', 'go away', 'go hand', 'go long', 'go on', 'go round', 'go with', 'going google', 'going green', 'going to', 'good book', 'good books', 'good health', 'good readers', 'google chromebooks', 'google classroom', 'google expeditions', 'google it', 'got mail', 'got to', 'grade chromebooks', 'grade class', 'grade classroom', 'grade flexible', 'grade learners', 'grade learning', 'grade math', 'grade mathematicians', 'grade needs', 'grade readers', 'grade reading', 'grade scholars', 'grade science', 'graders are', 'graders become', 'graders love', 'graders need', 'graders seeking', 'graders want', 'graphic novel', 'graphic novels', 'graphing calculators', 'great book', 'great books', 'great flood', 'great kids', 'great readers', 'great start', 'great students', 'green screen', 'green thumbs', 'gross motor', 'group instruction', 'group learning', 'group work', 'grow our', 'growing minds', 'growing our', 'growing readers', 'growth mindset', 'guided math', 'guided reading', 'hand hand', 'hands deck', 'hands learning', 'hands math', 'hands on', 'hands science', 'happy healthy', 'happy learners', 'hard work', 'harry potter', 'have ball', 'have fun', 'have seat', 'having ball', 'having fun', 'headphones help', 'headphones learning', 'headphones needed', 'health wellness', 'healthy active', 'healthy bodies', 'healthy choices', 'healthy eating', 'healthy foods', 'healthy habits', 'healthy kids', 'healthy learning', 'healthy lifestyle', 'healthy living', 'healthy minds', 'healthy snack', 'healthy snacks', 'healthy students', 'hear hear', 'hear it', 'hear me', 'hear us', 'hear what', 'hear ye', 'hear you', 'help bring', 'help bronx', 'help build', 'help create', 'help fill', 'help fund', 'help get', 'help keep', 'help kids', 'help learning', 'help make', 'help me', 'help my', 'help our', 'help special', 'help students', 'help support', 'help technology', 'help them', 'help us', 'help we', 'help with', 'help young', 'helping students', 'helping us', 'helps kids', 'helps students', 'helps us', 'here we', 'high interest', 'high needs', 'high poverty', 'high school', 'high tech', 'historical fiction', 'history come', 'history comes', 'history life', 'history through', 'hocus pocus', 'hokki pokey', 'hokki stools', 'home away', 'home our', 'home school', 'home sweet', 'hot dots', 'how do', 'how does', 'how to', 'human body', 'if they', 'if we', 'if you', 'ilearn ipad', 'ilearn ipads', 'imagination station', 'improve learning', 'improve our', 'improving our', 'in books', 'in class', 'in color', 'in first', 'in kinder', 'in kindergarten', 'in learning', 'in love', 'in my', 'in need', 'in our', 'in the', 'in with', 'income students', 'increase literacy', 'increase student', 'increasing literacy', 'increasing technology', 'independent learners', 'independent learning', 'independent readers', 'independent reading', 'individual learning', 'individualized instruction', 'individualized learning', 'indoor recess', 'infinity beyond', 'inner city', 'inquiring minds', 'inquisitive minds', 'inside out', 'inside outside', 'inspire learning', 'inspiring young', 'integrating art', 'integrating technology', 'interactive learning', 'interactive math', 'interactive notebooks', 'interactive science', 'interactive technology', 'interactive whiteboard', 'interest books', 'interest reading', 'into 21st', 'into classroom', 'into focus', 'into future', 'into learning', 'into our', 'into reading', 'into science', 'into the', 'ipad cases', 'ipad day', 'ipad learning', 'ipad mini', 'ipad minis', 'ipad needed', 'ipad pro', 'ipads 21st', 'ipads for', 'ipads learning', 'ipads make', 'ipads needed', 'ipads students', 'is an', 'is believing', 'is fun', 'is happy', 'is in', 'is it', 'is key', 'is not', 'is on', 'is our', 'is the', 'is what', 'is worth', 'it about', 'it all', 'it chrome', 'it fun', 'it just', 'it learn', 'it like', 'it more', 'it move', 'it now', 'it out', 'it read', 'it takes', 'it they', 'it time', 'it to', 'it up', 'it we', 'it with', 'its best', 'join us', 'just for', 'just keep', 'just need', 'just right', 'keep calm', 'keep it', 'keep learning', 'keep moving', 'keep our', 'keep students', 'keep us', 'keeping it', 'keeping kids', 'keeping my', 'keeping our', 'keeping students', 'keeping up', 'keeping us', 'keeps illiteracy', 'keeps us', 'key success', 'key to', 'kid friendly', 'kid inspired', 'kidney table', 'kids are', 'kids can', 'kids excited', 'kids get', 'kids learn', 'kids love', 'kids moving', 'kids need', 'kinder kids', 'kindergarten class', 'kindergarten classroom', 'kindergarten kids', 'kindergarten learning', 'kindergarten students', 'kindergarteners need', 'kindergartners need', 'kinders need', 'kindle fire', 'kindle fires', 'kinesthetic classroom', 'knowledge through', 'lab supplies', 'language arts', 'language classroom', 'language development', 'language learners', 'language learning', 'language skills', 'language through', 'laptops learning', 'leaders tomorrow', 'leaping into', 'learn about', 'learn best', 'learn better', 'learn create', 'learn english', 'learn grow', 'learn it', 'learn love', 'learn math', 'learn more', 'learn move', 'learn play', 'learn read', 'learn through', 'learn together', 'learn with', 'learners need', 'learners through', 'learning 21st', 'learning about', 'learning active', 'learning all', 'learning best', 'learning beyond', 'learning can', 'learning carpet', 'learning center', 'learning centers', 'learning chromebooks', 'learning classroom', 'learning code', 'learning color', 'learning come', 'learning digital', 'learning english', 'learning environment', 'learning experience', 'learning fire', 'learning flexible', 'learning for', 'learning fun', 'learning games', 'learning in', 'learning ipads', 'learning is', 'learning kindergarten', 'learning kindle', 'learning language', 'learning life', 'learning literacy', 'learning lounge', 'learning love', 'learning made', 'learning materials', 'learning math', 'learning more', 'learning motion', 'learning move', 'learning movement', 'learning moving', 'learning new', 'learning opportunities', 'learning osmo', 'learning our', 'learning part', 'learning play', 'learning read', 'learning reading', 'learning rug', 'learning space', 'learning stations', 'learning stem', 'learning styles', 'learning success', 'learning supplies', 'learning technology', 'learning the', 'learning through', 'learning time', 'learning to', 'learning together', 'learning tools', 'learning using', 'learning we', 'learning while', 'learning with', 'learning write', 'lego club', 'lego robotics', 'let be', 'let build', 'let create', 'let find', 'let get', 'let give', 'let go', 'let keep', 'let learn', 'let make', 'let me', 'let move', 'let play', 'let read', 'let start', 'let take', 'let talk', 'let target', 'let the', 'let them', 'let us', 'let work', 'let your', 'lets get', 'level playing', 'leveled books', 'leveled library', 'leveled readers', 'library books', 'library makerspace', 'library needs', 'life cycle', 'life cycles', 'life essentials', 'life is', 'life long', 'life science', 'life skills', 'life through', 'life with', 'lifelong learners', 'lifelong readers', 'light fire', 'light up', 'lights camera', 'like home', 'like move', 'like scientist', 'like to', 'listen learn', 'listen read', 'listen up', 'listening center', 'listening centers', 'listening ears', 'listening learn', 'listening learning', 'listening library', 'listening reading', 'literacy books', 'literacy center', 'literacy centers', 'literacy kindergarten', 'literacy learning', 'literacy math', 'literacy skills', 'literacy through', 'literature circles', 'literature life', 'little bit', 'little bits', 'little bodies', 'little engineers', 'little fingers', 'little hands', 'little learners', 'little minds', 'little ones', 'little readers', 'little scientists', 'little things', 'living skills', 'long learners', 'long readers', 'long way', 'louisiana flood', 'love art', 'love books', 'love for', 'love learn', 'love learning', 'love listen', 'love literacy', 'love literature', 'love of', 'love read', 'love reading', 'love science', 'love technology', 'love to', 'love with', 'loving literacy', 'low income', 'macbook air', 'made easy', 'made fun', 'magic carpet', 'magna tiles', 'magnetic letters', 'make art', 'make big', 'make classroom', 'make difference', 'make great', 'make it', 'make learning', 'make math', 'make music', 'make my', 'make our', 'make reading', 'make science', 'make students', 'make us', 'maker space', 'makes learning', 'makes our', 'makes perfect', 'makes us', 'makes world', 'makey makey', 'making connections', 'making difference', 'making history', 'making learning', 'making math', 'making music', 'making our', 'making reading', 'making students', 'manipulating math', 'marvelous math', 'materials for', 'materials needed', 'math center', 'math centers', 'math class', 'math classroom', 'math fun', 'math games', 'math learning', 'math literacy', 'math made', 'math madness', 'math makes', 'math mania', 'math manipulative', 'math manipulatives', 'math materials', 'math matters', 'math meaningful', 'math problems', 'math reading', 'math science', 'math skills', 'math stations', 'math success', 'math supplies', 'math technology', 'math through', 'math tools', 'mathematicians need', 'me get', 'me hear', 'me learn', 'me now', 'me see', 'me story', 'media center', 'media literacy', 'meeting area', 'meeting needs', 'mentor texts', 'middle school', 'middle schoolers', 'mind body', 'mind your', 'minds bodies', 'minds grow', 'minds need', 'minds through', 'minds with', 'mini ipads', 'modern classroom', 'modern day', 'more books', 'more fun', 'more movement', 'more reading', 'more technology', 'more than', 'more time', 'more you', 'morning tubs', 'motor skills', 'move groove', 'move it', 'move learn', 'move move', 'move while', 'movement classroom', 'movement learning', 'movers shakers', 'movin groovin', 'moving bodies', 'moving forward', 'moving get', 'moving grooving', 'moving kindergarten', 'moving learn', 'moving learning', 'moving towards', 'moving while', 'multi media', 'multi sensory', 'music class', 'music classroom', 'music makers', 'music movement', 'music program', 'music room', 'my class', 'my classroom', 'my eyes', 'my first', 'my firsties', 'my kids', 'my kinders', 'my learning', 'my little', 'my math', 'my own', 'my scholars', 'my space', 'my students', 'my way', 'my world', 'need 21st', 'need an', 'need art', 'need backpacks', 'need basic', 'need book', 'need books', 'need chromebooks', 'need classroom', 'need flexible', 'need headphones', 'need help', 'need home', 'need ink', 'need ipad', 'need ipads', 'need learn', 'need learning', 'need leveled', 'need listening', 'need little', 'need math', 'need more', 'need move', 'need new', 'need nonfiction', 'need of', 'need place', 'need printer', 'need projector', 'need read', 'need some', 'need special', 'need stem', 'need supplies', 'need tablets', 'need tech', 'need technology', 'need to', 'need wiggle', 'need wobble', 'need your', 'needed for', 'needed help', 'needed technology', 'needs all', 'needs books', 'needs classroom', 'needs help', 'needs students', 'needs technology', 'new beginning', 'new book', 'new books', 'new classroom', 'new desks', 'new furniture', 'new heights', 'new laptop', 'new learning', 'new readers', 'new rug', 'new school', 'new supplies', 'new teacher', 'new technology', 'new way', 'new world', 'new year', 'next generation', 'next level', 'no more', 'no place', 'non fiction', 'nonfiction books', 'not be', 'not fall', 'not have', 'not hear', 'not just', 'not let', 'not sit', 'not so', 'not wait', 'not your', 'novel study', 'now we', 'number sense', 'of the', 'off right', 'off the', 'oh my', 'oh places', 'oh the', 'old in', 'old school', 'on deck', 'on fire', 'on learning', 'on math', 'on move', 'on our', 'on rug', 'on science', 'on target', 'on the', 'on track', 'on way', 'on your', 'once upon', 'one book', 'one child', 'one chromebook', 'one computer', 'one easel', 'one one', 'one step', 'one student', 'online learning', 'opening our', 'optimal learning', 'oral language', 'organization key', 'organize our', 'organized classroom', 'organizing our', 'osmo genius', 'osmo learning', 'our art', 'our bodies', 'our books', 'our brain', 'our brains', 'our chromebooks', 'our class', 'our classroom', 'our community', 'our core', 'our creativity', 'our day', 'our ears', 'our education', 'our eyes', 'our favorite', 'our fingertips', 'our fire', 'our future', 'our garden', 'our goal', 'our hands', 'our health', 'our hearts', 'our history', 'our interactive', 'our ipads', 'our kids', 'our knowledge', 'our learning', 'our level', 'our library', 'our listening', 'our literacy', 'our lives', 'our math', 'our mind', 'our minds', 'our morning', 'our music', 'our new', 'our own', 'our reading', 'our school', 'our science', 'our seats', 'our skills', 'our space', 'our special', 'our stories', 'our students', 'our target', 'our technology', 'our thinking', 'our vocabulary', 'our voices', 'our way', 'our wiggles', 'our work', 'our world', 'our writing', 'out box', 'out classroom', 'out our', 'out with', 'out your', 'outdoor classroom', 'outdoor learning', 'outside classroom', 'owl pellets', 'paper oh', 'paper please', 'part ii', 'part two', 'passion reading', 'pe equipment', 'pedaling our', 'pencils paper', 'personal space', 'personalized learning', 'physical activity', 'physical education', 'physical fitness', 'picture books', 'picture is', 'picture this', 'picture worth', 'ping pong', 'place call', 'place everyone', 'place everything', 'place gather', 'place learn', 'place like', 'place read', 'place sit', 'place to', 'places we', 'places you', 'play ball', 'play kindergarten', 'play learn', 'play with', 'playground equipment', 'playing field', 'playing learn', 'please help', 'positive behavior', 'post it', 'power choice', 'power up', 'practice makes', 'pre students', 'pretend play', 'print it', 'printer ink', 'printer supplies', 'problem solvers', 'problem solving', 'project based', 'promote learning', 'protect our', 'protecting our', 'pump up', 'putting technology', 'quill you', 'rainy day', 'raspberry pi', 'ravenous readers', 'reach stars', 'read about', 'read all', 'read aloud', 'read alouds', 'read and', 'read book', 'read books', 'read it', 'read learn', 'read me', 'read more', 'read on', 'read our', 'read read', 'read succeed', 'read the', 'read to', 'read we', 'read with', 'read write', 'read you', 'reader tomorrow', 'reader workshop', 'readers are', 'readers become', 'readers make', 'readers need', 'readers one', 'readers with', 'readers writers', 'reading about', 'reading adventures', 'reading area', 'reading around', 'reading art', 'reading beyond', 'reading book', 'reading books', 'reading center', 'reading centers', 'reading challenge', 'reading comprehension', 'reading corner', 'reading fluency', 'reading fun', 'reading fundamental', 'reading good', 'reading group', 'reading help', 'reading intervention', 'reading is', 'reading learn', 'reading learning', 'reading library', 'reading life', 'reading listening', 'reading makes', 'reading materials', 'reading math', 'reading nook', 'reading our', 'reading program', 'reading project', 'reading resources', 'reading rocks', 'reading rug', 'reading skills', 'reading success', 'reading supplies', 'reading table', 'reading takes', 'reading technology', 'reading the', 'reading through', 'reading time', 'reading together', 'reading with', 'reading workshop', 'reading writing', 'ready go', 'ready learn', 'ready read', 'ready set', 'ready to', 'real life', 'real world', 'recess equipment', 'recess fun', 'recess is', 'reduce reuse', 'reluctant readers', 'resistable approach', 'resource room', 'resources needed', 'right books', 'road success', 'robotics coding', 'robotics team', 'robots coding', 'rock roll', 'rock stars', 'rockin readers', 'rocking reading', 'rug needed', 'safe place', 'safety first', 'save our', 'savvy learners', 'savvy students', 'say cheese', 'scholars need', 'scholastic magazines', 'scholastic math', 'scholastic news', 'school band', 'school classroom', 'school garden', 'school home', 'school library', 'school needs', 'school science', 'school store', 'school students', 'school success', 'school supplies', 'school wide', 'school year', 'science art', 'science center', 'science class', 'science classroom', 'science exploration', 'science fair', 'science fun', 'science hands', 'science lab', 'science labs', 'science learning', 'science life', 'science literacy', 'science materials', 'science math', 'science research', 'science social', 'science stem', 'science supplies', 'science technology', 'science through', 'science with', 'science world', 'scientists making', 'scientists need', 'scientists work', 'seat any', 'seat house', 'seat sacks', 'seating 21st', 'seating active', 'seating all', 'seating choices', 'seating classroom', 'seating first', 'seating firsties', 'seating flexible', 'seating focus', 'seating for', 'seating fun', 'seating help', 'seating helps', 'seating kindergarten', 'seating mrs', 'seating needed', 'seating optimal', 'seating options', 'seating our', 'seating part', 'seating personalized', 'seating project', 'seating second', 'seating student', 'seating students', 'seating success', 'seating the', 'seating to', 'seating wiggly', 'seats success', 'seats wiggly', 'second grade', 'second graders', 'see clearly', 'see it', 'see me', 'see what', 'see world', 'seeing believing', 'seeing world', 'self regulation', 'sensational sensory', 'sensory integration', 'sensory learning', 'sensory materials', 'sensory needs', 'sensory play', 'sensory room', 'sensory seating', 'sensory supplies', 'sensory supports', 'sensory tools', 'set go', 'set read', 'set spike', 'seventh grade', 'share it', 'share together', 'sharp pencils', 'shine bright', 'show me', 'show what', 'sight word', 'sight words', 'signing day', 'simple machines', 'simple supplies', 'simple things', 'sit back', 'sit down', 'sit flexible', 'sit stand', 'sit still', 'sitting pretty', 'sitting still', 'skills through', 'skills using', 'skills with', 'small group', 'small groups', 'smart board', 'smart students', 'snacks healthy', 'snacks to', 'snap circuits', 'snug bug', 'so much', 'so we', 'soccer team', 'social emotional', 'social justice', 'social skills', 'social studies', 'solving skills', 'some fun', 'some more', 'space everyone', 'space for', 'spanish books', 'spanish language', 'special ed', 'special education', 'special kids', 'special learners', 'special needs', 'special students', 'speech language', 'speech therapy', 'sports equipment', 'stability balls', 'stand learn', 'stand sit', 'stand up', 'standing desk', 'standing desks', 'standing up', 'start our', 'start school', 'start up', 'start with', 'start year', 'starter kit', 'starting year', 'stay active', 'stay fit', 'stay focused', 'stay healthy', 'stay organized', 'staying active', 'staying fit', 'steam ahead', 'steam learning', 'stem activities', 'stem ahead', 'stem centers', 'stem classroom', 'stem education', 'stem into', 'stem kits', 'stem learning', 'stem materials', 'stem project', 'stem projects', 'stem science', 'stem steam', 'stem students', 'stem tastic', 'step step', 'step time', 'step up', 'stepping up', 'stools active', 'stools wiggly', 'stories come', 'strong bodies', 'strong minds', 'strong readers', 'struggling learners', 'struggling readers', 'student achievement', 'student centered', 'student choice', 'student engagement', 'student growth', 'student inspired', 'student learning', 'student led', 'student needs', 'student success', 'student work', 'students are', 'students art', 'students autism', 'students become', 'students can', 'students disabilities', 'students engaged', 'students explore', 'students focus', 'students future', 'students get', 'students have', 'students in', 'students learn', 'students learning', 'students love', 'students need', 'students needs', 'students read', 'students reading', 'students seek', 'students shine', 'students special', 'students stand', 'students stay', 'students succeed', 'students success', 'students technology', 'students through', 'students to', 'students use', 'students want', 'students with', 'studies classroom', 'success with', 'successful learning', 'successful readers', 'successful students', 'successful year', 'summer reading', 'summer school', 'super readers', 'super science', 'super scientists', 'super seating', 'super second', 'super students', 'super supplies', 'supplies first', 'supplies for', 'supplies help', 'supplies need', 'supplies needed', 'supplies new', 'supplies oh', 'supplies please', 'supplies special', 'supplies students', 'supplies success', 'supplies successful', 'supplies super', 'supplies supplies', 'supplies that', 'supplies to', 'supply us', 'support learning', 'support our', 'support student', 'tables chairs', 'tablets for', 'tablets learning', 'take home', 'take look', 'take me', 'take seat', 'take us', 'take you', 'taking charge', 'target healthy', 'target learning', 'target movement', 'teach me', 'teach us', 'teacher needs', 'teaching easel', 'teaching tech', 'teaching technology', 'teaching through', 'teaching with', 'team building', 'team work', 'tech savvy', 'tech savy', 'tech tech', 'tech time', 'tech tools', 'technology 21st', 'technology all', 'technology art', 'technology boost', 'technology class', 'technology classroom', 'technology engineering', 'technology enhance', 'technology first', 'technology for', 'technology future', 'technology gap', 'technology hands', 'technology help', 'technology in', 'technology integration', 'technology into', 'technology is', 'technology key', 'technology kindergarten', 'technology knowledge', 'technology learning', 'technology makes', 'technology math', 'technology music', 'technology needed', 'technology our', 'technology part', 'technology please', 'technology pre', 'technology rocks', 'technology savvy', 'technology science', 'technology special', 'technology students', 'technology success', 'technology teaching', 'technology the', 'technology to', 'technology today', 'technology tools', 'technology we', 'terrific technology', 'than just', 'that bass', 'that is', 'that make', 'that will', 'the 21st', 'the art', 'the bare', 'the basics', 'the best', 'the book', 'the classroom', 'the day', 'the digital', 'the future', 'the giver', 'the great', 'the heart', 'the key', 'the learning', 'the library', 'the little', 'the love', 'the magic', 'the making', 'the more', 'the move', 'the music', 'the new', 'the next', 'the perfect', 'the places', 'the power', 'the right', 'the science', 'the sound', 'the students', 'the time', 'the way', 'the wiggles', 'the world', 'the write', 'their fingertips', 'their hands', 'their own', 'their world', 'therapy materials', 'there no', 'they can', 'they do', 'they learn', 'they need', 'they will', 'they work', 'thinking skills', 'thinking through', 'thinking with', 'third grade', 'third graders', 'those who', 'thousand words', 'through art', 'through books', 'through current', 'through doing', 'through eyes', 'through flexible', 'through hands', 'through interactive', 'through listening', 'through literacy', 'through literature', 'through math', 'through movement', 'through music', 'through our', 'through play', 'through reading', 'through robotics', 'through science', 'through small', 'through stem', 'through technology', 'through the', 'through world', 'through writing', 'ti 84', 'time for', 'time get', 'time kids', 'time learn', 'time read', 'time time', 'time to', 'to be', 'to build', 'to do', 'to get', 'to go', 'to hear', 'to help', 'to infinity', 'to learn', 'to learning', 'to life', 'to move', 'to my', 'to our', 'to read', 'to school', 'to see', 'to sit', 'to stand', 'to start', 'to succeed', 'to success', 'to the', 'today keeps', 'today reader', 'today technology', 'together learn', 'together we', 'together with', 'tomorrow leader', 'tomorrow leaders', 'tools for', 'tools success', 'toon books', 'toon graphics', 'towards success', 'tracking our', 'travel world', 'twenty first', 'up close', 'up first', 'up for', 'up good', 'up learn', 'up learning', 'up math', 'up new', 'up our', 'up reading', 'up some', 'up success', 'up to', 'up up', 'up volume', 'up with', 'updated technology', 'us active', 'us be', 'us become', 'us bounce', 'us bring', 'us build', 'us create', 'us explore', 'us focus', 'us get', 'us grow', 'us hear', 'us keep', 'us learn', 'us learning', 'us make', 'us move', 'us moving', 'us on', 'us organize', 'us play', 'us read', 'us see', 'us soar', 'us some', 'us start', 'us stay', 'us succeed', 'us take', 'us up', 'us we', 'us wiggle', 'us with', 'use technology', 'using ipads', 'using our', 'using stem', 'using technology', 'utilizing technology', 'video games', 'video production', 'virtual reality', 'visual arts', 'visual learners', 'visual learning', 'voracious readers', 'want be', 'want go', 'want know', 'want learn', 'want move', 'want read', 'want to', 'watch me', 'watch us', 'water bottles', 'wave future', 'way better', 'way into', 'way learn', 'way learning', 'way success', 'way through', 'way to', 'ways learn', 'we all', 'we are', 'we ca', 'we can', 'we cannot', 'we come', 'we do', 'we get', 'we go', 'we going', 'we got', 'we grow', 'we have', 'we just', 'we know', 'we learn', 'we like', 'we love', 'we move', 'we need', 'we not', 'we play', 'we read', 'we want', 'we will', 'we wobble', 'we work', 'we would', 'what can', 'what cooking', 'what hear', 'what it', 'what we', 'what you', 'when we', 'when you', 'where it', 'while learning', 'while moving', 'while reading', 'while they', 'while we', 'while working', 'while you', 'white board', 'white boards', 'who says', 'who was', 'whole group', 'whole new', 'wiggle chairs', 'wiggle learn', 'wiggle move', 'wiggle room', 'wiggle seats', 'wiggle while', 'wiggle wiggle', 'wiggle wobble', 'wiggle work', 'wiggle worms', 'wiggle your', 'wiggles out', 'wiggling our', 'wiggling while', 'wiggling wobbling', 'wiggly kids', 'wiggly learners', 'wiggly students', 'wiggly wobbly', 'wild about', 'will be', 'will come', 'will go', 'will help', 'will keep', 'will learn', 'will make', 'will read', 'window world', 'wireless headphones', 'with 3d', 'with art', 'with autism', 'with books', 'with chrome', 'with chromebook', 'with chromebooks', 'with classroom', 'with dash', 'with disabilities', 'with flexible', 'with games', 'with good', 'with high', 'with hokki', 'with ipad', 'with ipads', 'with kindle', 'with learning', 'with lego', 'with legos', 'with math', 'with me', 'with movement', 'with music', 'with my', 'with new', 'with one', 'with osmo', 'with our', 'with purpose', 'with quill', 'with reading', 'with special', 'with stem', 'with supplies', 'with tablets', 'with technology', 'with the', 'with us', 'with words', 'with world', 'with your', 'without technology', 'wo not', 'wobble baby', 'wobble but', 'wobble chairs', 'wobble learn', 'wobble move', 'wobble stools', 'wobble while', 'wobble wiggle', 'wobble wobble', 'wobble work', 'wobbling our', 'wonderful world', 'wonderful writers', 'word work', 'work hard', 'work part', 'work space', 'working together', 'world around', 'world go', 'world history', 'world learning', 'world math', 'world one', 'world our', 'world reading', 'world technology', 'world through', 'world with', 'worth thousand', 'would be', 'would love', 'would you', 'write on', 'write share', 'write stuff', 'write way', 'write wipe', 'writer workshop', 'writers need', 'writing center', 'writing centers', 'writing math', 'writing reading', 'writing skills', 'writing supplies', 'writing through', 'ye hear', 'year new', 'year off', 'year right', 'year teacher', 'yes please', 'yes we', 'yoga balls', 'yoga mats', 'you build', 'you can', 'you give', 'you go', 'you got', 'you have', 'you hear', 'you help', 'you know', 'you learn', 'you me', 'you need', 'you read', 'you see', 'you will', 'you work', 'young artists', 'young authors', 'young learners', 'young minds', 'young readers', 'young scientists', 'your body', 'your brain', 'your feet', 'your hands', 'your heart', 'your help', 'your imagination', 'your mind', 'your own', 'your pants', 'your seat', 'your way', 'your wiggles']\n"
     ]
    },
    {
     "name": "stdout",
     "output_type": "stream",
     "text": [
      "====================================================================================================\n"
     ]
    }
   ],
   "source": [
    "vectorizer = CountVectorizer(min_df = 5, ngram_range=(2,2), max_features=5000)\n",
    "vectorizer.fit(X_train['project_title'].values.astype('U')) # fit has to happen only on train data\n",
    "\n",
    "# we use the fitted CountVectorizer to convert the text to vector\n",
    "\n",
    "X_train_title_bow = vectorizer.transform(X_train['project_title'].values.astype('U'))\n",
    "X_cv_title_bow = vectorizer.transform(X_cv['project_title'].values.astype('U'))\n",
    "X_test_title_bow = vectorizer.transform(X_test['project_title'].values.astype('U'))\n",
    "\n",
    "print(\"After vectorizations\")\n",
    "print(X_train_title_bow.shape, y_train.shape)\n",
    "print(X_cv_title_bow.shape, y_cv.shape)\n",
    "print(X_test_title_bow.shape, y_test.shape)\n",
    "print(vectorizer.get_feature_names())\n",
    "print(\"=\"*100)"
   ]
  },
  {
   "cell_type": "markdown",
   "metadata": {
    "colab_type": "text",
    "id": "gK_SHRpTCyol"
   },
   "source": [
    "####  TFIDF vectorizer"
   ]
  },
  {
   "cell_type": "code",
   "execution_count": 65,
   "metadata": {},
   "outputs": [
    {
     "name": "stdout",
     "output_type": "stream",
     "text": [
      "After vectorizations\n",
      "(31420, 10081) (31420,)\n",
      "(15477, 10081) (15477,)\n",
      "(23100, 10081) (23100,)\n"
     ]
    },
    {
     "name": "stdout",
     "output_type": "stream",
     "text": [
      "['00', '000', '10', '100', '1000', '101', '103', '10th', '11', '110', '1100', '11th', '12', '120', '1200', '125', '12th', '13', '130', '1300', '14', '140', '1400', '15', '150', '1500', '15th', '16', '160', '1600', '17', '170', '18', '180', '1800', '19', '1st', '20', '200', '2000', '2003', '2004', '2005', '2007', '2008', '2009', '2010', '2011', '2012', '2013', '2014', '2015', '2016', '2017', '2018', '20th', '21', '21st', '22', '23', '24', '25', '250', '26', '27', '270', '28', '280', '29', '2d', '2nd', '30', '300', '3000', '31', '32', '320', '33', '34', '35', '350', '36', '360', '365', '37', '38', '39', '3d', '3doodler', '3doodlers', '3rd', '40', '400', '41', '42', '43', '44', '45', '450', '46', '47', '48', '480', '49', '4k', '4th', '50', '500', '504', '51', '52', '53', '54', '55', '550', '56', '560', '57', '58', '59', '5k', '5th', '60', '600', '61', '62', '63', '64', '65', '650', '66', '67', '68', '69', '6th', '70', '700', '71', '72', '73', '74', '75', '750', '76', '77', '78', '79', '7th', '80', '800', '81', '82', '83', '84', '85', '850', '86', '87', '88', '89', '8th', '90', '900', '91', '92', '93', '94', '95', '950', '96', '97', '98', '99', '9th', 'abandoned', 'abc', 'abcmouse', 'abcs', 'abcya', 'abdominal', 'abilities', 'ability', 'able', 'abled', 'abound', 'abraham', 'abreast', 'absence', 'absences', 'absent', 'absenteeism', 'absolute', 'absolutely', 'absorb', 'absorbed', 'absorbing', 'abstract', 'abstractly', 'abundance', 'abundant', 'abuse', 'abused', 'academia', 'academic', 'academically', 'academics', 'academies', 'academy', 'accelerate', 'accelerated', 'acceleration', 'accept', 'acceptable', 'acceptance', 'accepted', 'accepting', 'accepts', 'access', 'accessed', 'accessibility', 'accessible', 'accessing', 'accessories', 'accessory', 'accident', 'accidentally', 'accidents', 'accolades', 'accommodate', 'accommodated', 'accommodates', 'accommodating', 'accommodation', 'accommodations', 'accompanied', 'accompaniment', 'accompany', 'accompanying', 'accomplish', 'accomplished', 'accomplishing', 'accomplishment', 'accomplishments', 'according', 'accordingly', 'account', 'accountability', 'accountable', 'accounts', 'accredited', 'accumulate', 'accumulated', 'accuracy', 'accurate', 'accurately', 'accustomed', 'ace', 'acer', 'achievable', 'achieve', 'achieved', 'achievement', 'achievements', 'achiever', 'achievers', 'achieving', 'acknowledge', 'acknowledged', 'acquire', 'acquired', 'acquiring', 'acquisition', 'acres', 'across', 'acrylic', 'act', 'acting', 'action', 'actions', 'activate', 'activating', 'active', 'actively', 'activism', 'activites', 'activities', 'activity', 'actor', 'actors', 'acts', 'actual', 'actually', 'ad', 'adapt', 'adaptable', 'adaptation', 'adaptations', 'adapted', 'adapter', 'adapters', 'adapting', 'adaptive', 'add', 'added', 'addicted', 'adding', 'addition', 'additional', 'additionally', 'additions', 'address', 'addressed', 'addresses', 'addressing', 'adds', 'adept', 'adequate', 'adequately', 'adhd', 'adhere', 'adhesive', 'adjacent', 'adjectives', 'adjust', 'adjustable', 'adjusted', 'adjusting', 'adjustment', 'adjustments', 'administered', 'administration', 'administrative', 'administrator', 'administrators', 'admirable', 'admire', 'admission', 'admit', 'admitted', 'adobe', 'adolescence', 'adolescent', 'adolescents', 'adopt', 'adopted', 'adopting', 'adoption', 'adorable', 'adore', 'adult', 'adulthood', 'adults', 'advance', 'advanced', 'advancement', 'advancements', 'advances', 'advancing', 'advantage', 'advantaged', 'advantages', 'adventure', 'adventures', 'adventurous', 'adverse', 'adversely', 'adversities', 'adversity', 'advertise', 'advertisements', 'advertising', 'advice', 'advise', 'advisor', 'advisory', 'advocacy', 'advocate', 'advocates', 'advocating', 'aerobic', 'aesthetic', 'aesthetically', 'aesthetics', 'affect', 'affected', 'affecting', 'affection', 'affectionate', 'affective', 'affects', 'affiliated', 'affirm', 'affluent', 'afford', 'affordable', 'afforded', 'affording', 'affords', 'afghanistan', 'afloat', 'aforementioned', 'afraid', 'africa', 'african', 'afternoon', 'afternoons', 'afterschool', 'afterward', 'afterwards', 'age', 'aged', 'agencies', 'agency', 'agenda', 'agents', 'ages', 'aggression', 'aggressive', 'agility', 'aging', 'ago', 'agree', 'agreed', 'agreement', 'agricultural', 'agriculture', 'ah', 'aha', 'ahead', 'aid', 'aide', 'aided', 'aides', 'aiding', 'aids', 'aig', 'aim', 'aimed', 'aiming', 'aims', 'air', 'airplane', 'airplanes', 'airport', 'aka', 'al', 'alabama', 'alarm', 'alaska', 'alaskan', 'albert', 'alcohol', 'alert', 'alertness', 'alexa', 'alexander', 'algebra', 'algebraic', 'algeria', 'algorithms', 'align', 'aligned', 'alignment', 'aligns', 'alike', 'alive', 'allergies', 'alleviate', 'allocated', 'allotted', 'allow', 'allowance', 'allowed', 'allowing', 'allows', 'almost', 'alone', 'along', 'alongside', 'alot', 'aloud', 'alouds', 'alphabet', 'already', 'also', 'alter', 'alternate', 'alternative', 'alternatives', 'although', 'alto', 'altogether', 'alumni', 'always', 'amaze', 'amazed', 'amazement', 'amazes', 'amazing', 'amazingly', 'amazon', 'ambassadors', 'ambition', 'ambitions', 'ambitious', 'america', 'american', 'americans', 'amharic', 'amidst', 'among', 'amongst', 'amount', 'amounts', 'amp', 'ample', 'amplification', 'amplified', 'amplify', 'amusing', 'analysis', 'analytical', 'analyze', 'analyzed', 'analyzing', 'anatomy', 'ancestors', 'ancestry', 'anchor', 'anchorage', 'anchors', 'ancient', 'anderson', 'andrew', 'android', 'andy', 'angeles', 'angelou', 'anger', 'angle', 'angles', 'angry', 'animal', 'animals', 'animate', 'animated', 'animation', 'animations', 'anne', 'annotate', 'annotating', 'annotation', 'announce', 'announcement', 'announcements', 'annual', 'annually', 'anonymous', 'another', 'answer', 'answered', 'answering', 'answers', 'ant', 'anti', 'anticipate', 'anticipated', 'anticipating', 'anticipation', 'antiquated', 'antonio', 'antonyms', 'ants', 'antsy', 'anxieties', 'anxiety', 'anxious', 'anxiously', 'anybody', 'anymore', 'anyone', 'anything', 'anytime', 'anyway', 'anywhere', 'ap', 'apart', 'apartment', 'apartments', 'app', 'appalachia', 'appalachian', 'apparent', 'appeal', 'appealing', 'appeals', 'appear', 'appearance', 'appears', 'appetite', 'apple', 'apples', 'applesauce', 'appliances', 'applicable', 'application', 'applications', 'applied', 'applies', 'apply', 'applying', 'appreciate', 'appreciated', 'appreciates', 'appreciating', 'appreciation', 'appreciative', 'apprehensive', 'approach', 'approachable', 'approached', 'approaches', 'approaching', 'appropriate', 'appropriately', 'approval', 'approved', 'approx', 'approximately', 'apps', 'april', 'aprons', 'aps', 'apt', 'aptitude', 'aquarium', 'aquatic', 'ar', 'arabic', 'archery', 'architect', 'architects', 'architectural', 'architecture', 'arctic', 'arduino', 'arduous', 'area', 'areas', 'arena', 'arguably', 'argue', 'arguing', 'argument', 'argumentative', 'arguments', 'arise', 'arises', 'aristotle', 'arithmetic', 'arizona', 'arkansas', 'arm', 'armed', 'arms', 'army', 'around', 'arrange', 'arranged', 'arrangement', 'arrangements', 'array', 'arrays', 'arrival', 'arrivals', 'arrive', 'arrived', 'arrives', 'arriving', 'art', 'article', 'articles', 'articulate', 'articulation', 'artifact', 'artifacts', 'artificial', 'artist', 'artistic', 'artistically', 'artists', 'arts', 'artwork', 'artworks', 'asd', 'ashamed', 'asia', 'asian', 'asians', 'aside', 'ask', 'asked', 'asking', 'asks', 'asl', 'asleep', 'aspect', 'aspects', 'aspirations', 'aspire', 'aspiring', 'assemble', 'assembled', 'assemblies', 'assembly', 'assess', 'assessed', 'assessing', 'assessment', 'assessments', 'asset', 'assets', 'assign', 'assigned', 'assigning', 'assignment', 'assignments', 'assimilate', 'assist', 'assistance', 'assistant', 'assistants', 'assisted', 'assisting', 'assistive', 'assists', 'associate', 'associated', 'association', 'assorted', 'assortment', 'assume', 'assure', 'assured', 'astound', 'astounded', 'astounding', 'astronaut', 'astronauts', 'astronomy', 'asus', 'ate', 'athlete', 'athletes', 'athletic', 'athletically', 'athletics', 'atlanta', 'atlases', 'atmosphere', 'atom', 'atoms', 'attach', 'attached', 'attaching', 'attack', 'attain', 'attainable', 'attaining', 'attempt', 'attempted', 'attempting', 'attempts', 'attend', 'attendance', 'attended', 'attending', 'attends', 'attention', 'attentive', 'attentively', 'attentiveness', 'attire', 'attitude', 'attitudes', 'attract', 'attracted', 'attractive', 'attribute', 'attributes', 'audible', 'audience', 'audiences', 'audio', 'audiobooks', 'audition', 'auditorium', 'auditory', 'augment', 'augmentative', 'augmented', 'august', 'aunt', 'aunts', 'aural', 'austin', 'authentic', 'authentically', 'author', 'authority', 'authors', 'autism', 'autistic', 'auto', 'autobiography', 'automatic', 'automatically', 'automaticity', 'autonomous', 'autonomy', 'availability', 'available', 'avenue', 'avenues', 'average', 'averages', 'avid', 'avoid', 'avoiding', 'await', 'awaiting', 'awaits', 'awake', 'awaken', 'award', 'awarded', 'awards', 'aware', 'awareness', 'away', 'awe', 'awesome', 'awesomeness', 'awful', 'awhile', 'awkward', 'az', 'babies', 'baby', 'babysitting', 'baccalaureate', 'back', 'backbone', 'backdrop', 'backdrops', 'backed', 'background', 'backgrounds', 'backpack', 'backpacks', 'backpatter', 'backs', 'backwards', 'backyard', 'bacteria', 'bad', 'badly', 'badminton', 'bag', 'baggage', 'baggies', 'bags', 'bake', 'baked', 'baking', 'balance', 'balanced', 'balances', 'balancing', 'ball', 'ballet', 'balloon', 'balloons', 'balls', 'baltimore', 'band', 'bands', 'bang', 'bangladesh', 'bank', 'banks', 'bar', 'bare', 'barely', 'barrier', 'barriers', 'bars', 'basal', 'base', 'baseball', 'based', 'bases', 'basic', 'basically', 'basics', 'basis', 'basket', 'basketball', 'basketballs', 'baskets', 'bass', 'bat', 'batch', 'bath', 'bathroom', 'baton', 'bats', 'batteries', 'battery', 'batting', 'battle', 'battles', 'battling', 'bay', 'beach', 'beaches', 'beacon', 'beads', 'beakers', 'beam', 'beaming', 'beams', 'bean', 'beanbag', 'beanbags', 'beans', 'bear', 'bears', 'beat', 'beating', 'beats', 'beautiful', 'beautifully', 'beautify', 'beauty', 'became', 'become', 'becomes', 'becoming', 'bed', 'bedding', 'bedroom', 'beds', 'bedtime', 'bee', 'bees', 'beethoven', 'beg', 'began', 'begged', 'begging', 'begin', 'beginner', 'beginners', 'beginning', 'beginnings', 'begins', 'begun', 'behalf', 'behave', 'behaved', 'behavior', 'behavioral', 'behaviorally', 'behaviors', 'behind', 'behold', 'beings', 'belief', 'beliefs', 'believe', 'believed', 'believer', 'believers', 'believes', 'believing', 'bell', 'bellies', 'bells', 'belly', 'belong', 'belonging', 'belongings', 'belongs', 'beloved', 'belt', 'belts', 'ben', 'bench', 'benches', 'benchmark', 'benchmarks', 'bend', 'bending', 'beneath', 'beneficial', 'benefit', 'benefited', 'benefiting', 'benefits', 'bengali', 'benjamin', 'bent', 'bernardino', 'beside', 'besides', 'best', 'bet', 'better', 'bettering', 'beyond', 'bi', 'bias', 'biased', 'bicultural', 'bicycle', 'bicycles', 'big', 'bigger', 'biggest', 'bike', 'bikes', 'bilingual', 'bilingualism', 'biliterate', 'bill', 'bills', 'billy', 'bin', 'bind', 'binder', 'binders', 'binding', 'bingo', 'binoculars', 'bins', 'biographies', 'biography', 'biological', 'biology', 'biomedical', 'biomes', 'biotechnology', 'bird', 'birds', 'birth', 'birthday', 'birthdays', 'bit', 'bits', 'black', 'blacktop', 'blame', 'blank', 'blanket', 'blankets', 'blast', 'bleak', 'blend', 'blended', 'blender', 'blending', 'blends', 'bless', 'blessed', 'blessing', 'blessings', 'blind', 'block', 'blocking', 'blocks', 'blog', 'blogging', 'blogs', 'blood', 'bloom', 'blossom', 'blossoming', 'blow', 'blowing', 'blown', 'blue', 'blueprints', 'bluetooth', 'blurry', 'board', 'boarding', 'boards', 'boast', 'boasts', 'boat', 'boats', 'bodies', 'bodily', 'body', 'boisterous', 'bold', 'bolster', 'bolts', 'bombarded', 'bond', 'bonding', 'bonds', 'bone', 'bones', 'bonus', 'boogie', 'book', 'bookcase', 'bookcases', 'booked', 'bookmarks', 'books', 'bookshelf', 'bookshelves', 'bookstore', 'boom', 'boomwhackers', 'boost', 'booster', 'boosting', 'boosts', 'boot', 'booth', 'border', 'borders', 'bored', 'boredom', 'boring', 'born', 'borough', 'boroughs', 'borrow', 'borrowed', 'borrowing', 'boston', 'bosu', 'bot', 'botany', 'bother', 'bothering', 'bots', 'bottle', 'bottled', 'bottles', 'bottom', 'bottoms', 'bought', 'bounce', 'bounced', 'bouncing', 'bouncy', 'bound', 'boundaries', 'boundary', 'boundless', 'bounds', 'bowl', 'bowling', 'bowls', 'bows', 'box', 'boxes', 'boy', 'boys', 'bracelets', 'bracket', 'brag', 'braille', 'brain', 'brainpop', 'brains', 'brainstorm', 'brainstormed', 'brainstorming', 'branch', 'branches', 'brand', 'brass', 'brave', 'bravery', 'brazil', 'bread', 'break', 'breakdown', 'breakfast', 'breakfasts', 'breaking', 'breakout', 'breakoutedu', 'breaks', 'breath', 'breathe', 'breathing', 'breeds', 'breeze', 'brick', 'bricks', 'bridge', 'bridgeport', 'bridges', 'bridging', 'brief', 'bright', 'brighten', 'brighter', 'brightest', 'brightly', 'brightness', 'brilliance', 'brilliant', 'brim', 'brimming', 'bring', 'bringing', 'brings', 'broad', 'broadcast', 'broaden', 'broadening', 'broader', 'broadway', 'brochures', 'broke', 'broken', 'bronx', 'brooklyn', 'brother', 'brothers', 'brought', 'brown', 'browse', 'browsing', 'brush', 'brushes', 'brushing', 'bubble', 'bubbles', 'bubbling', 'bubbly', 'bucket', 'buckets', 'bucks', 'buddies', 'budding', 'buddy', 'budget', 'budgetary', 'budgeting', 'budgets', 'buds', 'buffalo', 'bug', 'bugs', 'build', 'builder', 'builders', 'building', 'buildings', 'builds', 'built', 'bulb', 'bulbs', 'bulk', 'bulky', 'bulldog', 'bulldogs', 'bulletin', 'bullied', 'bullying', 'bump', 'bumping', 'bumps', 'bumpy', 'bunch', 'bundle', 'bundles', 'bungee', 'burden', 'burdened', 'burdens', 'burma', 'burmese', 'burn', 'burned', 'burner', 'burning', 'burns', 'burst', 'bursting', 'bus', 'bused', 'buses', 'busily', 'business', 'businesses', 'busing', 'bussed', 'bustling', 'busy', 'butcher', 'butler', 'butter', 'butterflies', 'butterfly', 'button', 'buttons', 'buy', 'buying', 'buzz', 'buzzers', 'buzzing', 'bye', 'byod', 'ca', 'cabinet', 'cabinets', 'cable', 'cables', 'cad', 'caddies', 'caddy', 'cafe', 'cafeteria', 'cage', 'cake', 'cakes', 'calculate', 'calculating', 'calculation', 'calculations', 'calculator', 'calculators', 'calculus', 'calendar', 'caliber', 'california', 'calkins', 'call', 'called', 'calling', 'calls', 'calm', 'calmer', 'calming', 'calmness', 'calorie', 'calories', 'cam', 'camaraderie', 'cambodia', 'camden', 'came', 'camera', 'cameras', 'camp', 'campaign', 'campers', 'camping', 'camps', 'campus', 'campuses', 'cancel', 'canceling', 'cancelled', 'cancelling', 'cancer', 'candidates', 'candy', 'cannot', 'canon', 'cans', 'cant', 'cantonese', 'canvas', 'canvases', 'canyon', 'cap', 'capabilities', 'capability', 'capable', 'capacities', 'capacity', 'cape', 'capita', 'capital', 'capitalize', 'capitol', 'caps', 'capstone', 'captain', 'captions', 'captivate', 'captivated', 'captivating', 'capture', 'captured', 'captures', 'capturing', 'car', 'carbon', 'card', 'cardboard', 'cardio', 'cardiovascular', 'cards', 'cardstock', 'care', 'cared', 'career', 'careers', 'carefree', 'careful', 'carefully', 'caregiver', 'caregivers', 'cares', 'caretakers', 'caribbean', 'caring', 'carl', 'carnegie', 'carnival', 'carol', 'carolina', 'carpet', 'carpeted', 'carpets', 'carried', 'carries', 'carrots', 'carry', 'carrying', 'cars', 'cart', 'cartoon', 'cartoons', 'cartridge', 'cartridges', 'carts', 'carving', 'case', 'caseload', 'cases', 'cash', 'cassette', 'cassettes', 'cast', 'casting', 'castle', 'cat', 'catalog', 'catalyst', 'catapults', 'catch', 'catches', 'catching', 'catchy', 'categorical', 'categories', 'categorize', 'categorized', 'category', 'cater', 'catered', 'catering', 'caterpillar', 'caterpillars', 'caters', 'caucasian', 'caught', 'cause', 'caused', 'causes', 'causing', 'ccss', 'cd', 'cds', 'cease', 'ceases', 'ceiling', 'celebrate', 'celebrated', 'celebrates', 'celebrating', 'celebration', 'celebrations', 'cell', 'cells', 'cellular', 'cement', 'cent', 'center', 'centered', 'centers', 'central', 'centuries', 'century', 'ceo', 'ceramic', 'ceramics', 'cereal', 'cerebral', 'ceremony', 'certain', 'certainly', 'certificate', 'certificates', 'certification', 'certified', 'chain', 'chains', 'chair', 'chairs', 'chalk', 'chalkboard', 'challenge', 'challenged', 'challenges', 'challenging', 'champion', 'champions', 'championship', 'chance', 'chances', 'change', 'changed', 'changer', 'changers', 'changes', 'changing', 'channel', 'channeling', 'channels', 'chant', 'chants', 'chaos', 'chaotic', 'chapter', 'chapters', 'character', 'characteristic', 'characteristics', 'characterization', 'characterized', 'characters', 'charge', 'charged', 'charger', 'chargers', 'charging', 'charismatic', 'charities', 'charity', 'charles', 'charleston', 'charlotte', 'charm', 'charming', 'chart', 'charter', 'charting', 'charts', 'chase', 'chasing', 'chat', 'chatter', 'chatting', 'chatty', 'cheap', 'cheaper', 'check', 'checked', 'checking', 'checklist', 'checkout', 'checks', 'cheer', 'cheerful', 'cheering', 'cheerleader', 'cheerleaders', 'cheerleading', 'cheers', 'cheese', 'chef', 'chefs', 'chemical', 'chemicals', 'chemistry', 'cherish', 'cherished', 'chess', 'chest', 'chevron', 'chew', 'chicago', 'chick', 'chicken', 'chickens', 'chicks', 'child', 'childcare', 'childhood', 'children', 'childrens', 'chill', 'chime', 'chimes', 'china', 'chinatown', 'chinese', 'chip', 'chips', 'chocolate', 'choice', 'choices', 'choir', 'choirs', 'choose', 'chooses', 'choosing', 'choral', 'chord', 'chords', 'chore', 'choreography', 'chores', 'chorus', 'chose', 'chosen', 'christmas', 'chrome', 'chromebook', 'chromebooks', 'chronic', 'chronically', 'chunk', 'chunks', 'church', 'churches', 'circle', 'circles', 'circuit', 'circuitry', 'circuits', 'circular', 'circulation', 'circulatory', 'circumstance', 'circumstances', 'cite', 'cities', 'citing', 'citizen', 'citizens', 'citizenship', 'city', 'civic', 'civics', 'civil', 'civilization', 'civilizations', 'claim', 'claims', 'clamoring', 'clap', 'clarify', 'clarinet', 'clarinets', 'clarity', 'clark', 'class', 'classdojo', 'classes', 'classic', 'classical', 'classics', 'classification', 'classified', 'classify', 'classifying', 'classmate', 'classmates', 'classroom', 'classrooms', 'classwork', 'clay', 'clean', 'cleaned', 'cleaner', 'cleaners', 'cleaning', 'cleanliness', 'cleanup', 'clear', 'clearer', 'clearly', 'cleveland', 'clever', 'click', 'clicker', 'clickers', 'clicking', 'climate', 'climb', 'climbing', 'clinic', 'clip', 'clipboard', 'clipboards', 'clips', 'clock', 'clocks', 'clorox', 'close', 'closed', 'closely', 'closer', 'closest', 'closet', 'closing', 'cloth', 'clothes', 'clothing', 'cloud', 'clouds', 'club', 'clubs', 'clue', 'clues', 'clumsy', 'clunky', 'cluster', 'clutter', 'cluttered', 'co', 'coach', 'coaches', 'coaching', 'coal', 'coast', 'coastal', 'coaster', 'coasters', 'coat', 'coats', 'code', 'coded', 'coders', 'codes', 'coding', 'coffee', 'cognition', 'cognitive', 'cognitively', 'cohesive', 'cohort', 'coin', 'coincide', 'coins', 'cold', 'collaborate', 'collaborating', 'collaboration', 'collaborations', 'collaborative', 'collaboratively', 'collaborators', 'collage', 'collages', 'collapse', 'collar', 'colleague', 'colleagues', 'collect', 'collected', 'collecting', 'collection', 'collections', 'collective', 'collectively', 'college', 'colleges', 'collegiate', 'collins', 'colombia', 'colonial', 'colony', 'color', 'colorado', 'colored', 'colorful', 'coloring', 'colors', 'columbia', 'columbus', 'com', 'combat', 'combination', 'combinations', 'combine', 'combined', 'combines', 'combining', 'combo', 'come', 'comers', 'comes', 'comfort', 'comfortable', 'comfortably', 'comforted', 'comforting', 'comforts', 'comfy', 'comic', 'comics', 'coming', 'command', 'commands', 'comment', 'commented', 'comments', 'commercial', 'commercials', 'commit', 'commitment', 'committed', 'committee', 'commodity', 'common', 'commonalities', 'commonality', 'commonly', 'commonplace', 'commons', 'communal', 'communicate', 'communicated', 'communicates', 'communicating', 'communication', 'communications', 'communicative', 'communicators', 'communities', 'community', 'commute', 'compact', 'companies', 'company', 'comparable', 'comparative', 'compare', 'compared', 'comparing', 'comparison', 'comparisons', 'compartments', 'compass', 'compasses', 'compassion', 'compassionate', 'compatible', 'compelling', 'compensate', 'compete', 'competed', 'competence', 'competencies', 'competency', 'competent', 'competing', 'competition', 'competitions', 'competitive', 'competitively', 'competitors', 'compile', 'compiled', 'complain', 'complained', 'complaining', 'complaint', 'complaints', 'complement', 'complete', 'completed', 'completely', 'completes', 'completing', 'completion', 'complex', 'complexes', 'complexities', 'complexity', 'complicated', 'complications', 'compliment', 'comply', 'component', 'components', 'compose', 'composed', 'composer', 'composers', 'composing', 'composition', 'compositions', 'compost', 'composting', 'compound', 'comprehend', 'comprehending', 'comprehensible', 'comprehension', 'comprehensive', 'compression', 'comprise', 'comprised', 'comprises', 'compromise', 'compromised', 'compton', 'computation', 'computational', 'computations', 'compute', 'computer', 'computerized', 'computers', 'computing', 'concentrate', 'concentrated', 'concentrating', 'concentration', 'concept', 'concepts', 'conceptual', 'conceptualize', 'concern', 'concerned', 'concerning', 'concerns', 'concert', 'concerts', 'concise', 'conclude', 'concluded', 'conclusion', 'conclusions', 'concrete', 'concretely', 'condition', 'conditioner', 'conditioning', 'conditions', 'conducive', 'conduct', 'conducted', 'conducting', 'cone', 'cones', 'conference', 'conferences', 'conferencing', 'confidence', 'confident', 'confidently', 'confined', 'confines', 'confirm', 'conflict', 'conflicts', 'conform', 'confront', 'confronted', 'confused', 'confusing', 'confusion', 'congo', 'congressional', 'conjunction', 'connect', 'connected', 'connecticut', 'connecting', 'connection', 'connections', 'connectivity', 'connects', 'conquer', 'conquering', 'conscientious', 'conscious', 'consciousness', 'consecutive', 'consequences', 'consequently', 'conservation', 'conserve', 'consider', 'considerable', 'considerably', 'considerate', 'consideration', 'considered', 'considering', 'consist', 'consisted', 'consistency', 'consistent', 'consistently', 'consisting', 'consists', 'console', 'consoles', 'consolidated', 'consonant', 'constant', 'constantly', 'constraints', 'construct', 'constructed', 'constructing', 'construction', 'constructions', 'constructive', 'constructively', 'consumable', 'consumables', 'consume', 'consumer', 'consumers', 'consuming', 'consumption', 'contact', 'contagious', 'contain', 'contained', 'container', 'containers', 'containing', 'contains', 'contemporary', 'contend', 'content', 'contents', 'contest', 'contests', 'context', 'contexts', 'continent', 'continents', 'continual', 'continually', 'continuation', 'continue', 'continued', 'continues', 'continuing', 'continuous', 'continuously', 'continuum', 'contrast', 'contrasting', 'contribute', 'contributed', 'contributes', 'contributing', 'contribution', 'contributions', 'contributors', 'control', 'controlled', 'controllers', 'controlling', 'controls', 'controversial', 'convenience', 'convenient', 'conveniently', 'convention', 'conventional', 'conventions', 'conversation', 'conversational', 'conversations', 'converse', 'convert', 'converted', 'converting', 'convex', 'convey', 'convince', 'convinced', 'cook', 'cookie', 'cookies', 'cooking', 'cool', 'cooler', 'coolest', 'cooperate', 'cooperating', 'cooperation', 'cooperative', 'cooperatively', 'coordinate', 'coordination', 'coordinator', 'cope', 'copied', 'copier', 'copies', 'coping', 'copper', 'copy', 'copying', 'coral', 'cord', 'cords', 'core', 'cores', 'corn', 'cornell', 'corner', 'corners', 'cornerstone', 'corporate', 'corporation', 'correct', 'correction', 'corrections', 'correctly', 'correlate', 'correlated', 'correlates', 'correlation', 'correspond', 'correspondence', 'corresponding', 'cost', 'costly', 'costs', 'costume', 'costumes', 'cots', 'cotton', 'couch', 'couches', 'could', 'council', 'counseling', 'counselor', 'counselors', 'count', 'counter', 'counterparts', 'counters', 'counties', 'counting', 'countless', 'countries', 'country', 'counts', 'county', 'couple', 'coupled', 'courage', 'courageous', 'course', 'courses', 'coursework', 'court', 'courteous', 'courts', 'courtyard', 'cousins', 'cover', 'covered', 'covering', 'covers', 'coveted', 'covey', 'cow', 'coworkers', 'cows', 'cozy', 'cpr', 'cps', 'crack', 'cracked', 'crackers', 'cracks', 'craft', 'crafted', 'crafting', 'crafts', 'craftsmanship', 'crafty', 'cramped', 'crash', 'crashing', 'crate', 'crates', 'crave', 'craving', 'crawl', 'crayola', 'crayon', 'crayons', 'craze', 'crazy', 'cream', 'create', 'created', 'creates', 'creating', 'creation', 'creations', 'creative', 'creatively', 'creativeness', 'creativity', 'creator', 'creators', 'creatures', 'credible', 'credit', 'credits', 'creed', 'creek', 'creole', 'crew', 'cricut', 'crime', 'crimes', 'cringe', 'crisis', 'crisp', 'criss', 'criteria', 'critical', 'critically', 'critique', 'critiquing', 'critters', 'crop', 'crops', 'cross', 'crossed', 'crossing', 'crossroads', 'crowd', 'crowded', 'crown', 'crucial', 'crunch', 'cry', 'crying', 'cs', 'ct', 'cuba', 'cubbies', 'cubby', 'cube', 'cubelets', 'cubes', 'cuddle', 'cue', 'cues', 'culinary', 'culminate', 'culminating', 'culmination', 'cultivate', 'cultivates', 'cultivating', 'cultural', 'culturally', 'culture', 'cultures', 'cumbersome', 'cumulative', 'cup', 'cups', 'curb', 'curiosities', 'curiosity', 'curious', 'curiousity', 'curl', 'curled', 'curling', 'current', 'currently', 'curricula', 'curricular', 'curriculum', 'curriculums', 'cursive', 'curve', 'curved', 'cushion', 'cushioned', 'cushions', 'custodians', 'custody', 'custom', 'customer', 'customers', 'customizable', 'customize', 'customized', 'customs', 'cut', 'cute', 'cuts', 'cutter', 'cutters', 'cutting', 'cvc', 'cycle', 'cycles', 'cycling', 'cylinders', 'cymbals', 'dad', 'dade', 'dads', 'dahl', 'daily', 'dairy', 'dakota', 'dallas', 'damage', 'damaged', 'damaging', 'dance', 'dancers', 'dances', 'dancing', 'danger', 'dangerous', 'dangers', 'dare', 'daring', 'dark', 'dash', 'data', 'database', 'databases', 'date', 'dated', 'dates', 'daughter', 'daunting', 'david', 'dawn', 'day', 'daycare', 'days', 'dc', 'de', 'dead', 'deadlines', 'deaf', 'deal', 'dealing', 'deals', 'dealt', 'dear', 'dearly', 'death', 'debate', 'debaters', 'debates', 'debating', 'decade', 'decades', 'december', 'decent', 'decide', 'decided', 'deciding', 'decimals', 'decipher', 'decision', 'decisions', 'deck', 'decline', 'decodable', 'decode', 'decoding', 'decomposing', 'decor', 'decorate', 'decorated', 'decorating', 'decorations', 'decorative', 'decrease', 'decreased', 'decreases', 'decreasing', 'dedicate', 'dedicated', 'dedication', 'deemed', 'deep', 'deepen', 'deepening', 'deepens', 'deeper', 'deeply', 'deer', 'defeat', 'defeated', 'defend', 'defense', 'deficiencies', 'deficiency', 'deficient', 'deficit', 'deficits', 'define', 'defined', 'defines', 'defining', 'definite', 'definitely', 'definition', 'definitions', 'defy', 'defying', 'degree', 'degrees', 'delaware', 'delay', 'delayed', 'delays', 'delicate', 'delicious', 'delight', 'delighted', 'delightful', 'deliver', 'delivered', 'delivering', 'delivery', 'dell', 'delta', 'deluxe', 'delve', 'delving', 'demand', 'demanding', 'demands', 'demeanor', 'democracy', 'demographic', 'demographically', 'demographics', 'demonstrate', 'demonstrated', 'demonstrates', 'demonstrating', 'demonstration', 'demonstrations', 'denied', 'denominator', 'dense', 'densely', 'density', 'dental', 'denver', 'deny', 'deodorant', 'department', 'departmentalized', 'departments', 'depend', 'dependable', 'dependent', 'dependents', 'depending', 'depends', 'depicting', 'depleted', 'deployed', 'deployments', 'depressed', 'depression', 'deprived', 'depth', 'depths', 'derive', 'derived', 'des', 'descent', 'describe', 'described', 'describes', 'describing', 'description', 'descriptions', 'descriptive', 'desert', 'deserts', 'deserve', 'deserved', 'deserves', 'deserving', 'design', 'designate', 'designated', 'designed', 'designer', 'designers', 'designing', 'designs', 'desirable', 'desire', 'desired', 'desires', 'desiring', 'desk', 'desks', 'desktop', 'desktops', 'desmos', 'despair', 'desperate', 'desperately', 'despite', 'destination', 'destined', 'destiny', 'destroyed', 'destroying', 'detail', 'detailed', 'details', 'detectives', 'deter', 'determination', 'determine', 'determined', 'determines', 'determining', 'detrimental', 'detroit', 'devastated', 'devastating', 'devastation', 'develop', 'developed', 'developing', 'development', 'developmental', 'developmentally', 'developments', 'develops', 'device', 'devices', 'devise', 'devote', 'devoted', 'devour', 'dewey', 'dexterity', 'diabetes', 'diagnosed', 'diagnoses', 'diagnosis', 'diagnostic', 'diagram', 'diagrams', 'dialects', 'dialogue', 'diamonds', 'diane', 'diaries', 'diary', 'dice', 'dictate', 'dictation', 'dictionaries', 'dictionary', 'die', 'died', 'diego', 'dies', 'diet', 'diets', 'differ', 'difference', 'differences', 'different', 'differentiate', 'differentiated', 'differentiates', 'differentiating', 'differentiation', 'differently', 'differing', 'difficult', 'difficulties', 'difficulty', 'diffuser', 'dig', 'digest', 'digging', 'digit', 'digital', 'digitally', 'dignity', 'digraphs', 'dilapidated', 'dilemma', 'diligence', 'diligent', 'diligently', 'dim', 'dimension', 'dimensional', 'dimensions', 'diminish', 'diminished', 'diminishes', 'dinner', 'dinners', 'dinosaur', 'dinosaurs', 'diorama', 'dioramas', 'diploma', 'diplomas', 'dire', 'direct', 'directed', 'directing', 'direction', 'directional', 'directions', 'directly', 'director', 'directors', 'dirt', 'dirty', 'disabilities', 'disability', 'disabled', 'disadvantage', 'disadvantaged', 'disadvantages', 'disagree', 'disappear', 'disappeared', 'disappointed', 'disappointing', 'disappointment', 'disaster', 'disasters', 'disc', 'discarded', 'disciplinary', 'discipline', 'disciplined', 'disciplines', 'discomfort', 'disconnect', 'disconnected', 'discourage', 'discouraged', 'discouraging', 'discourse', 'discover', 'discovered', 'discoveries', 'discovering', 'discovery', 'discreetly', 'discrete', 'discrimination', 'discs', 'discuss', 'discussed', 'discussing', 'discussion', 'discussions', 'disease', 'diseases', 'disenfranchised', 'disengaged', 'dish', 'dishes', 'disinfectant', 'disinfecting', 'disk', 'disks', 'dislike', 'dislikes', 'dismissal', 'disney', 'disorder', 'disorders', 'disorganized', 'disparity', 'dispenser', 'displaced', 'display', 'displayed', 'displaying', 'displays', 'disposable', 'disposal', 'disrepair', 'disrupt', 'disrupted', 'disrupting', 'disruption', 'disruptions', 'disruptive', 'dissect', 'dissecting', 'dissection', 'dissections', 'distance', 'distances', 'distant', 'distinct', 'distinctive', 'distinguish', 'distinguished', 'distract', 'distracted', 'distracting', 'distraction', 'distractions', 'distracts', 'distress', 'distribute', 'distributed', 'distributing', 'distribution', 'district', 'districts', 'disturb', 'disturbance', 'disturbances', 'disturbed', 'disturbing', 'ditch', 'dive', 'divergent', 'diverse', 'diversified', 'diversify', 'diversity', 'divide', 'divided', 'divider', 'dividers', 'dividing', 'diving', 'division', 'divorce', 'dixie', 'diy', 'dna', 'doc', 'docking', 'docs', 'doctor', 'doctors', 'document', 'documentaries', 'documentary', 'documentation', 'documented', 'documenting', 'documents', 'dodge', 'doers', 'dog', 'dogs', 'doh', 'dojo', 'doll', 'dollar', 'dollars', 'dollhouse', 'dolls', 'domain', 'domains', 'domestic', 'dominant', 'dominated', 'dominican', 'dominoes', 'donate', 'donated', 'donating', 'donation', 'donations', 'done', 'donor', 'donorchoose', 'donors', 'donorschoose', 'dont', 'doodle', 'doodler', 'doodling', 'door', 'doors', 'dork', 'dose', 'dot', 'dots', 'double', 'doubled', 'doubles', 'doubling', 'doubt', 'dough', 'downfall', 'download', 'downloadable', 'downloaded', 'downloading', 'downs', 'downtown', 'downward', 'dozen', 'dozens', 'dr', 'draft', 'drafting', 'drafts', 'drag', 'dragon', 'drama', 'dramas', 'dramatic', 'dramatically', 'drastic', 'drastically', 'draw', 'drawback', 'drawer', 'drawers', 'drawing', 'drawings', 'drawn', 'draws', 'dread', 'dreaded', 'dream', 'dreambox', 'dreamed', 'dreamers', 'dreaming', 'dreams', 'dress', 'dressed', 'dressing', 'drew', 'dribble', 'dribbling', 'dried', 'drill', 'drills', 'drink', 'drinking', 'drinks', 'drive', 'driven', 'driver', 'drivers', 'drives', 'driving', 'drone', 'drones', 'drop', 'dropped', 'dropping', 'drops', 'drought', 'drug', 'drugs', 'drum', 'drumline', 'drumming', 'drums', 'dry', 'drying', 'dslr', 'dual', 'duck', 'duct', 'due', 'dull', 'duplicate', 'durability', 'durable', 'duration', 'dust', 'dusty', 'dutch', 'duties', 'duty', 'dvd', 'dvds', 'dwindle', 'dwindling', 'dye', 'dying', 'dynamic', 'dynamics', 'dysfunctional', 'dyslexia', 'dyslexic', 'dystopian', 'eager', 'eagerly', 'eagerness', 'eagle', 'eagles', 'ear', 'earbuds', 'earlier', 'earliest', 'early', 'earn', 'earned', 'earnest', 'earning', 'earphones', 'ears', 'earth', 'earthquake', 'earthquakes', 'ease', 'easel', 'easels', 'easier', 'easiest', 'easily', 'east', 'eastern', 'easy', 'eat', 'eaten', 'eaters', 'eating', 'eats', 'ebooks', 'ec', 'echo', 'eclectic', 'eco', 'ecological', 'ecology', 'economic', 'economical', 'economically', 'economics', 'economy', 'ecosystem', 'ecosystems', 'ecstatic', 'ect', 'ecuador', 'ed', 'edge', 'edges', 'edible', 'edison', 'edit', 'edited', 'editing', 'edition', 'editions', 'edmodo', 'edu', 'educate', 'educated', 'educates', 'educating', 'education', 'educational', 'educationally', 'educations', 'educator', 'educators', 'educreations', 'eduction', 'edutopia', 'edward', 'effect', 'effected', 'effective', 'effectively', 'effectiveness', 'effects', 'efficacy', 'efficiency', 'efficient', 'efficiently', 'effort', 'effortlessly', 'efforts', 'egg', 'eggs', 'egypt', 'eight', 'eighteen', 'eighth', 'eighty', 'einstein', 'either', 'el', 'ela', 'elaborate', 'elar', 'elated', 'elbow', 'eld', 'eleanor', 'election', 'elections', 'elective', 'electives', 'electric', 'electrical', 'electricity', 'electronic', 'electronically', 'electronics', 'electrophoresis', 'element', 'elementary', 'elements', 'elephant', 'elevate', 'eleven', 'eleventh', 'elicit', 'eligibility', 'eligible', 'eliminate', 'eliminated', 'eliminates', 'eliminating', 'elite', 'ell', 'elliptical', 'ells', 'elmo', 'else', 'elsewhere', 'email', 'emails', 'embark', 'embarked', 'embarking', 'embarrassed', 'embarrassing', 'embarrassment', 'embed', 'embedded', 'embodies', 'embody', 'embrace', 'embraced', 'embraces', 'embracing', 'emerge', 'emergency', 'emergent', 'emerging', 'emerson', 'emotion', 'emotional', 'emotionally', 'emotions', 'empathetic', 'empathize', 'empathy', 'emphasis', 'emphasize', 'emphasized', 'emphasizes', 'emphasizing', 'employ', 'employed', 'employees', 'employers', 'employment', 'employs', 'empower', 'empowered', 'empowering', 'empowerment', 'empowers', 'empty', 'emulate', 'en', 'enable', 'enabled', 'enables', 'enabling', 'encompass', 'encompasses', 'encompassing', 'encounter', 'encountered', 'encounters', 'encourage', 'encouraged', 'encouragement', 'encourages', 'encouraging', 'end', 'endangered', 'endearing', 'endeavor', 'endeavors', 'ended', 'ending', 'endings', 'endless', 'endlessly', 'ends', 'endurance', 'endure', 'endured', 'enduring', 'energetic', 'energies', 'energize', 'energized', 'energizing', 'energy', 'enforce', 'engage', 'engaged', 'engagement', 'engages', 'engaging', 'engine', 'engineer', 'engineering', 'engineers', 'engines', 'england', 'english', 'engrossed', 'engulfed', 'enhance', 'enhanced', 'enhancement', 'enhancements', 'enhances', 'enhancing', 'enjoy', 'enjoyable', 'enjoyed', 'enjoying', 'enjoyment', 'enjoys', 'enl', 'enlarge', 'enlarged', 'enlighten', 'enlightening', 'enormous', 'enough', 'enrich', 'enriched', 'enriches', 'enriching', 'enrichment', 'enroll', 'enrolled', 'enrolling', 'enrollment', 'ensemble', 'ensembles', 'ensure', 'ensures', 'ensuring', 'entail', 'entails', 'enter', 'entered', 'entering', 'enters', 'entertain', 'entertained', 'entertaining', 'entertainment', 'enthralled', 'enthused', 'enthusiasm', 'enthusiastic', 'enthusiastically', 'enthusiasts', 'entice', 'enticing', 'entire', 'entirely', 'entirety', 'entitled', 'entrance', 'entrepreneurs', 'entrepreneurship', 'entries', 'entrusted', 'entry', 'envelopes', 'enviornment', 'enviroment', 'environment', 'environmental', 'environmentally', 'environments', 'envision', 'envisioned', 'epic', 'epidemic', 'epson', 'equal', 'equality', 'equalizer', 'equally', 'equals', 'equation', 'equations', 'equip', 'equipment', 'equipped', 'equipping', 'equitable', 'equity', 'equivalent', 'era', 'erasable', 'erase', 'erased', 'eraser', 'erasers', 'erasing', 'ergonomic', 'ergonomically', 'eric', 'erosion', 'error', 'errors', 'escape', 'escaping', 'ese', 'esl', 'esol', 'especially', 'essay', 'essays', 'essence', 'essential', 'essentially', 'essentials', 'establish', 'established', 'establishing', 'esteem', 'estimate', 'estimation', 'estrada', 'et', 'etc', 'ethic', 'ethical', 'ethics', 'ethiopia', 'ethnic', 'ethnically', 'ethnicities', 'ethnicity', 'etiquette', 'europe', 'european', 'ev3', 'evaluate', 'evaluated', 'evaluating', 'evaluation', 'evans', 'even', 'evening', 'evenings', 'event', 'events', 'eventually', 'ever', 'everlasting', 'every', 'everybody', 'everyday', 'everyone', 'everything', 'everywhere', 'evidence', 'evidenced', 'evident', 'evolution', 'evolve', 'evolved', 'evolves', 'evolving', 'ex', 'exact', 'exactly', 'exam', 'examination', 'examine', 'examining', 'example', 'examples', 'exams', 'exceed', 'exceeded', 'exceeding', 'exceedingly', 'exceeds', 'excel', 'excellence', 'excellent', 'excelling', 'excels', 'except', 'exception', 'exceptional', 'exceptionalities', 'exceptionally', 'exceptions', 'excerpts', 'excess', 'excessive', 'exchange', 'exchanges', 'exchanging', 'excitable', 'excite', 'excited', 'excitedly', 'excitement', 'excites', 'exciting', 'exclaim', 'exclaimed', 'exclusively', 'excuse', 'excuses', 'execute', 'executing', 'executive', 'exemplar', 'exemplary', 'exemplify', 'exercise', 'exercises', 'exercising', 'exert', 'exhausted', 'exhausting', 'exhibit', 'exhibited', 'exhibiting', 'exhibition', 'exhibitions', 'exhibits', 'exist', 'existed', 'existence', 'existent', 'existing', 'exists', 'exit', 'exited', 'exiting', 'expand', 'expanded', 'expanding', 'expands', 'expansion', 'expansive', 'expect', 'expectation', 'expectations', 'expected', 'expecting', 'expects', 'expedition', 'expeditionary', 'expeditions', 'expel', 'expend', 'expense', 'expenses', 'expensive', 'experience', 'experienced', 'experiences', 'experiencing', 'experiential', 'experiment', 'experimental', 'experimentation', 'experimented', 'experimenting', 'experiments', 'expert', 'expertise', 'experts', 'explain', 'explained', 'explaining', 'explains', 'explanation', 'explanations', 'explicit', 'explicitly', 'explode', 'exploding', 'exploration', 'explorations', 'exploratory', 'explore', 'explored', 'explorers', 'explores', 'exploring', 'explosion', 'expo', 'exponential', 'exponentially', 'expose', 'exposed', 'exposes', 'exposing', 'expository', 'exposure', 'exposures', 'express', 'expressed', 'expresses', 'expressing', 'expression', 'expressions', 'expressive', 'extend', 'extended', 'extending', 'extends', 'extension', 'extensions', 'extensive', 'extensively', 'extent', 'external', 'extra', 'extracurricular', 'extraordinarily', 'extraordinary', 'extras', 'extreme', 'extremely', 'extrinsic', 'exuberant', 'exude', 'eye', 'eyed', 'eyes', 'fabric', 'fabulous', 'face', 'facebook', 'faced', 'faces', 'facet', 'faceted', 'facets', 'facial', 'facilitate', 'facilitated', 'facilitates', 'facilitating', 'facilitator', 'facilities', 'facility', 'facing', 'fact', 'factor', 'factories', 'factors', 'factory', 'facts', 'factual', 'faculty', 'fade', 'fail', 'failed', 'failing', 'fails', 'failure', 'failures', 'fair', 'fairly', 'fairness', 'fairs', 'fairy', 'faith', 'fake', 'fall', 'fallen', 'falling', 'falls', 'familial', 'familiar', 'familiarity', 'familiarize', 'families', 'family', 'famous', 'fan', 'fancy', 'fans', 'fantastic', 'fantasy', 'far', 'fare', 'farm', 'farmer', 'farmers', 'farming', 'farmland', 'farms', 'farther', 'fascinated', 'fascinating', 'fashion', 'fashioned', 'fast', 'faster', 'fastest', 'fat', 'father', 'fathers', 'fathom', 'fatigue', 'fault', 'favor', 'favorite', 'favorites', 'fear', 'fearless', 'fearlessly', 'fears', 'feasible', 'feat', 'feathers', 'feature', 'featured', 'features', 'featuring', 'february', 'fed', 'federal', 'federally', 'fee', 'feed', 'feedback', 'feeder', 'feeding', 'feeds', 'feel', 'feeling', 'feelings', 'feels', 'fees', 'feet', 'fell', 'fellow', 'felt', 'female', 'females', 'feminine', 'fence', 'ferguson', 'festival', 'festivals', 'fetal', 'fewer', 'fi', 'fiber', 'fiction', 'fictional', 'fidget', 'fidgeting', 'fidgets', 'fidgety', 'field', 'fields', 'fifteen', 'fifth', 'fifty', 'fight', 'fighters', 'fighting', 'fights', 'figurative', 'figure', 'figured', 'figures', 'figuring', 'filament', 'file', 'files', 'filing', 'filipino', 'fill', 'filled', 'filling', 'fills', 'film', 'filming', 'films', 'filter', 'filtering', 'filters', 'final', 'finally', 'finance', 'finances', 'financial', 'financially', 'find', 'finding', 'findings', 'finds', 'fine', 'finest', 'finger', 'fingers', 'fingertips', 'finish', 'finished', 'finisher', 'finishers', 'finishes', 'finishing', 'fire', 'fired', 'firefighters', 'fires', 'firm', 'firmly', 'first', 'firsthand', 'firsties', 'fish', 'fishing', 'fist', 'fit', 'fitbit', 'fitbits', 'fitness', 'fits', 'fitting', 'five', 'fives', 'fix', 'fixed', 'fixing', 'fixtures', 'fl', 'flag', 'flags', 'flair', 'flame', 'flash', 'flashcards', 'flashlight', 'flashlights', 'flat', 'flex', 'flexibility', 'flexible', 'flies', 'flight', 'flimsy', 'flint', 'flip', 'flipped', 'flipping', 'float', 'floating', 'flocabulary', 'flood', 'flooded', 'flooding', 'floor', 'flooring', 'floors', 'florence', 'florescent', 'florida', 'flourish', 'flourishing', 'flow', 'flower', 'flowers', 'flowing', 'flows', 'flu', 'fluency', 'fluent', 'fluently', 'fluid', 'fluorescent', 'flute', 'fly', 'flyers', 'flying', 'foam', 'focal', 'focus', 'focused', 'focuses', 'focusing', 'fold', 'foldable', 'foldables', 'folded', 'folder', 'folders', 'folding', 'folk', 'follow', 'followed', 'following', 'follows', 'fond', 'font', 'fonts', 'food', 'foods', 'fool', 'foot', 'footage', 'football', 'footballs', 'foothills', 'footing', 'footprint', 'force', 'forced', 'forces', 'forcing', 'forefront', 'foreign', 'foremost', 'forensic', 'forensics', 'foresee', 'forest', 'forests', 'forever', 'forge', 'forget', 'forgetting', 'forgot', 'forgotten', 'form', 'formal', 'formally', 'format', 'formation', 'formative', 'formats', 'formed', 'former', 'formerly', 'forming', 'forms', 'formula', 'formulas', 'formulate', 'fort', 'forth', 'fortunate', 'fortunately', 'fortune', 'forty', 'forum', 'forward', 'fossil', 'fossils', 'foster', 'fostered', 'fostering', 'fosters', 'found', 'foundation', 'foundational', 'foundations', 'founded', 'founding', 'fountain', 'fountains', 'four', 'fourteen', 'fourth', 'fourths', 'fraction', 'fractions', 'fragile', 'frame', 'frames', 'framework', 'frameworks', 'france', 'francisco', 'frank', 'franklin', 'frankly', 'fred', 'frederick', 'free', 'freedom', 'freedoms', 'freeing', 'freely', 'frees', 'freeze', 'freezing', 'french', 'frequency', 'frequent', 'frequently', 'fresh', 'freshly', 'freshman', 'freshmen', 'friction', 'friday', 'fridays', 'fridge', 'friend', 'friendly', 'friends', 'friendship', 'friendships', 'frisbee', 'frisbees', 'frog', 'frogs', 'front', 'frozen', 'fruit', 'fruition', 'fruits', 'frustrate', 'frustrated', 'frustrating', 'frustration', 'frustrations', 'ft', 'fuel', 'fueled', 'fueling', 'fuels', 'fulfill', 'fulfilled', 'fulfilling', 'fulfillment', 'full', 'fuller', 'fullest', 'fully', 'fun', 'function', 'functional', 'functionality', 'functioning', 'functions', 'fund', 'fundamental', 'fundamentals', 'funded', 'funding', 'fundraise', 'fundraiser', 'fundraisers', 'fundraising', 'funds', 'funniest', 'funny', 'furnish', 'furniture', 'furthering', 'furthermore', 'futon', 'future', 'futures', 'fuzzy', 'ga', 'gadgets', 'gaiam', 'gain', 'gained', 'gaining', 'gains', 'galaxy', 'galleries', 'gallery', 'gallon', 'game', 'games', 'gaming', 'gamut', 'gandhi', 'gang', 'gangs', 'gap', 'gaps', 'garage', 'garbage', 'garden', 'gardening', 'gardens', 'gas', 'gate', 'gates', 'gateway', 'gather', 'gathered', 'gathering', 'gator', 'gatsby', 'gauge', 'gave', 'gear', 'geared', 'gears', 'gel', 'gem', 'gen', 'gender', 'genders', 'general', 'generalize', 'generally', 'generate', 'generated', 'generating', 'generation', 'generational', 'generations', 'generosity', 'generous', 'generously', 'genetic', 'genetics', 'genius', 'geniuses', 'genre', 'genres', 'gentle', 'gentlemen', 'gently', 'gentrification', 'genuine', 'genuinely', 'geographic', 'geographical', 'geography', 'geometric', 'geometry', 'george', 'georgia', 'germ', 'german', 'germs', 'gestures', 'get', 'gets', 'getters', 'getting', 'ghana', 'giant', 'gift', 'gifted', 'gifts', 'gigantic', 'giggle', 'giggles', 'gingerbread', 'girl', 'girls', 'give', 'given', 'giver', 'gives', 'giving', 'glad', 'gladly', 'glance', 'glare', 'glass', 'glasses', 'glaze', 'glazes', 'glimpse', 'glitter', 'global', 'globally', 'globe', 'globes', 'gloves', 'glow', 'glue', 'glued', 'gluing', 'gmail', 'go', 'goal', 'goals', 'goats', 'god', 'goes', 'goggles', 'gogh', 'going', 'gold', 'golden', 'goldfish', 'goldilocks', 'golf', 'gone', 'gonoodle', 'good', 'goodbye', 'goodness', 'goods', 'goofy', 'google', 'gopro', 'got', 'gotten', 'government', 'gpa', 'gps', 'grab', 'grabbing', 'grabs', 'grace', 'gracious', 'graciously', 'grade', 'graded', 'grader', 'graders', 'grades', 'grading', 'gradually', 'graduate', 'graduated', 'graduates', 'graduating', 'graduation', 'graffiti', 'graham', 'grammar', 'grammatical', 'grand', 'grandchildren', 'grandma', 'grandmother', 'grandparent', 'grandparents', 'granola', 'grant', 'granted', 'grants', 'graph', 'graphic', 'graphics', 'graphing', 'graphs', 'grapple', 'grasp', 'grasped', 'grasping', 'grass', 'grateful', 'gratefully', 'gratification', 'gratifying', 'gratitude', 'gravitate', 'gravity', 'gray', 'great', 'greater', 'greatest', 'greatly', 'greatness', 'greece', 'greek', 'green', 'greenhouse', 'greenville', 'greet', 'greeted', 'greeting', 'greetings', 'grew', 'grid', 'grip', 'grips', 'grit', 'groan', 'groans', 'groceries', 'grocery', 'grooming', 'groove', 'grooving', 'gross', 'ground', 'groundbreaking', 'grounded', 'grounds', 'group', 'grouped', 'grouping', 'groupings', 'groups', 'grove', 'grow', 'growing', 'growling', 'grown', 'grows', 'growth', 'gruff', 'gt', 'guarantee', 'guaranteed', 'guard', 'guardian', 'guardians', 'guards', 'guatemala', 'guess', 'guessing', 'guest', 'guests', 'guidance', 'guide', 'guided', 'guidelines', 'guides', 'guiding', 'guinea', 'guitar', 'guitars', 'gulf', 'gun', 'guns', 'guy', 'guys', 'gym', 'gymnasium', 'gymnastics', 'gyms', 'ha', 'habit', 'habitat', 'habitats', 'habits', 'hail', 'hailing', 'hair', 'haiti', 'haitian', 'half', 'halfway', 'hall', 'halloween', 'halls', 'hallway', 'hallways', 'hamilton', 'hampered', 'hand', 'handed', 'handful', 'handheld', 'handicapped', 'handicaps', 'handing', 'handle', 'handled', 'handling', 'handmade', 'handouts', 'hands', 'handshake', 'handwriting', 'handy', 'hang', 'hanging', 'hangouts', 'happen', 'happened', 'happening', 'happenings', 'happens', 'happier', 'happiest', 'happily', 'happiness', 'happy', 'harbor', 'hard', 'hardcover', 'harder', 'hardest', 'hardly', 'hardship', 'hardships', 'hardware', 'hardworking', 'harlem', 'harm', 'harmony', 'harness', 'harry', 'harsh', 'hartford', 'harvest', 'harvested', 'harvesting', 'hassle', 'hat', 'hatch', 'hatched', 'hatching', 'hate', 'hated', 'hates', 'hating', 'hats', 'hawaii', 'hawaiian', 'hazard', 'hd', 'hdmi', 'head', 'headache', 'headaches', 'headed', 'heading', 'headphone', 'headphones', 'heads', 'headset', 'headsets', 'headstart', 'health', 'healthcare', 'healthful', 'healthier', 'healthy', 'hear', 'heard', 'hearing', 'heart', 'heartbeat', 'heartbreaking', 'hearted', 'heartedly', 'hearts', 'heartwarming', 'heat', 'heated', 'heating', 'heaven', 'heavily', 'heavy', 'hectic', 'heidi', 'height', 'heighten', 'heightened', 'heights', 'held', 'helen', 'hello', 'helmets', 'help', 'helped', 'helper', 'helpers', 'helpful', 'helping', 'helps', 'hence', 'henry', 'herbs', 'heritage', 'hero', 'heroes', 'hesitant', 'hesitate', 'heterogeneous', 'hey', 'hi', 'hidden', 'hide', 'high', 'higher', 'highest', 'highlight', 'highlighted', 'highlighter', 'highlighters', 'highlighting', 'highlights', 'highly', 'highs', 'hike', 'hilarious', 'hill', 'hills', 'hinder', 'hindered', 'hinders', 'hindi', 'hip', 'hips', 'hired', 'hispanic', 'hispanics', 'historians', 'historic', 'historical', 'historically', 'histories', 'history', 'hit', 'hits', 'hitting', 'hmong', 'hobbies', 'hobby', 'hockey', 'hokki', 'hold', 'holder', 'holders', 'holding', 'holds', 'hole', 'holes', 'holiday', 'holidays', 'holistic', 'holocaust', 'home', 'homeless', 'homelessness', 'homemade', 'homeroom', 'homerooms', 'homes', 'homestead', 'hometown', 'homework', 'homey', 'honduras', 'hone', 'honest', 'honestly', 'honesty', 'honey', 'honing', 'honor', 'honorable', 'honored', 'honoring', 'honors', 'hook', 'hooked', 'hooki', 'hooks', 'hoop', 'hoops', 'hop', 'hope', 'hopeful', 'hopefully', 'hopes', 'hoping', 'hopping', 'hopscotch', 'horizon', 'horizons', 'horn', 'horrible', 'horrific', 'horse', 'horses', 'horseshoe', 'hospital', 'host', 'hosted', 'hosting', 'hosts', 'hot', 'hotels', 'hour', 'hours', 'house', 'housed', 'household', 'households', 'housekeeping', 'houses', 'housing', 'houston', 'however', 'hp', 'hs', 'html', 'http', 'https', 'hub', 'huddle', 'hug', 'huge', 'hugely', 'hugs', 'hula', 'hum', 'human', 'humanities', 'humanity', 'humans', 'humble', 'humbled', 'humbly', 'humidity', 'humor', 'humorous', 'hundred', 'hundreds', 'hung', 'hunger', 'hungry', 'hunt', 'hunter', 'hunting', 'hunts', 'hurdle', 'hurdles', 'hurricane', 'hurry', 'hurt', 'hurting', 'hurts', 'hybrid', 'hydrated', 'hydration', 'hydroponic', 'hygiene', 'hyper', 'hyperactive', 'hyperactivity', 'hypotheses', 'hypothesis', 'hypothesize', 'ib', 'ice', 'icons', 'ict', 'id', 'idaho', 'idea', 'ideal', 'ideally', 'ideals', 'ideas', 'identification', 'identified', 'identify', 'identifying', 'identities', 'identity', 'idle', 'ie', 'iep', 'ieps', 'ignacio', 'ignite', 'ignited', 'ignites', 'igniting', 'ignore', 'ignored', 'ii', 'iii', 'il', 'ill', 'illinois', 'illiteracy', 'illiterate', 'illness', 'illnesses', 'illustrate', 'illustrated', 'illustrating', 'illustration', 'illustrations', 'illustrator', 'illustrators', 'imac', 'image', 'imagery', 'images', 'imaginable', 'imaginary', 'imagination', 'imaginations', 'imaginative', 'imagine', 'imagined', 'imagining', 'imitate', 'immeasurable', 'immediate', 'immediately', 'immense', 'immensely', 'immerse', 'immersed', 'immersing', 'immersion', 'immersive', 'immigrant', 'immigrants', 'immigrated', 'immigration', 'imovie', 'impact', 'impacted', 'impactful', 'impacting', 'impacts', 'impaired', 'impairment', 'impairments', 'impart', 'impede', 'impedes', 'imperative', 'implement', 'implementation', 'implemented', 'implementing', 'implications', 'importance', 'important', 'importantly', 'impossible', 'impoverished', 'impress', 'impressed', 'impression', 'impressionable', 'impressions', 'impressive', 'improve', 'improved', 'improvement', 'improvements', 'improves', 'improving', 'improvisation', 'improvise', 'impulsive', 'inability', 'inactivity', 'inadequate', 'inappropriate', 'inaugural', 'incarcerated', 'incarceration', 'incentive', 'incentives', 'inch', 'inches', 'incidence', 'incident', 'incidents', 'inclement', 'inclined', 'include', 'included', 'includes', 'including', 'inclusion', 'inclusive', 'income', 'incomes', 'incoming', 'incomplete', 'inconsistent', 'incorporate', 'incorporated', 'incorporates', 'incorporating', 'incorporation', 'incorrect', 'incorrectly', 'increase', 'increased', 'increases', 'increasing', 'increasingly', 'incredible', 'incredibly', 'incubator', 'indeed', 'independence', 'independent', 'independently', 'indescribable', 'index', 'india', 'indian', 'indiana', 'indianapolis', 'indicate', 'indicated', 'indicates', 'indicating', 'indicator', 'indicators', 'indispensable', 'individual', 'individuality', 'individualization', 'individualize', 'individualized', 'individually', 'individuals', 'indoor', 'indoors', 'industrial', 'industries', 'industry', 'inequality', 'inequities', 'inequity', 'inevitable', 'inevitably', 'inexpensive', 'infancy', 'infectious', 'inference', 'inferences', 'inferencing', 'infested', 'infinite', 'inflatable', 'influence', 'influenced', 'influences', 'influential', 'influx', 'infographics', 'inform', 'informal', 'information', 'informational', 'informative', 'informed', 'informing', 'infrastructure', 'infuse', 'infused', 'infusing', 'ingenuity', 'ingredient', 'ingredients', 'inhabit', 'inherent', 'inherently', 'inherit', 'inherited', 'inhibit', 'initial', 'initially', 'initiate', 'initiating', 'initiative', 'initiatives', 'injured', 'injuries', 'injury', 'injustice', 'ink', 'inks', 'innate', 'inner', 'innocence', 'innocent', 'innovate', 'innovated', 'innovating', 'innovation', 'innovations', 'innovative', 'innovators', 'input', 'inputs', 'inquire', 'inquirers', 'inquiries', 'inquiring', 'inquiry', 'inquisitive', 'inquisitiveness', 'ins', 'insatiable', 'insect', 'insects', 'insecurity', 'insert', 'inside', 'insight', 'insightful', 'insights', 'inspiration', 'inspirational', 'inspirations', 'inspire', 'inspired', 'inspires', 'inspiring', 'instability', 'instagram', 'install', 'installation', 'installed', 'instance', 'instances', 'instant', 'instantly', 'instead', 'instill', 'instilled', 'instilling', 'instills', 'institute', 'institution', 'institutions', 'instruct', 'instructed', 'instructing', 'instruction', 'instructional', 'instructions', 'instructor', 'instructors', 'instrument', 'instrumental', 'instrumentation', 'instruments', 'insufficient', 'insure', 'insurmountable', 'intact', 'intake', 'integral', 'integrate', 'integrated', 'integrates', 'integrating', 'integration', 'integrity', 'intellect', 'intellectual', 'intellectually', 'intelligence', 'intelligences', 'intelligent', 'intelligently', 'intend', 'intended', 'intense', 'intensely', 'intensity', 'intensive', 'intensively', 'intent', 'intention', 'intentional', 'intentionally', 'inter', 'interact', 'interacting', 'interaction', 'interactions', 'interactive', 'interactively', 'interactivity', 'interacts', 'intercity', 'interconnected', 'interdependent', 'interdisciplinary', 'interest', 'interested', 'interesting', 'interests', 'interface', 'interfere', 'interferes', 'interior', 'intermediate', 'internal', 'internalize', 'international', 'internationally', 'internet', 'internship', 'internships', 'interpersonal', 'interpret', 'interpretation', 'interpretations', 'interpreting', 'interrupt', 'interrupted', 'interrupting', 'interruption', 'interruptions', 'intertwined', 'intervals', 'intervene', 'intervention', 'interventionist', 'interventions', 'interview', 'interviewing', 'interviews', 'intimate', 'intimidated', 'intimidating', 'intonation', 'intramural', 'intricacies', 'intricate', 'intrigue', 'intrigued', 'intriguing', 'intrinsic', 'intrinsically', 'intro', 'introduce', 'introduced', 'introduces', 'introducing', 'introduction', 'introductory', 'intuitive', 'inundated', 'invaluable', 'invent', 'invented', 'inventing', 'invention', 'inventions', 'inventive', 'inventor', 'inventors', 'inventory', 'invest', 'invested', 'investigate', 'investigated', 'investigating', 'investigation', 'investigations', 'investigative', 'investigators', 'investing', 'investment', 'investments', 'invigorating', 'invisible', 'invite', 'invited', 'invites', 'inviting', 'involve', 'involved', 'involvement', 'involves', 'involving', 'iowa', 'ipad', 'ipads', 'iphone', 'iphones', 'ipod', 'ipods', 'iq', 'iran', 'iraq', 'iready', 'iron', 'isd', 'island', 'islander', 'islanders', 'islands', 'isolated', 'isolation', 'israel', 'issue', 'issued', 'issues', 'istation', 'italy', 'itching', 'item', 'items', 'itunes', 'iv', 'ivan', 'ixl', 'jack', 'jacket', 'jackets', 'jacks', 'jackson', 'jail', 'jam', 'jamaica', 'james', 'jane', 'january', 'japan', 'japanese', 'jar', 'jazz', 'jean', 'jefferson', 'jellyfish', 'jennifer', 'jenny', 'jeopardy', 'jerry', 'jersey', 'jerseys', 'jewelry', 'jitters', 'job', 'jobs', 'joe', 'john', 'johnson', 'join', 'joined', 'joining', 'joints', 'joke', 'jokes', 'jones', 'jordan', 'jose', 'joseph', 'jot', 'journal', 'journaling', 'journalism', 'journalists', 'journals', 'journey', 'journeys', 'joy', 'joyful', 'joyous', 'joys', 'jr', 'judge', 'judged', 'judgement', 'judgment', 'juggle', 'juggling', 'juice', 'juices', 'july', 'jumbo', 'jump', 'jumped', 'jumping', 'jumps', 'jumpstart', 'june', 'jungle', 'junie', 'junior', 'juniors', 'junk', 'justice', 'justify', 'juvenile', 'k4', 'kahn', 'kahoot', 'kansas', 'karaoke', 'karen', 'kate', 'katrina', 'keen', 'keep', 'keeping', 'keeps', 'keepsake', 'keller', 'kelly', 'ken', 'kennedy', 'kensington', 'kentucky', 'kept', 'kevin', 'key', 'keyboard', 'keyboarding', 'keyboards', 'keynote', 'keys', 'khan', 'kick', 'kickball', 'kicked', 'kicking', 'kid', 'kiddo', 'kiddos', 'kidney', 'kids', 'kill', 'killed', 'kiln', 'kind', 'kinder', 'kindergarten', 'kindergartener', 'kindergarteners', 'kindergartens', 'kindergartner', 'kindergartners', 'kinders', 'kindest', 'kindhearted', 'kindle', 'kindles', 'kindly', 'kindness', 'kinds', 'kinesthetic', 'kinesthetically', 'kinetic', 'king', 'kipp', 'kit', 'kitchen', 'kitchens', 'kits', 'kleenex', 'knack', 'knee', 'kneel', 'kneeling', 'knees', 'knew', 'knex', 'knit', 'knock', 'knocked', 'know', 'knowing', 'knowledge', 'knowledgeable', 'known', 'knows', 'kore', 'korea', 'korean', 'kurt', 'la', 'lab', 'label', 'labeled', 'labeling', 'labels', 'labor', 'laboratory', 'labs', 'lacing', 'lack', 'lacked', 'lacking', 'lacks', 'lacrosse', 'ladder', 'ladders', 'ladies', 'lady', 'laid', 'lake', 'lakeshore', 'laminate', 'laminated', 'laminating', 'lamination', 'laminator', 'lamp', 'lamps', 'land', 'landfills', 'landforms', 'landmarks', 'lands', 'landscape', 'landscapes', 'language', 'languages', 'laos', 'lap', 'laps', 'laptop', 'laptops', 'large', 'largely', 'larger', 'largest', 'las', 'laser', 'last', 'lasting', 'lastly', 'lasts', 'latch', 'late', 'lately', 'later', 'latest', 'latin', 'latino', 'latinos', 'latter', 'laugh', 'laughing', 'laughs', 'laughter', 'launch', 'launching', 'laundry', 'lavender', 'law', 'lawrence', 'laws', 'lawyers', 'lay', 'layer', 'layers', 'laying', 'layout', 'lays', 'lazy', 'lcd', 'ld', 'lead', 'leader', 'leaders', 'leadership', 'leading', 'leads', 'leaf', 'league', 'lean', 'leaners', 'leaning', 'leap', 'leapfrog', 'leaps', 'learn', 'learned', 'learner', 'learners', 'learning', 'learnings', 'learns', 'least', 'leather', 'leave', 'leaves', 'leaving', 'lecture', 'lectures', 'lecturing', 'led', 'lee', 'left', 'leftover', 'leftovers', 'leg', 'legacy', 'legal', 'legged', 'legible', 'legitimate', 'lego', 'legos', 'legs', 'leisure', 'lemonade', 'lend', 'lending', 'lends', 'length', 'lengths', 'lengthy', 'lenovo', 'lens', 'lenses', 'less', 'lessen', 'lesson', 'lessons', 'let', 'lets', 'letter', 'letters', 'letting', 'level', 'leveled', 'leveling', 'levels', 'leverage', 'levers', 'lewin', 'lewis', 'lexia', 'lexile', 'lgbtq', 'liberty', 'librarian', 'librarians', 'libraries', 'library', 'lice', 'license', 'licenses', 'lie', 'lies', 'life', 'lifelong', 'lifestyle', 'lifestyles', 'lifetime', 'lift', 'lifting', 'light', 'lightbulb', 'lighthouse', 'lighting', 'lightly', 'lightning', 'lights', 'lightweight', 'like', 'liked', 'likelihood', 'likely', 'likes', 'likewise', 'limit', 'limitation', 'limitations', 'limited', 'limiting', 'limitless', 'limits', 'lincoln', 'line', 'linear', 'lined', 'lines', 'lingual', 'linguistic', 'linguistically', 'lining', 'link', 'linked', 'linking', 'links', 'linoleum', 'lion', 'lip', 'liquid', 'liquids', 'list', 'listed', 'listen', 'listened', 'listener', 'listeners', 'listening', 'lists', 'lit', 'literacy', 'literally', 'literary', 'literate', 'literature', 'little', 'littlebits', 'littles', 'littlest', 'live', 'lived', 'lively', 'lives', 'living', 'load', 'loaded', 'loading', 'loads', 'loan', 'local', 'locally', 'locate', 'located', 'locating', 'location', 'locations', 'lock', 'locked', 'locker', 'lockers', 'locking', 'locks', 'lofty', 'log', 'logan', 'logged', 'logging', 'logic', 'logical', 'logically', 'login', 'logo', 'logs', 'lonely', 'long', 'longer', 'longevity', 'longing', 'look', 'looked', 'looking', 'lookout', 'looks', 'loop', 'looped', 'looping', 'loose', 'loosing', 'lord', 'los', 'lose', 'losing', 'loss', 'losses', 'lost', 'lot', 'lotion', 'lots', 'lottery', 'loud', 'louder', 'loudly', 'louis', 'louisiana', 'louisville', 'lounge', 'lovable', 'love', 'loved', 'lovely', 'lover', 'lovers', 'loves', 'loving', 'low', 'lower', 'lowercase', 'lowered', 'lowering', 'lowest', 'loyal', 'luck', 'luckiest', 'luckily', 'lucky', 'lucy', 'lunch', 'lunches', 'lunchroom', 'lunchtime', 'lungs', 'luther', 'luxuries', 'luxury', 'lying', 'lyrics', 'lysol', 'mac', 'macbook', 'mache', 'machine', 'machines', 'mad', 'made', 'madison', 'magazine', 'magazines', 'magic', 'magical', 'magna', 'magnatiles', 'magnet', 'magnetic', 'magnetism', 'magnets', 'magnificent', 'magnifying', 'mail', 'mailbox', 'mailboxes', 'main', 'maine', 'mainly', 'mainstream', 'mainstreamed', 'mainstreaming', 'maintain', 'maintained', 'maintaining', 'maintains', 'maintenance', 'major', 'majority', 'majors', 'make', 'makeover', 'maker', 'makers', 'makerspace', 'makerspaces', 'makes', 'makeup', 'makey', 'making', 'malala', 'male', 'males', 'mallet', 'mallets', 'man', 'manage', 'manageable', 'managed', 'management', 'manager', 'managing', 'mandarin', 'mandate', 'mandated', 'mandatory', 'mandela', 'maneuver', 'manga', 'manhattan', 'manifest', 'manipulate', 'manipulated', 'manipulates', 'manipulating', 'manipulation', 'manipulative', 'manipulatives', 'manner', 'mannered', 'manners', 'mantra', 'manual', 'manufacturing', 'many', 'map', 'mapping', 'maps', 'marble', 'marbles', 'march', 'marching', 'margaret', 'marginalized', 'maria', 'marine', 'mark', 'marked', 'marker', 'markers', 'market', 'marketable', 'marketing', 'marketplace', 'marking', 'marks', 'mars', 'marshallese', 'martin', 'marvelous', 'mary', 'maryland', 'mascot', 'masking', 'masks', 'mass', 'massachusetts', 'massive', 'master', 'mastered', 'mastering', 'masterpiece', 'masterpieces', 'masters', 'mastery', 'mat', 'match', 'matched', 'matches', 'matching', 'mater', 'material', 'materials', 'mates', 'math', 'mathematic', 'mathematical', 'mathematically', 'mathematician', 'mathematicians', 'mathematics', 'mats', 'matter', 'matters', 'matthew', 'mature', 'maturing', 'maturity', 'max', 'maximize', 'maximized', 'maximizes', 'maximizing', 'maximum', 'may', 'maya', 'maybe', 'mayo', 'maze', 'mazes', 'meager', 'meal', 'meals', 'mean', 'meaning', 'meaningful', 'meaningfully', 'meanings', 'means', 'meant', 'meanwhile', 'measurable', 'measure', 'measured', 'measurement', 'measurements', 'measures', 'measuring', 'mechanical', 'mechanics', 'mechanisms', 'media', 'median', 'medias', 'medical', 'medically', 'medication', 'medicine', 'meditating', 'meditation', 'medium', 'mediums', 'meet', 'meeting', 'meetings', 'meets', 'melodic', 'melodies', 'melody', 'melt', 'melting', 'member', 'members', 'membership', 'memoir', 'memoirs', 'memorable', 'memorial', 'memories', 'memorization', 'memorize', 'memorized', 'memorizing', 'memory', 'memphis', 'men', 'mend', 'mental', 'mentality', 'mentally', 'mention', 'mentioned', 'mentor', 'mentoring', 'mentors', 'menu', 'menus', 'mercy', 'merely', 'merge', 'merit', 'mesh', 'mesmerized', 'mess', 'message', 'messages', 'messes', 'messy', 'met', 'metabolism', 'metal', 'metamorphosis', 'meter', 'method', 'methods', 'metric', 'metro', 'metroplex', 'metropolis', 'metropolitan', 'mexican', 'mexico', 'mi', 'miami', 'mic', 'mice', 'michael', 'michigan', 'micro', 'microorganisms', 'microphone', 'microphones', 'microscope', 'microscopes', 'microscopic', 'microsoft', 'microwave', 'mics', 'mid', 'middle', 'midst', 'midwest', 'might', 'mighty', 'migrant', 'migration', 'mild', 'mile', 'miles', 'milestone', 'milestones', 'military', 'milk', 'mill', 'miller', 'million', 'millions', 'milwaukee', 'mimic', 'min', 'mind', 'minded', 'mindedness', 'mindful', 'mindfulness', 'minds', 'mindset', 'mindsets', 'mindstorm', 'mindstorms', 'mine', 'minecraft', 'mineral', 'minerals', 'mini', 'miniature', 'minimal', 'minimally', 'minimize', 'minimized', 'minimizing', 'minimum', 'mining', 'minis', 'minneapolis', 'minnesota', 'minor', 'minorities', 'minority', 'minute', 'minutes', 'miracle', 'mirror', 'mirrors', 'misbehavior', 'misconceptions', 'mismatched', 'misplaced', 'miss', 'missed', 'missing', 'mission', 'missions', 'mississippi', 'missouri', 'mistake', 'mistakes', 'misunderstood', 'mit', 'mix', 'mixed', 'mixer', 'mixing', 'mixture', 'mn', 'mo', 'mobile', 'mobility', 'moby', 'mobymax', 'mock', 'mockingbird', 'modalities', 'modality', 'mode', 'model', 'modeled', 'modeling', 'models', 'moderate', 'moderately', 'modern', 'modes', 'modest', 'modification', 'modifications', 'modified', 'modify', 'modifying', 'module', 'modules', 'mold', 'molded', 'molding', 'molds', 'molecular', 'molecules', 'mom', 'moment', 'moments', 'momentum', 'moms', 'monday', 'mondays', 'monetary', 'money', 'monies', 'monitor', 'monitored', 'monitoring', 'monitors', 'mono', 'monolingual', 'monopoly', 'monotonous', 'monster', 'monsters', 'montana', 'montessori', 'month', 'monthly', 'months', 'monumental', 'mood', 'moods', 'moon', 'moral', 'morale', 'morals', 'moreover', 'morning', 'mornings', 'mosaic', 'mostly', 'motels', 'mother', 'mothers', 'motion', 'motions', 'motivate', 'motivated', 'motivates', 'motivating', 'motivation', 'motivational', 'motivations', 'motivator', 'motivators', 'motive', 'motor', 'motors', 'motto', 'mount', 'mountain', 'mountains', 'mounted', 'mounting', 'mouse', 'mouth', 'mouthpiece', 'mouthpieces', 'mouths', 'movable', 'move', 'moved', 'movement', 'movements', 'movers', 'moves', 'movie', 'movies', 'moving', 'mp3', 'mr', 'mrs', 'ms', 'much', 'mud', 'multi', 'multiage', 'multicultural', 'multiculturalism', 'multilingual', 'multimedia', 'multiple', 'multiplication', 'multiply', 'multiplying', 'multiracial', 'multisensory', 'multitude', 'mundane', 'mural', 'murals', 'murder', 'muscle', 'muscles', 'muscular', 'museum', 'museums', 'music', 'musical', 'musicality', 'musically', 'musicals', 'musician', 'musicians', 'musicianship', 'must', 'mutual', 'myanmar', 'myon', 'myriad', 'mysteries', 'mysterious', 'mystery', 'mythology', 'myths', 'name', 'named', 'names', 'naming', 'nancy', 'nap', 'narrative', 'narratives', 'narrator', 'narrow', 'nasa', 'nashville', 'nation', 'national', 'nationalities', 'nationally', 'nations', 'nationwide', 'native', 'natives', 'natural', 'naturally', 'nature', 'navigate', 'navigating', 'nc', 'near', 'nearby', 'nearest', 'nearing', 'nearly', 'nearpod', 'neat', 'neatly', 'nebraska', 'necessarily', 'necessary', 'necessities', 'necessity', 'neck', 'necklace', 'necklaces', 'need', 'needed', 'neediest', 'needing', 'needles', 'needless', 'needs', 'needy', 'negative', 'negatively', 'negativity', 'neglect', 'neglected', 'negotiate', 'neighbor', 'neighborhood', 'neighborhoods', 'neighboring', 'neighbors', 'neither', 'nelson', 'neon', 'nepal', 'nerves', 'nervous', 'nestled', 'net', 'nets', 'network', 'networking', 'neurological', 'nevada', 'never', 'nevertheless', 'new', 'newcomer', 'newcomers', 'newer', 'newest', 'newfound', 'newly', 'news', 'newscasts', 'newsela', 'newsletter', 'newsletters', 'newspaper', 'newspapers', 'newton', 'nex', 'next', 'nfl', 'ngss', 'nice', 'nicely', 'nicer', 'nigeria', 'night', 'nightly', 'nightmare', 'nights', 'nine', 'nineteen', 'ninety', 'ninja', 'ninth', 'nit', 'nj', 'no', 'noble', 'nobody', 'noise', 'noises', 'noisy', 'nominated', 'non', 'none', 'nonetheless', 'nonexistent', 'nonfiction', 'nontraditional', 'nonverbal', 'noodle', 'noodles', 'nook', 'nooks', 'nor', 'norm', 'normal', 'normalcy', 'normally', 'norms', 'north', 'northeast', 'northeastern', 'northern', 'northwest', 'nose', 'noses', 'not', 'notable', 'notation', 'notch', 'note', 'notebook', 'notebooks', 'noted', 'notes', 'nothing', 'notice', 'noticed', 'notices', 'noticing', 'noting', 'notion', 'nouns', 'nourish', 'nourished', 'nourishing', 'nourishment', 'novel', 'novels', 'novelty', 'november', 'novice', 'nowadays', 'nowhere', 'nuclear', 'number', 'numbered', 'numbers', 'numeracy', 'numerical', 'numerous', 'nurse', 'nursery', 'nurses', 'nursing', 'nurture', 'nurtured', 'nurtures', 'nurturing', 'nutrient', 'nutrients', 'nutrition', 'nutritional', 'nutritious', 'nuts', 'ny', 'nyc', 'oahu', 'oak', 'oakland', 'oasis', 'obama', 'obese', 'obesity', 'object', 'objective', 'objectives', 'objects', 'obligation', 'observant', 'observation', 'observations', 'observe', 'observed', 'observing', 'obsessed', 'obsolete', 'obstacle', 'obstacles', 'obtain', 'obtained', 'obtaining', 'obvious', 'obviously', 'occasion', 'occasional', 'occasionally', 'occasions', 'occupational', 'occupations', 'occupied', 'occupy', 'occur', 'occurred', 'occurrence', 'occurring', 'occurs', 'ocean', 'oceans', 'october', 'odd', 'odds', 'offer', 'offered', 'offering', 'offerings', 'offers', 'office', 'officer', 'officers', 'offices', 'official', 'officially', 'offset', 'often', 'oftentimes', 'oh', 'ohio', 'oil', 'oils', 'ok', 'okay', 'oklahoma', 'old', 'older', 'oldest', 'olds', 'olympians', 'olympic', 'olympics', 'omaha', 'one', 'ones', 'oneself', 'ongoing', 'online', 'onto', 'onward', 'open', 'opened', 'opening', 'openly', 'opens', 'opera', 'operate', 'operates', 'operating', 'operation', 'operations', 'opinion', 'opinionated', 'opinions', 'opportunites', 'opportunities', 'opportunity', 'opposed', 'opposite', 'oppression', 'opt', 'opted', 'optimal', 'optimism', 'optimistic', 'optimize', 'optimum', 'option', 'optional', 'options', 'oral', 'orally', 'orange', 'orchestra', 'order', 'ordered', 'ordering', 'orderly', 'orders', 'ordinary', 'oregon', 'orff', 'org', 'organ', 'organelles', 'organic', 'organism', 'organisms', 'organization', 'organizational', 'organizations', 'organize', 'organized', 'organizer', 'organizers', 'organizing', 'organs', 'orientation', 'oriented', 'origami', 'origin', 'original', 'originality', 'originally', 'origins', 'orlando', 'orleans', 'orthopedic', 'osmo', 'osmos', 'ot', 'others', 'otherwise', 'ounce', 'outbursts', 'outcome', 'outcomes', 'outdated', 'outdoor', 'outdoors', 'outer', 'outfit', 'outgoing', 'outlet', 'outlets', 'outline', 'outlined', 'outlook', 'outlooks', 'output', 'outreach', 'outs', 'outside', 'outsiders', 'outskirts', 'outspoken', 'outstanding', 'oven', 'overall', 'overcome', 'overcoming', 'overcrowded', 'overcrowding', 'overflow', 'overflowing', 'overhead', 'overjoyed', 'overload', 'overlook', 'overlooked', 'overly', 'overnight', 'overrated', 'overseas', 'oversized', 'overstimulated', 'overview', 'overweight', 'overwhelmed', 'overwhelming', 'overwhelmingly', 'owe', 'owl', 'owls', 'owned', 'owner', 'owners', 'ownership', 'owning', 'owns', 'oxygen', 'ozobot', 'ozobots', 'pa', 'pablo', 'pace', 'paced', 'paces', 'pacific', 'pacing', 'pack', 'package', 'packages', 'packed', 'packets', 'packing', 'packs', 'pad', 'padded', 'padding', 'paddles', 'padlet', 'pads', 'page', 'pages', 'paid', 'pail', 'pain', 'painful', 'pains', 'paint', 'paintbrush', 'paintbrushes', 'painted', 'painters', 'painting', 'paintings', 'paints', 'pair', 'paired', 'pairing', 'pairs', 'pajamas', 'pakistan', 'pal', 'palacio', 'palm', 'palmetto', 'palpable', 'pals', 'palsy', 'panel', 'panels', 'pans', 'pantries', 'pantry', 'pants', 'paper', 'paperback', 'paperless', 'papers', 'paperwork', 'par', 'para', 'parachute', 'parachutes', 'parade', 'parades', 'paradigm', 'paradise', 'paragraph', 'paragraphs', 'parallel', 'paramount', 'paraprofessional', 'paraprofessionals', 'parcc', 'parent', 'parental', 'parenting', 'parents', 'parish', 'park', 'parking', 'parks', 'part', 'partake', 'partial', 'partially', 'participant', 'participants', 'participate', 'participated', 'participates', 'participating', 'participation', 'particular', 'particularly', 'parties', 'partitions', 'partly', 'partner', 'partnered', 'partnering', 'partners', 'partnership', 'partnerships', 'parts', 'party', 'pass', 'passage', 'passages', 'passed', 'passes', 'passing', 'passion', 'passionate', 'passionately', 'passions', 'passive', 'passively', 'past', 'paste', 'pastel', 'pastels', 'pasting', 'paterson', 'path', 'pathologist', 'paths', 'pathway', 'pathways', 'patience', 'patient', 'patricia', 'patrons', 'pattern', 'patterning', 'patterns', 'paul', 'pause', 'pave', 'paws', 'pay', 'paycheck', 'paying', 'pays', 'pbis', 'pbl', 'pbs', 'pc', 'pcs', 'pe', 'peace', 'peaceful', 'peacefully', 'peak', 'peanut', 'pecs', 'pedagogy', 'pedal', 'pedaling', 'pedals', 'pedometer', 'pedometers', 'peek', 'peer', 'peers', 'peg', 'pellet', 'pellets', 'pen', 'pencil', 'pencils', 'peninsula', 'pennies', 'pennsylvania', 'penny', 'pens', 'pent', 'people', 'pep', 'peppermint', 'per', 'perceive', 'perceived', 'percent', 'percentage', 'percentages', 'percentile', 'perception', 'perceptions', 'percussion', 'percussionists', 'perfect', 'perfecting', 'perfectly', 'perform', 'performance', 'performances', 'performed', 'performers', 'performing', 'performs', 'perhaps', 'perimeter', 'period', 'periodic', 'periodically', 'periodicals', 'periods', 'perks', 'permanent', 'permanently', 'permission', 'permit', 'permits', 'permitted', 'perseverance', 'persevere', 'persevered', 'persevering', 'persist', 'persistence', 'persistent', 'person', 'personal', 'personalities', 'personality', 'personalization', 'personalize', 'personalized', 'personalizing', 'personally', 'personnel', 'persons', 'perspective', 'perspectives', 'persuade', 'persuasive', 'pertain', 'pertaining', 'pertains', 'pertinent', 'peru', 'peruse', 'pervasive', 'pet', 'pete', 'pets', 'ph', 'phase', 'phases', 'phenomena', 'phenomenal', 'phenomenon', 'philadelphia', 'philippines', 'philosophy', 'phoenix', 'phone', 'phonemes', 'phonemic', 'phones', 'phonetic', 'phonic', 'phonics', 'phonological', 'photo', 'photograph', 'photographer', 'photographers', 'photographic', 'photographs', 'photography', 'photos', 'photoshop', 'photosynthesis', 'phrase', 'phrases', 'physical', 'physically', 'physics', 'physiology', 'pi', 'piano', 'picasso', 'pick', 'picked', 'picking', 'picks', 'picnic', 'picture', 'pictures', 'pie', 'piece', 'pieces', 'pig', 'pigeon', 'piggie', 'pigs', 'pile', 'piles', 'pillars', 'pillow', 'pillows', 'pilot', 'piloting', 'pin', 'pinch', 'pine', 'ping', 'pink', 'pinnies', 'pins', 'pioneer', 'pioneers', 'pipe', 'pique', 'pirate', 'pit', 'pitch', 'pitched', 'pitches', 'pitching', 'pittsburgh', 'pivotal', 'pizza', 'pk', 'place', 'placed', 'placement', 'places', 'placing', 'plague', 'plagued', 'plain', 'plan', 'plane', 'planes', 'planet', 'planets', 'planned', 'planner', 'planners', 'planning', 'plans', 'plant', 'planted', 'planter', 'planting', 'plants', 'plastic', 'plate', 'plates', 'platform', 'platforms', 'play', 'playback', 'playdoh', 'playdough', 'played', 'player', 'players', 'playful', 'playground', 'playgrounds', 'playing', 'plays', 'playtime', 'pleasant', 'please', 'pleased', 'pleasing', 'pleasurable', 'pleasure', 'pledge', 'plentiful', 'plenty', 'plethora', 'plickers', 'plot', 'plots', 'pltw', 'plug', 'plugged', 'plugs', 'plus', 'plush', 'pm', 'pocket', 'pockets', 'pod', 'podcasts', 'podium', 'pods', 'poem', 'poems', 'poetry', 'poets', 'point', 'pointed', 'pointer', 'pointers', 'pointing', 'points', 'poke', 'pokemon', 'polacco', 'polar', 'pole', 'poles', 'police', 'policy', 'polish', 'polished', 'polite', 'political', 'politicians', 'politics', 'poll', 'pollution', 'poly', 'polynesian', 'pom', 'poms', 'pond', 'ponder', 'pong', 'pool', 'poor', 'poorer', 'poorest', 'poorly', 'pop', 'popcorn', 'popping', 'pops', 'popsicle', 'popular', 'popularity', 'populated', 'population', 'populations', 'port', 'portability', 'portable', 'portal', 'portfolio', 'portfolios', 'portion', 'portions', 'portland', 'portrait', 'portraits', 'portray', 'portrayed', 'portuguese', 'pose', 'posed', 'poses', 'position', 'positional', 'positioned', 'positions', 'positive', 'positively', 'positives', 'positivity', 'possess', 'possesses', 'possessions', 'possibilities', 'possibility', 'possible', 'possibly', 'post', 'posted', 'poster', 'posters', 'posting', 'posts', 'postural', 'posture', 'postures', 'pot', 'potato', 'potential', 'potentially', 'potentials', 'pots', 'potter', 'pottery', 'pouch', 'pouches', 'pour', 'pouring', 'poverty', 'power', 'powered', 'powerful', 'powerpoint', 'powerpoints', 'powers', 'practical', 'practically', 'practice', 'practiced', 'practices', 'practicing', 'prairie', 'praise', 'praised', 'pray', 'praying', 'pre', 'precious', 'precise', 'precisely', 'precision', 'precocious', 'predict', 'predictable', 'predicting', 'prediction', 'predictions', 'predictor', 'predominant', 'predominantly', 'predominately', 'prefer', 'preference', 'preferences', 'preferred', 'preform', 'pregnancy', 'prejudice', 'prek', 'prekindergarten', 'premier', 'premium', 'prep', 'preparation', 'preparatory', 'prepare', 'prepared', 'preparedness', 'prepares', 'preparing', 'preschool', 'preschooler', 'preschoolers', 'presence', 'present', 'presentable', 'presentation', 'presentations', 'presented', 'presenter', 'presenters', 'presenting', 'presently', 'presents', 'preserve', 'preserved', 'preserving', 'president', 'presidential', 'presidents', 'press', 'pressing', 'pressure', 'pressures', 'prestigious', 'preteens', 'pretend', 'pretending', 'pretty', 'pretzels', 'prevalent', 'prevent', 'prevented', 'preventing', 'prevention', 'prevents', 'preview', 'previous', 'previously', 'prey', 'prezi', 'price', 'priced', 'priceless', 'prices', 'pricey', 'pride', 'prides', 'primarily', 'primary', 'prime', 'princesses', 'principal', 'principals', 'principle', 'principles', 'print', 'printable', 'printed', 'printer', 'printers', 'printing', 'printmaking', 'prints', 'prior', 'priorities', 'prioritize', 'priority', 'prison', 'privacy', 'private', 'privately', 'privilege', 'privileged', 'privileges', 'prize', 'prizes', 'pro', 'proactive', 'probability', 'probably', 'probes', 'problem', 'problematic', 'problems', 'procedure', 'procedures', 'proceed', 'process', 'processed', 'processes', 'processing', 'processor', 'procure', 'prodigy', 'produce', 'produced', 'producers', 'produces', 'producing', 'product', 'production', 'productions', 'productive', 'productively', 'productivity', 'products', 'profession', 'professional', 'professionalism', 'professionally', 'professionals', 'professions', 'professor', 'professors', 'proficiency', 'proficient', 'proficiently', 'profile', 'profiles', 'profit', 'profits', 'profound', 'profoundly', 'program', 'programing', 'programmable', 'programmed', 'programmers', 'programming', 'programs', 'progress', 'progressed', 'progresses', 'progressing', 'progression', 'progressive', 'progressively', 'project', 'projected', 'projecting', 'projection', 'projector', 'projectors', 'projects', 'prolonged', 'prom', 'promethean', 'prominent', 'promise', 'promised', 'promises', 'promising', 'promote', 'promoted', 'promotes', 'promoting', 'promotion', 'prompt', 'prompted', 'prompting', 'prompts', 'prone', 'pronounce', 'pronunciation', 'proof', 'prop', 'propel', 'proper', 'properly', 'properties', 'property', 'proportion', 'proportions', 'proposal', 'propose', 'proposed', 'props', 'pros', 'prospect', 'prosper', 'protagonist', 'protect', 'protected', 'protecting', 'protection', 'protective', 'protector', 'protectors', 'protein', 'prototype', 'prototypes', 'prototyping', 'protractors', 'proud', 'prouder', 'proudly', 'prove', 'proved', 'proven', 'proverb', 'proves', 'provide', 'provided', 'provider', 'providers', 'provides', 'providing', 'proving', 'provoking', 'proximity', 'ps', 'psychological', 'psychologist', 'psychology', 'pta', 'pto', 'puberty', 'public', 'publication', 'publications', 'publicly', 'publish', 'published', 'publisher', 'publishing', 'puerto', 'pull', 'pulled', 'pulleys', 'pulling', 'pullout', 'pulls', 'pulse', 'pump', 'pumped', 'pumping', 'pumpkin', 'pumpkins', 'punch', 'punctuation', 'pupils', 'puppet', 'puppets', 'purchase', 'purchased', 'purchases', 'purchasing', 'pure', 'purely', 'purple', 'purpose', 'purposeful', 'purposefully', 'purposes', 'pursue', 'pursuing', 'pursuit', 'pursuits', 'push', 'pushed', 'pushes', 'pushing', 'put', 'puts', 'putting', 'putty', 'puzzle', 'puzzles', 'pyramid', 'pyramids', 'qr', 'quaint', 'qualifications', 'qualified', 'qualifies', 'qualify', 'qualifying', 'qualities', 'quality', 'quantities', 'quantity', 'quarter', 'quarterly', 'quarters', 'queens', 'quench', 'quenched', 'quest', 'question', 'questioners', 'questioning', 'questions', 'quests', 'quick', 'quicker', 'quickly', 'quiet', 'quieter', 'quietly', 'quiets', 'quilt', 'quirky', 'quit', 'quite', 'quiz', 'quizlet', 'quizzes', 'quote', 'quoted', 'quotes', 'race', 'races', 'racial', 'racially', 'racing', 'racism', 'rack', 'racks', 'radio', 'radius', 'raffle', 'rage', 'rain', 'rainbow', 'rainbows', 'rainforest', 'raining', 'rains', 'rainy', 'raise', 'raised', 'raisers', 'raises', 'raising', 'rallies', 'rally', 'ralph', 'rambunctious', 'ramp', 'rampant', 'ramps', 'ran', 'ranches', 'random', 'randomly', 'range', 'ranges', 'ranging', 'rank', 'ranked', 'ranking', 'ranks', 'rap', 'rapid', 'rapidly', 'rapport', 'rare', 'rarely', 'raspberry', 'rate', 'rated', 'rates', 'rather', 'rating', 'ratings', 'ratio', 'ratios', 'raw', 'ray', 'rays', 'raz', 'razkids', 'reach', 'reached', 'reaches', 'reaching', 'react', 'reaction', 'reactions', 'read', 'readability', 'readable', 'reader', 'readers', 'readily', 'readiness', 'reading', 'readings', 'reads', 'ready', 'real', 'realia', 'realistic', 'realistically', 'realities', 'reality', 'realization', 'realize', 'realized', 'realizes', 'realizing', 'really', 'realm', 'reap', 'rearrange', 'reason', 'reasonable', 'reasoning', 'reasons', 'reassurance', 'reassured', 'rebuild', 'rebuilding', 'rebuilt', 'recall', 'receive', 'received', 'receives', 'receiving', 'recent', 'recently', 'receptive', 'recess', 'recesses', 'recharge', 'recieve', 'recipe', 'recipes', 'recipient', 'recipients', 'recite', 'reciting', 'recognition', 'recognize', 'recognized', 'recognizes', 'recognizing', 'recommend', 'recommendation', 'recommendations', 'recommended', 'record', 'recorded', 'recorder', 'recorders', 'recording', 'recordings', 'records', 'recovery', 'recreate', 'recreation', 'recreational', 'recruit', 'rectangle', 'rectangular', 'recyclable', 'recycle', 'recycled', 'recycling', 'red', 'redesign', 'redesigned', 'redesigning', 'redirect', 'redirecting', 'redirection', 'reduce', 'reduced', 'reduces', 'reducing', 'reduction', 'reed', 'reeds', 'reef', 'refer', 'reference', 'references', 'referrals', 'referred', 'referring', 'refill', 'refills', 'refine', 'refining', 'reflect', 'reflected', 'reflecting', 'reflection', 'reflections', 'reflective', 'reflects', 'reflex', 'refocus', 'refocusing', 'refresh', 'refreshed', 'refreshing', 'refrigerator', 'refuel', 'refuge', 'refugee', 'refugees', 'refurbished', 'refuse', 'regain', 'regard', 'regarding', 'regardless', 'regards', 'regents', 'region', 'regional', 'regions', 'register', 'registered', 'regroup', 'regrouping', 'regular', 'regularly', 'regulate', 'regulated', 'regulating', 'regulation', 'regulations', 'rehearsal', 'rehearsals', 'rehearse', 'reinforce', 'reinforced', 'reinforcement', 'reinforcements', 'reinforces', 'reinforcing', 'rekenreks', 'relatable', 'relate', 'related', 'relates', 'relating', 'relation', 'relational', 'relations', 'relationship', 'relationships', 'relative', 'relatively', 'relatives', 'relax', 'relaxation', 'relaxed', 'relaxing', 'relay', 'relays', 'release', 'released', 'releases', 'releasing', 'relentless', 'relentlessly', 'relevance', 'relevant', 'reliable', 'reliance', 'reliant', 'relief', 'relies', 'relieve', 'religion', 'religions', 'religious', 'relish', 'relocate', 'relocated', 'reluctant', 'rely', 'relying', 'remain', 'remainder', 'remained', 'remaining', 'remains', 'remarkable', 'remarkably', 'remedial', 'remediate', 'remediation', 'remedy', 'remember', 'remembered', 'remembering', 'remembers', 'remind', 'reminded', 'reminder', 'reminders', 'reminding', 'reminds', 'remodeled', 'remote', 'remove', 'removed', 'removes', 'removing', 'renaissance', 'renewable', 'renewed', 'renovations', 'rent', 'rental', 'repair', 'repaired', 'repairs', 'repeat', 'repeated', 'repeatedly', 'repeating', 'repertoire', 'repetition', 'repetitive', 'replace', 'replaced', 'replacement', 'replacements', 'replacing', 'replenish', 'replenished', 'replenishing', 'replica', 'replicas', 'replicate', 'replied', 'reply', 'report', 'reported', 'reporters', 'reporting', 'reports', 'represent', 'representation', 'representations', 'representative', 'represented', 'representing', 'represents', 'reproduce', 'republic', 'reputable', 'reputation', 'request', 'requested', 'requesting', 'requests', 'require', 'required', 'requirement', 'requirements', 'requires', 'requiring', 'requisite', 'reread', 'rereading', 'rescue', 'research', 'researched', 'researcher', 'researchers', 'researching', 'resemble', 'reservation', 'reserve', 'reserved', 'reside', 'residential', 'residents', 'resides', 'residing', 'resilience', 'resiliency', 'resilient', 'resist', 'resistance', 'resistant', 'resolution', 'resolve', 'resonate', 'resonates', 'resort', 'resource', 'resourced', 'resourceful', 'resourcefulness', 'resources', 'respect', 'respectable', 'respected', 'respectful', 'respectfully', 'respecting', 'respective', 'respects', 'respiratory', 'respond', 'responded', 'responding', 'responds', 'response', 'responses', 'responsibilities', 'responsibility', 'responsible', 'responsibly', 'responsive', 'rest', 'restaurant', 'restaurants', 'resting', 'restless', 'restlessness', 'restock', 'restorative', 'restore', 'restraints', 'restricted', 'restricting', 'restrictions', 'restrictive', 'restroom', 'rests', 'result', 'resulted', 'resulting', 'results', 'resume', 'resumes', 'retail', 'retain', 'retained', 'retaining', 'reteach', 'reteaching', 'retell', 'retelling', 'retention', 'retire', 'retired', 'retirement', 'retrieval', 'retrieve', 'return', 'returned', 'returning', 'reusable', 'reuse', 'reused', 'reusing', 'reveal', 'revealed', 'revel', 'revenue', 'reverse', 'review', 'reviewed', 'reviewing', 'reviews', 'revise', 'revised', 'revising', 'revision', 'revisions', 'revisit', 'revolution', 'revolutionary', 'revolutionize', 'revolve', 'revolves', 'revolving', 'reward', 'rewarded', 'rewarding', 'rewards', 'rewrite', 'rhode', 'rhyme', 'rhymes', 'rhyming', 'rhythm', 'rhythmic', 'rhythms', 'ribbon', 'ribbons', 'rice', 'rich', 'richard', 'richer', 'richest', 'richly', 'richmond', 'richness', 'rico', 'rid', 'ridden', 'riddled', 'riddles', 'ride', 'rides', 'ridge', 'riding', 'right', 'rights', 'rigid', 'rigor', 'rigorous', 'rigors', 'ring', 'rings', 'rio', 'rip', 'ripped', 'ripping', 'rise', 'risen', 'risers', 'rises', 'rising', 'risk', 'risks', 'river', 'rivers', 'riveting', 'road', 'roadblocks', 'roads', 'roald', 'roam', 'rob', 'robert', 'robinson', 'robot', 'robotic', 'robotics', 'robots', 'robust', 'rochester', 'rock', 'rocker', 'rockers', 'rocket', 'rockets', 'rocking', 'rocks', 'rockstars', 'rocky', 'rods', 'rogers', 'role', 'roles', 'roll', 'rolled', 'roller', 'rolling', 'rolls', 'roof', 'room', 'rooms', 'roosevelt', 'root', 'rooted', 'roots', 'rope', 'ropes', 'roping', 'rose', 'roster', 'rotate', 'rotated', 'rotates', 'rotating', 'rotation', 'rotations', 'rote', 'rouge', 'rough', 'roughest', 'roughly', 'round', 'rounded', 'rounds', 'route', 'routine', 'routinely', 'routines', 'row', 'rowdy', 'rows', 'rsp', 'rti', 'rubber', 'rubric', 'rug', 'rugs', 'ruined', 'rule', 'ruler', 'rulers', 'rules', 'run', 'runner', 'runners', 'running', 'runny', 'runs', 'rural', 'rush', 'rushing', 'russia', 'russian', 'sack', 'sacks', 'sacramento', 'sacrifice', 'sacrifices', 'sad', 'saddens', 'sadly', 'sadness', 'safe', 'safely', 'safer', 'safest', 'safety', 'said', 'saint', 'sake', 'salad', 'salary', 'sale', 'sales', 'salt', 'salvador', 'sam', 'samoa', 'samoan', 'sample', 'samples', 'samsung', 'san', 'sanctuary', 'sand', 'sandy', 'sanitary', 'sanitize', 'sanitizer', 'santa', 'sat', 'satisfaction', 'satisfied', 'satisfy', 'satisfying', 'saturday', 'sauce', 'saucer', 'saudi', 'save', 'saved', 'saver', 'saves', 'saving', 'savings', 'savvy', 'saw', 'saxophone', 'saxophones', 'say', 'saying', 'says', 'sbac', 'sc', 'scaffold', 'scaffolded', 'scaffolding', 'scale', 'scales', 'scan', 'scanner', 'scanning', 'scarce', 'scared', 'scarves', 'scary', 'scattered', 'scavenger', 'scenario', 'scenarios', 'scene', 'scenery', 'scenes', 'scented', 'schedule', 'scheduled', 'schedules', 'scheduling', 'schema', 'scholar', 'scholarly', 'scholars', 'scholarship', 'scholarships', 'scholastic', 'school', 'schoolers', 'schooling', 'schoolmates', 'schools', 'schoolwork', 'science', 'sciences', 'scientific', 'scientifically', 'scientist', 'scientists', 'scissors', 'scoop', 'scoot', 'scooter', 'scooters', 'scope', 'score', 'scored', 'scores', 'scoring', 'scotch', 'scott', 'scouts', 'scrambling', 'scrapbook', 'scratch', 'scratched', 'screen', 'screening', 'screens', 'screws', 'script', 'scripts', 'sculpt', 'sculpting', 'sculpture', 'sculptures', 'sdc', 'se', 'sea', 'seamless', 'seamlessly', 'seams', 'search', 'searched', 'searching', 'season', 'seasonal', 'seasons', 'seat', 'seated', 'seating', 'seats', 'seattle', 'second', 'secondary', 'secondly', 'seconds', 'secret', 'section', 'sections', 'sector', 'secure', 'secured', 'securely', 'securing', 'security', 'sedentary', 'see', 'seed', 'seedlings', 'seeds', 'seeing', 'seek', 'seekers', 'seeking', 'seeks', 'seem', 'seemed', 'seemingly', 'seems', 'seen', 'sees', 'seesaw', 'segment', 'segments', 'segregated', 'seize', 'sel', 'seldom', 'select', 'selected', 'selecting', 'selection', 'selections', 'selective', 'self', 'selfies', 'selfless', 'sell', 'selling', 'selves', 'semester', 'semesters', 'semi', 'seminar', 'seminars', 'send', 'sending', 'sends', 'senegal', 'senior', 'seniors', 'sense', 'senses', 'sensitive', 'sensitivity', 'sensor', 'sensors', 'sensory', 'sent', 'sentence', 'sentences', 'separate', 'separated', 'separately', 'separating', 'separation', 'september', 'sequence', 'sequences', 'sequencing', 'sequential', 'serafini', 'series', 'serious', 'seriously', 'serve', 'served', 'serves', 'service', 'serviced', 'services', 'servicing', 'serving', 'ses', 'session', 'sessions', 'set', 'setbacks', 'sets', 'setting', 'settings', 'settle', 'settled', 'settling', 'setup', 'seuss', 'seven', 'seventeen', 'seventh', 'seventy', 'several', 'severe', 'severely', 'severity', 'sew', 'sewing', 'shade', 'shades', 'shadow', 'shadows', 'shake', 'shakers', 'shakespeare', 'shaking', 'shame', 'shampoo', 'shape', 'shaped', 'shapes', 'shaping', 'share', 'shared', 'shares', 'sharing', 'sharks', 'sharp', 'sharpen', 'sharpened', 'sharpener', 'sharpeners', 'sharpening', 'sharpie', 'sharpies', 'shed', 'sheer', 'sheet', 'sheets', 'shelf', 'shell', 'shells', 'shelter', 'sheltered', 'shelters', 'shelves', 'shelving', 'shields', 'shift', 'shifted', 'shifting', 'shifts', 'shine', 'shines', 'shining', 'shiny', 'ship', 'shirt', 'shirts', 'shock', 'shocked', 'shoe', 'shoes', 'shoot', 'shooting', 'shop', 'shopping', 'shops', 'short', 'shortage', 'shortcomings', 'shorter', 'shortfalls', 'shorts', 'shot', 'shots', 'shoulder', 'shoulders', 'shout', 'shovels', 'show', 'showcase', 'showcased', 'showcases', 'showcasing', 'showed', 'shower', 'showing', 'shown', 'shows', 'shrink', 'shrinking', 'shuffle', 'shuffles', 'shut', 'shy', 'sibling', 'siblings', 'sick', 'side', 'sided', 'sides', 'sidewalk', 'sierra', 'sight', 'sights', 'sign', 'signed', 'significance', 'significant', 'significantly', 'signing', 'signs', 'silence', 'silent', 'silently', 'silhouette', 'silicon', 'silly', 'silver', 'similar', 'similarities', 'similarly', 'simple', 'simpler', 'simplest', 'simply', 'simulate', 'simulated', 'simulation', 'simulations', 'simultaneously', 'since', 'sincere', 'sincerely', 'sing', 'singers', 'singing', 'single', 'singled', 'sings', 'sink', 'sister', 'sisters', 'sit', 'site', 'sites', 'sits', 'sitting', 'situated', 'situation', 'situations', 'six', 'sixteen', 'sixth', 'sixty', 'size', 'sized', 'sizes', 'skeletal', 'skeleton', 'sketch', 'sketchbook', 'sketchbooks', 'sketches', 'sketching', 'skill', 'skilled', 'skillful', 'skills', 'skin', 'skip', 'skipping', 'skits', 'sky', 'skype', 'skyrocket', 'slashed', 'slate', 'slates', 'sleep', 'sleeping', 'sleepy', 'sleeve', 'sleeves', 'slide', 'slides', 'slideshow', 'slideshows', 'sliding', 'slight', 'slightly', 'slim', 'slime', 'slip', 'slipping', 'slips', 'slogan', 'slope', 'slot', 'slots', 'slouching', 'slow', 'slower', 'slowly', 'slp', 'small', 'smaller', 'smallest', 'smart', 'smartboard', 'smartboards', 'smarter', 'smartest', 'smarties', 'smartphone', 'smartphones', 'smarty', 'smell', 'smelling', 'smells', 'smelly', 'smile', 'smiles', 'smiling', 'smith', 'smocks', 'smooth', 'smoother', 'smoothies', 'smoothly', 'snack', 'snacks', 'snap', 'snapshot', 'sneak', 'sneakers', 'snow', 'snowy', 'snuggle', 'soak', 'soaking', 'soap', 'soar', 'soaring', 'soccer', 'social', 'socialization', 'socialize', 'socializing', 'socially', 'societal', 'societies', 'society', 'socio', 'socioeconomic', 'socioeconomically', 'socioeconomics', 'socks', 'socratic', 'soda', 'sofa', 'soft', 'softball', 'softer', 'softly', 'software', 'soil', 'solace', 'solar', 'sold', 'sole', 'solely', 'solid', 'solidify', 'solo', 'solution', 'solutions', 'solve', 'solved', 'solver', 'solvers', 'solving', 'somali', 'somalia', 'somebody', 'someday', 'somehow', 'someone', 'someplace', 'something', 'sometime', 'sometimes', 'somewhat', 'somewhere', 'son', 'song', 'songs', 'sons', 'soon', 'sooner', 'soothe', 'soothing', 'sophisticated', 'sophomore', 'sophomores', 'soprano', 'sore', 'sorely', 'soreness', 'sorry', 'sort', 'sorted', 'sorting', 'sorts', 'sought', 'soul', 'souls', 'sound', 'sounding', 'sounds', 'soup', 'source', 'sources', 'south', 'southeast', 'southeastern', 'southern', 'southside', 'southwest', 'southwestern', 'space', 'spaces', 'spacial', 'spacing', 'spacious', 'span', 'spanish', 'spanning', 'spans', 'spare', 'spark', 'sparked', 'sparking', 'sparkle', 'sparks', 'sparse', 'spatial', 'speak', 'speaker', 'speakers', 'speaking', 'speaks', 'special', 'specialist', 'specialists', 'specialize', 'specialized', 'specializes', 'specially', 'specials', 'specialty', 'species', 'specific', 'specifically', 'specified', 'specimen', 'specimens', 'spectacular', 'spectrum', 'sped', 'speech', 'speeches', 'speed', 'speeds', 'spell', 'spelling', 'spend', 'spending', 'spends', 'spent', 'sphero', 'spheros', 'spice', 'spider', 'spill', 'spills', 'spin', 'spine', 'spines', 'spinners', 'spinning', 'spiral', 'spirit', 'spirited', 'spirits', 'spite', 'split', 'splitter', 'splitters', 'spoke', 'spoken', 'sponge', 'sponges', 'sponsor', 'sponsored', 'sponsoring', 'sponsors', 'spontaneous', 'spoon', 'spoons', 'sport', 'sporting', 'sports', 'sportsmanship', 'spot', 'spotlight', 'spots', 'sprawl', 'spray', 'spread', 'spreading', 'spreads', 'spreadsheets', 'spring', 'springboard', 'springfield', 'springs', 'sprk', 'sprout', 'spunk', 'spunky', 'spur', 'squad', 'square', 'squares', 'squat', 'squeeze', 'squirm', 'squirming', 'squirmy', 'squished', 'squishy', 'sr', 'ssr', 'st', 'staar', 'stability', 'stabilize', 'stable', 'stack', 'stackable', 'stacked', 'stacking', 'stacks', 'stadium', 'staff', 'staffed', 'stage', 'stages', 'stained', 'stains', 'stake', 'stakeholders', 'stakes', 'stamina', 'stamp', 'stampers', 'stamps', 'stand', 'standard', 'standardized', 'standards', 'standing', 'stands', 'staple', 'stapler', 'staplers', 'staples', 'star', 'starbucks', 'starfall', 'starfish', 'staring', 'stars', 'start', 'started', 'starter', 'starters', 'starting', 'starts', 'starving', 'stash', 'state', 'stated', 'statement', 'statements', 'staten', 'states', 'statewide', 'static', 'stating', 'station', 'stationary', 'stationed', 'stations', 'statistic', 'statistical', 'statistically', 'statistics', 'status', 'statuses', 'stay', 'stayed', 'staying', 'stays', 'steadily', 'steady', 'steal', 'steam', 'steel', 'steer', 'stellar', 'stem', 'stemming', 'stems', 'stencils', 'step', 'stephen', 'stepped', 'stepping', 'steps', 'stereo', 'stereotypes', 'sterile', 'steve', 'stewards', 'stewardship', 'stick', 'sticker', 'stickers', 'sticking', 'sticks', 'sticky', 'stiff', 'stifle', 'stifled', 'stigma', 'still', 'stimulate', 'stimulated', 'stimulates', 'stimulating', 'stimulation', 'stimuli', 'stimulus', 'stix', 'stock', 'stocked', 'stocking', 'stolen', 'stomach', 'stomachs', 'stone', 'stones', 'stood', 'stool', 'stools', 'stop', 'stopped', 'stopping', 'stops', 'storage', 'store', 'stored', 'stores', 'stories', 'storing', 'storm', 'story', 'storyboards', 'storybook', 'storybooks', 'storylines', 'storytelling', 'storyworks', 'stove', 'straight', 'strain', 'strands', 'strange', 'strangers', 'strapped', 'straps', 'strategic', 'strategically', 'strategies', 'strategy', 'straws', 'stream', 'streaming', 'streamline', 'streamlined', 'street', 'streets', 'strength', 'strengthen', 'strengthened', 'strengthening', 'strengthens', 'strengths', 'stress', 'stressed', 'stresses', 'stressful', 'stressors', 'stretch', 'stretched', 'stretches', 'stretching', 'stretchy', 'stricken', 'strict', 'strictly', 'strides', 'strike', 'striking', 'string', 'strings', 'strip', 'strips', 'strive', 'strives', 'striving', 'strong', 'stronger', 'strongest', 'strongly', 'struck', 'structural', 'structure', 'structured', 'structures', 'struggle', 'struggled', 'struggles', 'struggling', 'stuck', 'student', 'students', 'studied', 'studies', 'studio', 'study', 'studying', 'stuff', 'stuffed', 'stunning', 'stupid', 'sturdy', 'style', 'styles', 'stylus', 'sub', 'subject', 'subjects', 'submit', 'submitted', 'submitting', 'subscribe', 'subscription', 'subscriptions', 'subsequent', 'subsequently', 'subsidized', 'substance', 'substances', 'substantial', 'substantially', 'substitute', 'subtle', 'subtract', 'subtracting', 'subtraction', 'suburb', 'suburban', 'suburbs', 'succeed', 'succeeded', 'succeeding', 'succeeds', 'success', 'successes', 'successful', 'successfully', 'sudan', 'sudden', 'suddenly', 'suffer', 'suffered', 'suffering', 'suffers', 'sufficient', 'sufficiently', 'sugar', 'sugary', 'suggest', 'suggested', 'suggestion', 'suggestions', 'suggests', 'suit', 'suitable', 'suite', 'suited', 'suits', 'sum', 'summaries', 'summarize', 'summarizing', 'summary', 'summative', 'summer', 'sums', 'sun', 'sunny', 'sunset', 'sunshine', 'super', 'superhero', 'superheroes', 'superior', 'superstars', 'supervise', 'supervised', 'supervision', 'supper', 'supplement', 'supplemental', 'supplementary', 'supplemented', 'supplements', 'supplied', 'supplies', 'supply', 'supplying', 'support', 'supported', 'supporters', 'supporting', 'supportive', 'supports', 'supposed', 'supreme', 'sure', 'surely', 'surface', 'surfaces', 'surfing', 'surge', 'surpass', 'surpassed', 'surpassing', 'surprise', 'surprised', 'surprises', 'surprising', 'surprisingly', 'surround', 'surrounded', 'surrounding', 'surroundings', 'surrounds', 'survey', 'surveyed', 'surveying', 'surveys', 'survival', 'survive', 'survived', 'surviving', 'survivors', 'suspense', 'sustain', 'sustainability', 'sustainable', 'sustained', 'sustaining', 'swahili', 'swap', 'sway', 'sweat', 'sweeping', 'sweet', 'sweetest', 'swim', 'swimming', 'swing', 'swinging', 'swings', 'switch', 'switched', 'switches', 'switching', 'swivel', 'syllable', 'syllables', 'symbol', 'symbolic', 'symbolism', 'symbols', 'symmetry', 'symphony', 'symptoms', 'syndrome', 'synergize', 'synonyms', 'syntax', 'synthesis', 'synthesize', 'synthesizing', 'syria', 'system', 'systematic', 'systematically', 'systems', 'tab', 'table', 'tables', 'tablet', 'tabletop', 'tablets', 'tabs', 'tackle', 'tackling', 'tactile', 'tag', 'tagalog', 'tags', 'tailor', 'tailored', 'take', 'taken', 'takers', 'takes', 'taking', 'tale', 'talent', 'talented', 'talents', 'tales', 'talk', 'talkative', 'talked', 'talkers', 'talking', 'talks', 'tall', 'taller', 'tampa', 'tangible', 'tangle', 'tangled', 'tangram', 'tangrams', 'tank', 'tap', 'tape', 'taped', 'tapes', 'tapestry', 'taping', 'tapping', 'target', 'targeted', 'targeting', 'targets', 'task', 'tasked', 'tasks', 'taste', 'tastes', 'tasting', 'tasty', 'tattered', 'taught', 'tax', 'taylor', 'tea', 'teach', 'teachable', 'teacher', 'teachers', 'teaches', 'teaching', 'teachings', 'team', 'teammate', 'teammates', 'teams', 'teamwork', 'tear', 'tearing', 'tears', 'tech', 'technical', 'technically', 'technicians', 'technique', 'techniques', 'technological', 'technologically', 'technologies', 'technologists', 'technology', 'tectonics', 'ted', 'tedious', 'tee', 'teen', 'teenage', 'teenager', 'teenagers', 'teens', 'teeter', 'teeth', 'teks', 'television', 'tell', 'tellers', 'telling', 'tells', 'tempera', 'temperature', 'temperatures', 'templates', 'temple', 'tempo', 'temporarily', 'temporary', 'ten', 'tenacious', 'tenacity', 'tend', 'tendencies', 'tendency', 'tending', 'tends', 'tenmarks', 'tennessee', 'tennis', 'tens', 'tension', 'tent', 'tenth', 'term', 'terminology', 'terms', 'terrarium', 'terrible', 'terrific', 'territory', 'test', 'testament', 'tested', 'testing', 'tests', 'texas', 'text', 'textbook', 'textbooks', 'texting', 'texts', 'textual', 'texture', 'textured', 'textures', 'th', 'thailand', 'thank', 'thankful', 'thankfully', 'thanks', 'thanksgiving', 'thats', 'theater', 'theaters', 'theatre', 'theatrical', 'thematic', 'theme', 'themed', 'themes', 'theodore', 'theoretical', 'theories', 'theory', 'therapeutic', 'therapist', 'therapists', 'theraputty', 'therapy', 'thereby', 'therefor', 'therefore', 'thermal', 'thermometer', 'thermometers', 'thesaurus', 'thesauruses', 'theses', 'thick', 'thier', 'thin', 'thing', 'things', 'think', 'thinker', 'thinkers', 'thinking', 'thinks', 'third', 'thirds', 'thirst', 'thirsting', 'thirsty', 'thirteen', 'thirty', 'thomas', 'thorough', 'thoroughly', 'though', 'thought', 'thoughtful', 'thoughtfully', 'thoughtfulness', 'thoughts', 'thousand', 'thousands', 'thread', 'threat', 'threatening', 'three', 'thrift', 'thrill', 'thrilled', 'thrilling', 'thrive', 'thrives', 'thriving', 'throughout', 'throw', 'throwing', 'thrown', 'throws', 'thru', 'thrust', 'thumb', 'thunder', 'thursday', 'thursdays', 'thus', 'ti', 'ticket', 'tickets', 'tidy', 'tie', 'tied', 'tier', 'tiered', 'ties', 'tiger', 'tigers', 'tiggly', 'tight', 'tightly', 'tile', 'tiled', 'tiles', 'till', 'tilt', 'tim', 'time', 'timed', 'timeless', 'timelines', 'timely', 'timer', 'timers', 'times', 'timid', 'timing', 'tinker', 'tinkercad', 'tinkering', 'tiny', 'tip', 'tipping', 'tips', 'tire', 'tired', 'tirelessly', 'tiring', 'tissue', 'tissues', 'title', 'titled', 'titles', 'tk', 'tlc', 'tn', 'toad', 'today', 'todays', 'toddlers', 'toes', 'together', 'toilet', 'token', 'told', 'tolerance', 'tolerant', 'toll', 'tom', 'tomorrow', 'tomorrows', 'ton', 'tone', 'toner', 'tones', 'tongue', 'tongues', 'tons', 'took', 'tool', 'toolbox', 'tools', 'toon', 'tooth', 'toothbrush', 'toothbrushes', 'toothpaste', 'toothpicks', 'top', 'topic', 'topics', 'tops', 'torn', 'tornado', 'toss', 'tossing', 'total', 'totally', 'tote', 'totes', 'touch', 'touched', 'touches', 'touching', 'touchscreen', 'tough', 'tougher', 'toughest', 'tour', 'tourism', 'tournament', 'tournaments', 'tours', 'toward', 'towards', 'towel', 'towels', 'tower', 'towers', 'town', 'towns', 'township', 'toxic', 'toy', 'toys', 'trace', 'tracing', 'track', 'tracked', 'tracker', 'trackers', 'tracking', 'tracks', 'trade', 'trading', 'tradition', 'traditional', 'traditionally', 'traditions', 'traffic', 'tragedies', 'tragedy', 'tragic', 'trail', 'trailer', 'trailers', 'train', 'trained', 'trainer', 'trainers', 'training', 'trainings', 'trains', 'trait', 'traits', 'trajectory', 'trampoline', 'transcend', 'transcends', 'transfer', 'transferable', 'transferred', 'transferring', 'transfers', 'transform', 'transformation', 'transformational', 'transformations', 'transformative', 'transformed', 'transforming', 'transforms', 'transient', 'transition', 'transitional', 'transitioned', 'transitioning', 'transitions', 'translate', 'translated', 'translates', 'translation', 'translations', 'translator', 'translators', 'translucent', 'transplant', 'transport', 'transportation', 'transported', 'transporting', 'trapped', 'trash', 'trauma', 'traumatic', 'travel', 'traveled', 'travelers', 'traveling', 'travels', 'tray', 'trays', 'treasure', 'treasured', 'treasures', 'treat', 'treated', 'treating', 'treatment', 'treats', 'tree', 'trees', 'tremendous', 'tremendously', 'trend', 'trends', 'tri', 'trial', 'trials', 'tribe', 'tribes', 'tribulations', 'trick', 'tricks', 'tricky', 'tricycles', 'tried', 'tries', 'trigger', 'trimester', 'trip', 'triple', 'tripod', 'tripping', 'trips', 'triumph', 'triumphs', 'trombone', 'trouble', 'troubled', 'troubles', 'troubleshooting', 'troublesome', 'troubling', 'truck', 'trucks', 'true', 'truly', 'trunk', 'trust', 'trusted', 'trusting', 'truth', 'try', 'trying', 'tub', 'tuba', 'tube', 'tubes', 'tubs', 'tuck', 'tucked', 'tuesday', 'tuition', 'tulsa', 'tumble', 'tumbling', 'tummies', 'tummy', 'tumultuous', 'tune', 'tuned', 'tuners', 'tunes', 'tuning', 'tunnel', 'tunnels', 'turkey', 'turmoil', 'turn', 'turnaround', 'turned', 'turning', 'turns', 'turtle', 'tutor', 'tutorial', 'tutorials', 'tutoring', 'tutors', 'tv', 'tweezers', 'twelfth', 'twelve', 'twenty', 'twice', 'twist', 'twisting', 'twitter', 'two', 'tx', 'tying', 'type', 'typed', 'types', 'typical', 'typically', 'typing', 'ugly', 'ukraine', 'ukulele', 'ukuleles', 'ultimate', 'ultimately', 'umbrella', 'un', 'unable', 'unacceptable', 'unanimously', 'unattainable', 'unavailable', 'unaware', 'unbelievable', 'unbelievably', 'uncertainty', 'uncles', 'uncomfortable', 'uncommon', 'unconditional', 'unconventional', 'uncover', 'undeniable', 'underestimated', 'underfunded', 'undergo', 'undergoing', 'underline', 'underlying', 'underneath', 'underperforming', 'underprivileged', 'underrepresented', 'underserved', 'understand', 'understandable', 'understanding', 'understandings', 'understands', 'understatement', 'understood', 'undertaking', 'underwater', 'underwear', 'undoubtedly', 'unemployed', 'unemployment', 'uneven', 'unexpected', 'unfair', 'unfamiliar', 'unfinished', 'unfocused', 'unfold', 'unfolds', 'unforgettable', 'unfortunate', 'unfortunately', 'unhealthy', 'unified', 'unifix', 'uniform', 'uniforms', 'unimaginable', 'uninterested', 'uninteresting', 'uninterrupted', 'union', 'unique', 'uniquely', 'uniqueness', 'unit', 'unite', 'united', 'unites', 'units', 'unity', 'universal', 'universe', 'universities', 'university', 'unknown', 'unleash', 'unless', 'unlike', 'unlimited', 'unlock', 'unlocking', 'unmatched', 'unmotivated', 'unnatural', 'unnecessary', 'unnoticed', 'unorganized', 'unpack', 'unparalleled', 'unprecedented', 'unpredictable', 'unprepared', 'unquenchable', 'unrealistic', 'unreliable', 'unsafe', 'unstable', 'unstoppable', 'unstructured', 'unsuccessful', 'unsure', 'untapped', 'unthinkable', 'unusable', 'unused', 'unusual', 'unwanted', 'unwind', 'upbeat', 'upbringing', 'upbringings', 'upcoming', 'update', 'updated', 'updates', 'updating', 'upfront', 'upgrade', 'upgraded', 'upgrades', 'upgrading', 'uphill', 'uphold', 'uplifting', 'upload', 'uploaded', 'uploading', 'upon', 'upper', 'upright', 'ups', 'upset', 'upside', 'upstate', 'upward', 'urban', 'urdu', 'urge', 'urgency', 'urgent', 'us', 'usa', 'usable', 'usage', 'usb', 'use', 'used', 'useful', 'useless', 'user', 'users', 'uses', 'using', 'usual', 'usually', 'utah', 'utensil', 'utensils', 'utility', 'utilization', 'utilize', 'utilized', 'utilizes', 'utilizing', 'utmost', 'uv', 'va', 'vacation', 'vacations', 'vacuum', 'valid', 'validated', 'validity', 'valley', 'valuable', 'value', 'valued', 'values', 'van', 'variables', 'variation', 'variations', 'varied', 'varies', 'varieties', 'variety', 'various', 'varsity', 'vary', 'varying', 'vast', 'vastly', 'vegas', 'vegetable', 'vegetables', 'veggies', 'vehicle', 'vehicles', 'velcro', 'velocity', 'venture', 'ventured', 'venue', 'venues', 'verbal', 'verbalize', 'verbally', 'verbs', 'verde', 'verge', 'verify', 'vermont', 'vernier', 'versa', 'versatile', 'versatility', 'versed', 'verses', 'version', 'versions', 'versus', 'vertical', 'vest', 'vested', 'vestibular', 'vests', 'veteran', 'veterans', 'veterinarians', 'vex', 'via', 'viable', 'vibe', 'vibrant', 'vice', 'victims', 'victories', 'victory', 'video', 'videos', 'vietnam', 'vietnamese', 'view', 'viewed', 'viewer', 'viewers', 'viewing', 'viewpoint', 'viewpoints', 'views', 'vigor', 'vigorous', 'village', 'vinyl', 'violence', 'violent', 'violin', 'violins', 'virginia', 'virtual', 'virtually', 'virtues', 'visible', 'vision', 'visions', 'visit', 'visited', 'visiting', 'visitor', 'visitors', 'visits', 'vista', 'visual', 'visualization', 'visualize', 'visualizing', 'visually', 'visuals', 'vital', 'vitally', 'vivacious', 'vivid', 'vocab', 'vocabularies', 'vocabulary', 'vocal', 'vocational', 'voice', 'voiced', 'voices', 'void', 'volcano', 'volcanoes', 'volleyball', 'volleyballs', 'volume', 'volumes', 'voluntary', 'volunteer', 'volunteered', 'volunteering', 'volunteers', 'voracious', 'vote', 'voted', 'voting', 'vowel', 'vowels', 'vr', 'vs', 'vulnerable', 'wacky', 'wage', 'wagon', 'wait', 'waiting', 'wake', 'waking', 'waldo', 'walk', 'walked', 'walking', 'walks', 'wall', 'walls', 'walmart', 'walt', 'wand', 'wander', 'wandering', 'want', 'wanted', 'wanting', 'wants', 'war', 'ward', 'warhol', 'warlick', 'warm', 'warmer', 'warming', 'warms', 'warmth', 'warning', 'warranty', 'warrior', 'warriors', 'wars', 'wash', 'washable', 'washed', 'washing', 'washington', 'waste', 'wasted', 'wastes', 'wasting', 'watch', 'watched', 'watches', 'watching', 'water', 'watercolor', 'watercolors', 'watering', 'waters', 'watson', 'wave', 'waves', 'wax', 'way', 'ways', 'weak', 'weakness', 'weaknesses', 'wealth', 'wealthier', 'wealthy', 'weapon', 'wear', 'wearing', 'wears', 'weather', 'weave', 'weaving', 'web', 'webquests', 'webs', 'website', 'websites', 'wednesday', 'wedo', 'weed', 'weeding', 'weeds', 'week', 'weekend', 'weekends', 'weekly', 'weeks', 'weigh', 'weight', 'weighted', 'weights', 'weird', 'welcome', 'welcomed', 'welcomes', 'welcoming', 'well', 'wellbeing', 'wellness', 'went', 'west', 'western', 'westward', 'wet', 'whatever', 'whats', 'wheel', 'wheelchair', 'wheelchairs', 'wheels', 'whenever', 'whereas', 'wherever', 'whether', 'whichever', 'whisper', 'whistles', 'white', 'whiteboard', 'whiteboards', 'whoever', 'whole', 'wholeheartedly', 'whose', 'wi', 'wide', 'widely', 'widen', 'wider', 'wifi', 'wiggle', 'wigglers', 'wiggles', 'wiggling', 'wiggly', 'wii', 'wiki', 'wikki', 'wild', 'wildlife', 'wildly', 'willed', 'willems', 'william', 'williams', 'willing', 'willingly', 'willingness', 'wilson', 'wimpy', 'win', 'wind', 'window', 'windows', 'wings', 'winn', 'winner', 'winners', 'winning', 'wins', 'winter', 'winters', 'wipe', 'wiped', 'wipes', 'wire', 'wired', 'wireless', 'wirelessly', 'wires', 'wiring', 'wisconsin', 'wisdom', 'wise', 'wisely', 'wish', 'wished', 'wishes', 'wishing', 'wit', 'within', 'without', 'withstand', 'witness', 'witnessed', 'witnessing', 'witty', 'wo', 'wobble', 'wobbling', 'wobbly', 'wold', 'wolf', 'woman', 'women', 'wonder', 'wondered', 'wonderful', 'wonderfully', 'wondering', 'wonderings', 'wonderment', 'wonders', 'wondrous', 'wood', 'wooden', 'woods', 'woodwind', 'word', 'words', 'work', 'workbook', 'workbooks', 'worked', 'worker', 'workers', 'workforce', 'working', 'workout', 'workouts', 'workplace', 'works', 'worksheet', 'worksheets', 'workshop', 'workshops', 'workspace', 'workspaces', 'workstation', 'workstations', 'world', 'worldly', 'worlds', 'worldview', 'worldwide', 'worm', 'worms', 'worn', 'worried', 'worries', 'worry', 'worrying', 'worse', 'worst', 'worth', 'worthwhile', 'worthy', 'would', 'woven', 'wow', 'wrap', 'wraparound', 'wrapped', 'wrestling', 'wrist', 'write', 'writer', 'writers', 'writes', 'writing', 'writings', 'written', 'wrong', 'wrote', 'wwii', 'www', 'wyoming', 'xbox', 'xtramath', 'xylophone', 'xylophones', 'ya', 'yard', 'yards', 'yarn', 'yay', 'year', 'yearbook', 'yearbooks', 'yearlong', 'yearly', 'yearn', 'yearning', 'years', 'yeats', 'yell', 'yellow', 'yemen', 'yes', 'yesterday', 'yet', 'yield', 'yields', 'yoga', 'york', 'young', 'younger', 'youngest', 'youngsters', 'youth', 'youtube', 'yummy', 'zeal', 'zearn', 'zenergy', 'zero', 'zest', 'zip', 'zippers', 'zone', 'zoned', 'zones', 'zoo', 'zoom', 'zoos', 'zumba']\n"
     ]
    },
    {
     "name": "stdout",
     "output_type": "stream",
     "text": [
      "====================================================================================================\n"
     ]
    }
   ],
   "source": [
    "from sklearn.feature_extraction.text import TfidfVectorizer\n",
    "\n",
    "vectorizer = TfidfVectorizer(min_df=10)\n",
    "vectorizer.fit(X_train['text'].values) # fit has to happen only on train data\n",
    "\n",
    "# we use the fitted tfidfVectorizer to convert the text to vector\n",
    "X_train_text_tfidf = vectorizer.transform(X_train['text'].values)\n",
    "X_cv_text_tfidf = vectorizer.transform(X_cv['text'].values)\n",
    "X_test_text_tfidf = vectorizer.transform(X_test['text'].values)\n",
    "\n",
    "print(\"After vectorizations\")\n",
    "print(X_train_text_tfidf.shape, y_train.shape)\n",
    "print(X_cv_text_tfidf.shape, y_cv.shape)\n",
    "print(X_test_text_tfidf.shape, y_test.shape)\n",
    "print(vectorizer.get_feature_names())\n",
    "print(\"=\"*100)"
   ]
  },
  {
   "cell_type": "code",
   "execution_count": 66,
   "metadata": {},
   "outputs": [
    {
     "name": "stdout",
     "output_type": "stream",
     "text": [
      "After vectorizations\n",
      "(31420, 1577) (31420,)\n",
      "(15477, 1577) (15477,)\n",
      "(23100, 1577) (23100,)\n"
     ]
    },
    {
     "name": "stdout",
     "output_type": "stream",
     "text": [
      "['05', '10', '101', '16', '1st', '2016', '2017', '21st', '2nd', '3d', '3doodler', '3rd', '4th', '5th', '60', '6th', '7th', '8th', 'abc', 'aboard', 'about', 'academic', 'access', 'accessible', 'accessing', 'accessories', 'achieve', 'achievement', 'across', 'act', 'action', 'active', 'actively', 'activities', 'activity', 'add', 'adding', 'advanced', 'adventure', 'adventures', 'after', 'again', 'age', 'ahead', 'air', 'algebra', 'alive', 'all', 'along', 'aloud', 'alouds', 'alphabet', 'alternative', 'always', 'am', 'amazing', 'amazon', 'america', 'american', 'an', 'anchor', 'ancient', 'and', 'animal', 'another', 'ants', 'anything', 'anywhere', 'ap', 'app', 'apple', 'apples', 'approach', 'apps', 'architects', 'are', 'area', 'around', 'art', 'artist', 'artistic', 'artists', 'arts', 'as', 'aspiring', 'at', 'athletes', 'atpe', 'attention', 'audio', 'author', 'authors', 'autism', 'avid', 'award', 'awareness', 'away', 'awesome', 'baby', 'back', 'backpack', 'backpacks', 'bag', 'bags', 'balance', 'balancing', 'ball', 'balls', 'band', 'bands', 'bare', 'baseball', 'based', 'basic', 'basics', 'basketball', 'basketballs', 'bass', 'battle', 'be', 'bean', 'beat', 'beautiful', 'because', 'become', 'becoming', 'bee', 'begin', 'beginning', 'begins', 'behavior', 'being', 'believe', 'believing', 'best', 'better', 'beyond', 'big', 'bigger', 'bilingual', 'binders', 'bins', 'biology', 'bit', 'black', 'blast', 'blended', 'blocks', 'blues', 'board', 'boards', 'bodies', 'body', 'boogie', 'book', 'books', 'bookshelves', 'bookworms', 'boom', 'boost', 'bots', 'bounce', 'bouncing', 'bouncy', 'bound', 'box', 'boxes', 'boys', 'brain', 'brains', 'brand', 'break', 'breaking', 'breakout', 'bridge', 'bridges', 'bridging', 'bright', 'brighter', 'brilliant', 'bring', 'bringing', 'brings', 'bronx', 'budding', 'bug', 'build', 'building', 'business', 'busy', 'but', 'butterflies', 'by', 'ca', 'calculating', 'calculators', 'calculus', 'call', 'calling', 'calm', 'calming', 'camera', 'cameras', 'can', 'cannot', 'capture', 'capturing', 'care', 'career', 'carpet', 'cart', 'case', 'cases', 'catch', 'cause', 'cd', 'celebrate', 'celebrating', 'center', 'centered', 'centers', 'century', 'chair', 'chairs', 'challenge', 'challenges', 'challenging', 'chance', 'change', 'changing', 'chapter', 'character', 'characters', 'charge', 'charged', 'charging', 'chart', 'charts', 'check', 'cheese', 'chemistry', 'chess', 'chevron', 'child', 'childhood', 'children', 'choice', 'choices', 'choose', 'chrome', 'chromebook', 'chromebooks', 'circle', 'circles', 'circuits', 'citizens', 'city', 'civil', 'class', 'classes', 'classic', 'classroom', 'classrooms', 'clay', 'clean', 'clear', 'clearly', 'click', 'close', 'closer', 'club', 'clubs', 'code', 'coders', 'coding', 'coffee', 'cold', 'collaborate', 'collaboration', 'collaborative', 'collection', 'college', 'color', 'colored', 'colorful', 'colors', 'come', 'comes', 'comfort', 'comfortable', 'comfy', 'comic', 'comics', 'coming', 'common', 'communicate', 'communicating', 'communication', 'community', 'complete', 'comprehension', 'computer', 'computers', 'concentration', 'concepts', 'confidence', 'connect', 'connected', 'connecting', 'connection', 'connections', 'content', 'continuing', 'control', 'cooking', 'cool', 'cooperative', 'copy', 'core', 'corner', 'could', 'counseling', 'count', 'counting', 'cozy', 'crafty', 'crayons', 'crazy', 'create', 'creates', 'creating', 'creation', 'creations', 'creative', 'creatively', 'creativity', 'cricut', 'critical', 'cross', 'cultivating', 'cultural', 'culturally', 'culture', 'curiosity', 'curious', 'current', 'curriculum', 'cushions', 'cut', 'cutting', 'cycle', 'cycles', 'daily', 'dance', 'dancing', 'dash', 'data', 'day', 'days', 'deaf', 'deck', 'deep', 'deeper', 'deserve', 'deserving', 'design', 'designing', 'desk', 'desks', 'desperate', 'desperately', 'develop', 'developing', 'development', 'devices', 'dictionaries', 'did', 'difference', 'different', 'differentiated', 'differentiation', 'digging', 'digital', 'disabilities', 'discover', 'discovering', 'discovery', 'display', 'dissection', 'dive', 'diverse', 'diversity', 'divide', 'do', 'document', 'does', 'doing', 'done', 'doodling', 'doors', 'dot', 'dots', 'down', 'dr', 'drama', 'dramatic', 'draw', 'drawing', 'dream', 'dreaming', 'dreams', 'driven', 'drone', 'drop', 'drum', 'drumming', 'drums', 'dry', 'dual', 'during', 'dynamic', 'each', 'eager', 'ear', 'early', 'ears', 'earth', 'ease', 'easel', 'easy', 'eat', 'eating', 'economics', 'ed', 'edge', 'edition', 'edu', 'educating', 'education', 'educational', 'effective', 'ela', 'electronic', 'elementary', 'ells', 'em', 'embracing', 'emotional', 'empathy', 'empowering', 'encourage', 'encouraging', 'end', 'endless', 'energetic', 'energy', 'engage', 'engaged', 'engagement', 'engaging', 'engineering', 'engineers', 'english', 'enhance', 'enhanced', 'enhancing', 'enjoy', 'enriching', 'enrichment', 'environment', 'environmental', 'equal', 'equals', 'equipment', 'erase', 'escape', 'esl', 'esol', 'essential', 'essentials', 'even', 'events', 'ever', 'every', 'everybody', 'everyday', 'everyone', 'everything', 'everywhere', 'excel', 'excellence', 'exceptional', 'excited', 'excitement', 'exciting', 'exercise', 'exercising', 'expand', 'expanding', 'experience', 'experiences', 'exploration', 'explore', 'explorers', 'exploring', 'express', 'expression', 'extra', 'eye', 'eyes', 'fabulous', 'facts', 'fair', 'fairy', 'fall', 'families', 'family', 'fantastic', 'farm', 'favorite', 'feed', 'feeding', 'feel', 'feeling', 'feet', 'few', 'fiction', 'fidget', 'fidgeting', 'fidgets', 'fidgety', 'field', 'fifth', 'fill', 'filling', 'film', 'final', 'financial', 'find', 'finding', 'fine', 'fingers', 'fingertips', 'fire', 'fired', 'fires', 'first', 'firsties', 'fit', 'fitbits', 'fitness', 'five', 'flex', 'flexibility', 'flexible', 'flexing', 'flip', 'flood', 'flooding', 'floor', 'fluency', 'fluent', 'fly', 'focus', 'focused', 'focusing', 'folders', 'food', 'football', 'for', 'force', 'forever', 'forward', 'foster', 'fostering', 'foundation', 'fourth', 'free', 'freedom', 'french', 'frenzy', 'fresh', 'friend', 'friendly', 'friends', 'from', 'fuel', 'fueling', 'full', 'fun', 'functional', 'fund', 'fundamental', 'furniture', 'future', 'futures', 'galore', 'game', 'games', 'gap', 'garden', 'gardening', 'gather', 'gathering', 'gear', 'generation', 'genius', 'geniuses', 'geometry', 'germs', 'get', 'gets', 'getting', 'gift', 'gifted', 'girls', 'give', 'giving', 'global', 'glue', 'go', 'goal', 'goals', 'goes', 'going', 'gold', 'golden', 'golf', 'gone', 'good', 'google', 'got', 'grab', 'grade', 'graders', 'grades', 'graphic', 'graphics', 'graphing', 'great', 'green', 'groovin', 'grooving', 'group', 'groups', 'grow', 'growing', 'growth', 'guided', 'guitar', 'gym', 'habits', 'hand', 'hands', 'happen', 'happy', 'hard', 'has', 'have', 'having', 'head', 'headphones', 'heads', 'health', 'healthier', 'healthy', 'hear', 'heard', 'hearing', 'heart', 'hearts', 'heights', 'help', 'helping', 'helps', 'here', 'hero', 'heroes', 'hey', 'high', 'higher', 'historical', 'history', 'hokki', 'hold', 'holocaust', 'home', 'homework', 'hoops', 'hooray', 'hope', 'hot', 'hour', 'house', 'how', 'human', 'hunger', 'hungry', 'hygiene', 'ican', 'idea', 'ideas', 'if', 'ignite', 'igniting', 'ii', 'iii', 'ilearn', 'imagination', 'imaginations', 'imagine', 'important', 'improve', 'improving', 'in', 'incentives', 'inclusive', 'income', 'increase', 'increased', 'increasing', 'independence', 'independent', 'individual', 'individualized', 'indoor', 'information', 'ing', 'ink', 'inner', 'innovation', 'innovative', 'innovators', 'inquiring', 'inquiry', 'inquisitive', 'inside', 'inspiration', 'inspire', 'inspired', 'inspires', 'inspiring', 'instruction', 'instruments', 'integrating', 'integration', 'interactive', 'interest', 'interesting', 'intervention', 'interventions', 'into', 'investigating', 'ipad', 'ipads', 'iread', 'is', 'it', 'items', 'its', 'job', 'journalism', 'journals', 'journey', 'joy', 'jump', 'jumping', 'junior', 'just', 'justice', 'keep', 'keeping', 'keeps', 'key', 'keyboards', 'keys', 'kick', 'kid', 'kiddos', 'kidney', 'kids', 'kind', 'kinder', 'kindergarten', 'kindergarteners', 'kindergartners', 'kinders', 'kindle', 'kindles', 'kindness', 'kinesthetic', 'kit', 'kitchen', 'kits', 'know', 'knowledge', 'lab', 'laboratory', 'labs', 'laminator', 'language', 'lap', 'laptop', 'laptops', 'last', 'lead', 'leader', 'leaders', 'leading', 'leads', 'leap', 'leaping', 'learn', 'learner', 'learners', 'learning', 'led', 'lego', 'legos', 'lens', 'less', 'lessons', 'let', 'lets', 'letter', 'letters', 'level', 'leveled', 'levels', 'library', 'life', 'lifelong', 'lifestyle', 'lifetime', 'light', 'lighting', 'lights', 'like', 'listen', 'listening', 'literacy', 'literary', 'literature', 'little', 'live', 'lives', 'living', 'long', 'look', 'looking', 'lost', 'loud', 'lounge', 'love', 'lovers', 'loves', 'loving', 'low', 'macbook', 'machine', 'mad', 'made', 'madness', 'magazine', 'magazines', 'magic', 'magical', 'magnetic', 'magnets', 'magnificent', 'make', 'makeover', 'maker', 'makers', 'makerspace', 'makes', 'makey', 'making', 'management', 'mania', 'manipulatives', 'many', 'marching', 'markers', 'market', 'marvelous', 'mastering', 'masterpieces', 'masters', 'materials', 'math', 'mathematical', 'mathematicians', 'mathematics', 'mats', 'matter', 'matters', 'may', 'me', 'meaning', 'meaningful', 'means', 'media', 'meet', 'meeting', 'meets', 'member', 'memories', 'mentor', 'mice', 'microphones', 'microscopes', 'middle', 'mighty', 'mind', 'mindful', 'mindfulness', 'minds', 'mindset', 'mini', 'minis', 'minutes', 'miss', 'missing', 'mission', 'mobile', 'modeling', 'models', 'modern', 'money', 'moon', 'more', 'morning', 'most', 'motion', 'motivate', 'motivated', 'motivating', 'motivation', 'motor', 'mouse', 'move', 'movement', 'movers', 'movin', 'moving', 'mr', 'mrs', 'ms', 'much', 'multi', 'muscles', 'music', 'musical', 'musicians', 'must', 'my', 'mystery', 'necessary', 'necessities', 'need', 'needed', 'needing', 'needs', 'never', 'new', 'news', 'next', 'nice', 'night', 'no', 'noise', 'non', 'nonfiction', 'nook', 'not', 'notebook', 'notebooks', 'nothing', 'novel', 'novels', 'now', 'number', 'numbers', 'nutrition', 'odds', 'of', 'off', 'oh', 'old', 'on', 'once', 'one', 'ones', 'online', 'only', 'open', 'opening', 'opens', 'operation', 'opportunities', 'opportunity', 'optimal', 'options', 'orchestra', 'order', 'organization', 'organizational', 'organize', 'organized', 'organizing', 'osmo', 'osmos', 'other', 'our', 'ourselves', 'out', 'outdoor', 'outside', 'outstanding', 'over', 'owl', 'own', 'ozobots', 'pad', 'pads', 'page', 'paint', 'painting', 'pants', 'paper', 'parents', 'part', 'passion', 'past', 'path', 'pe', 'peace', 'pedaling', 'pen', 'pencil', 'pencils', 'pens', 'people', 'perfect', 'performance', 'personal', 'personalized', 'phones', 'phonics', 'photography', 'physical', 'physics', 'piano', 'pick', 'picture', 'pictures', 'place', 'places', 'plant', 'planting', 'plants', 'play', 'players', 'playground', 'playing', 'please', 'pockets', 'pocus', 'poetry', 'pokey', 'pop', 'portable', 'portfolios', 'positive', 'possibilities', 'possible', 'post', 'potter', 'power', 'powerful', 'practice', 'pre', 'prek', 'prep', 'prepare', 'prepared', 'preparing', 'preschool', 'preschoolers', 'present', 'presentation', 'presentations', 'pretend', 'pretty', 'pride', 'print', 'printer', 'printers', 'printing', 'printmaking', 'privacy', 'pro', 'problem', 'problems', 'production', 'program', 'programming', 'progress', 'project', 'projecting', 'projector', 'projects', 'promote', 'promoting', 'protect', 'protecting', 'protection', 'proud', 'provide', 'providing', 'pt', 'publish', 'publishing', 'pump', 'puppets', 'purpose', 'put', 'putting', 'puzzles', 'quality', 'quest', 'quiet', 'quill', 'race', 'rain', 'rainbow', 'rainy', 'raising', 'reach', 'reaching', 'read', 'reader', 'readers', 'readiness', 'reading', 'reads', 'ready', 'real', 'reality', 'really', 'rebuilding', 'recess', 'recorders', 'recording', 'reeds', 'relax', 'relevant', 'reluctant', 'repeat', 'rescue', 'research', 'researchers', 'resistable', 'resource', 'resources', 'rest', 'results', 'reuse', 'revolution', 'rewarding', 'rewards', 'rhythm', 'ride', 'right', 'rights', 'rise', 'risk', 'road', 'robot', 'robotic', 'robotics', 'robots', 'rock', 'rockin', 'rocking', 'rocks', 'roll', 'rolling', 'room', 'round', 'rug', 'rules', 'run', 'running', 'rural', 'sacks', 'safe', 'safety', 'sand', 'save', 'saving', 'savvy', 'savy', 'say', 'scholars', 'scholastic', 'school', 'schoolers', 'science', 'scientific', 'scientist', 'scientists', 'scissors', 'scope', 'screen', 'sea', 'search', 'seat', 'seating', 'seats', 'second', 'secret', 'see', 'seeing', 'seek', 'seeking', 'self', 'sensational', 'sense', 'senses', 'sensory', 'series', 'serious', 'set', 'sets', 'setting', 'seuss', 'shake', 'shakers', 'shape', 'shapes', 'share', 'sharing', 'sharp', 'sharpen', 'shelf', 'shelves', 'shine', 'shoes', 'shoot', 'shop', 'should', 'show', 'sight', 'simple', 'sims', 'sing', 'singing', 'sit', 'sitting', 'skill', 'skills', 'small', 'smart', 'smarter', 'snack', 'snacks', 'snap', 'snug', 'so', 'soar', 'soaring', 'soccer', 'social', 'soft', 'solutions', 'solve', 'solvers', 'solving', 'some', 'something', 'sound', 'sounds', 'space', 'spaces', 'spanish', 'spark', 'speak', 'speakers', 'speaking', 'special', 'spectacular', 'speech', 'sphero', 'spirit', 'sports', 'spot', 'spring', 'stability', 'stage', 'stamina', 'stand', 'standing', 'stands', 'star', 'stars', 'start', 'started', 'starting', 'starts', 'state', 'station', 'stations', 'stay', 'staying', 'steam', 'steaming', 'stem', 'step', 'stepping', 'stick', 'sticks', 'still', 'stimulate', 'stock', 'stools', 'stop', 'storage', 'store', 'stories', 'story', 'storytelling', 'storyworks', 'strength', 'strengthen', 'stress', 'strong', 'stronger', 'struggling', 'student', 'students', 'studies', 'studio', 'study', 'stuff', 'style', 'styles', 'succeed', 'success', 'successful', 'summer', 'super', 'superheroes', 'superstars', 'supplies', 'supply', 'support', 'supporting', 'supports', 'surface', 'sustainable', 'sweet', 'system', 'systems', 'table', 'tables', 'tablet', 'tablets', 'take', 'takes', 'taking', 'tale', 'tales', 'talk', 'target', 'targeting', 'tastic', 'teach', 'teacher', 'teachers', 'teaching', 'team', 'teamwork', 'tech', 'techie', 'techies', 'techno', 'technological', 'technology', 'techy', 'teens', 'tell', 'tennis', 'terrific', 'test', 'testing', 'text', 'texts', 'than', 'that', 'the', 'theater', 'theatre', 'their', 'them', 'therapy', 'there', 'these', 'they', 'thing', 'things', 'think', 'thinkers', 'thinking', 'third', 'this', 'those', 'thousand', 'three', 'thrive', 'through', 'tidy', 'tigers', 'tiles', 'time', 'times', 'tiny', 'title', 'tk', 'to', 'today', 'together', 'tomorrow', 'too', 'tool', 'tools', 'toon', 'top', 'touch', 'toward', 'towards', 'toys', 'track', 'tracking', 'traditional', 'train', 'training', 'transforming', 'travel', 'treasure', 'trip', 'true', 'tune', 'turn', 'turning', 'tv', 'twenty', 'twist', 'two', 'type', 'ukulele', 'ukuleles', 'under', 'understand', 'understanding', 'unique', 'unit', 'unite', 'up', 'update', 'updated', 'upgrade', 'upon', 'urban', 'us', 'use', 'using', 'utilizing', 'very', 'via', 'video', 'videos', 'view', 'virtual', 'visual', 'visualize', 'visuals', 'vocabulary', 'voice', 'voices', 'volleyball', 'volume', 'walk', 'walking', 'wall', 'walls', 'want', 'wanted', 'wants', 'war', 'warm', 'was', 'watch', 'water', 'wave', 'way', 'ways', 'we', 'weather', 'welcome', 'welcoming', 'well', 'wellness', 'were', 'what', 'wheels', 'when', 'where', 'while', 'white', 'whiteboard', 'whiteboards', 'who', 'whole', 'why', 'wide', 'wiggle', 'wiggles', 'wiggling', 'wiggly', 'wild', 'will', 'win', 'window', 'winning', 'winter', 'wireless', 'wish', 'with', 'within', 'without', 'wizards', 'wo', 'wobble', 'wobbling', 'wobbly', 'wonder', 'wonderful', 'word', 'words', 'work', 'workers', 'working', 'works', 'workshop', 'world', 'worlds', 'worms', 'worth', 'would', 'wow', 'write', 'writer', 'writers', 'writing', 'ye', 'year', 'yearbook', 'yes', 'yoga', 'you', 'young', 'your', 'yourself', 'youth', 'zone']\n"
     ]
    },
    {
     "name": "stdout",
     "output_type": "stream",
     "text": [
      "====================================================================================================\n"
     ]
    }
   ],
   "source": [
    "from sklearn.feature_extraction.text import TfidfVectorizer\n",
    "\n",
    "vectorizer = TfidfVectorizer(min_df=10)\n",
    "vectorizer.fit(X_train['project_title'].values.astype('U')) # fit has to happen only on train data\n",
    "\n",
    "# we use the fitted tfidfVectorizer to convert the text to vector\n",
    "X_train_title_tfidf = vectorizer.transform(X_train['project_title'].values.astype('U'))\n",
    "X_cv_title_tfidf = vectorizer.transform(X_cv['project_title'].values.astype('U'))\n",
    "X_test_title_tfidf = vectorizer.transform(X_test['project_title'].values.astype('U'))\n",
    "\n",
    "print(\"After vectorizations\")\n",
    "print(X_train_title_tfidf.shape, y_train.shape)\n",
    "print(X_cv_title_tfidf.shape, y_cv.shape)\n",
    "print(X_test_title_tfidf.shape, y_test.shape)\n",
    "print(vectorizer.get_feature_names())\n",
    "print(\"=\"*100)"
   ]
  },
  {
   "cell_type": "markdown",
   "metadata": {},
   "source": [
    "### Using gensim for doing word2vec"
   ]
  },
  {
   "cell_type": "markdown",
   "metadata": {},
   "source": [
    "### Applying word2vec on project title"
   ]
  },
  {
   "cell_type": "code",
   "execution_count": 67,
   "metadata": {},
   "outputs": [
    {
     "name": "stderr",
     "output_type": "stream",
     "text": [
      "C:\\Users\\mani\\Anaconda3\\lib\\site-packages\\gensim\\utils.py:1197: UserWarning: detected Windows; aliasing chunkize to chunkize_serial\n",
      "  warnings.warn(\"detected Windows; aliasing chunkize to chunkize_serial\")\n"
     ]
    },
    {
     "name": "stdout",
     "output_type": "stream",
     "text": [
      "number of words that occured minimum 5 times  2612\n",
      "sample words  ['uke', 'n', 'do', 'it', 'a', 'printer', 'ink', 'please', 'keep', 'moving', 'flexible', 'seating', 'engaged', 'learners', 'technology', 'in', 'my', 'hand', 'history', 'literature', 'promote', 'walking', '4th', 'graders', 'create', 'collaborate', 'chromebooks', 'part', '16', '17', 'portable', 'magic', 'kindle', 'fires', 'we', 'got', 'the', 'write', 'stuff', 'colorful', 'mindset', 'cozy', 'up', 'read', 'science', 'exploration', 'creating', 'positive', 'school', 'culture']\n"
     ]
    }
   ],
   "source": [
    "list_of_sentance_train=[]\n",
    "for sentance in (X_train['project_title'].values):\n",
    "    list_of_sentance_train.append(sentance.split())\n",
    "from gensim.models import Word2Vec\n",
    "from gensim.models import KeyedVectors\n",
    "w2v_model=Word2Vec(list_of_sentance_train,min_count=5,size=50, workers=4)\n",
    "w2v_words = list(w2v_model.wv.vocab)\n",
    "print(\"number of words that occured minimum 5 times \",len(w2v_words))\n",
    "print(\"sample words \", w2v_words[0:50])"
   ]
  },
  {
   "cell_type": "code",
   "execution_count": 68,
   "metadata": {},
   "outputs": [
    {
     "name": "stderr",
     "output_type": "stream",
     "text": [
      "100%|█████████████████████████████████████████████████████████████████████████| 31420/31420 [00:02<00:00, 10650.79it/s]\n"
     ]
    },
    {
     "name": "stdout",
     "output_type": "stream",
     "text": [
      "(31420, 50)\n",
      "[-5.08816745e-02  1.45154527e-01  3.56130388e-01 -1.03055507e+00\n",
      "  6.97106495e-03  6.39888983e-01  3.40124920e-01 -3.67200351e-03\n",
      " -5.18271670e-01 -4.07143432e-01 -5.24845172e-01  4.94243111e-02\n",
      "  2.68066887e-01 -2.61641080e-01 -6.41805194e-02  3.33234136e-01\n",
      "  6.95195869e-01  1.85921886e-01 -1.92988122e-01 -5.91347188e-01\n",
      "  6.32075202e-02 -1.19326448e+00  4.92527032e-01  5.38565852e-01\n",
      "  1.64447869e-01 -8.38620793e-01 -6.04664123e-01  6.13397004e-01\n",
      "  2.88028029e-01  3.09706559e-01  4.39725508e-01 -2.70378822e-02\n",
      "  3.25252302e-04 -1.61965269e-01  4.34887245e-01  1.59882893e-01\n",
      " -4.13327608e-01  9.91029246e-02 -6.04767960e-01 -3.30887170e-01\n",
      " -2.71422556e-02 -6.98236357e-02 -9.69100385e-02 -4.27630052e-01\n",
      " -7.85200978e-02  4.02326251e-02  4.28771041e-02  2.93610421e-01\n",
      "  1.40351940e-01 -5.09939827e-02]\n"
     ]
    }
   ],
   "source": [
    "from tqdm import tqdm\n",
    "import numpy as np\n",
    "sent_vectors_train = []; # the avg-w2v for each sentence/review is stored in this list\n",
    "for sent in tqdm(list_of_sentance_train): # for each review/sentence\n",
    "    sent_vec = np.zeros(50) # as word vectors are of zero length 50, you might need to change this to 300 if you use google's w2v\n",
    "    cnt_words =0; # num of words with a valid vector in the sentence/review\n",
    "    for word in sent: # for each word in a review/sentence\n",
    "        if word in w2v_words:\n",
    "            vec = w2v_model.wv[word]\n",
    "            sent_vec += vec\n",
    "            cnt_words += 1\n",
    "    if cnt_words != 0:\n",
    "        sent_vec /= cnt_words\n",
    "    sent_vectors_train.append(sent_vec)\n",
    "X_train_title_avgw2v = np.array(sent_vectors_train)\n",
    "print(X_train_title_avgw2v.shape)\n",
    "print(X_train_title_avgw2v[0])"
   ]
  },
  {
   "cell_type": "code",
   "execution_count": 69,
   "metadata": {},
   "outputs": [
    {
     "name": "stderr",
     "output_type": "stream",
     "text": [
      "100%|█████████████████████████████████████████████████████████████████████████| 15477/15477 [00:01<00:00, 11256.45it/s]\n"
     ]
    },
    {
     "name": "stdout",
     "output_type": "stream",
     "text": [
      "(15477, 50)\n",
      "[ 3.67703132e-01  5.10731577e-01  1.85832135e-01 -9.63744126e-01\n",
      " -3.74046497e-01  7.65606057e-01  6.80749662e-01  1.01115555e-03\n",
      " -6.54787532e-01 -2.34114075e-01 -6.04289506e-01 -2.11643644e-01\n",
      " -9.44414334e-02 -2.05941750e-01  8.96879062e-02  2.90581442e-01\n",
      "  7.58801520e-01 -2.18413138e-02 -1.99453676e-01 -2.63970993e-01\n",
      " -2.14429351e-01 -1.42165713e+00  5.11424735e-01  9.68710959e-01\n",
      "  1.69018681e-01 -5.17017230e-01  2.05646504e-01  2.40451606e-01\n",
      "  4.26270034e-01  6.41157255e-02 -9.20658391e-02 -2.93228306e-01\n",
      " -3.60374809e-01 -2.29646552e-01  2.75285462e-01  3.31047680e-01\n",
      " -1.04467613e+00 -1.89409804e-01 -3.31501551e-01  4.18751065e-01\n",
      " -2.00909747e-01  1.04930915e-01 -3.42336707e-02 -3.26252565e-01\n",
      " -1.40244059e-01 -2.97310825e-01  1.34530306e-01  4.14027862e-01\n",
      "  1.56419855e-01 -1.22554693e-01]\n"
     ]
    }
   ],
   "source": [
    "list_of_sentance_train=[]\n",
    "for sentance in (X_cv['project_title'].values):\n",
    "    list_of_sentance_train.append(sentance.split())\n",
    "from tqdm import tqdm\n",
    "import numpy as np\n",
    "sent_vectors_train = []; # the avg-w2v for each sentence/review is stored in this list\n",
    "for sent in tqdm(list_of_sentance_train): # for each review/sentence\n",
    "    sent_vec = np.zeros(50) # as word vectors are of zero length 50, you might need to change this to 300 if you use google's w2v\n",
    "    cnt_words =0; # num of words with a valid vector in the sentence/review\n",
    "    for word in sent: # for each word in a review/sentence\n",
    "        if word in w2v_words:\n",
    "            vec = w2v_model.wv[word]\n",
    "            sent_vec += vec\n",
    "            cnt_words += 1\n",
    "    if cnt_words != 0:\n",
    "        sent_vec /= cnt_words\n",
    "    sent_vectors_train.append(sent_vec)\n",
    "X_cv_title_avgw2v = np.array(sent_vectors_train)\n",
    "print(X_cv_title_avgw2v.shape)\n",
    "print(X_cv_title_avgw2v[0])"
   ]
  },
  {
   "cell_type": "code",
   "execution_count": 70,
   "metadata": {},
   "outputs": [
    {
     "name": "stderr",
     "output_type": "stream",
     "text": [
      "100%|█████████████████████████████████████████████████████████████████████████| 23100/23100 [00:02<00:00, 11070.52it/s]\n"
     ]
    },
    {
     "name": "stdout",
     "output_type": "stream",
     "text": [
      "(23100, 50)\n",
      "[ 1.60020858e-01  5.76510712e-02  4.34399708e-01 -5.62790441e-01\n",
      " -3.53790683e-01  3.64384854e-01  2.63641582e-01 -1.91898116e-01\n",
      " -4.72982532e-02 -1.05507281e-01 -2.56424318e-01  2.95911440e-01\n",
      "  6.56699887e-02 -2.03353104e-01  2.32223336e-01  1.46446767e-01\n",
      "  4.96448817e-01  4.43469610e-02  9.91963052e-02 -4.52972279e-01\n",
      "  1.37884803e-01 -7.76379051e-01  1.85170905e-01  6.26554452e-01\n",
      " -2.79808204e-03 -5.32119550e-01 -2.68106870e-01  1.62136688e-01\n",
      "  1.92824632e-02  2.93994902e-01  1.54862713e-01 -7.87406680e-02\n",
      "  6.56865925e-04 -4.58303098e-02  1.56320330e-01  2.81844499e-01\n",
      " -5.47707578e-01 -6.62067103e-02 -5.33916799e-01  1.38407283e-01\n",
      "  4.68855975e-02 -2.47927590e-01  5.79056855e-02 -3.63613057e-01\n",
      "  1.40693124e-01  1.85042507e-02  2.59669105e-01 -3.41643634e-02\n",
      " -1.93844660e-01  5.40444668e-02]\n"
     ]
    }
   ],
   "source": [
    "list_of_sentance_train=[]\n",
    "for sentance in (X_test['project_title'].values):\n",
    "    list_of_sentance_train.append(sentance.split())\n",
    "from tqdm import tqdm\n",
    "import numpy as np\n",
    "sent_vectors_train = []; # the avg-w2v for each sentence/review is stored in this list\n",
    "for sent in tqdm(list_of_sentance_train): # for each review/sentence\n",
    "    sent_vec = np.zeros(50) # as word vectors are of zero length 50, you might need to change this to 300 if you use google's w2v\n",
    "    cnt_words =0; # num of words with a valid vector in the sentence/review\n",
    "    for word in sent: # for each word in a review/sentence\n",
    "        if word in w2v_words:\n",
    "            vec = w2v_model.wv[word]\n",
    "            sent_vec += vec\n",
    "            cnt_words += 1\n",
    "    if cnt_words != 0:\n",
    "        sent_vec /= cnt_words\n",
    "    sent_vectors_train.append(sent_vec)\n",
    "X_test_title_avgw2v = np.array(sent_vectors_train)\n",
    "print(X_test_title_avgw2v.shape)\n",
    "print(X_test_title_avgw2v[0])"
   ]
  },
  {
   "cell_type": "markdown",
   "metadata": {},
   "source": [
    "### Applying avg word2vec on project_essay"
   ]
  },
  {
   "cell_type": "code",
   "execution_count": 71,
   "metadata": {},
   "outputs": [
    {
     "name": "stdout",
     "output_type": "stream",
     "text": [
      "number of words that occured minimum 5 times  14319\n",
      "sample words  ['general', 'music', 'program', 'prides', 'diversified', 'meet', 'needs', 'student', 'population', 'students', 'always', 'strive', 'making', 'lesson', 'truly', 'artful', 'joyful', 'experience', 'every', 'day', 'make', 'learning', 'target', 'goals', 'aim', 'achieve', 'excellence', 'behavior', 'academics', 'community', 'heavily', 'supports', 'physical', 'presence', 'low', 'socioeconomically', 'ability', 'purchase', 'classroom', 'materials', 'sometimes', 'challenge', 'child', 'deserves', 'quality', 'education', 'instance', 'project', 'help', 'us']\n"
     ]
    }
   ],
   "source": [
    "list_of_sentance_train_essay=[]\n",
    "for sentance in (X_train['text'].values):\n",
    "    list_of_sentance_train_essay.append(sentance.split())\n",
    "from gensim.models import Word2Vec\n",
    "from gensim.models import KeyedVectors\n",
    "w2v_model1=Word2Vec(list_of_sentance_train_essay,min_count=5,size=50, workers=4)\n",
    "w2v_words1 = list(w2v_model1.wv.vocab)\n",
    "print(\"number of words that occured minimum 5 times \",len(w2v_words1))\n",
    "print(\"sample words \", w2v_words1[0:50])"
   ]
  },
  {
   "cell_type": "code",
   "execution_count": 72,
   "metadata": {},
   "outputs": [
    {
     "name": "stderr",
     "output_type": "stream",
     "text": [
      "100%|███████████████████████████████████████████████████████████████████████████| 31420/31420 [02:28<00:00, 211.47it/s]\n"
     ]
    },
    {
     "name": "stdout",
     "output_type": "stream",
     "text": [
      "(31420, 50)\n",
      "[ 0.16773694  0.5519373  -0.27245526  0.10899999  0.02049001 -0.41106746\n",
      "  0.15320979  0.20633077  0.23867219  0.24645881  0.20712612 -0.28103144\n",
      "  0.20935603 -0.16107841 -0.41510981  0.1040164  -0.11247526 -0.19122567\n",
      "  0.63370098 -0.00148285  0.55683751  0.34380824 -0.66137135 -0.55333744\n",
      "  0.45918834 -1.07003462  0.61452636 -0.45047458 -0.21282746  0.2842797\n",
      " -0.50638323  0.17299777 -0.16235106  0.55577988 -0.12084827 -1.11540053\n",
      " -0.45256541 -0.35865587  0.80633763  0.19526129 -0.17205287  0.50529664\n",
      " -0.03596414 -0.02251347 -0.3917578  -0.07259219 -0.04125445  0.32382086\n",
      "  0.81727489 -0.07165378]\n"
     ]
    }
   ],
   "source": [
    "from tqdm import tqdm\n",
    "import numpy as np\n",
    "sent_vectors_train = []; # the avg-w2v for each sentence/review is stored in this list\n",
    "for sent in tqdm(list_of_sentance_train_essay): # for each review/sentence\n",
    "    sent_vec = np.zeros(50) # as word vectors are of zero length 50, you might need to change this to 300 if you use google's w2v\n",
    "    cnt_words =0; # num of words with a valid vector in the sentence/review\n",
    "    for word in sent: # for each word in a review/sentence\n",
    "        if word in w2v_words1:\n",
    "            vec = w2v_model1.wv[word]\n",
    "            sent_vec += vec\n",
    "            cnt_words += 1\n",
    "    if cnt_words != 0:\n",
    "        sent_vec /= cnt_words\n",
    "    sent_vectors_train.append(sent_vec)\n",
    "X_train_text_avgw2v = np.array(sent_vectors_train)\n",
    "print(X_train_text_avgw2v.shape)\n",
    "print(X_train_text_avgw2v[0])"
   ]
  },
  {
   "cell_type": "code",
   "execution_count": 73,
   "metadata": {},
   "outputs": [
    {
     "name": "stderr",
     "output_type": "stream",
     "text": [
      "100%|███████████████████████████████████████████████████████████████████████████| 15477/15477 [01:12<00:00, 214.42it/s]\n"
     ]
    },
    {
     "name": "stdout",
     "output_type": "stream",
     "text": [
      "(15477, 50)\n",
      "[-0.1763068   0.67454959 -0.60015911 -0.16678693  1.08838312  0.2149597\n",
      " -1.09742635  0.62660087 -0.75117965  0.11419798  0.69178108 -1.27549019\n",
      " -0.4479332   0.07594612 -0.17326729 -0.03119926  0.03418931 -0.25014131\n",
      "  1.16904     0.2411044  -0.36113036 -0.31390842  0.03453187 -0.16293345\n",
      "  0.09319696 -0.4777821  -0.01899333  0.54204476 -1.14464374 -0.00889887\n",
      " -1.12334884  0.4787931  -0.11568212  0.30197728 -0.45771776 -1.72044073\n",
      " -0.01175558  0.5841343   0.73944733  0.42129181 -0.31349146  0.05749818\n",
      "  0.09362039  0.71220779 -0.7687342  -0.39816664 -0.52839447  0.90291894\n",
      "  1.16781764 -0.73753625]\n"
     ]
    }
   ],
   "source": [
    "list_of_sentance_train_essay=[]\n",
    "for sentance in (X_cv['text'].values):\n",
    "    list_of_sentance_train_essay.append(sentance.split())\n",
    "from tqdm import tqdm\n",
    "import numpy as np\n",
    "sent_vectors_train = []; # the avg-w2v for each sentence/review is stored in this list\n",
    "for sent in tqdm(list_of_sentance_train_essay): # for each review/sentence\n",
    "    sent_vec = np.zeros(50) # as word vectors are of zero length 50, you might need to change this to 300 if you use google's w2v\n",
    "    cnt_words =0; # num of words with a valid vector in the sentence/review\n",
    "    for word in sent: # for each word in a review/sentence\n",
    "        if word in w2v_words1:\n",
    "            vec = w2v_model1.wv[word]\n",
    "            sent_vec += vec\n",
    "            cnt_words += 1\n",
    "    if cnt_words != 0:\n",
    "        sent_vec /= cnt_words\n",
    "    sent_vectors_train.append(sent_vec)\n",
    "X_cv_text_avgw2v = np.array(sent_vectors_train)\n",
    "print(X_cv_text_avgw2v.shape)\n",
    "print(X_cv_text_avgw2v[0])"
   ]
  },
  {
   "cell_type": "code",
   "execution_count": 74,
   "metadata": {},
   "outputs": [
    {
     "name": "stderr",
     "output_type": "stream",
     "text": [
      "100%|███████████████████████████████████████████████████████████████████████████| 23100/23100 [01:48<00:00, 212.53it/s]\n"
     ]
    },
    {
     "name": "stdout",
     "output_type": "stream",
     "text": [
      "(23100, 50)\n",
      "[ 0.13527144  0.67269634 -0.71187643  0.25965736  0.94412077 -0.46405309\n",
      "  0.12656477  0.47393178 -0.03551417 -0.12821306 -0.23572855 -0.31189701\n",
      " -0.01463286  0.05955699 -0.20850719 -0.46933518  0.03050863 -0.12465264\n",
      "  0.54406417  0.35161125  0.12215677  0.25617235 -0.79591037  0.01475795\n",
      "  0.5024552  -0.52610819  0.58941086 -0.25665215 -0.63223653  0.0128607\n",
      "  0.07969137  0.47907509  0.12222531  0.17043591 -0.31626349 -1.02820238\n",
      "  0.00580846  0.49404507  0.74782905  0.13171954 -0.21154851  0.35826682\n",
      "  0.01862422 -0.03163691 -0.434713    0.05465849 -0.0938182   0.52452334\n",
      "  0.63219388 -0.03617716]\n"
     ]
    }
   ],
   "source": [
    "list_of_sentance_train_essay=[]\n",
    "for sentance in (X_test['text'].values):\n",
    "    list_of_sentance_train_essay.append(sentance.split())\n",
    "from tqdm import tqdm\n",
    "import numpy as np\n",
    "sent_vectors_train = []; # the avg-w2v for each sentence/review is stored in this list\n",
    "for sent in tqdm(list_of_sentance_train_essay): # for each review/sentence\n",
    "    sent_vec = np.zeros(50) # as word vectors are of zero length 50, you might need to change this to 300 if you use google's w2v\n",
    "    cnt_words =0; # num of words with a valid vector in the sentence/review\n",
    "    for word in sent: # for each word in a review/sentence\n",
    "        if word in w2v_words1:\n",
    "            vec = w2v_model1.wv[word]\n",
    "            sent_vec += vec\n",
    "            cnt_words += 1\n",
    "    if cnt_words != 0:\n",
    "        sent_vec /= cnt_words\n",
    "    sent_vectors_train.append(sent_vec)\n",
    "X_test_text_avgw2v = np.array(sent_vectors_train)\n",
    "print(X_test_text_avgw2v.shape)\n",
    "print(X_test_text_avgw2v[0])"
   ]
  },
  {
   "cell_type": "markdown",
   "metadata": {},
   "source": [
    "### Applying tfidf w2v on project_title"
   ]
  },
  {
   "cell_type": "code",
   "execution_count": 75,
   "metadata": {},
   "outputs": [],
   "source": [
    "tfidf_model1 = TfidfVectorizer()\n",
    "tfidf_model1.fit(X_train['project_title'].values)\n",
    "# we are converting a dictionary with word as a key, and the idf as a value\n",
    "dictionary = dict(zip(tfidf_model1.get_feature_names(), list(tfidf_model1.idf_)))\n",
    "tfidf_words1 = set(tfidf_model1.get_feature_names())"
   ]
  },
  {
   "cell_type": "code",
   "execution_count": 76,
   "metadata": {},
   "outputs": [
    {
     "name": "stderr",
     "output_type": "stream",
     "text": [
      "100%|██████████████████████████████████████████████████████████████████████████| 31420/31420 [00:04<00:00, 6737.64it/s]\n"
     ]
    },
    {
     "name": "stdout",
     "output_type": "stream",
     "text": [
      "31420\n",
      "50\n"
     ]
    }
   ],
   "source": [
    "X_train_title_tfidf_w2v = []; # the avg-w2v for each sentence/review is stored in this list\n",
    "for sentence in tqdm(X_train['project_title'].values): # for each review/sentence\n",
    "    vector = np.zeros(50) # as word vectors are of zero length\n",
    "    tf_idf_weight =0; # num of words with a valid vector in the sentence/review\n",
    "    for word in sentence.split(): # for each word in a review/sentence\n",
    "        if (word in w2v_words) and (word in tfidf_words1):\n",
    "            vec = w2v_model[word] # getting the vector for each word\n",
    "            # here we are multiplying idf value(dictionary[word]) and the tf value((sentence.count(word)/len(sentence.split())))\n",
    "            tf_idf = dictionary[word]*(sentence.count(word)/len(sentence.split())) # getting the tfidf value for each word\n",
    "            vector += (vec * tf_idf) # calculating tfidf weighted w2v\n",
    "            tf_idf_weight += tf_idf\n",
    "    if tf_idf_weight != 0:\n",
    "        vector /= tf_idf_weight\n",
    "    X_train_title_tfidf_w2v.append(vector)\n",
    "print(len(X_train_title_tfidf_w2v))\n",
    "print(len(X_train_title_tfidf_w2v[0]))"
   ]
  },
  {
   "cell_type": "code",
   "execution_count": 77,
   "metadata": {},
   "outputs": [
    {
     "name": "stderr",
     "output_type": "stream",
     "text": [
      "100%|██████████████████████████████████████████████████████████████████████████| 15477/15477 [00:02<00:00, 6725.50it/s]\n"
     ]
    },
    {
     "name": "stdout",
     "output_type": "stream",
     "text": [
      "15477\n",
      "50\n"
     ]
    }
   ],
   "source": [
    "X_cv_title_tfidf_w2v = []; # the avg-w2v for each sentence/review is stored in this list\n",
    "for sentence in tqdm(X_cv['project_title'].values): # for each review/sentence\n",
    "    vector = np.zeros(50) # as word vectors are of zero length\n",
    "    tf_idf_weight =0; # num of words with a valid vector in the sentence/review\n",
    "    for word in sentence.split(): # for each word in a review/sentence\n",
    "        if (word in w2v_words) and (word in tfidf_words1):\n",
    "            vec = w2v_model[word] # getting the vector for each word\n",
    "            # here we are multiplying idf value(dictionary[word]) and the tf value((sentence.count(word)/len(sentence.split())))\n",
    "            tf_idf = dictionary[word]*(sentence.count(word)/len(sentence.split())) # getting the tfidf value for each word\n",
    "            vector += (vec * tf_idf) # calculating tfidf weighted w2v\n",
    "            tf_idf_weight += tf_idf\n",
    "    if tf_idf_weight != 0:\n",
    "        vector /= tf_idf_weight\n",
    "    X_cv_title_tfidf_w2v.append(vector)\n",
    "print(len(X_cv_title_tfidf_w2v))\n",
    "print(len(X_cv_title_tfidf_w2v[0]))"
   ]
  },
  {
   "cell_type": "code",
   "execution_count": 78,
   "metadata": {},
   "outputs": [
    {
     "name": "stderr",
     "output_type": "stream",
     "text": [
      "100%|██████████████████████████████████████████████████████████████████████████| 23100/23100 [00:03<00:00, 6072.93it/s]\n"
     ]
    },
    {
     "name": "stdout",
     "output_type": "stream",
     "text": [
      "23100\n",
      "50\n"
     ]
    }
   ],
   "source": [
    "X_test_title_tfidf_w2v = []; # the avg-w2v for each sentence/review is stored in this list\n",
    "for sentence in tqdm(X_test['project_title'].values): # for each review/sentence\n",
    "    vector = np.zeros(50) # as word vectors are of zero length\n",
    "    tf_idf_weight =0; # num of words with a valid vector in the sentence/review\n",
    "    for word in sentence.split(): # for each word in a review/sentence\n",
    "        if (word in w2v_words) and (word in tfidf_words1):\n",
    "            vec = w2v_model[word] # getting the vector for each word\n",
    "            # here we are multiplying idf value(dictionary[word]) and the tf value((sentence.count(word)/len(sentence.split())))\n",
    "            tf_idf = dictionary[word]*(sentence.count(word)/len(sentence.split())) # getting the tfidf value for each word\n",
    "            vector += (vec * tf_idf) # calculating tfidf weighted w2v\n",
    "            tf_idf_weight += tf_idf\n",
    "    if tf_idf_weight != 0:\n",
    "        vector /= tf_idf_weight\n",
    "    X_test_title_tfidf_w2v.append(vector)\n",
    "print(len(X_test_title_tfidf_w2v))\n",
    "print(len(X_test_title_tfidf_w2v[0]))"
   ]
  },
  {
   "cell_type": "markdown",
   "metadata": {},
   "source": [
    "### Applying tfidf w2v on project_text"
   ]
  },
  {
   "cell_type": "code",
   "execution_count": 79,
   "metadata": {},
   "outputs": [],
   "source": [
    "tfidf_model1 = TfidfVectorizer()\n",
    "tfidf_model1.fit(X_train['text'].values)\n",
    "# we are converting a dictionary with word as a key, and the idf as a value\n",
    "dictionary = dict(zip(tfidf_model1.get_feature_names(), list(tfidf_model1.idf_)))\n",
    "tfidf_words1 = set(tfidf_model1.get_feature_names())"
   ]
  },
  {
   "cell_type": "code",
   "execution_count": 80,
   "metadata": {},
   "outputs": [
    {
     "name": "stderr",
     "output_type": "stream",
     "text": [
      "100%|███████████████████████████████████████████████████████████████████████████| 31420/31420 [04:31<00:00, 115.79it/s]\n"
     ]
    },
    {
     "name": "stdout",
     "output_type": "stream",
     "text": [
      "31420\n",
      "50\n"
     ]
    }
   ],
   "source": [
    "X_train_text_tfidf_w2v = []; # the avg-w2v for each sentence/review is stored in this list\n",
    "for sentence in tqdm(X_train['text'].values): # for each review/sentence\n",
    "    vector = np.zeros(50) # as word vectors are of zero length\n",
    "    tf_idf_weight =0; # num of words with a valid vector in the sentence/review\n",
    "    for word in sentence.split(): # for each word in a review/sentence\n",
    "        if (word in w2v_words1) and (word in tfidf_words1):\n",
    "            vec = w2v_model1[word] # getting the vector for each word\n",
    "            # here we are multiplying idf value(dictionary[word]) and the tf value((sentence.count(word)/len(sentence.split())))\n",
    "            tf_idf = dictionary[word]*(sentence.count(word)/len(sentence.split())) # getting the tfidf value for each word\n",
    "            vector += (vec * tf_idf) # calculating tfidf weighted w2v\n",
    "            tf_idf_weight += tf_idf\n",
    "    if tf_idf_weight != 0:\n",
    "        vector /= tf_idf_weight\n",
    "    X_train_text_tfidf_w2v.append(vector)\n",
    "print(len(X_train_text_tfidf_w2v))\n",
    "print(len(X_train_text_tfidf_w2v[0]))"
   ]
  },
  {
   "cell_type": "code",
   "execution_count": 81,
   "metadata": {},
   "outputs": [
    {
     "name": "stderr",
     "output_type": "stream",
     "text": [
      "100%|███████████████████████████████████████████████████████████████████████████| 15477/15477 [02:16<00:00, 113.18it/s]\n"
     ]
    },
    {
     "name": "stdout",
     "output_type": "stream",
     "text": [
      "15477\n",
      "50\n"
     ]
    }
   ],
   "source": [
    "X_cv_text_tfidf_w2v = []; # the avg-w2v for each sentence/review is stored in this list\n",
    "for sentence in tqdm(X_cv['text'].values): # for each review/sentence\n",
    "    vector = np.zeros(50) # as word vectors are of zero length\n",
    "    tf_idf_weight =0; # num of words with a valid vector in the sentence/review\n",
    "    for word in sentence.split(): # for each word in a review/sentence\n",
    "        if (word in w2v_words1) and (word in tfidf_words1):\n",
    "            vec = w2v_model1[word] # getting the vector for each word\n",
    "            # here we are multiplying idf value(dictionary[word]) and the tf value((sentence.count(word)/len(sentence.split())))\n",
    "            tf_idf = dictionary[word]*(sentence.count(word)/len(sentence.split())) # getting the tfidf value for each word\n",
    "            vector += (vec * tf_idf) # calculating tfidf weighted w2v\n",
    "            tf_idf_weight += tf_idf\n",
    "    if tf_idf_weight != 0:\n",
    "        vector /= tf_idf_weight\n",
    "    X_cv_text_tfidf_w2v.append(vector)\n",
    "print(len(X_cv_text_tfidf_w2v))\n",
    "print(len(X_cv_text_tfidf_w2v[0]))"
   ]
  },
  {
   "cell_type": "code",
   "execution_count": 82,
   "metadata": {},
   "outputs": [
    {
     "name": "stderr",
     "output_type": "stream",
     "text": [
      "100%|███████████████████████████████████████████████████████████████████████████| 23100/23100 [03:20<00:00, 115.25it/s]\n"
     ]
    },
    {
     "name": "stdout",
     "output_type": "stream",
     "text": [
      "23100\n",
      "50\n"
     ]
    }
   ],
   "source": [
    "X_test_text_tfidf_w2v = []; # the avg-w2v for each sentence/review is stored in this list\n",
    "for sentence in tqdm(X_test['text'].values): # for each review/sentence\n",
    "    vector = np.zeros(50) # as word vectors are of zero length\n",
    "    tf_idf_weight =0; # num of words with a valid vector in the sentence/review\n",
    "    for word in sentence.split(): # for each word in a review/sentence\n",
    "        if (word in w2v_words1) and (word in tfidf_words1):\n",
    "            vec = w2v_model1[word] # getting the vector for each word\n",
    "            # here we are multiplying idf value(dictionary[word]) and the tf value((sentence.count(word)/len(sentence.split())))\n",
    "            tf_idf = dictionary[word]*(sentence.count(word)/len(sentence.split())) # getting the tfidf value for each word\n",
    "            vector += (vec * tf_idf) # calculating tfidf weighted w2v\n",
    "            tf_idf_weight += tf_idf\n",
    "    if tf_idf_weight != 0:\n",
    "        vector /= tf_idf_weight\n",
    "    X_test_text_tfidf_w2v.append(vector)\n",
    "print(len(X_test_text_tfidf_w2v))\n",
    "print(len(X_test_text_tfidf_w2v[0]))"
   ]
  },
  {
   "cell_type": "markdown",
   "metadata": {
    "colab_type": "text",
    "id": "V3vrK7BSCypi"
   },
   "source": [
    "# Assignment 5 : Logistic regression"
   ]
  },
  {
   "cell_type": "markdown",
   "metadata": {
    "colab_type": "text",
    "id": "WFI1ug-gCypi"
   },
   "source": [
    "<ol>\n",
    "    <li><strong>[Task-1] Logistic Regression(either SGDClassifier with log loss, or LogisticRegression) on these feature sets</strong>\n",
    "        <ul>\n",
    "            <li><font color='red'>Set 1</font>: categorical, numerical features + project_title(BOW) + preprocessed_eassay (`BOW with bi-grams` with `min_df=10` and `max_features=5000`)</li>\n",
    "            <li><font color='red'>Set 2</font>: categorical, numerical features + project_title(TFIDF)+  preprocessed_eassay (`TFIDF with bi-grams` with `min_df=10` and `max_features=5000`)</li>\n",
    "            <li><font color='red'>Set 3</font>: categorical, numerical features + project_title(AVG W2V)+  preprocessed_eassay (AVG W2V)</li>\n",
    "            <li><font color='red'>Set 4</font>: categorical, numerical features + project_title(TFIDF W2V)+  preprocessed_essay (TFIDF W2V)</li>        </ul>\n",
    "    </li>\n",
    "    <br>\n",
    "    <li><strong>Hyper paramter tuning (find best hyper parameters corresponding the algorithm that you choose)</strong>\n",
    "        <ul>\n",
    "    <li>Find the best hyper parameter which will give the maximum <a href='https://www.appliedaicourse.com/course/applied-ai-course-online/lessons/receiver-operating-characteristic-curve-roc-curve-and-auc-1/'>AUC</a> value</li>\n",
    "    <li>Find the best hyper paramter using k-fold cross validation or simple cross validation data</li>\n",
    "    <li>Use gridsearch cv or randomsearch cv or you can also write your own for loops to do this task of hyperparameter tuning</li>          \n",
    "        </ul>\n",
    "    </li>\n",
    "    <br>\n",
    "    <li><strong>Representation of results</strong>\n",
    "        <ul>\n",
    "    <li>You need to plot the performance of model both on train data and cross validation data for each hyper parameter, like shown in the figure.\n",
    "    <img src='train_cv_auc.JPG' width=300px></li>\n",
    "    <li>Once after you found the best hyper parameter, you need to train your model with it, and find the AUC on test data and plot the ROC curve on both train and test.\n",
    "    <img src='train_test_auc.JPG' width=300px></li>\n",
    "    <li>Along with plotting ROC curve, you need to print the <a href='https://www.appliedaicourse.com/course/applied-ai-course-online/lessons/confusion-matrix-tpr-fpr-fnr-tnr-1/'>confusion matrix</a> with predicted and original labels of test data points. Please visualize your confusion matrices using <a href='https://seaborn.pydata.org/generated/seaborn.heatmap.html'>seaborn heatmaps.\n",
    "    <img src='confusion_matrix.png' width=300px></li>\n",
    "        </ul>\n",
    "    </li>\n",
    "    <br>\n",
    "    <li><strong>[Task-2] Apply Logistic Regression on the below feature set <font color='red'> Set 5 </font> by finding the best hyper parameter as suggested in step 2 and step 3.</strong>\n",
    "    <li> Consider these set of features <font color='red'> Set 5 :</font>\n",
    "            <ul>\n",
    "                <li><strong>school_state</strong> : categorical data</li>\n",
    "                <li><strong>clean_categories</strong> : categorical data</li>\n",
    "                <li><strong>clean_subcategories</strong> : categorical data</li>\n",
    "                <li><strong>project_grade_category</strong> :categorical data</li>\n",
    "                <li><strong>teacher_prefix</strong> : categorical data</li>\n",
    "                <li><strong>quantity</strong> : numerical data</li>\n",
    "                <li><strong>teacher_number_of_previously_posted_projects</strong> : numerical data</li>\n",
    "                <li><strong>price</strong> : numerical data</li>\n",
    "                <li><strong>sentiment score's of each of the essay</strong> : numerical data</li>\n",
    "                <li><strong>number of words in the title</strong> : numerical data</li>\n",
    "                <li><strong>number of words in the combine essays</strong> : numerical data</li>\n",
    "            </ul>\n",
    "        And apply the Logistic regression on these features by finding the best hyper paramter as suggested in step 2 and step 3 <br>\n",
    "    </li>\n",
    "    <br>\n",
    "    <li><strong>Conclusion</strong>\n",
    "        <ul>\n",
    "    <li>You need to summarize the results at the end of the notebook, summarize it in the table format. To print out a table please refer to this prettytable library<a href='http://zetcode.com/python/prettytable/'>  link</a> \n",
    "        <img src='summary.JPG' width=400px>\n",
    "    </li>\n",
    "        </ul>\n",
    "</ol>"
   ]
  },
  {
   "cell_type": "markdown",
   "metadata": {
    "colab_type": "text",
    "id": "vNcsOaPrCypk"
   },
   "source": [
    "<h4><font color='red'>Note: Data Leakage</font></h4>\n",
    "\n",
    "1. There will be an issue of data-leakage if you vectorize the entire data and then split it into train/cv/test.\n",
    "2. To avoid the issue of data-leakag, make sure to split your data first and then vectorize it. \n",
    "3. While vectorizing your data, apply the method fit_transform() on you train data, and apply the method transform() on cv/test data.\n",
    "4. For more details please go through this <a href='https://soundcloud.com/applied-ai-course/leakage-bow-and-tfidf'>link.</a>"
   ]
  },
  {
   "cell_type": "markdown",
   "metadata": {
    "colab_type": "text",
    "id": "u7svGNyWCypl"
   },
   "source": [
    "<h1>Logistic regression </h1>"
   ]
  },
  {
   "cell_type": "markdown",
   "metadata": {},
   "source": [
    "###  Applying Logistic regression on BOW,<font color='red'> SET 1</font>"
   ]
  },
  {
   "cell_type": "markdown",
   "metadata": {
    "colab_type": "text",
    "id": "5UbaJH21Cypa"
   },
   "source": [
    "### Merging all the above features"
   ]
  },
  {
   "cell_type": "markdown",
   "metadata": {
    "colab_type": "text",
    "id": "fAZixvIeCypb"
   },
   "source": [
    "- we need to merge all the numerical vectors i.e catogorical, text, numerical vectors"
   ]
  },
  {
   "cell_type": "code",
   "execution_count": 83,
   "metadata": {
    "colab": {},
    "colab_type": "code",
    "id": "2fhOtv0eCypc",
    "outputId": "d0e65dce-ef82-412d-8db5-ec35535ee23c"
   },
   "outputs": [
    {
     "name": "stdout",
     "output_type": "stream",
     "text": [
      "Final Data matrix\n",
      "(31420, 7677) (31420,)\n",
      "(15477, 7677) (15477,)\n",
      "(23100, 7677) (23100,)\n",
      "====================================================================================================\n"
     ]
    }
   ],
   "source": [
    "# merge two sparse matrices: https://stackoverflow.com/a/19710648/4084039\n",
    "from scipy.sparse import hstack\n",
    "X_tr = hstack((X_train_state_ohe,X_train_teacher_ohe,X_train_grade_ohe,X_train_subcat_ohe,\n",
    "               X_train_cat_ohe,X_train_price_norm,X_train_teacher_number_of_previously_posted_projects_norm,\n",
    "               X_train_text_bow,X_train_title_bow)).tocsr()\n",
    "\n",
    "X_cr = hstack((X_cv_state_ohe,X_cv_teacher_ohe,X_cv_grade_ohe,X_cv_subcat_ohe,\n",
    "               X_cv_cat_ohe,X_cv_price_norm,X_cv_teacher_number_of_previously_posted_projects_norm,\n",
    "               X_cv_text_bow,X_cv_title_bow)).tocsr()\n",
    "\n",
    "X_te = hstack((X_test_state_ohe,X_test_teacher_ohe,X_test_grade_ohe,X_test_subcat_ohe,\n",
    "               X_test_cat_ohe,X_test_price_norm,X_test_teacher_number_of_previously_posted_projects_norm,\n",
    "               X_test_text_bow,X_test_title_bow)).tocsr()\n",
    "\n",
    "print(\"Final Data matrix\")\n",
    "print(X_tr.shape, y_train.shape)\n",
    "print(X_cr.shape, y_cv.shape)\n",
    "print(X_te.shape, y_test.shape)\n",
    "print(\"=\"*100)"
   ]
  },
  {
   "cell_type": "code",
   "execution_count": 84,
   "metadata": {},
   "outputs": [],
   "source": [
    "def batch_predict(clf,data):\n",
    "    y_pred=[]\n",
    "    dl=data.shape[0]-data.shape[0]%1000\n",
    "    \n",
    "    for i in range(0,dl,1000):\n",
    "        y_pred.extend(clf.predict_proba(data[i:i+1000])[:,1])\n",
    "    \n",
    "    y_pred.extend(clf.predict_proba(data[dl:])[:,1])\n",
    "    \n",
    "    return y_pred"
   ]
  },
  {
   "cell_type": "code",
   "execution_count": 85,
   "metadata": {},
   "outputs": [
    {
     "name": "stderr",
     "output_type": "stream",
     "text": [
      "100%|██████████████████████████████████████████████████████████████████████████████████| 10/10 [03:22<00:00, 48.23s/it]\n"
     ]
    },
    {
     "name": "stdout",
     "output_type": "stream",
     "text": [
      "max auc in train data: 0.9356183466678004\n",
      "alpha value for maximum AUC: 10000\n",
      "max auc  in cv data: 0.6476445274890309\n",
      "alpha value for maximum AUC: 0.001\n"
     ]
    },
    {
     "data": {
      "image/png": "[encoded data removed]",
      "text/plain": [
       "<Figure size 432x288 with 1 Axes>"
      ]
     },
     "metadata": {
      "needs_background": "light"
     },
     "output_type": "display_data"
    }
   ],
   "source": [
    "import matplotlib.pyplot as plt \n",
    "from sklearn.linear_model import LogisticRegression\n",
    "from sklearn.metrics import roc_auc_score\n",
    "\n",
    "train_auc=[]\n",
    "cv_auc=[]\n",
    "alpha= [0.00001, 0.0001, 0.001, 0.01, 0.1, 1, 10, 100, 1000, 10000]\n",
    "b=[]\n",
    "for i in tqdm(alpha):\n",
    "    mb=LogisticRegression(penalty='l2',C=i,class_weight='balanced')\n",
    "    mb.fit(X_tr,y_train)\n",
    "    \n",
    "    y_train_pred=batch_predict(mb,X_tr)\n",
    "    y_cv_pred=batch_predict(mb,X_cr)\n",
    "    \n",
    "    train_auc.append(roc_auc_score(y_train,y_train_pred))\n",
    "    cv_auc.append(roc_auc_score(y_cv,y_cv_pred))\n",
    "    \n",
    "max_auc_ind_train=train_auc.index(max(train_auc))\n",
    "alpha_max_auc_train=alpha[max_auc_ind_train]\n",
    "\n",
    "print(\"max auc in train data:\",max(train_auc))\n",
    "print(\"alpha value for maximum AUC:\",alpha_max_auc_train)\n",
    "max_auc_ind_cv=cv_auc.index(max(cv_auc))\n",
    "alpha_max_auc_cv=alpha[max_auc_ind_cv]\n",
    "print(\"max auc  in cv data:\",max(cv_auc))\n",
    "print(\"alpha value for maximum AUC:\",alpha_max_auc_cv)\n",
    "\n",
    "plt.plot(alpha,train_auc,label='Train_AUC')\n",
    "plt.plot(alpha,cv_auc,label='CV_AUC')\n",
    "plt.scatter(alpha,cv_auc)\n",
    "plt.scatter(alpha,train_auc)\n",
    "#https://matplotlib.org/3.1.1/api/_as_gen/matplotlib.pyplot.xscale.html\n",
    "plt.xscale('log')\n",
    "plt.title(\"AUC: ERROR plot\")\n",
    "plt.ylabel('AUC')\n",
    "plt.xlabel('Alpha:Hyperparameter')\n",
    "plt.legend()\n",
    "plt.grid(1)\n"
   ]
  },
  {
   "cell_type": "code",
   "execution_count": 86,
   "metadata": {},
   "outputs": [
    {
     "data": {
      "image/png": "[encoded data removed]",
      "text/plain": [
       "<Figure size 432x288 with 1 Axes>"
      ]
     },
     "metadata": {
      "needs_background": "light"
     },
     "output_type": "display_data"
    }
   ],
   "source": [
    "# https://scikit-learn.org/stable/modules/generated/sklearn.metrics.roc_curve.html#sklearn.metrics.roc_curve\n",
    "from sklearn.metrics import roc_curve, auc\n",
    "\n",
    "nb = LogisticRegression(C=0.01,class_weight='balanced',penalty='l2')\n",
    "nb.fit(X_tr, y_train)\n",
    "# roc_auc_score(y_true, y_score) the 2nd parameter should be probability estimates of the positive class\n",
    "# not the predicted outputs\n",
    "\n",
    "y_train_pred = nb.predict_proba(X_tr)[:,1]    \n",
    "y_test_pred = nb.predict_proba(X_te)[:,1]\n",
    "\n",
    "train_fpr, train_tpr, tr_thresholds = roc_curve(y_train, y_train_pred)\n",
    "test_fpr, test_tpr, te_thresholds = roc_curve(y_test, y_test_pred)\n",
    "\n",
    "plt.plot(train_fpr, train_tpr, label=\"train AUC =\"+str(auc(train_fpr, train_tpr)))\n",
    "plt.plot(test_fpr, test_tpr, label=\"test AUC =\"+str(auc(test_fpr, test_tpr )))\n",
    "plt.legend()\n",
    "plt.xlabel(\"alpha: hyperparameter\")\n",
    "plt.ylabel(\"AUC\")\n",
    "plt.title(\"ERROR PLOTS\")\n",
    "plt.grid()\n",
    "plt.show()"
   ]
  },
  {
   "cell_type": "code",
   "execution_count": 87,
   "metadata": {},
   "outputs": [],
   "source": [
    "#we are writing our own function for predict, with defined thresould\n",
    "# we will pick a threshold that will give the least fpr\n",
    "def predict(proba,threshold,fpr,tpr):\n",
    "    t=threshold[np.argmax(tpr*(1-fpr))]\n",
    "    # (tpr*(1-fpr)) will be maximum if your fpr is very low and tpr is very high\n",
    "\n",
    "    print(\"the maximum value of tpr*(1-fpr)\",max(tpr*(1-fpr)))\n",
    "    print(\"Threshold:\",np.round(t,3))\n",
    "    prediction=[]\n",
    "    for i in proba:\n",
    "        if i>=t:\n",
    "            prediction.append(1)\n",
    "        else:\n",
    "            prediction.append(0)\n",
    "    \n",
    "    return prediction"
   ]
  },
  {
   "cell_type": "code",
   "execution_count": 88,
   "metadata": {},
   "outputs": [
    {
     "name": "stdout",
     "output_type": "stream",
     "text": [
      "the maximum value of tpr*(1-fpr) 0.5407646852843344\n",
      "Threshold: 0.491\n"
     ]
    },
    {
     "data": {
      "image/png": "[encoded data removed]",
      "text/plain": [
       "<Figure size 432x288 with 2 Axes>"
      ]
     },
     "metadata": {
      "needs_background": "light"
     },
     "output_type": "display_data"
    }
   ],
   "source": [
    "import seaborn as sns\n",
    "#https://stackoverflow.com/a/33158941/10967428\n",
    "con_tr=confusion_matrix(y_train,predict(y_train_pred,tr_thresholds,train_fpr,train_tpr))\n",
    "\n",
    "sns.heatmap(con_tr,annot=True,fmt='0.00f',annot_kws={'size':10})\n",
    "plt.title(\"Train Confusion Matrix\")\n",
    "plt.ylabel(\"Actual value\")\n",
    "plt.xlabel(\"Predicted value\")\n",
    "plt.show()"
   ]
  },
  {
   "cell_type": "code",
   "execution_count": 89,
   "metadata": {},
   "outputs": [
    {
     "name": "stdout",
     "output_type": "stream",
     "text": [
      "the maximum value of tpr*(1-fpr) 0.3690463321220917\n",
      "Threshold: 0.478\n"
     ]
    },
    {
     "data": {
      "image/png": "[encoded data removed]",
      "text/plain": [
       "<Figure size 432x288 with 2 Axes>"
      ]
     },
     "metadata": {
      "needs_background": "light"
     },
     "output_type": "display_data"
    }
   ],
   "source": [
    "#https://stackoverflow.com/a/33158941/10967428\n",
    "con_te=confusion_matrix(y_test, predict(y_test_pred, tr_thresholds, test_fpr, test_tpr))\n",
    "\n",
    "sns.heatmap(con_te,annot=True,fmt='0.00f',annot_kws={'size':10})\n",
    "plt.title(\"Test Confusion Matrix\")\n",
    "plt.ylabel(\"Actual value\")\n",
    "plt.xlabel(\"Predicted value\")\n",
    "plt.show()"
   ]
  },
  {
   "cell_type": "markdown",
   "metadata": {
    "colab_type": "text",
    "id": "s85gPOAbCyp1"
   },
   "source": [
    "### 2.4.2 Applying Logistic regression on TFIDF,<font color='red'> SET 2</font>"
   ]
  },
  {
   "cell_type": "code",
   "execution_count": 90,
   "metadata": {},
   "outputs": [
    {
     "name": "stdout",
     "output_type": "stream",
     "text": [
      "Final Data matrix\n",
      "(31420, 11759) (31420,)\n",
      "(15477, 11759) (15477,)\n",
      "(23100, 11759) (23100,)\n",
      "====================================================================================================\n"
     ]
    }
   ],
   "source": [
    "# merge two sparse matrices: https://stackoverflow.com/a/19710648/4084039\n",
    "from scipy.sparse import hstack\n",
    "X_tr = hstack((X_train_state_ohe,X_train_teacher_ohe,X_train_grade_ohe,X_train_subcat_ohe,\n",
    "               X_train_cat_ohe,X_train_price_norm,X_train_teacher_number_of_previously_posted_projects_norm,\n",
    "               X_train_text_tfidf,X_train_title_tfidf)).tocsr()\n",
    "\n",
    "X_cr = hstack((X_cv_state_ohe,X_cv_teacher_ohe,X_cv_grade_ohe,X_cv_subcat_ohe,\n",
    "               X_cv_cat_ohe,X_cv_price_norm,X_cv_teacher_number_of_previously_posted_projects_norm,\n",
    "               X_cv_text_tfidf,X_cv_title_tfidf)).tocsr()\n",
    "\n",
    "X_te = hstack((X_test_state_ohe,X_test_teacher_ohe,X_test_grade_ohe,X_test_subcat_ohe,\n",
    "               X_test_cat_ohe,X_test_price_norm,X_test_teacher_number_of_previously_posted_projects_norm,\n",
    "               X_test_text_tfidf,X_test_title_tfidf)).tocsr()\n",
    "\n",
    "print(\"Final Data matrix\")\n",
    "print(X_tr.shape, y_train.shape)\n",
    "print(X_cr.shape, y_cv.shape)\n",
    "print(X_te.shape, y_test.shape)\n",
    "print(\"=\"*100)"
   ]
  },
  {
   "cell_type": "code",
   "execution_count": 91,
   "metadata": {},
   "outputs": [
    {
     "name": "stderr",
     "output_type": "stream",
     "text": [
      "100%|██████████████████████████████████████████████████████████████████████████████████| 10/10 [00:01<00:00,  7.14it/s]\n"
     ]
    },
    {
     "name": "stdout",
     "output_type": "stream",
     "text": [
      "max auc in train data: 0.8406841293170694\n",
      "alpha value for maximum AUC: 1e-05\n",
      "max auc  in cv data: 0.6650090488384159\n",
      "alpha value for maximum AUC: 0.1\n"
     ]
    },
    {
     "data": {
      "image/png": "[encoded data removed]",
      "text/plain": [
       "<Figure size 432x288 with 1 Axes>"
      ]
     },
     "metadata": {
      "needs_background": "light"
     },
     "output_type": "display_data"
    }
   ],
   "source": [
    "import matplotlib.pyplot as plt \n",
    "from sklearn.naive_bayes import MultinomialNB\n",
    "from sklearn.metrics import roc_auc_score\n",
    "\n",
    "train_auc=[]\n",
    "cv_auc=[]\n",
    "alpha= [0.00001, 0.0001, 0.001, 0.01, 0.1, 1, 10, 100, 1000, 10000]\n",
    "b=[]\n",
    "for i in tqdm(alpha):\n",
    "    mb=MultinomialNB(alpha=i)\n",
    "    mb.fit(X_tr,y_train)\n",
    "    \n",
    "    y_train_pred=batch_predict(mb,X_tr)\n",
    "    y_cv_pred=batch_predict(mb,X_cr)\n",
    "    \n",
    "    train_auc.append(roc_auc_score(y_train,y_train_pred))\n",
    "    cv_auc.append(roc_auc_score(y_cv,y_cv_pred))\n",
    "    \n",
    "max_auc_ind_train=train_auc.index(max(train_auc))\n",
    "alpha_max_auc_train=alpha[max_auc_ind_train]\n",
    "\n",
    "print(\"max auc in train data:\",max(train_auc))\n",
    "print(\"alpha value for maximum AUC:\",alpha_max_auc_train)\n",
    "max_auc_ind_cv=cv_auc.index(max(cv_auc))\n",
    "alpha_max_auc_cv=alpha[max_auc_ind_cv]\n",
    "print(\"max auc  in cv data:\",max(cv_auc))\n",
    "print(\"alpha value for maximum AUC:\",alpha_max_auc_cv)\n",
    "\n",
    "plt.plot(alpha,train_auc,label='Train_AUC')\n",
    "plt.plot(alpha,cv_auc,label='CV_AUC')\n",
    "plt.scatter(alpha,cv_auc)\n",
    "plt.scatter(alpha,train_auc)\n",
    "#https://matplotlib.org/3.1.1/api/_as_gen/matplotlib.pyplot.xscale.html\n",
    "plt.xscale('log')\n",
    "plt.title(\"AUC: ERROR plot\")\n",
    "plt.ylabel('AUC')\n",
    "plt.xlabel('Alpha:Hyperparameter')\n",
    "plt.legend()\n",
    "plt.grid(1)\n"
   ]
  },
  {
   "cell_type": "code",
   "execution_count": 92,
   "metadata": {},
   "outputs": [
    {
     "data": {
      "image/png": "[encoded data removed]",
      "text/plain": [
       "<Figure size 432x288 with 1 Axes>"
      ]
     },
     "metadata": {
      "needs_background": "light"
     },
     "output_type": "display_data"
    }
   ],
   "source": [
    "# https://scikit-learn.org/stable/modules/generated/sklearn.metrics.roc_curve.html#sklearn.metrics.roc_curve\n",
    "from sklearn.metrics import roc_curve, auc\n",
    "\n",
    "nb = LogisticRegression(C=0.1,class_weight='balanced',penalty='l2')\n",
    "nb.fit(X_tr, y_train)\n",
    "# roc_auc_score(y_true, y_score) the 2nd parameter should be probability estimates of the positive class\n",
    "# not the predicted outputs\n",
    "\n",
    "y_train_pred = nb.predict_proba(X_tr)[:,1]    \n",
    "y_test_pred = nb.predict_proba(X_te)[:,1]\n",
    "\n",
    "train_fpr, train_tpr, tr_thresholds = roc_curve(y_train, y_train_pred)\n",
    "test_fpr, test_tpr, te_thresholds = roc_curve(y_test, y_test_pred)\n",
    "\n",
    "plt.plot(train_fpr, train_tpr, label=\"train AUC =\"+str(auc(train_fpr, train_tpr)))\n",
    "plt.plot(test_fpr, test_tpr, label=\"test AUC =\"+str(auc(test_fpr, test_tpr )))\n",
    "plt.legend()\n",
    "plt.xlabel(\"alpha: hyperparameter\")\n",
    "plt.ylabel(\"AUC\")\n",
    "plt.title(\"ERROR PLOTS\")\n",
    "plt.grid()\n",
    "plt.show()"
   ]
  },
  {
   "cell_type": "code",
   "execution_count": 93,
   "metadata": {},
   "outputs": [
    {
     "name": "stdout",
     "output_type": "stream",
     "text": [
      "the maximum value of tpr*(1-fpr) 0.5293357291873956\n",
      "Threshold: 0.487\n"
     ]
    },
    {
     "data": {
      "image/png": "[encoded data removed]",
      "text/plain": [
       "<Figure size 432x288 with 2 Axes>"
      ]
     },
     "metadata": {
      "needs_background": "light"
     },
     "output_type": "display_data"
    }
   ],
   "source": [
    "import seaborn as sns\n",
    "#https://stackoverflow.com/a/33158941/10967428\n",
    "con_tr=confusion_matrix(y_train,predict(y_train_pred,tr_thresholds,train_fpr,train_tpr))\n",
    "\n",
    "sns.heatmap(con_tr,annot=True,fmt='0.00f',annot_kws={'size':10})\n",
    "plt.title(\"Train Confusion Matrix\")\n",
    "plt.ylabel(\"Actual value\")\n",
    "plt.xlabel(\"Predicted value\")\n",
    "plt.show()"
   ]
  },
  {
   "cell_type": "code",
   "execution_count": 94,
   "metadata": {},
   "outputs": [
    {
     "name": "stdout",
     "output_type": "stream",
     "text": [
      "the maximum value of tpr*(1-fpr) 0.41824799396681267\n",
      "Threshold: 0.497\n"
     ]
    },
    {
     "data": {
      "image/png": "[encoded data removed]",
      "text/plain": [
       "<Figure size 432x288 with 2 Axes>"
      ]
     },
     "metadata": {
      "needs_background": "light"
     },
     "output_type": "display_data"
    }
   ],
   "source": [
    "import seaborn as sns\n",
    "#https://stackoverflow.com/a/33158941/10967428\n",
    "con_te=confusion_matrix(y_test, predict(y_test_pred, tr_thresholds, test_fpr, test_tpr))\n",
    "\n",
    "sns.heatmap(con_te,annot=True,fmt='0.00f',annot_kws={'size':10})\n",
    "plt.title(\"Test Confusion Matrix\")\n",
    "plt.ylabel(\"Actual value\")\n",
    "plt.xlabel(\"Predicted value\")\n",
    "plt.show()"
   ]
  },
  {
   "cell_type": "markdown",
   "metadata": {
    "colab_type": "text",
    "id": "s85gPOAbCyp1"
   },
   "source": [
    "### 2.4.2 Applying Logistic regression on avgw2v,<font color='red'> SET 3</font>"
   ]
  },
  {
   "cell_type": "code",
   "execution_count": 95,
   "metadata": {},
   "outputs": [
    {
     "name": "stdout",
     "output_type": "stream",
     "text": [
      "Final Data matrix\n",
      "(31420, 201) (31420,)\n",
      "(15477, 201) (15477,)\n",
      "(23100, 201) (23100,)\n",
      "====================================================================================================\n"
     ]
    }
   ],
   "source": [
    "# merge two sparse matrices: https://stackoverflow.com/a/19710648/4084039\n",
    "from scipy.sparse import hstack\n",
    "X_tr = hstack((X_train_state_ohe,X_train_teacher_ohe,X_train_grade_ohe,X_train_subcat_ohe,\n",
    "               X_train_cat_ohe,X_train_price_norm,X_train_teacher_number_of_previously_posted_projects_norm,\n",
    "               X_train_text_avgw2v,X_train_title_avgw2v)).tocsr()\n",
    "\n",
    "X_cr = hstack((X_cv_state_ohe,X_cv_teacher_ohe,X_cv_grade_ohe,X_cv_subcat_ohe,\n",
    "               X_cv_cat_ohe,X_cv_price_norm,X_cv_teacher_number_of_previously_posted_projects_norm,\n",
    "               X_cv_text_avgw2v,X_cv_title_avgw2v)).tocsr()\n",
    "\n",
    "X_te = hstack((X_test_state_ohe,X_test_teacher_ohe,X_test_grade_ohe,X_test_subcat_ohe,\n",
    "               X_test_cat_ohe,X_test_price_norm,X_test_teacher_number_of_previously_posted_projects_norm,\n",
    "               X_test_text_avgw2v,X_test_title_avgw2v)).tocsr()\n",
    "\n",
    "print(\"Final Data matrix\")\n",
    "print(X_tr.shape, y_train.shape)\n",
    "print(X_cr.shape, y_cv.shape)\n",
    "print(X_te.shape, y_test.shape)\n",
    "print(\"=\"*100)"
   ]
  },
  {
   "cell_type": "code",
   "execution_count": 96,
   "metadata": {},
   "outputs": [
    {
     "name": "stderr",
     "output_type": "stream",
     "text": [
      "100%|██████████████████████████████████████████████████████████████████████████████████| 11/11 [01:40<00:00, 16.17s/it]\n"
     ]
    },
    {
     "name": "stdout",
     "output_type": "stream",
     "text": [
      "max auc in train data: 0.6981899964235401\n",
      "alpha value for maximum AUC: 100000\n",
      "max auc  in cv data: 0.6926902519493862\n",
      "alpha value for maximum AUC: 100000\n"
     ]
    },
    {
     "data": {
      "image/png": "[encoded data removed]",
      "text/plain": [
       "<Figure size 432x288 with 1 Axes>"
      ]
     },
     "metadata": {
      "needs_background": "light"
     },
     "output_type": "display_data"
    }
   ],
   "source": [
    "import matplotlib.pyplot as plt \n",
    "from sklearn.linear_model import LogisticRegression\n",
    "from sklearn.metrics import roc_auc_score\n",
    "\n",
    "train_auc=[]\n",
    "cv_auc=[]\n",
    "alpha= [0.00001, 0.0001, 0.001, 0.01, 0.1, 1, 10, 100, 1000, 10000, 10**5]\n",
    "b=[]\n",
    "for i in tqdm(alpha):\n",
    "    mb=LogisticRegression(penalty='l2',C=i,class_weight='balanced')\n",
    "    mb.fit(X_tr,y_train)\n",
    "    \n",
    "    y_train_pred=batch_predict(mb,X_tr)\n",
    "    y_cv_pred=batch_predict(mb,X_cr)\n",
    "    \n",
    "    train_auc.append(roc_auc_score(y_train,y_train_pred))\n",
    "    cv_auc.append(roc_auc_score(y_cv,y_cv_pred))\n",
    "    \n",
    "max_auc_ind_train=train_auc.index(max(train_auc))\n",
    "alpha_max_auc_train=alpha[max_auc_ind_train]\n",
    "\n",
    "print(\"max auc in train data:\",max(train_auc))\n",
    "print(\"alpha value for maximum AUC:\",alpha_max_auc_train)\n",
    "max_auc_ind_cv=cv_auc.index(max(cv_auc))\n",
    "alpha_max_auc_cv=alpha[max_auc_ind_cv]\n",
    "print(\"max auc  in cv data:\",max(cv_auc))\n",
    "print(\"alpha value for maximum AUC:\",alpha_max_auc_cv)\n",
    "\n",
    "plt.plot(alpha,train_auc,label='Train_AUC')\n",
    "plt.plot(alpha,cv_auc,label='CV_AUC')\n",
    "plt.scatter(alpha,cv_auc)\n",
    "plt.scatter(alpha,train_auc)\n",
    "#https://matplotlib.org/3.1.1/api/_as_gen/matplotlib.pyplot.xscale.html\n",
    "plt.xscale('log')\n",
    "plt.title(\"AUC: ERROR plot\")\n",
    "plt.ylabel('AUC')\n",
    "plt.xlabel('Alpha:Hyperparameter')\n",
    "plt.legend()\n",
    "plt.grid(1)"
   ]
  },
  {
   "cell_type": "code",
   "execution_count": 97,
   "metadata": {},
   "outputs": [
    {
     "data": {
      "image/png": "[encoded data removed]",
      "text/plain": [
       "<Figure size 432x288 with 1 Axes>"
      ]
     },
     "metadata": {
      "needs_background": "light"
     },
     "output_type": "display_data"
    }
   ],
   "source": [
    "# https://scikit-learn.org/stable/modules/generated/sklearn.metrics.roc_curve.html#sklearn.metrics.roc_curve\n",
    "from sklearn.metrics import roc_curve, auc\n",
    "\n",
    "nb = LogisticRegression(C=10**5,class_weight='balanced',penalty='l2')\n",
    "nb.fit(X_tr, y_train)\n",
    "# roc_auc_score(y_true, y_score) the 2nd parameter should be probability estimates of the positive class\n",
    "# not the predicted outputs\n",
    "\n",
    "y_train_pred = nb.predict_proba(X_tr)[:,1]    \n",
    "y_test_pred = nb.predict_proba(X_te)[:,1]\n",
    "\n",
    "train_fpr, train_tpr, tr_thresholds = roc_curve(y_train, y_train_pred)\n",
    "test_fpr, test_tpr, te_thresholds = roc_curve(y_test, y_test_pred)\n",
    "\n",
    "plt.plot(train_fpr, train_tpr, label=\"train AUC =\"+str(auc(train_fpr, train_tpr)))\n",
    "plt.plot(test_fpr, test_tpr, label=\"test AUC =\"+str(auc(test_fpr, test_tpr )))\n",
    "plt.legend()\n",
    "plt.xlabel(\"alpha: hyperparameter\")\n",
    "plt.ylabel(\"AUC\")\n",
    "plt.title(\"ERROR PLOTS\")\n",
    "plt.grid()\n",
    "plt.show()"
   ]
  },
  {
   "cell_type": "code",
   "execution_count": 98,
   "metadata": {},
   "outputs": [
    {
     "name": "stdout",
     "output_type": "stream",
     "text": [
      "the maximum value of tpr*(1-fpr) 0.41654622638222694\n",
      "Threshold: 0.498\n"
     ]
    },
    {
     "data": {
      "image/png": "[encoded data removed]",
      "text/plain": [
       "<Figure size 432x288 with 2 Axes>"
      ]
     },
     "metadata": {
      "needs_background": "light"
     },
     "output_type": "display_data"
    }
   ],
   "source": [
    "import seaborn as sns\n",
    "#https://stackoverflow.com/a/33158941/10967428\n",
    "con_tr=confusion_matrix(y_train,predict(y_train_pred,tr_thresholds,train_fpr,train_tpr))\n",
    "\n",
    "sns.heatmap(con_tr,annot=True,fmt='0.00f',annot_kws={'size':10})\n",
    "plt.title(\"Train Confusion Matrix\")\n",
    "plt.ylabel(\"Actual value\")\n",
    "plt.xlabel(\"Predicted value\")\n",
    "plt.show()"
   ]
  },
  {
   "cell_type": "code",
   "execution_count": 99,
   "metadata": {
    "scrolled": true
   },
   "outputs": [
    {
     "name": "stdout",
     "output_type": "stream",
     "text": [
      "the maximum value of tpr*(1-fpr) 0.4072480114617857\n",
      "Threshold: 0.537\n"
     ]
    },
    {
     "data": {
      "image/png": "[encoded data removed]",
      "text/plain": [
       "<Figure size 432x288 with 2 Axes>"
      ]
     },
     "metadata": {
      "needs_background": "light"
     },
     "output_type": "display_data"
    }
   ],
   "source": [
    "import seaborn as sns\n",
    "#https://stackoverflow.com/a/33158941/10967428\n",
    "con_te=confusion_matrix(y_test, predict(y_test_pred, tr_thresholds, test_fpr, test_tpr))\n",
    "\n",
    "sns.heatmap(con_te,annot=True,fmt='0.00f',annot_kws={'size':10})\n",
    "plt.title(\"Test Confusion Matrix\")\n",
    "plt.ylabel(\"Actual value\")\n",
    "plt.xlabel(\"Predicted value\")\n",
    "plt.show()"
   ]
  },
  {
   "cell_type": "markdown",
   "metadata": {
    "colab_type": "text",
    "id": "s85gPOAbCyp1"
   },
   "source": [
    "### 2.4.2 Applying Logistic regression on TFIDF avgw2v<font color='red'> SET 4</font>"
   ]
  },
  {
   "cell_type": "code",
   "execution_count": 100,
   "metadata": {},
   "outputs": [
    {
     "name": "stdout",
     "output_type": "stream",
     "text": [
      "Final Data matrix\n",
      "(31420, 201) (31420,)\n",
      "(15477, 201) (15477,)\n",
      "(23100, 201) (23100,)\n",
      "====================================================================================================\n"
     ]
    }
   ],
   "source": [
    "# merge two sparse matrices: https://stackoverflow.com/a/19710648/4084039\n",
    "from scipy.sparse import hstack\n",
    "X_tr = hstack((X_train_state_ohe,X_train_teacher_ohe,X_train_grade_ohe,X_train_subcat_ohe,\n",
    "               X_train_cat_ohe,X_train_price_norm,X_train_teacher_number_of_previously_posted_projects_norm,\n",
    "               X_train_text_tfidf_w2v,X_train_title_tfidf_w2v)).tocsr()\n",
    "\n",
    "X_cr = hstack((X_cv_state_ohe,X_cv_teacher_ohe,X_cv_grade_ohe,X_cv_subcat_ohe,\n",
    "               X_cv_cat_ohe,X_cv_price_norm,X_cv_teacher_number_of_previously_posted_projects_norm,\n",
    "               X_cv_text_tfidf_w2v,X_cv_title_tfidf_w2v)).tocsr()\n",
    "\n",
    "X_te = hstack((X_test_state_ohe,X_test_teacher_ohe,X_test_grade_ohe,X_test_subcat_ohe,\n",
    "               X_test_cat_ohe,X_test_price_norm,X_test_teacher_number_of_previously_posted_projects_norm,\n",
    "               X_test_text_tfidf_w2v,X_test_title_tfidf_w2v)).tocsr()\n",
    "\n",
    "print(\"Final Data matrix\")\n",
    "print(X_tr.shape, y_train.shape)\n",
    "print(X_cr.shape, y_cv.shape)\n",
    "print(X_te.shape, y_test.shape)\n",
    "print(\"=\"*100)"
   ]
  },
  {
   "cell_type": "code",
   "execution_count": 101,
   "metadata": {},
   "outputs": [
    {
     "name": "stderr",
     "output_type": "stream",
     "text": [
      "100%|██████████████████████████████████████████████████████████████████████████████████| 11/11 [01:51<00:00, 18.11s/it]\n"
     ]
    },
    {
     "name": "stdout",
     "output_type": "stream",
     "text": [
      "max auc in train data: 0.7027282463359986\n",
      "alpha value for maximum AUC: 100000\n",
      "max auc  in cv data: 0.6955988604661654\n",
      "alpha value for maximum AUC: 100000\n"
     ]
    },
    {
     "data": {
      "image/png": "[encoded data removed]",
      "text/plain": [
       "<Figure size 432x288 with 1 Axes>"
      ]
     },
     "metadata": {
      "needs_background": "light"
     },
     "output_type": "display_data"
    }
   ],
   "source": [
    "import matplotlib.pyplot as plt \n",
    "from sklearn.linear_model import LogisticRegression\n",
    "from sklearn.metrics import roc_auc_score\n",
    "\n",
    "train_auc=[]\n",
    "cv_auc=[]\n",
    "alpha= [0.00001, 0.0001, 0.001, 0.01, 0.1, 1, 10, 100, 1000, 10000, 10**5]\n",
    "b=[]\n",
    "for i in tqdm(alpha):\n",
    "    mb=LogisticRegression(penalty='l2',C=i,class_weight='balanced')\n",
    "    mb.fit(X_tr,y_train)\n",
    "    \n",
    "    y_train_pred=batch_predict(mb,X_tr)\n",
    "    y_cv_pred=batch_predict(mb,X_cr)\n",
    "    \n",
    "    train_auc.append(roc_auc_score(y_train,y_train_pred))\n",
    "    cv_auc.append(roc_auc_score(y_cv,y_cv_pred))\n",
    "    \n",
    "max_auc_ind_train=train_auc.index(max(train_auc))\n",
    "alpha_max_auc_train=alpha[max_auc_ind_train]\n",
    "\n",
    "print(\"max auc in train data:\",max(train_auc))\n",
    "print(\"alpha value for maximum AUC:\",alpha_max_auc_train)\n",
    "max_auc_ind_cv=cv_auc.index(max(cv_auc))\n",
    "alpha_max_auc_cv=alpha[max_auc_ind_cv]\n",
    "print(\"max auc  in cv data:\",max(cv_auc))\n",
    "print(\"alpha value for maximum AUC:\",alpha_max_auc_cv)\n",
    "\n",
    "plt.plot(alpha,train_auc,label='Train_AUC')\n",
    "plt.plot(alpha,cv_auc,label='CV_AUC')\n",
    "plt.scatter(alpha,cv_auc)\n",
    "plt.scatter(alpha,train_auc)\n",
    "#https://matplotlib.org/3.1.1/api/_as_gen/matplotlib.pyplot.xscale.html\n",
    "plt.xscale('log')\n",
    "plt.title(\"AUC: ERROR plot\")\n",
    "plt.ylabel('AUC')\n",
    "plt.xlabel('Alpha:Hyperparameter')\n",
    "plt.legend()\n",
    "plt.grid(1)"
   ]
  },
  {
   "cell_type": "code",
   "execution_count": 102,
   "metadata": {},
   "outputs": [
    {
     "data": {
      "image/png": "[encoded data removed]",
      "text/plain": [
       "<Figure size 432x288 with 1 Axes>"
      ]
     },
     "metadata": {
      "needs_background": "light"
     },
     "output_type": "display_data"
    }
   ],
   "source": [
    "# https://scikit-learn.org/stable/modules/generated/sklearn.metrics.roc_curve.html#sklearn.metrics.roc_curve\n",
    "from sklearn.metrics import roc_curve, auc\n",
    "\n",
    "nb = LogisticRegression(C=10**5,class_weight='balanced',penalty='l2')\n",
    "nb.fit(X_tr, y_train)\n",
    "# roc_auc_score(y_true, y_score) the 2nd parameter should be probability estimates of the positive class\n",
    "# not the predicted outputs\n",
    "\n",
    "y_train_pred = nb.predict_proba(X_tr)[:,1]    \n",
    "y_test_pred = nb.predict_proba(X_te)[:,1]\n",
    "\n",
    "train_fpr, train_tpr, tr_thresholds = roc_curve(y_train, y_train_pred)\n",
    "test_fpr, test_tpr, te_thresholds = roc_curve(y_test, y_test_pred)\n",
    "\n",
    "plt.plot(train_fpr, train_tpr, label=\"train AUC =\"+str(auc(train_fpr, train_tpr)))\n",
    "plt.plot(test_fpr, test_tpr, label=\"test AUC =\"+str(auc(test_fpr, test_tpr )))\n",
    "plt.legend()\n",
    "plt.xlabel(\"alpha: hyperparameter\")\n",
    "plt.ylabel(\"AUC\")\n",
    "plt.title(\"ERROR PLOTS\")\n",
    "plt.grid()\n",
    "plt.show()"
   ]
  },
  {
   "cell_type": "code",
   "execution_count": 103,
   "metadata": {},
   "outputs": [
    {
     "name": "stdout",
     "output_type": "stream",
     "text": [
      "the maximum value of tpr*(1-fpr) 0.4219338589174212\n",
      "Threshold: 0.485\n"
     ]
    },
    {
     "data": {
      "image/png": "[encoded data removed]",
      "text/plain": [
       "<Figure size 432x288 with 2 Axes>"
      ]
     },
     "metadata": {
      "needs_background": "light"
     },
     "output_type": "display_data"
    }
   ],
   "source": [
    "import seaborn as sns\n",
    "#https://stackoverflow.com/a/33158941/10967428\n",
    "con_tr=confusion_matrix(y_train,predict(y_train_pred,tr_thresholds,train_fpr,train_tpr))\n",
    "\n",
    "sns.heatmap(con_tr,annot=True,fmt='0.00f',annot_kws={'size':10})\n",
    "plt.title(\"Train Confusion Matrix\")\n",
    "plt.ylabel(\"Actual value\")\n",
    "plt.xlabel(\"Predicted value\")\n",
    "plt.show()"
   ]
  },
  {
   "cell_type": "code",
   "execution_count": 104,
   "metadata": {},
   "outputs": [
    {
     "name": "stdout",
     "output_type": "stream",
     "text": [
      "the maximum value of tpr*(1-fpr) 0.4096617059265175\n",
      "Threshold: 0.525\n"
     ]
    },
    {
     "data": {
      "image/png": "[encoded data removed]",
      "text/plain": [
       "<Figure size 432x288 with 2 Axes>"
      ]
     },
     "metadata": {
      "needs_background": "light"
     },
     "output_type": "display_data"
    }
   ],
   "source": [
    "import seaborn as sns\n",
    "#https://stackoverflow.com/a/33158941/10967428\n",
    "con_te=confusion_matrix(y_test, predict(y_test_pred, tr_thresholds, test_fpr, test_tpr))\n",
    "\n",
    "sns.heatmap(con_te,annot=True,fmt='0.00f',annot_kws={'size':10})\n",
    "plt.title(\"Test Confusion Matrix\")\n",
    "plt.ylabel(\"Actual value\")\n",
    "plt.xlabel(\"Predicted value\")\n",
    "plt.show()"
   ]
  },
  {
   "cell_type": "markdown",
   "metadata": {
    "colab_type": "text",
    "id": "s85gPOAbCyp1"
   },
   "source": [
    "###  Applying Logistic regression on<font color='red'> SET 5</font>"
   ]
  },
  {
   "cell_type": "code",
   "execution_count": 105,
   "metadata": {},
   "outputs": [
    {
     "name": "stdout",
     "output_type": "stream",
     "text": [
      "Final Data matrix\n",
      "(31420, 108) (31420,)\n",
      "(15477, 108) (15477,)\n",
      "(23100, 108) (23100,)\n",
      "====================================================================================================\n"
     ]
    }
   ],
   "source": [
    "# merge two sparse matrices: https://stackoverflow.com/a/19710648/4084039\n",
    "from scipy.sparse import hstack\n",
    "X_tr = hstack((X_train_state_ohe,X_train_teacher_ohe,X_train_grade_ohe,X_train_subcat_ohe,\n",
    "               X_train_cat_ohe,X_train_price_norm,X_train_teacher_number_of_previously_posted_projects_norm,\n",
    "               X_train_quan_norm, X_train_now_title_norm, X_train_now_text_norm,\n",
    "               X_train_pos_norm, X_train_neg_norm, X_train_neu_norm,\n",
    "               X_train_com_norm)).tocsr()\n",
    "\n",
    "X_cr = hstack((X_cv_state_ohe,X_cv_teacher_ohe,X_cv_grade_ohe,X_cv_subcat_ohe,\n",
    "               X_cv_cat_ohe,X_cv_price_norm,X_cv_teacher_number_of_previously_posted_projects_norm,\n",
    "               X_cv_quan_norm,X_cv_now_title_norm, X_cv_now_text_norm,\n",
    "               X_cv_pos_norm, X_cv_neg_norm, X_cv_neu_norm,\n",
    "               X_cv_com_norm)).tocsr()\n",
    "\n",
    "X_te = hstack((X_test_state_ohe,X_test_teacher_ohe,X_test_grade_ohe,X_test_subcat_ohe,\n",
    "               X_test_cat_ohe,X_test_price_norm,X_test_teacher_number_of_previously_posted_projects_norm,\n",
    "               X_test_quan_norm,X_test_now_title_norm, X_test_now_text_norm,\n",
    "               X_test_pos_norm, X_test_neg_norm, X_test_neu_norm,\n",
    "               X_test_com_norm)).tocsr()\n",
    "\n",
    "print(\"Final Data matrix\")\n",
    "print(X_tr.shape, y_train.shape)\n",
    "print(X_cr.shape, y_cv.shape)\n",
    "print(X_te.shape, y_test.shape)\n",
    "print(\"=\"*100)"
   ]
  },
  {
   "cell_type": "code",
   "execution_count": 106,
   "metadata": {},
   "outputs": [
    {
     "name": "stderr",
     "output_type": "stream",
     "text": [
      "100%|██████████████████████████████████████████████████████████████████████████████████| 11/11 [00:39<00:00,  7.51s/it]\n"
     ]
    },
    {
     "name": "stdout",
     "output_type": "stream",
     "text": [
      "max auc in train data: 0.6453449512178367\n",
      "alpha value for maximum AUC: 100000\n",
      "max auc  in cv data: 0.6449834842879261\n",
      "alpha value for maximum AUC: 1000\n"
     ]
    },
    {
     "data": {
      "image/png": "[encoded data removed]",
      "text/plain": [
       "<Figure size 432x288 with 1 Axes>"
      ]
     },
     "metadata": {
      "needs_background": "light"
     },
     "output_type": "display_data"
    }
   ],
   "source": [
    "import matplotlib.pyplot as plt \n",
    "from sklearn.linear_model import LogisticRegression\n",
    "from sklearn.metrics import roc_auc_score\n",
    "\n",
    "train_auc=[]\n",
    "cv_auc=[]\n",
    "alpha= [0.00001, 0.0001, 0.001, 0.01, 0.1, 1, 10, 100, 1000, 10000, 10**5]\n",
    "b=[]\n",
    "for i in tqdm(alpha):\n",
    "    mb=LogisticRegression(penalty='l2',C=i,class_weight='balanced')\n",
    "    mb.fit(X_tr,y_train)\n",
    "    \n",
    "    y_train_pred=batch_predict(mb,X_tr)\n",
    "    y_cv_pred=batch_predict(mb,X_cr)\n",
    "    \n",
    "    train_auc.append(roc_auc_score(y_train,y_train_pred))\n",
    "    cv_auc.append(roc_auc_score(y_cv,y_cv_pred))\n",
    "    \n",
    "max_auc_ind_train=train_auc.index(max(train_auc))\n",
    "alpha_max_auc_train=alpha[max_auc_ind_train]\n",
    "\n",
    "print(\"max auc in train data:\",max(train_auc))\n",
    "print(\"alpha value for maximum AUC:\",alpha_max_auc_train)\n",
    "max_auc_ind_cv=cv_auc.index(max(cv_auc))\n",
    "alpha_max_auc_cv=alpha[max_auc_ind_cv]\n",
    "print(\"max auc  in cv data:\",max(cv_auc))\n",
    "print(\"alpha value for maximum AUC:\",alpha_max_auc_cv)\n",
    "\n",
    "plt.plot(alpha,train_auc,label='Train_AUC')\n",
    "plt.plot(alpha,cv_auc,label='CV_AUC')\n",
    "plt.scatter(alpha,cv_auc)\n",
    "plt.scatter(alpha,train_auc)\n",
    "#https://matplotlib.org/3.1.1/api/_as_gen/matplotlib.pyplot.xscale.html\n",
    "plt.xscale('log')\n",
    "plt.title(\"AUC: ERROR plot\")\n",
    "plt.ylabel('AUC')\n",
    "plt.xlabel('Alpha:Hyperparameter')\n",
    "plt.legend()\n",
    "plt.grid(1)"
   ]
  },
  {
   "cell_type": "code",
   "execution_count": 107,
   "metadata": {},
   "outputs": [
    {
     "data": {
      "image/png": "[encoded data removed]",
      "text/plain": [
       "<Figure size 432x288 with 1 Axes>"
      ]
     },
     "metadata": {
      "needs_background": "light"
     },
     "output_type": "display_data"
    }
   ],
   "source": [
    "# https://scikit-learn.org/stable/modules/generated/sklearn.metrics.roc_curve.html#sklearn.metrics.roc_curve\n",
    "from sklearn.metrics import roc_curve, auc\n",
    "\n",
    "nb = LogisticRegression(C=1000,class_weight='balanced',penalty='l2')\n",
    "nb.fit(X_tr, y_train)\n",
    "# roc_auc_score(y_true, y_score) the 2nd parameter should be probability estimates of the positive class\n",
    "# not the predicted outputs\n",
    "\n",
    "y_train_pred = nb.predict_proba(X_tr)[:,1]    \n",
    "y_test_pred = nb.predict_proba(X_te)[:,1]\n",
    "\n",
    "train_fpr, train_tpr, tr_thresholds = roc_curve(y_train, y_train_pred)\n",
    "test_fpr, test_tpr, te_thresholds = roc_curve(y_test, y_test_pred)\n",
    "\n",
    "plt.plot(train_fpr, train_tpr, label=\"train AUC =\"+str(auc(train_fpr, train_tpr)))\n",
    "plt.plot(test_fpr, test_tpr, label=\"test AUC =\"+str(auc(test_fpr, test_tpr )))\n",
    "plt.legend()\n",
    "plt.xlabel(\"alpha: hyperparameter\")\n",
    "plt.ylabel(\"AUC\")\n",
    "plt.title(\"ERROR PLOTS\")\n",
    "plt.grid()\n",
    "plt.show()"
   ]
  },
  {
   "cell_type": "code",
   "execution_count": 108,
   "metadata": {},
   "outputs": [
    {
     "name": "stdout",
     "output_type": "stream",
     "text": [
      "the maximum value of tpr*(1-fpr) 0.36571689516052047\n",
      "Threshold: 0.498\n"
     ]
    },
    {
     "data": {
      "image/png": "[encoded data removed]",
      "text/plain": [
       "<Figure size 432x288 with 2 Axes>"
      ]
     },
     "metadata": {
      "needs_background": "light"
     },
     "output_type": "display_data"
    }
   ],
   "source": [
    "import seaborn as sns\n",
    "#https://stackoverflow.com/a/33158941/10967428\n",
    "con_tr=confusion_matrix(y_train,predict(y_train_pred,tr_thresholds,train_fpr,train_tpr))\n",
    "\n",
    "sns.heatmap(con_tr,annot=True,fmt='0.00f',annot_kws={'size':10})\n",
    "plt.title(\"Train Confusion Matrix\")\n",
    "plt.ylabel(\"Actual value\")\n",
    "plt.xlabel(\"Predicted value\")\n",
    "plt.show()"
   ]
  },
  {
   "cell_type": "code",
   "execution_count": 109,
   "metadata": {},
   "outputs": [
    {
     "name": "stdout",
     "output_type": "stream",
     "text": [
      "the maximum value of tpr*(1-fpr) 0.36074392587573667\n",
      "Threshold: 0.531\n"
     ]
    },
    {
     "data": {
      "image/png": "[encoded data removed]",
      "text/plain": [
       "<Figure size 432x288 with 2 Axes>"
      ]
     },
     "metadata": {
      "needs_background": "light"
     },
     "output_type": "display_data"
    }
   ],
   "source": [
    "import seaborn as sns\n",
    "#https://stackoverflow.com/a/33158941/10967428\n",
    "con_te=confusion_matrix(y_test, predict(y_test_pred, tr_thresholds, test_fpr, test_tpr))\n",
    "\n",
    "sns.heatmap(con_te,annot=True,fmt='0.00f',annot_kws={'size':10})\n",
    "plt.title(\"Test Confusion Matrix\")\n",
    "plt.ylabel(\"Actual value\")\n",
    "plt.xlabel(\"Predicted value\")\n",
    "plt.show()"
   ]
  },
  {
   "cell_type": "markdown",
   "metadata": {
    "colab_type": "text",
    "id": "bemispVtCyp-"
   },
   "source": [
    "<h1> Conclusions </h1>"
   ]
  },
  {
   "cell_type": "code",
   "execution_count": 110,
   "metadata": {
    "colab": {},
    "colab_type": "code",
    "id": "zRO-VPG2Cyp_"
   },
   "outputs": [
    {
     "name": "stdout",
     "output_type": "stream",
     "text": [
      "+------------+-----------------+------+\n",
      "| Vectorizer | Hyper parameter | AUC  |\n",
      "+------------+-----------------+------+\n",
      "|    BOW     |        1        | 0.65 |\n",
      "|   TFIDF    |       0.1       | 0.69 |\n",
      "|   AVGW2V   |      100000     | 0.68 |\n",
      "| TFIDF W2V  |       0.1       | 0.68 |\n",
      "|  NO TEXT   |       100       | 0.63 |\n",
      "+------------+-----------------+------+\n"
     ]
    }
   ],
   "source": [
    "# Please compare all your models using Prettytable library\n",
    "from prettytable import PrettyTable\n",
    "    \n",
    "x = PrettyTable()\n",
    "x.field_names = [\"Vectorizer\",  \"Hyper parameter\", \"AUC\"]\n",
    "x.add_row([\"BOW\", 1, 0.65])\n",
    "x.add_row([\"TFIDF\", 0.1, 0.69])\n",
    "x.add_row([\"AVGW2V\", 100000, 0.68])\n",
    "x.add_row([\"TFIDF W2V\", 0.1, 0.68])\n",
    "x.add_row([\"NO TEXT\", 100, 0.63])\n",
    "\n",
    "print(x)"
   ]
  },
  {
   "cell_type": "markdown",
   "metadata": {},
   "source": [
    "<h1>Summary</h1>"
   ]
  },
  {
   "cell_type": "markdown",
   "metadata": {},
   "source": [
    "1. On comparing both the results we see that TFIDF featurization works a bit well in terms precision and recall\n",
    "2. Its very good compared to kNN in terms of execution time and in terms of accuracy and execution time."
   ]
  },
  {
   "cell_type": "code",
   "execution_count": null,
   "metadata": {},
   "outputs": [],
   "source": []
  }
 ],
 "metadata": {
  "colab": {
   "collapsed_sections": [
    "0d0QeeQ-CyoD",
    "5YnkzKnmCyoN",
    "W544CoFtCyoN",
    "gK_SHRpTCyol",
    "YHwGesZUCyo1",
    "_s3QN_ZNCypD",
    "B1dIm8PiCypw",
    "s85gPOAbCyp1",
    "oq3NW2CbCyp3",
    "TJLjbsNYCyp5"
   ],
   "name": "3_DonorsChoose_KNN.ipynb",
   "provenance": [],
   "version": "0.3.2"
  },
  "kernelspec": {
   "display_name": "Python 3",
   "language": "python",
   "name": "python3"
  },
  "language_info": {
   "codemirror_mode": {
    "name": "ipython",
    "version": 3
   },
   "file_extension": ".py",
   "mimetype": "text/x-python",
   "name": "python",
   "nbconvert_exporter": "python",
   "pygments_lexer": "ipython3",
   "version": "3.7.3"
  }
 },
 "nbformat": 4,
 "nbformat_minor": 1
}
